{
  "nbformat": 4,
  "nbformat_minor": 0,
  "metadata": {
    "colab": {
      "name": "Rapids GPU ML Workbook.ipynb",
      "provenance": [],
      "collapsed_sections": [],
      "include_colab_link": true
    },
    "kernelspec": {
      "name": "python3",
      "display_name": "Python 3"
    },
    "accelerator": "GPU"
  },
  "cells": [
    {
      "cell_type": "markdown",
      "metadata": {
        "id": "view-in-github",
        "colab_type": "text"
      },
      "source": [
        "<a href=\"https://colab.research.google.com/github/ramachandra17/ramachandra17/blob/main/Rapids_GPU_ML_Workbook.ipynb\" target=\"_parent\"><img src=\"https://colab.research.google.com/assets/colab-badge.svg\" alt=\"Open In Colab\"/></a>"
      ]
    },
    {
      "cell_type": "code",
      "metadata": {
        "id": "6_Seyy5sTK6_"
      },
      "source": [
        "#where, what, how?"
      ],
      "execution_count": null,
      "outputs": []
    },
    {
      "cell_type": "markdown",
      "metadata": {
        "id": "yTKtnEKxRgza"
      },
      "source": [
        "Check the output of !nvidia-smi to make sure you've been allocated a Tesla T4, P4, or P100. Make sure you have selected the GPU in Runtime. I fyou don't get any mentioned GPU, then restart runtime and do it 2-3 times till you get GPU's T4,p$ or P100"
      ]
    },
    {
      "cell_type": "code",
      "metadata": {
        "id": "Z48W3E1oRIIF",
        "colab": {
          "base_uri": "https://localhost:8080/",
          "height": 357
        },
        "outputId": "74ca9db5-ddb4-4c18-f5aa-d9b1003c3bef"
      },
      "source": [
        "!nvidia-smi"
      ],
      "execution_count": null,
      "outputs": [
        {
          "output_type": "stream",
          "text": [
            "Fri Sep 25 08:58:11 2020       \n",
            "+-----------------------------------------------------------------------------+\n",
            "| NVIDIA-SMI 450.66       Driver Version: 418.67       CUDA Version: 10.1     |\n",
            "|-------------------------------+----------------------+----------------------+\n",
            "| GPU  Name        Persistence-M| Bus-Id        Disp.A | Volatile Uncorr. ECC |\n",
            "| Fan  Temp  Perf  Pwr:Usage/Cap|         Memory-Usage | GPU-Util  Compute M. |\n",
            "|                               |                      |               MIG M. |\n",
            "|===============================+======================+======================|\n",
            "|   0  Tesla T4            Off  | 00000000:00:04.0 Off |                    0 |\n",
            "| N/A   42C    P8    16W /  70W |      0MiB / 15079MiB |      0%      Default |\n",
            "|                               |                      |                 ERR! |\n",
            "+-------------------------------+----------------------+----------------------+\n",
            "                                                                               \n",
            "+-----------------------------------------------------------------------------+\n",
            "| Processes:                                                                  |\n",
            "|  GPU   GI   CI        PID   Type   Process name                  GPU Memory |\n",
            "|        ID   ID                                                   Usage      |\n",
            "|=============================================================================|\n",
            "|  No running processes found                                                 |\n",
            "+-----------------------------------------------------------------------------+\n"
          ],
          "name": "stdout"
        }
      ]
    },
    {
      "cell_type": "code",
      "metadata": {
        "id": "MJggYA8lSTHH",
        "colab": {
          "base_uri": "https://localhost:8080/",
          "height": 513
        },
        "outputId": "974c7d4c-519d-4a1a-d1e4-a63e95a2a28d"
      },
      "source": [
        "# Installing Rapids. This will take roughly 5 min or more. \n",
        "!git clone https://github.com/rapidsai/rapidsai-csp-utils.git\n",
        "!bash rapidsai-csp-utils/colab/rapids-colab.sh stable\n",
        "# this is setting up miniconda envrionment on collab so that all dependent libraries for rpaid works\n",
        "import sys, os\n",
        "\n",
        "dist_package_index = sys.path.index('/usr/local/lib/python3.6/dist-packages')\n",
        "sys.path = sys.path[:dist_package_index] + ['/usr/local/lib/python3.6/site-packages'] + sys.path[dist_package_index:]\n",
        "sys.path\n",
        "exec(open('rapidsai-csp-utils/colab/update_modules.py').read(), globals())"
      ],
      "execution_count": null,
      "outputs": [
        {
          "output_type": "stream",
          "text": [
            "fatal: destination path 'rapidsai-csp-utils' already exists and is not an empty directory.\n",
            "PLEASE READ\n",
            "********************************************************************************************************\n",
            "Changes:\n",
            "1. IMPORTANT CHANGES: RAPIDS on Colab will be pegged to 0.14 Stable until further notice.\n",
            "2. Default stable version is now 0.14.  Nightly will redirect to 0.14.\n",
            "3. You can now declare your RAPIDSAI version as a CLI option and skip the user prompts (ex: '0.14' or '0.15', between 0.13 to 0.14, without the quotes): \n",
            "        \"!bash rapidsai-csp-utils/colab/rapids-colab.sh <version/label>\"\n",
            "        Examples: '!bash rapidsai-csp-utils/colab/rapids-colab.sh 0.14', or '!bash rapidsai-csp-utils/colab/rapids-colab.sh stable', or '!bash rapidsai-csp-utils/colab/rapids-colab.sh s'\n",
            "                  '!bash rapidsai-csp-utils/colab/rapids-colab.sh 0.15, or '!bash rapidsai-csp-utils/colab/rapids-colab.sh nightly', or '!bash rapidsai-csp-utils/colab/rapids-colab.sh n'\n",
            "Enjoy using RAPIDS!  If you have any issues with or suggestions for RAPIDSAI on Colab, please create a bug request on https://github.com/rapidsai/rapidsai-csp-utils/issues/new.  Thanks!\n",
            "Starting to prep Colab for install RAPIDS Version 0.14 stable\n",
            "Checking for GPU type:\n",
            "***********************************************************************\n",
            "Woo! Your instance has the right kind of GPU, a 'Tesla T4'!\n",
            "***********************************************************************\n",
            "\n",
            "\n",
            "************************************************\n",
            "Your Google Colab instance has RAPIDS installed!\n",
            "************************************************\n",
            "***********************************************************************\n",
            "Let us check on those pyarrow and cffi versions...\n",
            "***********************************************************************\n",
            "\n",
            "You're don't have pyarrow.\n",
            "unloaded cffi 1.14.2\n",
            "loaded cffi 1.11.5\n"
          ],
          "name": "stdout"
        }
      ]
    },
    {
      "cell_type": "markdown",
      "metadata": {
        "id": "GSks_5EAdz4Q"
      },
      "source": [
        "Make sure you get output like this towards the end of notebook \n",
        "\n",
        "************************************************\n",
        "Your Google Colab instance has RAPIDS installed!\n",
        "************************************************\n",
        "***********************************************************************\n",
        "Let us check on those pyarrow and cffi versions...\n",
        "***********************************************************************\n",
        "\n",
        "You're don't have pyarrow.\n",
        "unloaded cffi 1.14.2\n",
        "loaded cffi 1.11.5"
      ]
    },
    {
      "cell_type": "code",
      "metadata": {
        "id": "w7SshCoUTIbQ",
        "colab": {
          "base_uri": "https://localhost:8080/",
          "height": 51
        },
        "outputId": "69841141-da2c-4595-b650-d38c41c1949b"
      },
      "source": [
        "# load library\n",
        "import cudf, cuml # these are dataframe library (like pandas) and ML library (like scikit) for GPU in Rapids\n",
        "import pandas as pd, numpy as np\n",
        "from sklearn.model_selection import train_test_split, KFold\n",
        "from cuml.neighbors import KNeighborsClassifier, NearestNeighbors # Importing KNN from Rapids cuML\n",
        "import matplotlib.pyplot as plt\n",
        "print('Checking CUML Version ',cuml.__version__)\n",
        "print('Checking CUDF Version ',cudf.__version__)"
      ],
      "execution_count": null,
      "outputs": [
        {
          "output_type": "stream",
          "text": [
            "Checking CUML Version  0.14.0+0.g31202da.dirty\n",
            "Checking CUDF Version  0.14.0\n"
          ],
          "name": "stdout"
        }
      ]
    },
    {
      "cell_type": "markdown",
      "metadata": {
        "id": "7uvilEXYd_cB"
      },
      "source": [
        "Required Version:\n",
        "\n",
        "Checking CUML Version  0.14.0+0.g31202da.dirty\n",
        "\n",
        "Checking CUDF Version  0.14.0"
      ]
    },
    {
      "cell_type": "code",
      "metadata": {
        "id": "4NnIpz9zerYT",
        "colab": {
          "base_uri": "https://localhost:8080/",
          "height": 51
        },
        "outputId": "5a538a31-7ce5-46a1-b445-08c76a1255eb"
      },
      "source": [
        "%%time\n",
        "# reading through Pandas \n",
        "import pandas as pd\n",
        "data_pandas = pd.read_csv(\"https://raw.githubusercontent.com/sbussmann/kaggle-mnist/master/Data/train.csv\")"
      ],
      "execution_count": null,
      "outputs": [
        {
          "output_type": "stream",
          "text": [
            "CPU times: user 2.3 s, sys: 452 ms, total: 2.75 s\n",
            "Wall time: 3.7 s\n"
          ],
          "name": "stdout"
        }
      ]
    },
    {
      "cell_type": "code",
      "metadata": {
        "id": "L5gjthrxU_ME",
        "colab": {
          "base_uri": "https://localhost:8080/",
          "height": 51
        },
        "outputId": "57f9d140-0eda-4254-8c78-08a829662713"
      },
      "source": [
        "# Loading data with CuDF - GPU Data Frame \n",
        "%%time\n",
        "train = cudf.read_csv('https://raw.githubusercontent.com/sbussmann/kaggle-mnist/master/Data/train.csv')"
      ],
      "execution_count": null,
      "outputs": [
        {
          "output_type": "stream",
          "text": [
            "CPU times: user 1.49 s, sys: 639 ms, total: 2.13 s\n",
            "Wall time: 2.86 s\n"
          ],
          "name": "stdout"
        }
      ]
    },
    {
      "cell_type": "code",
      "metadata": {
        "id": "b-W0h9SKfs_z",
        "colab": {
          "base_uri": "https://localhost:8080/",
          "height": 276
        },
        "outputId": "ae230533-8aa7-4860-bf8a-910d9173060c"
      },
      "source": [
        "# taking 30 sample from cuDF data frame and plotting them using matplotlib \n",
        "# There's a to_pandas function in cudf, which converts datafrom from cuDF to pandas DataFrame\n",
        "# This convertion is important, since you can now do all things like visualization, EDA etc using pandas function. \n",
        "samples = train.iloc[5000:5030,1:].to_pandas().values\n",
        "plt.figure(figsize=(15,4.5))\n",
        "for i in range(30):  \n",
        "    plt.subplot(3, 10, i+1)\n",
        "    plt.imshow(samples[i].reshape((28,28)),cmap=plt.cm.binary)\n",
        "    plt.axis('off')\n",
        "plt.subplots_adjust(wspace=-0.1, hspace=-0.1)\n",
        "plt.show()"
      ],
      "execution_count": null,
      "outputs": [
        {
          "output_type": "display_data",
          "data": {
            "image/png": "[encoded data removed]",
            "text/plain": [
              "<Figure size 1080x324 with 30 Axes>"
            ]
          },
          "metadata": {
            "tags": [],
            "needs_background": "light"
          }
        }
      ]
    },
    {
      "cell_type": "code",
      "metadata": {
        "id": "1p1J2k-MfxV3",
        "colab": {
          "base_uri": "https://localhost:8080/",
          "height": 71
        },
        "outputId": "6933d2ea-83fc-4404-96b1-9eceda31c028"
      },
      "source": [
        "%%time\n",
        "# First we will run the KNN Agorithm using cuML and see how much time it takes. \n",
        "# This experiments run KNN model for multiple K values\n",
        "# This will be a good stress test to see why RAPIDS are powerfull. \n",
        "# we are running 19 experiments on ~40,000 dataset\n",
        "from cuml.neighbors import KNeighborsClassifier, NearestNeighbors\n",
        "\n",
        "X_train, X_test, y_train, y_test = train_test_split(train.iloc[:,1:], train.iloc[:,0],\\\n",
        "        test_size=0.2, random_state=42)\n",
        "\n",
        "# GRID SEARCH FOR OPTIMAL K\n",
        "accs = []\n",
        "for k in range(3,22):\n",
        "    knn = KNeighborsClassifier(n_neighbors=k)\n",
        "    knn.fit(X_train, y_train)\n",
        "    y_hat_p = knn.predict_proba(X_test)\n",
        "    # we are using predict_proba function tthat gives probability rather than class\n",
        "    # Since we have taken probability, we will take max probability class using .argmax\n",
        "    acc = (y_hat_p.to_pandas().values.argmax(axis=1)==y_test.to_array() ).sum()/y_test.shape[0]\n",
        "    #print(k,acc)\n",
        "    print(k,', ',end='')\n",
        "    accs.append(acc)"
      ],
      "execution_count": null,
      "outputs": [
        {
          "output_type": "stream",
          "text": [
            "3 , 4 , 5 , 6 , 7 , 8 , 9 , 10 , 11 , 12 , 13 , 14 , 15 , 16 , 17 , 18 , 19 , 20 , 21 , CPU times: user 5.34 s, sys: 3.68 s, total: 9.03 s\n",
            "Wall time: 9.03 s\n"
          ],
          "name": "stdout"
        }
      ]
    },
    {
      "cell_type": "code",
      "metadata": {
        "id": "cq4a1BYPf3J6",
        "colab": {
          "base_uri": "https://localhost:8080/",
          "height": 85
        },
        "outputId": "d1a7c78a-9cec-4dd5-f7be-a6bb86159226"
      },
      "source": [
        "%%time\n",
        "\n",
        "# Now let's do the same experiment, but with Scikit Learn KNN Model \n",
        "# You would have to import the KNeighborsClassifier again from sklearn. Remember to re-import this from cuML later. \n",
        "from sklearn.neighbors import KNeighborsClassifier\n",
        "from sklearn.metrics import accuracy_score\n",
        "\n",
        "# Scikit Learn KNN Takes Huge time, so we are taking only 50% data and restricting it to run only one experiment. \n",
        "data_sample = data_pandas.sample(frac=0.5)\n",
        "print(data_sample.shape)\n",
        "X_train, X_test, y_train, y_test = train_test_split(data_sample.iloc[:,1:], data_sample.iloc[:,0],\\\n",
        "        test_size=0.2, random_state=42)\n",
        "\n",
        "# GRID SEARCH FOR OPTIMAL K\n",
        "accs = []\n",
        "for k in range(3,4):\n",
        "    print(\"Running for k - \",k)\n",
        "    knn = KNeighborsClassifier(n_neighbors=k)\n",
        "    knn.fit(X_train, y_train)\n",
        "    y_hat = knn.predict(X_test)\n",
        "    acc = accuracy_score(y_test, y_hat)\n",
        "    # print(k,', ',end='')\n",
        "    accs.append(acc)"
      ],
      "execution_count": null,
      "outputs": [
        {
          "output_type": "stream",
          "text": [
            "(21000, 785)\n",
            "Running for k -  3\n",
            "CPU times: user 2min 9s, sys: 97 ms, total: 2min 9s\n",
            "Wall time: 2min 9s\n"
          ],
          "name": "stdout"
        }
      ]
    },
    {
      "cell_type": "markdown",
      "metadata": {
        "id": "WLTWzaKXtU5w"
      },
      "source": [
        "As you can see, Scikit Learn model took ~2 min to just run one experiment and that too on 50% of data. That is very time consuming, given cuML KNN ran 19 experiments with full data of ~40k in under 10 sec. That's HUGE! "
      ]
    },
    {
      "cell_type": "code",
      "metadata": {
        "id": "M7cXFpy2hnD0"
      },
      "source": [
        "# Importing the KNeighborsClassifier again so that we use cuML version and not Scikit version\n",
        "from cuml.neighbors import KNeighborsClassifier, NearestNeighbors"
      ],
      "execution_count": null,
      "outputs": []
    },
    {
      "cell_type": "code",
      "metadata": {
        "id": "bUN4RtgOh2Ti",
        "colab": {
          "base_uri": "https://localhost:8080/",
          "height": 1000
        },
        "outputId": "586b5acd-bd12-4638-b13d-de742e825c32"
      },
      "source": [
        "%%time \n",
        "# Again, splitting into train and test \n",
        "# In this, we are going to increase the complexity of our experiments\n",
        "# we will do 27 Experiemtns on K Value, but for each experiment, we will 5 Cross Validation, \n",
        "#That's total 135 experiments with ~40 K Data Poitns. \n",
        "\n",
        "X_train, X_test, y_train, y_test = train_test_split(train.iloc[:,1:], train.iloc[:,0],\\\n",
        "        test_size=0.2, random_state=42)\n",
        "\n",
        "\n",
        "for k in range(3,30):\n",
        "    print('Experimenting with k =',k)\n",
        "    final_prediction = np.zeros(len(train))\n",
        "    # Here we use scikit learn KFold function to help us split data\n",
        "    # You can see that some scikit and pandas function work very well with RAPIDS \n",
        "    skf = KFold(n_splits=5, shuffle=True, random_state=42)\n",
        "    # we are letting skf (KFOld object) decide the indexes for 5 split\n",
        "    # for each split, we are running for loop and letting it fir the model \n",
        "    # It also prints the accuracy in each case, so that you can make choice. \n",
        "    for i, (index_train, index_test) in enumerate( skf.split(train.iloc[:,1:], train.iloc[:,0]) ):\n",
        "        knn = KNeighborsClassifier(n_neighbors=k)\n",
        "        knn.fit(train.iloc[index_train,1:], train.iloc[index_train,0])\n",
        "        # Better to use knn.predict() but cuML v0.11.0 has bug\n",
        "        # y_hat = knn.predict(train.iloc[idxV,1:])\n",
        "        y_hat_p = knn.predict_proba(train.iloc[index_test,1:])\n",
        "        # to get accuracy, like previously, we are converting the predictions from cuDF to pandas\n",
        "        # this conversion will help us use basic math caluclations using pandas. \n",
        "        final_prediction[index_test] =  y_hat_p.to_pandas().values.argmax(axis=1)\n",
        "        acc = ( final_prediction[index_test]==train.iloc[index_test,0].to_array() ).sum()/len(index_test)\n",
        "        print(' Cross Validated K fold Number =',i,'acc =',acc)\n",
        "    acc = ( final_prediction==train.iloc[:,0].to_array() ).sum()/len(train)\n",
        "    print(' Average Accuracy of 5 Folds with k =',k,'ACC =',acc)"
      ],
      "execution_count": null,
      "outputs": [
        {
          "output_type": "stream",
          "text": [
            "Experimenting with k = 3\n",
            " Cross Validated K fold Number = 0 acc = 0.9666666666666667\n",
            " Cross Validated K fold Number = 1 acc = 0.9678571428571429\n",
            " Cross Validated K fold Number = 2 acc = 0.9641666666666666\n",
            " Cross Validated K fold Number = 3 acc = 0.9675\n",
            " Cross Validated K fold Number = 4 acc = 0.9704761904761905\n",
            " Average Accuracy of 5 Folds with k = 3 ACC = 0.9673333333333334\n",
            "Experimenting with k = 4\n",
            " Cross Validated K fold Number = 0 acc = 0.9644047619047619\n",
            " Cross Validated K fold Number = 1 acc = 0.9665476190476191\n",
            " Cross Validated K fold Number = 2 acc = 0.9645238095238096\n",
            " Cross Validated K fold Number = 3 acc = 0.9666666666666667\n",
            " Cross Validated K fold Number = 4 acc = 0.969047619047619\n",
            " Average Accuracy of 5 Folds with k = 4 ACC = 0.9662380952380952\n",
            "Experimenting with k = 5\n",
            " Cross Validated K fold Number = 0 acc = 0.9648809523809524\n",
            " Cross Validated K fold Number = 1 acc = 0.9671428571428572\n",
            " Cross Validated K fold Number = 2 acc = 0.9657142857142857\n",
            " Cross Validated K fold Number = 3 acc = 0.9658333333333333\n",
            " Cross Validated K fold Number = 4 acc = 0.9694047619047619\n",
            " Average Accuracy of 5 Folds with k = 5 ACC = 0.9665952380952381\n",
            "Experimenting with k = 6\n",
            " Cross Validated K fold Number = 0 acc = 0.9636904761904762\n",
            " Cross Validated K fold Number = 1 acc = 0.9653571428571428\n",
            " Cross Validated K fold Number = 2 acc = 0.9639285714285715\n",
            " Cross Validated K fold Number = 3 acc = 0.9633333333333334\n",
            " Cross Validated K fold Number = 4 acc = 0.968452380952381\n",
            " Average Accuracy of 5 Folds with k = 6 ACC = 0.964952380952381\n",
            "Experimenting with k = 7\n",
            " Cross Validated K fold Number = 0 acc = 0.9632142857142857\n",
            " Cross Validated K fold Number = 1 acc = 0.9652380952380952\n",
            " Cross Validated K fold Number = 2 acc = 0.9627380952380953\n",
            " Cross Validated K fold Number = 3 acc = 0.9642857142857143\n",
            " Cross Validated K fold Number = 4 acc = 0.9689285714285715\n",
            " Average Accuracy of 5 Folds with k = 7 ACC = 0.9648809523809524\n",
            "Experimenting with k = 8\n",
            " Cross Validated K fold Number = 0 acc = 0.9627380952380953\n",
            " Cross Validated K fold Number = 1 acc = 0.9627380952380953\n",
            " Cross Validated K fold Number = 2 acc = 0.9632142857142857\n",
            " Cross Validated K fold Number = 3 acc = 0.9627380952380953\n",
            " Cross Validated K fold Number = 4 acc = 0.9679761904761904\n",
            " Average Accuracy of 5 Folds with k = 8 ACC = 0.9638809523809524\n",
            "Experimenting with k = 9\n",
            " Cross Validated K fold Number = 0 acc = 0.9613095238095238\n",
            " Cross Validated K fold Number = 1 acc = 0.9632142857142857\n",
            " Cross Validated K fold Number = 2 acc = 0.9621428571428572\n",
            " Cross Validated K fold Number = 3 acc = 0.9620238095238095\n",
            " Cross Validated K fold Number = 4 acc = 0.9673809523809523\n",
            " Average Accuracy of 5 Folds with k = 9 ACC = 0.9632142857142857\n",
            "Experimenting with k = 10\n",
            " Cross Validated K fold Number = 0 acc = 0.9616666666666667\n",
            " Cross Validated K fold Number = 1 acc = 0.9620238095238095\n",
            " Cross Validated K fold Number = 2 acc = 0.9610714285714286\n",
            " Cross Validated K fold Number = 3 acc = 0.9616666666666667\n",
            " Cross Validated K fold Number = 4 acc = 0.9660714285714286\n",
            " Average Accuracy of 5 Folds with k = 10 ACC = 0.9625\n",
            "Experimenting with k = 11\n",
            " Cross Validated K fold Number = 0 acc = 0.96\n",
            " Cross Validated K fold Number = 1 acc = 0.9620238095238095\n",
            " Cross Validated K fold Number = 2 acc = 0.960952380952381\n",
            " Cross Validated K fold Number = 3 acc = 0.9616666666666667\n",
            " Cross Validated K fold Number = 4 acc = 0.9664285714285714\n",
            " Average Accuracy of 5 Folds with k = 11 ACC = 0.9622142857142857\n",
            "Experimenting with k = 12\n",
            " Cross Validated K fold Number = 0 acc = 0.9603571428571429\n",
            " Cross Validated K fold Number = 1 acc = 0.9616666666666667\n",
            " Cross Validated K fold Number = 2 acc = 0.960952380952381\n",
            " Cross Validated K fold Number = 3 acc = 0.9602380952380952\n",
            " Cross Validated K fold Number = 4 acc = 0.9641666666666666\n",
            " Average Accuracy of 5 Folds with k = 12 ACC = 0.9614761904761905\n",
            "Experimenting with k = 13\n",
            " Cross Validated K fold Number = 0 acc = 0.9597619047619048\n",
            " Cross Validated K fold Number = 1 acc = 0.9605952380952381\n",
            " Cross Validated K fold Number = 2 acc = 0.9604761904761905\n",
            " Cross Validated K fold Number = 3 acc = 0.9585714285714285\n",
            " Cross Validated K fold Number = 4 acc = 0.9636904761904762\n",
            " Average Accuracy of 5 Folds with k = 13 ACC = 0.9606190476190476\n",
            "Experimenting with k = 14\n",
            " Cross Validated K fold Number = 0 acc = 0.9582142857142857\n",
            " Cross Validated K fold Number = 1 acc = 0.9595238095238096\n",
            " Cross Validated K fold Number = 2 acc = 0.9602380952380952\n",
            " Cross Validated K fold Number = 3 acc = 0.9585714285714285\n",
            " Cross Validated K fold Number = 4 acc = 0.964047619047619\n",
            " Average Accuracy of 5 Folds with k = 14 ACC = 0.9601190476190476\n",
            "Experimenting with k = 15\n",
            " Cross Validated K fold Number = 0 acc = 0.9565476190476191\n",
            " Cross Validated K fold Number = 1 acc = 0.9591666666666666\n",
            " Cross Validated K fold Number = 2 acc = 0.9594047619047619\n",
            " Cross Validated K fold Number = 3 acc = 0.9578571428571429\n",
            " Cross Validated K fold Number = 4 acc = 0.9629761904761904\n",
            " Average Accuracy of 5 Folds with k = 15 ACC = 0.9591904761904761\n",
            "Experimenting with k = 16\n",
            " Cross Validated K fold Number = 0 acc = 0.9563095238095238\n",
            " Cross Validated K fold Number = 1 acc = 0.9580952380952381\n",
            " Cross Validated K fold Number = 2 acc = 0.9595238095238096\n",
            " Cross Validated K fold Number = 3 acc = 0.9571428571428572\n",
            " Cross Validated K fold Number = 4 acc = 0.9630952380952381\n",
            " Average Accuracy of 5 Folds with k = 16 ACC = 0.9588333333333333\n",
            "Experimenting with k = 17\n",
            " Cross Validated K fold Number = 0 acc = 0.9548809523809524\n",
            " Cross Validated K fold Number = 1 acc = 0.9573809523809523\n",
            " Cross Validated K fold Number = 2 acc = 0.9583333333333334\n",
            " Cross Validated K fold Number = 3 acc = 0.9564285714285714\n",
            " Cross Validated K fold Number = 4 acc = 0.9627380952380953\n",
            " Average Accuracy of 5 Folds with k = 17 ACC = 0.957952380952381\n",
            "Experimenting with k = 18\n",
            " Cross Validated K fold Number = 0 acc = 0.9547619047619048\n",
            " Cross Validated K fold Number = 1 acc = 0.9571428571428572\n",
            " Cross Validated K fold Number = 2 acc = 0.9578571428571429\n",
            " Cross Validated K fold Number = 3 acc = 0.9561904761904761\n",
            " Cross Validated K fold Number = 4 acc = 0.9613095238095238\n",
            " Average Accuracy of 5 Folds with k = 18 ACC = 0.9574523809523809\n",
            "Experimenting with k = 19\n",
            " Cross Validated K fold Number = 0 acc = 0.9528571428571428\n",
            " Cross Validated K fold Number = 1 acc = 0.9560714285714286\n",
            " Cross Validated K fold Number = 2 acc = 0.9569047619047619\n",
            " Cross Validated K fold Number = 3 acc = 0.9563095238095238\n",
            " Cross Validated K fold Number = 4 acc = 0.9608333333333333\n",
            " Average Accuracy of 5 Folds with k = 19 ACC = 0.956595238095238\n",
            "Experimenting with k = 20\n",
            " Cross Validated K fold Number = 0 acc = 0.9528571428571428\n",
            " Cross Validated K fold Number = 1 acc = 0.9547619047619048\n",
            " Cross Validated K fold Number = 2 acc = 0.9557142857142857\n",
            " Cross Validated K fold Number = 3 acc = 0.9554761904761905\n",
            " Cross Validated K fold Number = 4 acc = 0.9605952380952381\n",
            " Average Accuracy of 5 Folds with k = 20 ACC = 0.9558809523809524\n",
            "Experimenting with k = 21\n",
            " Cross Validated K fold Number = 0 acc = 0.9520238095238095\n",
            " Cross Validated K fold Number = 1 acc = 0.9544047619047619\n",
            " Cross Validated K fold Number = 2 acc = 0.955\n",
            " Cross Validated K fold Number = 3 acc = 0.9541666666666667\n",
            " Cross Validated K fold Number = 4 acc = 0.9596428571428571\n",
            " Average Accuracy of 5 Folds with k = 21 ACC = 0.955047619047619\n",
            "Experimenting with k = 22\n",
            " Cross Validated K fold Number = 0 acc = 0.9514285714285714\n",
            " Cross Validated K fold Number = 1 acc = 0.9536904761904762\n",
            " Cross Validated K fold Number = 2 acc = 0.9544047619047619\n",
            " Cross Validated K fold Number = 3 acc = 0.9551190476190476\n",
            " Cross Validated K fold Number = 4 acc = 0.9585714285714285\n",
            " Average Accuracy of 5 Folds with k = 22 ACC = 0.9546428571428571\n",
            "Experimenting with k = 23\n",
            " Cross Validated K fold Number = 0 acc = 0.9508333333333333\n",
            " Cross Validated K fold Number = 1 acc = 0.9530952380952381\n",
            " Cross Validated K fold Number = 2 acc = 0.9533333333333334\n",
            " Cross Validated K fold Number = 3 acc = 0.9536904761904762\n",
            " Cross Validated K fold Number = 4 acc = 0.9570238095238095\n",
            " Average Accuracy of 5 Folds with k = 23 ACC = 0.953595238095238\n",
            "Experimenting with k = 24\n",
            " Cross Validated K fold Number = 0 acc = 0.9498809523809524\n",
            " Cross Validated K fold Number = 1 acc = 0.9532142857142857\n",
            " Cross Validated K fold Number = 2 acc = 0.9529761904761904\n",
            " Cross Validated K fold Number = 3 acc = 0.9530952380952381\n",
            " Cross Validated K fold Number = 4 acc = 0.9561904761904761\n",
            " Average Accuracy of 5 Folds with k = 24 ACC = 0.9530714285714286\n",
            "Experimenting with k = 25\n",
            " Cross Validated K fold Number = 0 acc = 0.9496428571428571\n",
            " Cross Validated K fold Number = 1 acc = 0.9522619047619048\n",
            " Cross Validated K fold Number = 2 acc = 0.9530952380952381\n",
            " Cross Validated K fold Number = 3 acc = 0.9523809523809523\n",
            " Cross Validated K fold Number = 4 acc = 0.955595238095238\n",
            " Average Accuracy of 5 Folds with k = 25 ACC = 0.952595238095238\n",
            "Experimenting with k = 26\n",
            " Cross Validated K fold Number = 0 acc = 0.9497619047619048\n",
            " Cross Validated K fold Number = 1 acc = 0.9513095238095238\n",
            " Cross Validated K fold Number = 2 acc = 0.9523809523809523\n",
            " Cross Validated K fold Number = 3 acc = 0.9521428571428572\n",
            " Cross Validated K fold Number = 4 acc = 0.9551190476190476\n",
            " Average Accuracy of 5 Folds with k = 26 ACC = 0.9521428571428572\n",
            "Experimenting with k = 27\n",
            " Cross Validated K fold Number = 0 acc = 0.9492857142857143\n",
            " Cross Validated K fold Number = 1 acc = 0.9508333333333333\n",
            " Cross Validated K fold Number = 2 acc = 0.9517857142857142\n",
            " Cross Validated K fold Number = 3 acc = 0.9510714285714286\n",
            " Cross Validated K fold Number = 4 acc = 0.9544047619047619\n",
            " Average Accuracy of 5 Folds with k = 27 ACC = 0.9514761904761905\n",
            "Experimenting with k = 28\n",
            " Cross Validated K fold Number = 0 acc = 0.9483333333333334\n",
            " Cross Validated K fold Number = 1 acc = 0.9502380952380952\n",
            " Cross Validated K fold Number = 2 acc = 0.9501190476190476\n",
            " Cross Validated K fold Number = 3 acc = 0.950595238095238\n",
            " Cross Validated K fold Number = 4 acc = 0.9535714285714286\n",
            " Average Accuracy of 5 Folds with k = 28 ACC = 0.9505714285714286\n",
            "Experimenting with k = 29\n",
            " Cross Validated K fold Number = 0 acc = 0.9479761904761905\n",
            " Cross Validated K fold Number = 1 acc = 0.9494047619047619\n",
            " Cross Validated K fold Number = 2 acc = 0.950595238095238\n",
            " Cross Validated K fold Number = 3 acc = 0.9501190476190476\n",
            " Cross Validated K fold Number = 4 acc = 0.9530952380952381\n",
            " Average Accuracy of 5 Folds with k = 29 ACC = 0.9502380952380952\n",
            "CPU times: user 49.2 s, sys: 28.3 s, total: 1min 17s\n",
            "Wall time: 1min 17s\n"
          ],
          "name": "stdout"
        }
      ]
    },
    {
      "cell_type": "markdown",
      "metadata": {
        "id": "jNCWoIXuvIUe"
      },
      "source": [
        "See the power of RAPIDS. It took roughly 1 min to run 135 experiments on 40k records. It would have taken more than hours on normal scikit learn on CPU. That's GPU power. "
      ]
    },
    {
      "cell_type": "code",
      "metadata": {
        "id": "GfC8Ryiuk1qa",
        "colab": {
          "base_uri": "https://localhost:8080/",
          "height": 51
        },
        "outputId": "5ddfa162-f538-4208-eb22-9f9dd4dc674a"
      },
      "source": [
        "%%time \n",
        "# loading the test data for prediction using cuDF \n",
        "test = cudf.read_csv('https://raw.githubusercontent.com/sbussmann/kaggle-mnist/master/Data/test.csv')"
      ],
      "execution_count": null,
      "outputs": [
        {
          "output_type": "stream",
          "text": [
            "CPU times: user 355 ms, sys: 37.6 ms, total: 392 ms\n",
            "Wall time: 771 ms\n"
          ],
          "name": "stdout"
        }
      ]
    },
    {
      "cell_type": "code",
      "metadata": {
        "id": "e0Kj1wQ7vsX0",
        "colab": {
          "base_uri": "https://localhost:8080/",
          "height": 34
        },
        "outputId": "1d0978dd-06df-4c85-9985-ded45c002d45"
      },
      "source": [
        "test.shape"
      ],
      "execution_count": null,
      "outputs": [
        {
          "output_type": "execute_result",
          "data": {
            "text/plain": [
              "(28000, 784)"
            ]
          },
          "metadata": {
            "tags": []
          },
          "execution_count": 21
        }
      ]
    },
    {
      "cell_type": "code",
      "metadata": {
        "id": "4udluylZlCMM",
        "colab": {
          "base_uri": "https://localhost:8080/",
          "height": 51
        },
        "outputId": "9406e22a-5bd0-4515-c80b-733ae44bfd5b"
      },
      "source": [
        "%%time\n",
        "# Based on experiment, 5 K value seems to be optimized, so we are fitting final model for final test prediction\n",
        "knn = KNeighborsClassifier(n_neighbors=5)\n",
        "knn.fit(train.iloc[:,1:785], train.iloc[:,0])"
      ],
      "execution_count": null,
      "outputs": [
        {
          "output_type": "stream",
          "text": [
            "CPU times: user 133 ms, sys: 17 ms, total: 150 ms\n",
            "Wall time: 151 ms\n"
          ],
          "name": "stdout"
        }
      ]
    },
    {
      "cell_type": "code",
      "metadata": {
        "id": "t1bkBT5JlEoL",
        "colab": {
          "base_uri": "https://localhost:8080/",
          "height": 51
        },
        "outputId": "b46525cb-94c1-4ee7-fa97-be8ac6e45a9a"
      },
      "source": [
        "%%time \n",
        "# Now we will use our perviously trained model, to do predcition on test data\n",
        "y_hat_p = knn.predict_proba(test)\n",
        "y_hat = y_hat_p.to_pandas().values.argmax(axis=1)"
      ],
      "execution_count": null,
      "outputs": [
        {
          "output_type": "stream",
          "text": [
            "CPU times: user 277 ms, sys: 246 ms, total: 523 ms\n",
            "Wall time: 528 ms\n"
          ],
          "name": "stdout"
        }
      ]
    },
    {
      "cell_type": "markdown",
      "metadata": {
        "id": "ZXlcuYOEvu68"
      },
      "source": [
        "You can also see, how inference is so fast on GPU, it takes less than 600 milli seconds to prediction on 28000 records. Again, way better than scikit learn on CPU"
      ]
    }
  ]
}