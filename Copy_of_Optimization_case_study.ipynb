{
  "nbformat": 4,
  "nbformat_minor": 0,
  "metadata": {
    "kernelspec": {
      "display_name": "Python 3",
      "language": "python",
      "name": "python3"
    },
    "language_info": {
      "codemirror_mode": {
        "name": "ipython",
        "version": 3
      },
      "file_extension": ".py",
      "mimetype": "text/x-python",
      "name": "python",
      "nbconvert_exporter": "python",
      "pygments_lexer": "ipython3",
      "version": "3.6.7"
    },
    "colab": {
      "name": "Copy of Optimization_case_study.ipynb",
      "provenance": [],
      "include_colab_link": true
    }
  },
  "cells": [
    {
      "cell_type": "markdown",
      "metadata": {
        "id": "view-in-github",
        "colab_type": "text"
      },
      "source": [
        "<a href=\"https://colab.research.google.com/github/ramachandra17/ramachandra17/blob/main/Copy_of_Optimization_case_study.ipynb\" target=\"_parent\"><img src=\"https://colab.research.google.com/assets/colab-badge.svg\" alt=\"Open In Colab\"/></a>"
      ]
    },
    {
      "cell_type": "markdown",
      "metadata": {
        "id": "K58l3NZteLGb"
      },
      "source": [
        "<center><img src=\"https://github.com/insaid2018/Term-1/blob/master/Images/INSAID_Full%20Logo.png?raw=true\" width=\"240\" height=\"360\" /></center>\n",
        "\n",
        "<h1><center>OPTIMIZATION</center></h1>"
      ]
    },
    {
      "cell_type": "markdown",
      "metadata": {
        "id": "L9U6ZlpJeLGc"
      },
      "source": [
        "## Table of Contents\n",
        "\n",
        "1. [Introduction](#section1)<br>\n",
        "2. [Batch Gradient Descent (BGD/GD)](#section2)<br>\n",
        "    - 2.1 [Disadvantages of Batch Gradient Descent](#section201)<br>\n",
        "3. [Stochastic Gradient Descent (SGD)](#section3)<br>\n",
        "    - 3.1 [Advantages of Stochastic Gradient Descent](#section301)<br>\n",
        "    - 3.2 [Disadvantages of Stochastic Gradient Descent](#section302)<br>\n",
        "4. [Learning Rate](#section4)<br>\n",
        "5. [Task at Hand](#section5)<br>\n",
        "6. [Dataset Description](#section6)<br>\n",
        "7. [Logistic Regression](#section7)<br>\n",
        "    - 7.1 [LogisticRegression Model Evaluation](#section701)<br>\n",
        "8. [SGD Classifier](#section8)<br>\n",
        "    - 8.1 [SGD Classifier Model Evaluation](#section801)<br>\n",
        "    - 8.2 [Evaluating performance of SGD Classifier for no.of epochs ranging from 1 to 20](#section802)<br>\n",
        "    - 8.3 [Evaluating performance of SGD Classifier for different learning_rates](#section803)<br>\n",
        "    - 8.4 [GridSearchCV on for SGD Classifier](#section804)<br>\n",
        "9. [Conclusion](#section9)<br>"
      ]
    },
    {
      "cell_type": "markdown",
      "metadata": {
        "id": "gwQpTO-ReLGd"
      },
      "source": [
        "<a id=\"section1\"></a>\n",
        "## 1. Introduction\n",
        "__Optimization__ is the most __essential ingredient__ in the recipe of machine learning algorithms. It starts with defining some kind of loss __function/cost__ function and ends with minimizing the it using one or the other optimization routine. "
      ]
    },
    {
      "cell_type": "markdown",
      "metadata": {
        "id": "LKJnmJWFeLGd"
      },
      "source": [
        "<a id=\"section2\"></a>\n",
        "## 2. Batch Gradient Descent (BGD/GD)"
      ]
    },
    {
      "cell_type": "markdown",
      "metadata": {
        "id": "XsiKn_fweLGd"
      },
      "source": [
        " - In **Batch Gradient Descent optimazation**, **parameters** are **updated** after **calculating the cost function** on the **entire dataset**. That means, to take **one step** in the gradient descent optimization **towards minimum**, the **entire dataset** is taken into account to **calculate the cost function**.\n",
        "<br>\n",
        "<br>\n",
        " - To take **another step towards the minimum, gradient descent optimization algorithm** should go through the **entire dataset again** to calculate the cost function.\n",
        "<br>\n",
        "<br>\n",
        " - This approach works **fine** for **small datasets.**\n",
        "<br>\n",
        "<br>\n",
        " - But, what **if** our **dataset** is **very large?**"
      ]
    },
    {
      "cell_type": "markdown",
      "metadata": {
        "id": "VWmtKKwyeLGe"
      },
      "source": [
        "<a id=section101></a>"
      ]
    },
    {
      "cell_type": "markdown",
      "metadata": {
        "id": "QYZWXnZGeLGe"
      },
      "source": [
        "<a id=\"section201\"></a>\n",
        "### 2.1 Disadvantages of Batch Gradient Descent\n",
        "\n",
        " - Say you want to build a **ML model on India Census data**. This dataset will have **133 92 00 000 records**. Thats 133.92 crores records.\n",
        "<br>\n",
        "<br>\n",
        " - To move one step closer to the minimum of cost function, Batch Gradient Descent optimization algorithm calculates cost function on the entire dataset.\n",
        "<br>\n",
        "<br>\n",
        " - This characteristic of Batch Gradient Descent makes it **computationaly very expensive** which leads to consuption of **more time to converge to minimum.**\n",
        "<br>\n",
        "<br>\n",
        " - What if the optimization algorithm doesn't have to go through all data to take a step towards minimum of cost function."
      ]
    },
    {
      "cell_type": "markdown",
      "metadata": {
        "id": "ERDCgaAQeLGe"
      },
      "source": [
        "<a id=section2></a>"
      ]
    },
    {
      "cell_type": "markdown",
      "metadata": {
        "id": "_rkqtYqAeLGe"
      },
      "source": [
        "<a id=\"section3\"></a>\n",
        "## 3. Stochastic Gradient Descent (SGD)"
      ]
    },
    {
      "cell_type": "markdown",
      "metadata": {
        "id": "tFcl8DlDeLGf"
      },
      "source": [
        " - In this variant of Gradient Descent, The optimization algorithm looks at **one record(random) at a time** to take **a step** in the gradinet descent.\n",
        "<br>\n",
        "<br>\n",
        " - So the algorithm has **already(right from the first instance itself) started** it's journey towards minimum of cost function **unlike Batch Gradient Descent** where it has to go through **entire dataset** to take **one single step.**\n",
        "<br>\n",
        "<br>"
      ]
    },
    {
      "cell_type": "markdown",
      "metadata": {
        "id": "1sIYKQZkeLGf"
      },
      "source": [
        "<a id=\"section301\"></a>\n",
        "### 3.1 Advantages of Stochastic Gradient Descent\n",
        " - Takes __less time__ to converge to the __minimum__ of COST FUNCITON\n",
        " \n",
        "<h4><center>Batch Gradient Descent</center></h4>\n",
        "<img src=\"https://raw.githubusercontent.com/insaid2018/optimization-files/master/15.gif\"/>\n",
        "<h4><center>Stochastic Gradient Descent</center></h4>\n",
        "<img src=\"https://raw.githubusercontent.com/insaid2018/optimization-files/master/14.gif\"/>"
      ]
    },
    {
      "cell_type": "markdown",
      "metadata": {
        "id": "ECnMGT1DeLGf"
      },
      "source": [
        " - **Stochastic Gradient Descent doesn't** suffer from the problem of **getting trapped in local minima.**\n",
        " <br>\n",
        " <br>\n",
        "<h4><center>Our cost function curve can be a simple convex curve.</center></h4>"
      ]
    },
    {
      "cell_type": "markdown",
      "metadata": {
        "id": "VA1D2Q98eLGf"
      },
      "source": [
        "<img src=\"https://raw.githubusercontent.com/insaid2018/optimization-files/master/1.png\" width=\"500\" height=\"400\" />"
      ]
    },
    {
      "cell_type": "markdown",
      "metadata": {
        "id": "sdaAWCjpeLGg"
      },
      "source": [
        "<h4><center>Or a complex curve which has local minims and a global minimum</center></h4>"
      ]
    },
    {
      "cell_type": "markdown",
      "metadata": {
        "id": "8rBZm8SJeLGg"
      },
      "source": [
        "<img src=\"https://raw.githubusercontent.com/insaid2018/optimization-files/master/2.png\" width=\"500\" height=\"400\" />"
      ]
    },
    {
      "cell_type": "markdown",
      "metadata": {
        "id": "XAYeObx-eLGg"
      },
      "source": [
        " - When **cost function** has **multiple local minima and a global minimum**, then **Batch Gradient Descent** has a chance to get **trapped in the local minima**."
      ]
    },
    {
      "cell_type": "markdown",
      "metadata": {
        "id": "VCKV_Z_AeLGg"
      },
      "source": [
        "<img src=\"https://raw.githubusercontent.com/insaid2018/optimization-files/master/3.gif\" width=\"500\" height=\"400\" />\n",
        " - Stochastic Gradient Descent eliminates this problem."
      ]
    },
    {
      "cell_type": "markdown",
      "metadata": {
        "id": "ATR0ar20eLGg"
      },
      "source": [
        " - One another reason you might want to use Stochastic Gradient Descent, **Batch Gradient Descent, won’t work** if you can’t hold the **entire dataset** in **RAM** but **SGD will still work (Mini Batch Gradient Descent)**. We will look at this in the end of this case study."
      ]
    },
    {
      "cell_type": "markdown",
      "metadata": {
        "id": "ZXf7jS7aeLGh"
      },
      "source": [
        "<a id=section201></a>"
      ]
    },
    {
      "cell_type": "markdown",
      "metadata": {
        "id": "lt0lLHSBeLGh"
      },
      "source": [
        "<a id=\"section302\"></a>\n",
        "### 3.2 Disadvantages of Stochastic Gradient Descent\n",
        " - **SGD** often **converges much faster** compared to **GD** **but** the **error function** is **not** as **well minimized** **as in the case of GD**. Often **in most cases**, **the close approximation** that **you get in SGD** for the **parameter** values **are enough** because **they reach the optimal values and keep oscillating there.**"
      ]
    },
    {
      "cell_type": "markdown",
      "metadata": {
        "id": "pREB7l9yeLGh"
      },
      "source": [
        "### The Process:\n",
        "- The training data is divided into batches\n",
        "<img src=\"https://raw.githubusercontent.com/insaid2018/optimization-files/master/7.png\" width=\"500\" height=\"400\" />\n",
        "   - First batch is taken.\n",
        "   - Weights are initialized with random values.\n",
        "   - Cost Function is calculated considering 1st batch of the data.\n",
        "   - Weights are updated.\n",
        "   - Then second batch of data is taken.\n",
        "   - Cost Function is calculated considering 2nd batch of data with updated weights.\n",
        "   - Weights are updated again.\n",
        "   - Then third batch of data is taken.\n",
        "   - The process continous for specified no.of epochs(no.of times the model sees the entire dataset).\n",
        "    \n",
        "**Batch size can affect the time taken to converge or even final accuracy(or Cost Function).\n",
        "Right Batch size can be arrived using GridSearchCV.**"
      ]
    },
    {
      "cell_type": "markdown",
      "metadata": {
        "id": "zQvEnU7NeLGh"
      },
      "source": [
        "<h4><center>Batch Gradient Descent vs Mini Batch Gradient Descent</center></h4>"
      ]
    },
    {
      "cell_type": "markdown",
      "metadata": {
        "id": "JtAYZFhkeLGh"
      },
      "source": [
        "<img src=\"https://raw.githubusercontent.com/insaid2018/optimization-files/master/17.gif\" width=\"500\" height=\"400\" />"
      ]
    },
    {
      "cell_type": "markdown",
      "metadata": {
        "id": "DBsFTxMueLGi"
      },
      "source": [
        "<a id=section301></a>"
      ]
    },
    {
      "cell_type": "markdown",
      "metadata": {
        "id": "eUop9pSDeLGi"
      },
      "source": [
        "<a id=\"section4\"></a>\n",
        "## 4. Learning Rate"
      ]
    },
    {
      "cell_type": "markdown",
      "metadata": {
        "id": "5CpgtXymeLGi"
      },
      "source": [
        " - It is used to **control step size** while **gradient descent**."
      ]
    },
    {
      "cell_type": "markdown",
      "metadata": {
        "id": "sxSqSuJxeLGi"
      },
      "source": [
        "Visualization of gradient descent for different learning rates on a toy example.\n",
        "<br>\n",
        "<br>\n",
        "The below learnin_rates are used for animation purpose only. The optimum learning_rate will vary from dataset to dataset."
      ]
    },
    {
      "cell_type": "markdown",
      "metadata": {
        "id": "M4sWehwPeLGi"
      },
      "source": [
        " - learning_rate = **0.05**"
      ]
    },
    {
      "cell_type": "markdown",
      "metadata": {
        "id": "phGW31oFeLGi"
      },
      "source": [
        "<img src=\"https://raw.githubusercontent.com/insaid2018/optimization-files/master/6.gif\" width=\"500\" height=\"400\" />"
      ]
    },
    {
      "cell_type": "markdown",
      "metadata": {
        "id": "4uAWVxddeLGi"
      },
      "source": [
        " - learning_rate = **0.2**"
      ]
    },
    {
      "cell_type": "markdown",
      "metadata": {
        "id": "GUVEso3veLGj"
      },
      "source": [
        "If learning_rate is **too big**, you’ll move more **quickly**, but you have a **high risk** that the algorithm **will never converge**."
      ]
    },
    {
      "cell_type": "markdown",
      "metadata": {
        "id": "idPkKkvXeLGj"
      },
      "source": [
        "<img src=\"https://raw.githubusercontent.com/insaid2018/optimization-files/master/4.gif\" width=\"500\" height=\"400\" />"
      ]
    },
    {
      "cell_type": "markdown",
      "metadata": {
        "id": "XF_UQtIdeLGj"
      },
      "source": [
        "The algorithm has **become unstable** and move so fast that it always goes so far.\n",
        "Eventually… it’ll **never get to the minimum.**"
      ]
    },
    {
      "cell_type": "markdown",
      "metadata": {
        "id": "p144eX_OeLGj"
      },
      "source": [
        " - If learning_rate is **too small**, you’ll move slowly.. so slowly you might just lose patience and **never reach the minimum**."
      ]
    },
    {
      "cell_type": "markdown",
      "metadata": {
        "id": "fN2cBwbYeLGj"
      },
      "source": [
        "learning_rate = 0.001"
      ]
    },
    {
      "cell_type": "markdown",
      "metadata": {
        "id": "ajx_r0z2eLGk"
      },
      "source": [
        "<img src=\"https://raw.githubusercontent.com/insaid2018/optimization-files/master/5.gif\" width=\"500\" height=\"400\"  />"
      ]
    },
    {
      "cell_type": "markdown",
      "metadata": {
        "id": "nCqUqYNYeLGk"
      },
      "source": [
        "Ugh..\n",
        "\n",
        "I had to speed up the animation, otherwise you’d be bored to death.\n",
        "\n",
        "Instead of getting to the **minimum in 15 iterations(as in first case)**, you get there in **75 iterations! That’s 5 times longer!**\n",
        "\n",
        "In **deep learning**, that makes a **huge difference**."
      ]
    },
    {
      "cell_type": "markdown",
      "metadata": {
        "id": "KEVwlZ4ceLGk"
      },
      "source": [
        "We will also see the affect of different learnin_rates on performance of SGDClassifier in the end of this case study."
      ]
    },
    {
      "cell_type": "markdown",
      "metadata": {
        "id": "fXvUi-sxeLGk"
      },
      "source": [
        "<a id=section6></a>"
      ]
    },
    {
      "cell_type": "markdown",
      "metadata": {
        "id": "hrzVzwzpeLGn"
      },
      "source": [
        "<a id=\"section5\"></a>\n",
        "## 5. Task at Hand\n",
        " - First we will build a **LogisticRegression model** and check the **time taken to train the model**. We will then build a **SGDClassifier model** and **compare time taken to train this model with LogisticRegression model**. We will also compare different accuracy metrics of both models."
      ]
    },
    {
      "cell_type": "markdown",
      "metadata": {
        "id": "oZWVuteXeLGo"
      },
      "source": [
        "<a id=section7></a>"
      ]
    },
    {
      "cell_type": "markdown",
      "metadata": {
        "id": "ClG6JYq0eLGo"
      },
      "source": [
        "<a id=\"section6\"></a>\n",
        "## 6. Dataset Description\n",
        " - The dataset is related to a __bank__.\n",
        " - The dataset is about whether a customer has __cleared loan__ or __not__.\n",
        " - Target variable is __Loan Status__ which is a categorical variable.\n",
        " - The target variable has two levels\n",
        "   - __Fully Paid__ means the customer has cleared the loan\n",
        "   - __Charged Off__ means the customer has not cleared the loan\n",
        " - Our objective is to predicted if a customer will clear the loan or not based on the inputs like \n",
        " \n",
        "     - __Current Loan Amount__ :  The listed amount of the loan applied for by the borrower.\n",
        "     - __Term__ :  Time period for which loan is applied.\n",
        "     - __Credit Score__ : Credit score of teh borrower.\n",
        "     - __Annual Income__ : Annual Income of the applicant.\n",
        "     - __Years in current job__\n",
        "     - __Home Ownership__ : The home ownership status provided by the borrower during registration. \n",
        "     - __Purpose__ : Purpose of the Loan\n",
        "     - __Monthly Debt__: Monthly dept of the borrower\n",
        "     - __Maximum Open Credit__ : Maximum number of open credit does the borrower have.\n",
        "     - __Tax Lines__ : Number of Tax lines borrower have.\n",
        "     \n",
        "     etc"
      ]
    },
    {
      "cell_type": "markdown",
      "metadata": {
        "id": "X9xvKL_FeLGp"
      },
      "source": [
        "Importing pandas package"
      ]
    },
    {
      "cell_type": "code",
      "metadata": {
        "collapsed": true,
        "id": "JUjSL0tNeLGs"
      },
      "source": [
        "import pandas as pd\n",
        "import numpy as np"
      ],
      "execution_count": null,
      "outputs": []
    },
    {
      "cell_type": "markdown",
      "metadata": {
        "id": "IizTZFsoeLGu"
      },
      "source": [
        "__Note__: For the given data set it's important that here that we are directly using preprocessed data. Because over here our main objective it to have better understanding of Optimization algorithms. "
      ]
    },
    {
      "cell_type": "code",
      "metadata": {
        "collapsed": true,
        "id": "Kq1WcT0QeLGu"
      },
      "source": [
        "bank_data = pd.read_csv('https://github.com/insaid2018/Term-4/raw/master/Data/Assignment/bank_data.csv')"
      ],
      "execution_count": null,
      "outputs": []
    },
    {
      "cell_type": "code",
      "metadata": {
        "id": "9rdPin3oeLGu",
        "colab": {
          "base_uri": "https://localhost:8080/",
          "height": 378
        },
        "outputId": "148bfd1d-0698-4e6e-f569-234bd3a9e883"
      },
      "source": [
        "bank_data.head()"
      ],
      "execution_count": null,
      "outputs": [
        {
          "output_type": "execute_result",
          "data": {
            "text/html": [
              "<div>\n",
              "<style scoped>\n",
              "    .dataframe tbody tr th:only-of-type {\n",
              "        vertical-align: middle;\n",
              "    }\n",
              "\n",
              "    .dataframe tbody tr th {\n",
              "        vertical-align: top;\n",
              "    }\n",
              "\n",
              "    .dataframe thead th {\n",
              "        text-align: right;\n",
              "    }\n",
              "</style>\n",
              "<table border=\"1\" class=\"dataframe\">\n",
              "  <thead>\n",
              "    <tr style=\"text-align: right;\">\n",
              "      <th></th>\n",
              "      <th>Current Loan Amount</th>\n",
              "      <th>Credit Score</th>\n",
              "      <th>Annual Income</th>\n",
              "      <th>Monthly Debt</th>\n",
              "      <th>Years of Credit History</th>\n",
              "      <th>Number of Open Accounts</th>\n",
              "      <th>Number of Credit Problems</th>\n",
              "      <th>Current Credit Balance</th>\n",
              "      <th>Maximum Open Credit</th>\n",
              "      <th>Tax Liens</th>\n",
              "      <th>Term_Long Term</th>\n",
              "      <th>Term_Short Term</th>\n",
              "      <th>Years in current job_1 year</th>\n",
              "      <th>Years in current job_10+ years</th>\n",
              "      <th>Years in current job_2 years</th>\n",
              "      <th>Years in current job_3 years</th>\n",
              "      <th>Years in current job_4 years</th>\n",
              "      <th>Years in current job_5 years</th>\n",
              "      <th>Years in current job_6 years</th>\n",
              "      <th>Years in current job_7 years</th>\n",
              "      <th>Years in current job_8 years</th>\n",
              "      <th>Years in current job_9 years</th>\n",
              "      <th>Years in current job_&lt; 1 year</th>\n",
              "      <th>Home Ownership_HaveMortgage</th>\n",
              "      <th>Home Ownership_Home Mortgage</th>\n",
              "      <th>Home Ownership_Own Home</th>\n",
              "      <th>Purpose_Business Loan</th>\n",
              "      <th>Purpose_Buy House</th>\n",
              "      <th>Purpose_Buy a Car</th>\n",
              "      <th>Purpose_Debt Consolidation</th>\n",
              "      <th>Purpose_Educational Expenses</th>\n",
              "      <th>Purpose_Home Improvements</th>\n",
              "      <th>Purpose_Medical Bills</th>\n",
              "      <th>Purpose_Other</th>\n",
              "      <th>Purpose_major_purchase</th>\n",
              "      <th>Purpose_moving</th>\n",
              "      <th>Purpose_other</th>\n",
              "      <th>Purpose_renewable_energy</th>\n",
              "      <th>Purpose_small_business</th>\n",
              "      <th>Purpose_vacation</th>\n",
              "      <th>Purpose_wedding</th>\n",
              "      <th>Loan Status</th>\n",
              "    </tr>\n",
              "  </thead>\n",
              "  <tbody>\n",
              "    <tr>\n",
              "      <th>0</th>\n",
              "      <td>445412.0</td>\n",
              "      <td>709.000000</td>\n",
              "      <td>1.167493e+06</td>\n",
              "      <td>5214.74</td>\n",
              "      <td>17.2</td>\n",
              "      <td>6.0</td>\n",
              "      <td>1.0</td>\n",
              "      <td>228190.0</td>\n",
              "      <td>416746.0</td>\n",
              "      <td>0.0</td>\n",
              "      <td>0</td>\n",
              "      <td>1</td>\n",
              "      <td>0</td>\n",
              "      <td>0</td>\n",
              "      <td>0</td>\n",
              "      <td>0</td>\n",
              "      <td>0</td>\n",
              "      <td>0</td>\n",
              "      <td>0</td>\n",
              "      <td>0</td>\n",
              "      <td>1</td>\n",
              "      <td>0</td>\n",
              "      <td>0</td>\n",
              "      <td>0</td>\n",
              "      <td>1</td>\n",
              "      <td>0</td>\n",
              "      <td>0</td>\n",
              "      <td>0</td>\n",
              "      <td>0</td>\n",
              "      <td>0</td>\n",
              "      <td>0</td>\n",
              "      <td>1</td>\n",
              "      <td>0</td>\n",
              "      <td>0</td>\n",
              "      <td>0</td>\n",
              "      <td>0</td>\n",
              "      <td>0</td>\n",
              "      <td>0</td>\n",
              "      <td>0</td>\n",
              "      <td>0</td>\n",
              "      <td>0</td>\n",
              "      <td>Fully Paid</td>\n",
              "    </tr>\n",
              "    <tr>\n",
              "      <th>1</th>\n",
              "      <td>262328.0</td>\n",
              "      <td>1076.275101</td>\n",
              "      <td>1.378339e+06</td>\n",
              "      <td>33295.98</td>\n",
              "      <td>21.1</td>\n",
              "      <td>35.0</td>\n",
              "      <td>0.0</td>\n",
              "      <td>229976.0</td>\n",
              "      <td>850784.0</td>\n",
              "      <td>0.0</td>\n",
              "      <td>0</td>\n",
              "      <td>1</td>\n",
              "      <td>0</td>\n",
              "      <td>1</td>\n",
              "      <td>0</td>\n",
              "      <td>0</td>\n",
              "      <td>0</td>\n",
              "      <td>0</td>\n",
              "      <td>0</td>\n",
              "      <td>0</td>\n",
              "      <td>0</td>\n",
              "      <td>0</td>\n",
              "      <td>0</td>\n",
              "      <td>0</td>\n",
              "      <td>1</td>\n",
              "      <td>0</td>\n",
              "      <td>0</td>\n",
              "      <td>0</td>\n",
              "      <td>0</td>\n",
              "      <td>1</td>\n",
              "      <td>0</td>\n",
              "      <td>0</td>\n",
              "      <td>0</td>\n",
              "      <td>0</td>\n",
              "      <td>0</td>\n",
              "      <td>0</td>\n",
              "      <td>0</td>\n",
              "      <td>0</td>\n",
              "      <td>0</td>\n",
              "      <td>0</td>\n",
              "      <td>0</td>\n",
              "      <td>Fully Paid</td>\n",
              "    </tr>\n",
              "    <tr>\n",
              "      <th>2</th>\n",
              "      <td>99999999.0</td>\n",
              "      <td>741.000000</td>\n",
              "      <td>2.231892e+06</td>\n",
              "      <td>29200.53</td>\n",
              "      <td>14.9</td>\n",
              "      <td>18.0</td>\n",
              "      <td>1.0</td>\n",
              "      <td>297996.0</td>\n",
              "      <td>750090.0</td>\n",
              "      <td>0.0</td>\n",
              "      <td>0</td>\n",
              "      <td>1</td>\n",
              "      <td>0</td>\n",
              "      <td>0</td>\n",
              "      <td>0</td>\n",
              "      <td>0</td>\n",
              "      <td>0</td>\n",
              "      <td>0</td>\n",
              "      <td>0</td>\n",
              "      <td>0</td>\n",
              "      <td>1</td>\n",
              "      <td>0</td>\n",
              "      <td>0</td>\n",
              "      <td>0</td>\n",
              "      <td>0</td>\n",
              "      <td>1</td>\n",
              "      <td>0</td>\n",
              "      <td>0</td>\n",
              "      <td>0</td>\n",
              "      <td>1</td>\n",
              "      <td>0</td>\n",
              "      <td>0</td>\n",
              "      <td>0</td>\n",
              "      <td>0</td>\n",
              "      <td>0</td>\n",
              "      <td>0</td>\n",
              "      <td>0</td>\n",
              "      <td>0</td>\n",
              "      <td>0</td>\n",
              "      <td>0</td>\n",
              "      <td>0</td>\n",
              "      <td>Fully Paid</td>\n",
              "    </tr>\n",
              "    <tr>\n",
              "      <th>3</th>\n",
              "      <td>347666.0</td>\n",
              "      <td>721.000000</td>\n",
              "      <td>8.069490e+05</td>\n",
              "      <td>8741.90</td>\n",
              "      <td>12.0</td>\n",
              "      <td>9.0</td>\n",
              "      <td>0.0</td>\n",
              "      <td>256329.0</td>\n",
              "      <td>386958.0</td>\n",
              "      <td>0.0</td>\n",
              "      <td>1</td>\n",
              "      <td>0</td>\n",
              "      <td>0</td>\n",
              "      <td>0</td>\n",
              "      <td>0</td>\n",
              "      <td>1</td>\n",
              "      <td>0</td>\n",
              "      <td>0</td>\n",
              "      <td>0</td>\n",
              "      <td>0</td>\n",
              "      <td>0</td>\n",
              "      <td>0</td>\n",
              "      <td>0</td>\n",
              "      <td>0</td>\n",
              "      <td>0</td>\n",
              "      <td>1</td>\n",
              "      <td>0</td>\n",
              "      <td>0</td>\n",
              "      <td>0</td>\n",
              "      <td>1</td>\n",
              "      <td>0</td>\n",
              "      <td>0</td>\n",
              "      <td>0</td>\n",
              "      <td>0</td>\n",
              "      <td>0</td>\n",
              "      <td>0</td>\n",
              "      <td>0</td>\n",
              "      <td>0</td>\n",
              "      <td>0</td>\n",
              "      <td>0</td>\n",
              "      <td>0</td>\n",
              "      <td>Fully Paid</td>\n",
              "    </tr>\n",
              "    <tr>\n",
              "      <th>4</th>\n",
              "      <td>176220.0</td>\n",
              "      <td>1076.275101</td>\n",
              "      <td>1.378339e+06</td>\n",
              "      <td>20639.70</td>\n",
              "      <td>6.1</td>\n",
              "      <td>15.0</td>\n",
              "      <td>0.0</td>\n",
              "      <td>253460.0</td>\n",
              "      <td>427174.0</td>\n",
              "      <td>0.0</td>\n",
              "      <td>0</td>\n",
              "      <td>1</td>\n",
              "      <td>0</td>\n",
              "      <td>0</td>\n",
              "      <td>0</td>\n",
              "      <td>0</td>\n",
              "      <td>0</td>\n",
              "      <td>1</td>\n",
              "      <td>0</td>\n",
              "      <td>0</td>\n",
              "      <td>0</td>\n",
              "      <td>0</td>\n",
              "      <td>0</td>\n",
              "      <td>0</td>\n",
              "      <td>0</td>\n",
              "      <td>0</td>\n",
              "      <td>0</td>\n",
              "      <td>0</td>\n",
              "      <td>0</td>\n",
              "      <td>1</td>\n",
              "      <td>0</td>\n",
              "      <td>0</td>\n",
              "      <td>0</td>\n",
              "      <td>0</td>\n",
              "      <td>0</td>\n",
              "      <td>0</td>\n",
              "      <td>0</td>\n",
              "      <td>0</td>\n",
              "      <td>0</td>\n",
              "      <td>0</td>\n",
              "      <td>0</td>\n",
              "      <td>Fully Paid</td>\n",
              "    </tr>\n",
              "  </tbody>\n",
              "</table>\n",
              "</div>"
            ],
            "text/plain": [
              "   Current Loan Amount  Credit Score  ...  Purpose_wedding  Loan Status\n",
              "0             445412.0    709.000000  ...                0   Fully Paid\n",
              "1             262328.0   1076.275101  ...                0   Fully Paid\n",
              "2           99999999.0    741.000000  ...                0   Fully Paid\n",
              "3             347666.0    721.000000  ...                0   Fully Paid\n",
              "4             176220.0   1076.275101  ...                0   Fully Paid\n",
              "\n",
              "[5 rows x 42 columns]"
            ]
          },
          "metadata": {
            "tags": []
          },
          "execution_count": 3
        }
      ]
    },
    {
      "cell_type": "code",
      "metadata": {
        "colab": {
          "base_uri": "https://localhost:8080/"
        },
        "id": "mUb1Acud2qRD",
        "outputId": "de3f8a7d-c12e-48d7-b0c1-1b7fd85f2fb8"
      },
      "source": [
        "bank_data.shape"
      ],
      "execution_count": null,
      "outputs": [
        {
          "output_type": "execute_result",
          "data": {
            "text/plain": [
              "(99794, 42)"
            ]
          },
          "metadata": {
            "tags": []
          },
          "execution_count": 5
        }
      ]
    },
    {
      "cell_type": "code",
      "metadata": {
        "colab": {
          "base_uri": "https://localhost:8080/"
        },
        "id": "VsZGnE0-36WA",
        "outputId": "b66c2abd-4d37-42ee-afde-302502436132"
      },
      "source": [
        "bank_data['Loan Status'].value_counts()"
      ],
      "execution_count": null,
      "outputs": [
        {
          "output_type": "execute_result",
          "data": {
            "text/plain": [
              "Fully Paid     77207\n",
              "Charged Off    22587\n",
              "Name: Loan Status, dtype: int64"
            ]
          },
          "metadata": {
            "tags": []
          },
          "execution_count": 7
        }
      ]
    },
    {
      "cell_type": "markdown",
      "metadata": {
        "id": "8iaFmpGGeLGw"
      },
      "source": [
        "<a id=section8></a>"
      ]
    },
    {
      "cell_type": "code",
      "metadata": {
        "id": "neN5tsb5eLGw",
        "colab": {
          "base_uri": "https://localhost:8080/"
        },
        "outputId": "fbcad9cb-cd56-4945-ced2-6230ee58be53"
      },
      "source": [
        "# Extract independent variables\n",
        "features = bank_data.drop('Loan Status',axis = 1)\n",
        "# Extract target variable\n",
        "targets = pd.DataFrame(bank_data['Loan Status'])\n",
        "\n",
        "from sklearn.model_selection import train_test_split\n",
        "\n",
        "# Split into 80% training and 20% testing set\n",
        "X_train, X_test, y_train, y_test = train_test_split(features, targets, test_size = 0.2)\n",
        "\n",
        "print(X_train.shape)\n",
        "print(X_test.shape)\n",
        "print(y_train.shape)\n",
        "print(y_test.shape)\n",
        "\n",
        "# If you pass df to train_test_split -- it will give you df\n",
        "# if you pass array then it will give array "
      ],
      "execution_count": null,
      "outputs": [
        {
          "output_type": "stream",
          "text": [
            "(79835, 41)\n",
            "(19959, 41)\n",
            "(79835, 1)\n",
            "(19959, 1)\n"
          ],
          "name": "stdout"
        }
      ]
    },
    {
      "cell_type": "code",
      "metadata": {
        "colab": {
          "base_uri": "https://localhost:8080/",
          "height": 505
        },
        "id": "74Xi-BzO4jO2",
        "outputId": "93ae9713-2a96-4694-ef24-48dd29cc9fbf"
      },
      "source": [
        "X_train"
      ],
      "execution_count": null,
      "outputs": [
        {
          "output_type": "execute_result",
          "data": {
            "text/html": [
              "<div>\n",
              "<style scoped>\n",
              "    .dataframe tbody tr th:only-of-type {\n",
              "        vertical-align: middle;\n",
              "    }\n",
              "\n",
              "    .dataframe tbody tr th {\n",
              "        vertical-align: top;\n",
              "    }\n",
              "\n",
              "    .dataframe thead th {\n",
              "        text-align: right;\n",
              "    }\n",
              "</style>\n",
              "<table border=\"1\" class=\"dataframe\">\n",
              "  <thead>\n",
              "    <tr style=\"text-align: right;\">\n",
              "      <th></th>\n",
              "      <th>Current Loan Amount</th>\n",
              "      <th>Credit Score</th>\n",
              "      <th>Annual Income</th>\n",
              "      <th>Monthly Debt</th>\n",
              "      <th>Years of Credit History</th>\n",
              "      <th>Number of Open Accounts</th>\n",
              "      <th>Number of Credit Problems</th>\n",
              "      <th>Current Credit Balance</th>\n",
              "      <th>Maximum Open Credit</th>\n",
              "      <th>Tax Liens</th>\n",
              "      <th>Term_Long Term</th>\n",
              "      <th>Term_Short Term</th>\n",
              "      <th>Years in current job_1 year</th>\n",
              "      <th>Years in current job_10+ years</th>\n",
              "      <th>Years in current job_2 years</th>\n",
              "      <th>Years in current job_3 years</th>\n",
              "      <th>Years in current job_4 years</th>\n",
              "      <th>Years in current job_5 years</th>\n",
              "      <th>Years in current job_6 years</th>\n",
              "      <th>Years in current job_7 years</th>\n",
              "      <th>Years in current job_8 years</th>\n",
              "      <th>Years in current job_9 years</th>\n",
              "      <th>Years in current job_&lt; 1 year</th>\n",
              "      <th>Home Ownership_HaveMortgage</th>\n",
              "      <th>Home Ownership_Home Mortgage</th>\n",
              "      <th>Home Ownership_Own Home</th>\n",
              "      <th>Purpose_Business Loan</th>\n",
              "      <th>Purpose_Buy House</th>\n",
              "      <th>Purpose_Buy a Car</th>\n",
              "      <th>Purpose_Debt Consolidation</th>\n",
              "      <th>Purpose_Educational Expenses</th>\n",
              "      <th>Purpose_Home Improvements</th>\n",
              "      <th>Purpose_Medical Bills</th>\n",
              "      <th>Purpose_Other</th>\n",
              "      <th>Purpose_major_purchase</th>\n",
              "      <th>Purpose_moving</th>\n",
              "      <th>Purpose_other</th>\n",
              "      <th>Purpose_renewable_energy</th>\n",
              "      <th>Purpose_small_business</th>\n",
              "      <th>Purpose_vacation</th>\n",
              "      <th>Purpose_wedding</th>\n",
              "    </tr>\n",
              "  </thead>\n",
              "  <tbody>\n",
              "    <tr>\n",
              "      <th>55892</th>\n",
              "      <td>569756.0</td>\n",
              "      <td>1076.275101</td>\n",
              "      <td>1.378339e+06</td>\n",
              "      <td>43865.11</td>\n",
              "      <td>9.2</td>\n",
              "      <td>10.0</td>\n",
              "      <td>0.0</td>\n",
              "      <td>215479.0</td>\n",
              "      <td>700854.0</td>\n",
              "      <td>0.0</td>\n",
              "      <td>0</td>\n",
              "      <td>1</td>\n",
              "      <td>0</td>\n",
              "      <td>0</td>\n",
              "      <td>0</td>\n",
              "      <td>1</td>\n",
              "      <td>0</td>\n",
              "      <td>0</td>\n",
              "      <td>0</td>\n",
              "      <td>0</td>\n",
              "      <td>0</td>\n",
              "      <td>0</td>\n",
              "      <td>0</td>\n",
              "      <td>0</td>\n",
              "      <td>0</td>\n",
              "      <td>0</td>\n",
              "      <td>0</td>\n",
              "      <td>0</td>\n",
              "      <td>0</td>\n",
              "      <td>0</td>\n",
              "      <td>0</td>\n",
              "      <td>0</td>\n",
              "      <td>0</td>\n",
              "      <td>1</td>\n",
              "      <td>0</td>\n",
              "      <td>0</td>\n",
              "      <td>0</td>\n",
              "      <td>0</td>\n",
              "      <td>0</td>\n",
              "      <td>0</td>\n",
              "      <td>0</td>\n",
              "    </tr>\n",
              "    <tr>\n",
              "      <th>270</th>\n",
              "      <td>216194.0</td>\n",
              "      <td>720.000000</td>\n",
              "      <td>1.077528e+06</td>\n",
              "      <td>8081.46</td>\n",
              "      <td>13.7</td>\n",
              "      <td>5.0</td>\n",
              "      <td>1.0</td>\n",
              "      <td>96463.0</td>\n",
              "      <td>174240.0</td>\n",
              "      <td>0.0</td>\n",
              "      <td>0</td>\n",
              "      <td>1</td>\n",
              "      <td>0</td>\n",
              "      <td>0</td>\n",
              "      <td>0</td>\n",
              "      <td>0</td>\n",
              "      <td>0</td>\n",
              "      <td>0</td>\n",
              "      <td>0</td>\n",
              "      <td>0</td>\n",
              "      <td>0</td>\n",
              "      <td>0</td>\n",
              "      <td>0</td>\n",
              "      <td>0</td>\n",
              "      <td>1</td>\n",
              "      <td>0</td>\n",
              "      <td>0</td>\n",
              "      <td>0</td>\n",
              "      <td>0</td>\n",
              "      <td>1</td>\n",
              "      <td>0</td>\n",
              "      <td>0</td>\n",
              "      <td>0</td>\n",
              "      <td>0</td>\n",
              "      <td>0</td>\n",
              "      <td>0</td>\n",
              "      <td>0</td>\n",
              "      <td>0</td>\n",
              "      <td>0</td>\n",
              "      <td>0</td>\n",
              "      <td>0</td>\n",
              "    </tr>\n",
              "    <tr>\n",
              "      <th>72101</th>\n",
              "      <td>395604.0</td>\n",
              "      <td>679.000000</td>\n",
              "      <td>1.290708e+06</td>\n",
              "      <td>5506.96</td>\n",
              "      <td>20.6</td>\n",
              "      <td>8.0</td>\n",
              "      <td>1.0</td>\n",
              "      <td>130910.0</td>\n",
              "      <td>296648.0</td>\n",
              "      <td>0.0</td>\n",
              "      <td>1</td>\n",
              "      <td>0</td>\n",
              "      <td>0</td>\n",
              "      <td>0</td>\n",
              "      <td>0</td>\n",
              "      <td>0</td>\n",
              "      <td>0</td>\n",
              "      <td>0</td>\n",
              "      <td>0</td>\n",
              "      <td>0</td>\n",
              "      <td>1</td>\n",
              "      <td>0</td>\n",
              "      <td>0</td>\n",
              "      <td>0</td>\n",
              "      <td>1</td>\n",
              "      <td>0</td>\n",
              "      <td>0</td>\n",
              "      <td>0</td>\n",
              "      <td>0</td>\n",
              "      <td>1</td>\n",
              "      <td>0</td>\n",
              "      <td>0</td>\n",
              "      <td>0</td>\n",
              "      <td>0</td>\n",
              "      <td>0</td>\n",
              "      <td>0</td>\n",
              "      <td>0</td>\n",
              "      <td>0</td>\n",
              "      <td>0</td>\n",
              "      <td>0</td>\n",
              "      <td>0</td>\n",
              "    </tr>\n",
              "    <tr>\n",
              "      <th>40910</th>\n",
              "      <td>391688.0</td>\n",
              "      <td>1076.275101</td>\n",
              "      <td>1.378339e+06</td>\n",
              "      <td>27287.23</td>\n",
              "      <td>16.2</td>\n",
              "      <td>8.0</td>\n",
              "      <td>0.0</td>\n",
              "      <td>28424.0</td>\n",
              "      <td>34826.0</td>\n",
              "      <td>0.0</td>\n",
              "      <td>0</td>\n",
              "      <td>1</td>\n",
              "      <td>0</td>\n",
              "      <td>1</td>\n",
              "      <td>0</td>\n",
              "      <td>0</td>\n",
              "      <td>0</td>\n",
              "      <td>0</td>\n",
              "      <td>0</td>\n",
              "      <td>0</td>\n",
              "      <td>0</td>\n",
              "      <td>0</td>\n",
              "      <td>0</td>\n",
              "      <td>0</td>\n",
              "      <td>0</td>\n",
              "      <td>0</td>\n",
              "      <td>0</td>\n",
              "      <td>0</td>\n",
              "      <td>0</td>\n",
              "      <td>1</td>\n",
              "      <td>0</td>\n",
              "      <td>0</td>\n",
              "      <td>0</td>\n",
              "      <td>0</td>\n",
              "      <td>0</td>\n",
              "      <td>0</td>\n",
              "      <td>0</td>\n",
              "      <td>0</td>\n",
              "      <td>0</td>\n",
              "      <td>0</td>\n",
              "      <td>0</td>\n",
              "    </tr>\n",
              "    <tr>\n",
              "      <th>1109</th>\n",
              "      <td>44748.0</td>\n",
              "      <td>736.000000</td>\n",
              "      <td>7.342740e+05</td>\n",
              "      <td>10035.04</td>\n",
              "      <td>8.3</td>\n",
              "      <td>9.0</td>\n",
              "      <td>0.0</td>\n",
              "      <td>97052.0</td>\n",
              "      <td>597784.0</td>\n",
              "      <td>0.0</td>\n",
              "      <td>0</td>\n",
              "      <td>1</td>\n",
              "      <td>0</td>\n",
              "      <td>0</td>\n",
              "      <td>0</td>\n",
              "      <td>0</td>\n",
              "      <td>0</td>\n",
              "      <td>0</td>\n",
              "      <td>1</td>\n",
              "      <td>0</td>\n",
              "      <td>0</td>\n",
              "      <td>0</td>\n",
              "      <td>0</td>\n",
              "      <td>0</td>\n",
              "      <td>0</td>\n",
              "      <td>1</td>\n",
              "      <td>0</td>\n",
              "      <td>0</td>\n",
              "      <td>0</td>\n",
              "      <td>1</td>\n",
              "      <td>0</td>\n",
              "      <td>0</td>\n",
              "      <td>0</td>\n",
              "      <td>0</td>\n",
              "      <td>0</td>\n",
              "      <td>0</td>\n",
              "      <td>0</td>\n",
              "      <td>0</td>\n",
              "      <td>0</td>\n",
              "      <td>0</td>\n",
              "      <td>0</td>\n",
              "    </tr>\n",
              "    <tr>\n",
              "      <th>...</th>\n",
              "      <td>...</td>\n",
              "      <td>...</td>\n",
              "      <td>...</td>\n",
              "      <td>...</td>\n",
              "      <td>...</td>\n",
              "      <td>...</td>\n",
              "      <td>...</td>\n",
              "      <td>...</td>\n",
              "      <td>...</td>\n",
              "      <td>...</td>\n",
              "      <td>...</td>\n",
              "      <td>...</td>\n",
              "      <td>...</td>\n",
              "      <td>...</td>\n",
              "      <td>...</td>\n",
              "      <td>...</td>\n",
              "      <td>...</td>\n",
              "      <td>...</td>\n",
              "      <td>...</td>\n",
              "      <td>...</td>\n",
              "      <td>...</td>\n",
              "      <td>...</td>\n",
              "      <td>...</td>\n",
              "      <td>...</td>\n",
              "      <td>...</td>\n",
              "      <td>...</td>\n",
              "      <td>...</td>\n",
              "      <td>...</td>\n",
              "      <td>...</td>\n",
              "      <td>...</td>\n",
              "      <td>...</td>\n",
              "      <td>...</td>\n",
              "      <td>...</td>\n",
              "      <td>...</td>\n",
              "      <td>...</td>\n",
              "      <td>...</td>\n",
              "      <td>...</td>\n",
              "      <td>...</td>\n",
              "      <td>...</td>\n",
              "      <td>...</td>\n",
              "      <td>...</td>\n",
              "    </tr>\n",
              "    <tr>\n",
              "      <th>39318</th>\n",
              "      <td>347666.0</td>\n",
              "      <td>740.000000</td>\n",
              "      <td>2.327025e+06</td>\n",
              "      <td>64962.71</td>\n",
              "      <td>23.0</td>\n",
              "      <td>24.0</td>\n",
              "      <td>0.0</td>\n",
              "      <td>1355175.0</td>\n",
              "      <td>2406668.0</td>\n",
              "      <td>0.0</td>\n",
              "      <td>1</td>\n",
              "      <td>0</td>\n",
              "      <td>0</td>\n",
              "      <td>1</td>\n",
              "      <td>0</td>\n",
              "      <td>0</td>\n",
              "      <td>0</td>\n",
              "      <td>0</td>\n",
              "      <td>0</td>\n",
              "      <td>0</td>\n",
              "      <td>0</td>\n",
              "      <td>0</td>\n",
              "      <td>0</td>\n",
              "      <td>0</td>\n",
              "      <td>1</td>\n",
              "      <td>0</td>\n",
              "      <td>0</td>\n",
              "      <td>0</td>\n",
              "      <td>0</td>\n",
              "      <td>1</td>\n",
              "      <td>0</td>\n",
              "      <td>0</td>\n",
              "      <td>0</td>\n",
              "      <td>0</td>\n",
              "      <td>0</td>\n",
              "      <td>0</td>\n",
              "      <td>0</td>\n",
              "      <td>0</td>\n",
              "      <td>0</td>\n",
              "      <td>0</td>\n",
              "      <td>0</td>\n",
              "    </tr>\n",
              "    <tr>\n",
              "      <th>79843</th>\n",
              "      <td>33748.0</td>\n",
              "      <td>703.000000</td>\n",
              "      <td>6.993900e+05</td>\n",
              "      <td>6061.38</td>\n",
              "      <td>19.7</td>\n",
              "      <td>6.0</td>\n",
              "      <td>1.0</td>\n",
              "      <td>10450.0</td>\n",
              "      <td>134486.0</td>\n",
              "      <td>0.0</td>\n",
              "      <td>0</td>\n",
              "      <td>1</td>\n",
              "      <td>0</td>\n",
              "      <td>1</td>\n",
              "      <td>0</td>\n",
              "      <td>0</td>\n",
              "      <td>0</td>\n",
              "      <td>0</td>\n",
              "      <td>0</td>\n",
              "      <td>0</td>\n",
              "      <td>0</td>\n",
              "      <td>0</td>\n",
              "      <td>0</td>\n",
              "      <td>0</td>\n",
              "      <td>0</td>\n",
              "      <td>0</td>\n",
              "      <td>0</td>\n",
              "      <td>0</td>\n",
              "      <td>0</td>\n",
              "      <td>1</td>\n",
              "      <td>0</td>\n",
              "      <td>0</td>\n",
              "      <td>0</td>\n",
              "      <td>0</td>\n",
              "      <td>0</td>\n",
              "      <td>0</td>\n",
              "      <td>0</td>\n",
              "      <td>0</td>\n",
              "      <td>0</td>\n",
              "      <td>0</td>\n",
              "      <td>0</td>\n",
              "    </tr>\n",
              "    <tr>\n",
              "      <th>22377</th>\n",
              "      <td>342166.0</td>\n",
              "      <td>6440.000000</td>\n",
              "      <td>9.120950e+05</td>\n",
              "      <td>20902.28</td>\n",
              "      <td>14.4</td>\n",
              "      <td>5.0</td>\n",
              "      <td>0.0</td>\n",
              "      <td>432668.0</td>\n",
              "      <td>495528.0</td>\n",
              "      <td>0.0</td>\n",
              "      <td>1</td>\n",
              "      <td>0</td>\n",
              "      <td>0</td>\n",
              "      <td>0</td>\n",
              "      <td>0</td>\n",
              "      <td>0</td>\n",
              "      <td>0</td>\n",
              "      <td>0</td>\n",
              "      <td>0</td>\n",
              "      <td>0</td>\n",
              "      <td>1</td>\n",
              "      <td>0</td>\n",
              "      <td>0</td>\n",
              "      <td>0</td>\n",
              "      <td>0</td>\n",
              "      <td>0</td>\n",
              "      <td>0</td>\n",
              "      <td>0</td>\n",
              "      <td>0</td>\n",
              "      <td>1</td>\n",
              "      <td>0</td>\n",
              "      <td>0</td>\n",
              "      <td>0</td>\n",
              "      <td>0</td>\n",
              "      <td>0</td>\n",
              "      <td>0</td>\n",
              "      <td>0</td>\n",
              "      <td>0</td>\n",
              "      <td>0</td>\n",
              "      <td>0</td>\n",
              "      <td>0</td>\n",
              "    </tr>\n",
              "    <tr>\n",
              "      <th>82064</th>\n",
              "      <td>151778.0</td>\n",
              "      <td>707.000000</td>\n",
              "      <td>7.865050e+05</td>\n",
              "      <td>10552.41</td>\n",
              "      <td>20.0</td>\n",
              "      <td>13.0</td>\n",
              "      <td>1.0</td>\n",
              "      <td>84284.0</td>\n",
              "      <td>293084.0</td>\n",
              "      <td>0.0</td>\n",
              "      <td>0</td>\n",
              "      <td>1</td>\n",
              "      <td>0</td>\n",
              "      <td>0</td>\n",
              "      <td>0</td>\n",
              "      <td>0</td>\n",
              "      <td>0</td>\n",
              "      <td>1</td>\n",
              "      <td>0</td>\n",
              "      <td>0</td>\n",
              "      <td>0</td>\n",
              "      <td>0</td>\n",
              "      <td>0</td>\n",
              "      <td>0</td>\n",
              "      <td>1</td>\n",
              "      <td>0</td>\n",
              "      <td>0</td>\n",
              "      <td>0</td>\n",
              "      <td>0</td>\n",
              "      <td>1</td>\n",
              "      <td>0</td>\n",
              "      <td>0</td>\n",
              "      <td>0</td>\n",
              "      <td>0</td>\n",
              "      <td>0</td>\n",
              "      <td>0</td>\n",
              "      <td>0</td>\n",
              "      <td>0</td>\n",
              "      <td>0</td>\n",
              "      <td>0</td>\n",
              "      <td>0</td>\n",
              "    </tr>\n",
              "    <tr>\n",
              "      <th>98093</th>\n",
              "      <td>175384.0</td>\n",
              "      <td>1076.275101</td>\n",
              "      <td>1.378339e+06</td>\n",
              "      <td>9387.71</td>\n",
              "      <td>15.9</td>\n",
              "      <td>11.0</td>\n",
              "      <td>0.0</td>\n",
              "      <td>458071.0</td>\n",
              "      <td>935462.0</td>\n",
              "      <td>0.0</td>\n",
              "      <td>0</td>\n",
              "      <td>1</td>\n",
              "      <td>0</td>\n",
              "      <td>1</td>\n",
              "      <td>0</td>\n",
              "      <td>0</td>\n",
              "      <td>0</td>\n",
              "      <td>0</td>\n",
              "      <td>0</td>\n",
              "      <td>0</td>\n",
              "      <td>0</td>\n",
              "      <td>0</td>\n",
              "      <td>0</td>\n",
              "      <td>0</td>\n",
              "      <td>0</td>\n",
              "      <td>0</td>\n",
              "      <td>0</td>\n",
              "      <td>0</td>\n",
              "      <td>0</td>\n",
              "      <td>1</td>\n",
              "      <td>0</td>\n",
              "      <td>0</td>\n",
              "      <td>0</td>\n",
              "      <td>0</td>\n",
              "      <td>0</td>\n",
              "      <td>0</td>\n",
              "      <td>0</td>\n",
              "      <td>0</td>\n",
              "      <td>0</td>\n",
              "      <td>0</td>\n",
              "      <td>0</td>\n",
              "    </tr>\n",
              "  </tbody>\n",
              "</table>\n",
              "<p>79835 rows × 41 columns</p>\n",
              "</div>"
            ],
            "text/plain": [
              "       Current Loan Amount  Credit Score  ...  Purpose_vacation  Purpose_wedding\n",
              "55892             569756.0   1076.275101  ...                 0                0\n",
              "270               216194.0    720.000000  ...                 0                0\n",
              "72101             395604.0    679.000000  ...                 0                0\n",
              "40910             391688.0   1076.275101  ...                 0                0\n",
              "1109               44748.0    736.000000  ...                 0                0\n",
              "...                    ...           ...  ...               ...              ...\n",
              "39318             347666.0    740.000000  ...                 0                0\n",
              "79843              33748.0    703.000000  ...                 0                0\n",
              "22377             342166.0   6440.000000  ...                 0                0\n",
              "82064             151778.0    707.000000  ...                 0                0\n",
              "98093             175384.0   1076.275101  ...                 0                0\n",
              "\n",
              "[79835 rows x 41 columns]"
            ]
          },
          "metadata": {
            "tags": []
          },
          "execution_count": 42
        }
      ]
    },
    {
      "cell_type": "markdown",
      "metadata": {
        "id": "pW9o8Qt9eLGx"
      },
      "source": [
        "Scaling of train and test data(Independent variables/Features)"
      ]
    },
    {
      "cell_type": "code",
      "metadata": {
        "collapsed": true,
        "id": "ko_jWpcEeLGx"
      },
      "source": [
        "# when you do any transformation on data the utpu tof tranformation will always be array \n",
        "\n",
        "from sklearn.preprocessing import StandardScaler\n",
        "sc = StandardScaler()\n",
        "X_train_sc = sc.fit_transform(X_train)\n",
        "# While scaling the test data, mean and standard deviation of train data\n",
        "# should be considered.\n",
        "X_test_sc = sc.transform(X_test)"
      ],
      "execution_count": null,
      "outputs": []
    },
    {
      "cell_type": "code",
      "metadata": {
        "colab": {
          "base_uri": "https://localhost:8080/"
        },
        "id": "l4AxzyTl4Xc6",
        "outputId": "a813a663-b710-4c8d-dc1b-ede0bbf0e1d3"
      },
      "source": [
        "X_train_sc"
      ],
      "execution_count": null,
      "outputs": [
        {
          "output_type": "execute_result",
          "data": {
            "text/plain": [
              "array([[ 2.77150842e+00, -2.94899675e-01,  1.90599530e-01, ...,\n",
              "        -5.36345746e-02, -3.14725450e-02, -3.24542498e-02],\n",
              "       [-3.64029296e-01,  2.18756807e-03,  1.79714994e-03, ...,\n",
              "        -5.36345746e-02, -3.14725450e-02, -3.24542498e-02],\n",
              "       [-3.69598837e-01, -2.82024825e-01, -9.82693942e-01, ...,\n",
              "        -5.36345746e-02, -3.14725450e-02, -3.24542498e-02],\n",
              "       ...,\n",
              "       [-3.61587049e-01, -2.53245748e-01, -3.46797314e-01, ...,\n",
              "        -5.36345746e-02, -3.14725450e-02, -3.24542498e-02],\n",
              "       [-3.57628161e-01, -2.92627642e-01, -2.00888492e-01, ...,\n",
              "        -5.36345746e-02, -3.14725450e-02, -3.24542498e-02],\n",
              "       [-3.63612462e-01, -2.66120598e-01, -5.07111990e-01, ...,\n",
              "        -5.36345746e-02, -3.14725450e-02, -3.24542498e-02]])"
            ]
          },
          "metadata": {
            "tags": []
          },
          "execution_count": 16
        }
      ]
    },
    {
      "cell_type": "markdown",
      "metadata": {
        "id": "LJw9F88reLGy"
      },
      "source": [
        "Convert Dependent variable into dummy column."
      ]
    },
    {
      "cell_type": "code",
      "metadata": {
        "id": "YcMTpN0geLGy",
        "colab": {
          "base_uri": "https://localhost:8080/"
        },
        "outputId": "3f74ed6c-4e5e-4dd6-b7bf-6ad43ecda2f3"
      },
      "source": [
        "# Encoding the Dependent Variable\n",
        "from sklearn.preprocessing import LabelEncoder\n",
        "labelencoder_y_train = LabelEncoder()\n",
        "y_train = labelencoder_y_train.fit_transform(y_train)\n",
        "labelencoder_y_test = LabelEncoder()\n",
        "y_test = labelencoder_y_test.fit_transform(y_test)"
      ],
      "execution_count": null,
      "outputs": [
        {
          "output_type": "stream",
          "text": [
            "/usr/local/lib/python3.6/dist-packages/sklearn/preprocessing/_label.py:251: DataConversionWarning: A column-vector y was passed when a 1d array was expected. Please change the shape of y to (n_samples, ), for example using ravel().\n",
            "  y = column_or_1d(y, warn=True)\n"
          ],
          "name": "stderr"
        }
      ]
    },
    {
      "cell_type": "code",
      "metadata": {
        "id": "o8OoOX0O5hfV"
      },
      "source": [
        ""
      ],
      "execution_count": null,
      "outputs": []
    },
    {
      "cell_type": "code",
      "metadata": {
        "id": "wUEPy_2YeLGz",
        "colab": {
          "base_uri": "https://localhost:8080/"
        },
        "outputId": "bb930f1f-bf94-4eb2-c9b5-7639023c6be4"
      },
      "source": [
        "y_train[:10]"
      ],
      "execution_count": null,
      "outputs": [
        {
          "output_type": "execute_result",
          "data": {
            "text/plain": [
              "array([1, 1, 1, 1, 1, 1, 1, 0, 0, 0])"
            ]
          },
          "metadata": {
            "tags": []
          },
          "execution_count": 44
        }
      ]
    },
    {
      "cell_type": "markdown",
      "metadata": {
        "id": "9cfLg9GzeLG0"
      },
      "source": [
        "The following encoding is given to 'Loan Status column':\n",
        "**Fully Paid = 1\n",
        "Charged Off = 0**"
      ]
    },
    {
      "cell_type": "markdown",
      "metadata": {
        "collapsed": true,
        "id": "6iYa7RxIeLG1"
      },
      "source": [
        "Check frequency in 'Loan Status' column"
      ]
    },
    {
      "cell_type": "code",
      "metadata": {
        "id": "TMIPm1HceLG1",
        "colab": {
          "base_uri": "https://localhost:8080/"
        },
        "outputId": "789cb17c-6c3a-46d9-edc7-4a6593381e7e"
      },
      "source": [
        "from collections import Counter\n",
        "Counter(y_train)"
      ],
      "execution_count": null,
      "outputs": [
        {
          "output_type": "execute_result",
          "data": {
            "text/plain": [
              "Counter({0: 18033, 1: 61802})"
            ]
          },
          "metadata": {
            "tags": []
          },
          "execution_count": 45
        }
      ]
    },
    {
      "cell_type": "markdown",
      "metadata": {
        "id": "5jL8CMqMeLG1"
      },
      "source": [
        "<a id=section></a>"
      ]
    },
    {
      "cell_type": "markdown",
      "metadata": {
        "id": "gEVMv89LeLG2"
      },
      "source": [
        "<a id=\"section7\"></a>\n",
        "## 7. Logistic Regression"
      ]
    },
    {
      "cell_type": "markdown",
      "metadata": {
        "id": "CjP34nOheLG2"
      },
      "source": [
        "**Arguments for LogisticRegression model:**\n",
        "<br>\n",
        "<br>\n",
        "1.max_iter(epochs) = 100 by default\n",
        "<br>\n",
        "2.Batch Gradient Descent Optimization - by default"
      ]
    },
    {
      "cell_type": "code",
      "metadata": {
        "collapsed": true,
        "id": "6cRqatomeLG3"
      },
      "source": [
        "# # Logistic Regression\n",
        "from sklearn.linear_model import LogisticRegression\n",
        "log_model = LogisticRegression()"
      ],
      "execution_count": null,
      "outputs": []
    },
    {
      "cell_type": "markdown",
      "metadata": {
        "id": "5eOEA2HmeLG4"
      },
      "source": [
        "Train the model"
      ]
    },
    {
      "cell_type": "code",
      "metadata": {
        "id": "8eNtGGgyeLG4",
        "colab": {
          "base_uri": "https://localhost:8080/"
        },
        "outputId": "0705fcc7-b674-4c64-ce00-4635887f3235"
      },
      "source": [
        "%time log_model = log_model.fit(X_train,y_train)"
      ],
      "execution_count": null,
      "outputs": [
        {
          "output_type": "stream",
          "text": [
            "CPU times: user 2.64 s, sys: 1.19 s, total: 3.84 s\n",
            "Wall time: 1.99 s\n"
          ],
          "name": "stdout"
        }
      ]
    },
    {
      "cell_type": "code",
      "metadata": {
        "colab": {
          "base_uri": "https://localhost:8080/"
        },
        "id": "5LcJdyEQ6Hhu",
        "outputId": "eccdab9f-caa2-4d82-b986-28391fc63475"
      },
      "source": [
        "# %time log_model = log_model.fit(X_train_sc,y_train)"
      ],
      "execution_count": null,
      "outputs": [
        {
          "output_type": "stream",
          "text": [
            "CPU times: user 1.9 s, sys: 847 ms, total: 2.75 s\n",
            "Wall time: 1.41 s\n"
          ],
          "name": "stdout"
        }
      ]
    },
    {
      "cell_type": "markdown",
      "metadata": {
        "id": "4CeEKM8heLG5"
      },
      "source": [
        "Take a note of time in milli-seconds"
      ]
    },
    {
      "cell_type": "markdown",
      "metadata": {
        "id": "9tb6h1laeLG6"
      },
      "source": [
        "Predictions on train data"
      ]
    },
    {
      "cell_type": "code",
      "metadata": {
        "collapsed": true,
        "id": "8u2nhHgHeLG6"
      },
      "source": [
        "y_train_pred_lm = log_model.predict(X_train)"
      ],
      "execution_count": null,
      "outputs": []
    },
    {
      "cell_type": "code",
      "metadata": {
        "id": "35dUFZuP7FBW"
      },
      "source": [
        "y_test_pred_lm = log_model.predict(X_test)"
      ],
      "execution_count": null,
      "outputs": []
    },
    {
      "cell_type": "markdown",
      "metadata": {
        "id": "8pajzM6CeLG6"
      },
      "source": [
        "<a id=section901></a>"
      ]
    },
    {
      "cell_type": "markdown",
      "metadata": {
        "id": "d6yNcL2DeLG7"
      },
      "source": [
        "<a id=\"section701\"></a>\n",
        "### 7.1 LogisticRegression Model Evaluation"
      ]
    },
    {
      "cell_type": "markdown",
      "metadata": {
        "id": "6ifABhFFeLG7"
      },
      "source": [
        "Import metrics to evaluate the model"
      ]
    },
    {
      "cell_type": "code",
      "metadata": {
        "collapsed": true,
        "id": "Clp6We96eLG8"
      },
      "source": [
        "from sklearn.metrics import accuracy_score,confusion_matrix"
      ],
      "execution_count": null,
      "outputs": []
    },
    {
      "cell_type": "markdown",
      "metadata": {
        "id": "AVW6sLTUeLG8"
      },
      "source": [
        "Accuracy of our model on train data"
      ]
    },
    {
      "cell_type": "code",
      "metadata": {
        "scrolled": true,
        "id": "sEoLAon8eLG8",
        "colab": {
          "base_uri": "https://localhost:8080/"
        },
        "outputId": "ae95a7f3-c5ec-40dd-85fe-13fcb2d19470"
      },
      "source": [
        "accuracy_score(y_train,y_train_pred_lm)"
      ],
      "execution_count": null,
      "outputs": [
        {
          "output_type": "execute_result",
          "data": {
            "text/plain": [
              "0.7741592033569237"
            ]
          },
          "metadata": {
            "tags": []
          },
          "execution_count": 25
        }
      ]
    },
    {
      "cell_type": "markdown",
      "metadata": {
        "id": "peXAQUWceLG9"
      },
      "source": [
        "Accuracy score above 80% can be considered a descent model."
      ]
    },
    {
      "cell_type": "markdown",
      "metadata": {
        "id": "KALaJUmGeLG9"
      },
      "source": [
        "Confusion Matrix on train data"
      ]
    },
    {
      "cell_type": "code",
      "metadata": {
        "id": "K6E1jhiIeLG-",
        "colab": {
          "base_uri": "https://localhost:8080/"
        },
        "outputId": "19dd729a-7ac6-459e-9731-0cdc701607d7"
      },
      "source": [
        "cm_train_lm = confusion_matrix(y_train,y_train_pred_lm)\n",
        "print(cm_train_lm)"
      ],
      "execution_count": null,
      "outputs": [
        {
          "output_type": "stream",
          "text": [
            "[[    0 18030]\n",
            " [    0 61805]]\n"
          ],
          "name": "stdout"
        }
      ]
    },
    {
      "cell_type": "code",
      "metadata": {
        "colab": {
          "base_uri": "https://localhost:8080/"
        },
        "id": "Lsdvqf1P6cql",
        "outputId": "50cf8946-60b8-4919-dbfd-287c4fe60918"
      },
      "source": [
        "from sklearn.metrics import confusion_matrix, classification_report\n",
        "print(classification_report(y_train, y_train_pred_lm))"
      ],
      "execution_count": null,
      "outputs": [
        {
          "output_type": "stream",
          "text": [
            "              precision    recall  f1-score   support\n",
            "\n",
            "           0       0.90      0.20      0.33     18033\n",
            "           1       0.81      0.99      0.89     61802\n",
            "\n",
            "    accuracy                           0.81     79835\n",
            "   macro avg       0.86      0.60      0.61     79835\n",
            "weighted avg       0.83      0.81      0.77     79835\n",
            "\n"
          ],
          "name": "stdout"
        }
      ]
    },
    {
      "cell_type": "code",
      "metadata": {
        "colab": {
          "base_uri": "https://localhost:8080/"
        },
        "id": "I-CHwdx77KXV",
        "outputId": "06ebe4c5-4874-4441-a682-241c8d2276a0"
      },
      "source": [
        "from sklearn.metrics import confusion_matrix, classification_report\n",
        "print(classification_report(y_test, y_test_pred_lm))"
      ],
      "execution_count": null,
      "outputs": [
        {
          "output_type": "stream",
          "text": [
            "              precision    recall  f1-score   support\n",
            "\n",
            "           0       0.90      0.22      0.35      4554\n",
            "           1       0.81      0.99      0.89     15405\n",
            "\n",
            "    accuracy                           0.82     19959\n",
            "   macro avg       0.86      0.61      0.62     19959\n",
            "weighted avg       0.83      0.82      0.77     19959\n",
            "\n"
          ],
          "name": "stdout"
        }
      ]
    },
    {
      "cell_type": "markdown",
      "metadata": {
        "id": "rk2DaWEZeLG_"
      },
      "source": [
        " - **Precision is more important in this case.**\n",
        " - False Positives should be as less as possible.\n",
        " - **False Positives in this case means the model is predicting that person has cleared the loan but the actually didn't clear the loan.**"
      ]
    },
    {
      "cell_type": "markdown",
      "metadata": {
        "id": "v8D-ox7eeLG_"
      },
      "source": [
        "Recall on train data"
      ]
    },
    {
      "cell_type": "code",
      "metadata": {
        "id": "GxeiGL-oeLHA",
        "outputId": "cac4a473-9b6c-4a5d-f17e-e8b19305e3c8"
      },
      "source": [
        "cm_train_lm[1,1]/(cm_train_lm[1,1]+cm_train_lm[1,0])"
      ],
      "execution_count": null,
      "outputs": [
        {
          "output_type": "execute_result",
          "data": {
            "text/plain": [
              "0.999126284281207"
            ]
          },
          "metadata": {
            "tags": []
          },
          "execution_count": 83
        }
      ]
    },
    {
      "cell_type": "markdown",
      "metadata": {
        "id": "IKuleWnfeLHB"
      },
      "source": [
        "Precision on train data"
      ]
    },
    {
      "cell_type": "code",
      "metadata": {
        "id": "zbxlMQ5LeLHB",
        "outputId": "1c87edb9-5f76-4ac5-cadd-14a5c4b70657"
      },
      "source": [
        "cm_train_lm[1,1]/(cm_train_lm[1,1]+cm_train_lm[0,1])"
      ],
      "execution_count": null,
      "outputs": [
        {
          "output_type": "execute_result",
          "data": {
            "text/plain": [
              "0.8111789819376026"
            ]
          },
          "metadata": {
            "tags": []
          },
          "execution_count": 84
        }
      ]
    },
    {
      "cell_type": "markdown",
      "metadata": {
        "id": "DF5crSpgeLHC"
      },
      "source": [
        "Predictions on test data"
      ]
    },
    {
      "cell_type": "code",
      "metadata": {
        "collapsed": true,
        "id": "EW-0nhB8eLHC"
      },
      "source": [
        "y_test_pred_lm = log_model.predict(X_test)"
      ],
      "execution_count": null,
      "outputs": []
    },
    {
      "cell_type": "markdown",
      "metadata": {
        "id": "NSBZkgczeLHD"
      },
      "source": [
        "Accuracy score on test data"
      ]
    },
    {
      "cell_type": "code",
      "metadata": {
        "id": "m4dlQApDeLHD",
        "outputId": "7567482e-7730-4e89-8a40-b1235eac1b31"
      },
      "source": [
        "accuracy_score(y_test,y_test_pred_lm)"
      ],
      "execution_count": null,
      "outputs": [
        {
          "output_type": "execute_result",
          "data": {
            "text/plain": [
              "0.8186782904955158"
            ]
          },
          "metadata": {
            "tags": []
          },
          "execution_count": 86
        }
      ]
    },
    {
      "cell_type": "markdown",
      "metadata": {
        "id": "xyTqToBQeLHE"
      },
      "source": [
        "Confusion Matrix on test data"
      ]
    },
    {
      "cell_type": "code",
      "metadata": {
        "id": "HSU-CLq_eLHE",
        "outputId": "c3c1d3ca-7d61-4f57-b46e-c2ac85f059cb"
      },
      "source": [
        "cm_test_lm = confusion_matrix(y_test,y_test_pred_lm)\n",
        "print(cm_test_lm)"
      ],
      "execution_count": null,
      "outputs": [
        {
          "output_type": "stream",
          "text": [
            "[[  960  3597]\n",
            " [   22 15380]]\n"
          ],
          "name": "stdout"
        }
      ]
    },
    {
      "cell_type": "markdown",
      "metadata": {
        "id": "q9xFYZKNeLHF"
      },
      "source": [
        "Recall on test data"
      ]
    },
    {
      "cell_type": "code",
      "metadata": {
        "id": "cdUz4a5DeLHF",
        "outputId": "02e997a7-cc67-4fff-9190-815ec5f445c7"
      },
      "source": [
        "cm_test_lm[1,1]/(cm_test_lm[1,1]+cm_test_lm[1,0])"
      ],
      "execution_count": null,
      "outputs": [
        {
          "output_type": "execute_result",
          "data": {
            "text/plain": [
              "0.998571614076094"
            ]
          },
          "metadata": {
            "tags": []
          },
          "execution_count": 88
        }
      ]
    },
    {
      "cell_type": "markdown",
      "metadata": {
        "id": "i9ItQuMoeLHG"
      },
      "source": [
        "Precision on test data"
      ]
    },
    {
      "cell_type": "code",
      "metadata": {
        "id": "iHiiinvreLHG",
        "outputId": "cc9405bf-769b-448b-80af-c14659d0be46"
      },
      "source": [
        "cm_test_lm[1,1]/(cm_test_lm[1,1]+cm_test_lm[0,1])"
      ],
      "execution_count": null,
      "outputs": [
        {
          "output_type": "execute_result",
          "data": {
            "text/plain": [
              "0.8104547610265058"
            ]
          },
          "metadata": {
            "tags": []
          },
          "execution_count": 89
        }
      ]
    },
    {
      "cell_type": "markdown",
      "metadata": {
        "id": "dQBCN0FCeLHH"
      },
      "source": [
        "<a id=section10></a>"
      ]
    },
    {
      "cell_type": "markdown",
      "metadata": {
        "id": "FSyng4BDeLHI"
      },
      "source": [
        "<a id=\"section8\"></a>\n",
        "## 8. SGD Classifier"
      ]
    },
    {
      "cell_type": "markdown",
      "metadata": {
        "id": "aLjuW9_3eLHI"
      },
      "source": [
        "**Arguments for SGD Classifier model:**\n",
        "<br>\n",
        "1. max_iter(epochs) = 5 by default\n",
        "<br>\n",
        "2. Stochastic Gradient Descent - by default\n",
        "<br>\n",
        "3. loss = 'log' since we are comparing with LogisticRegression model which uses log loss as cost function."
      ]
    },
    {
      "cell_type": "markdown",
      "metadata": {
        "id": "Q_B-v0tReLHI"
      },
      "source": [
        "Import SGDClassifier from sklearn.linear_model"
      ]
    },
    {
      "cell_type": "code",
      "metadata": {
        "collapsed": true,
        "id": "BvzDKuV9eLHJ"
      },
      "source": [
        "from sklearn.linear_model import SGDClassifier"
      ],
      "execution_count": null,
      "outputs": []
    },
    {
      "cell_type": "markdown",
      "metadata": {
        "id": "NWkWIVpneLHJ"
      },
      "source": [
        "Instantiate the model"
      ]
    },
    {
      "cell_type": "code",
      "metadata": {
        "id": "RgcK92qgeLHK"
      },
      "source": [
        "sgd_model = SGDClassifier(loss = 'log')"
      ],
      "execution_count": null,
      "outputs": []
    },
    {
      "cell_type": "markdown",
      "metadata": {
        "id": "Wzvo3Aa3eLHK"
      },
      "source": [
        "Train the model. Take a note of the time taken"
      ]
    },
    {
      "cell_type": "code",
      "metadata": {
        "id": "flgYjChBeLHK",
        "colab": {
          "base_uri": "https://localhost:8080/"
        },
        "outputId": "4d5f58ba-df73-409d-9b0e-f0b4cd2308f4"
      },
      "source": [
        "%time sgd_model = sgd_model.fit(X_train,y_train)"
      ],
      "execution_count": null,
      "outputs": [
        {
          "output_type": "stream",
          "text": [
            "CPU times: user 577 ms, sys: 0 ns, total: 577 ms\n",
            "Wall time: 580 ms\n"
          ],
          "name": "stdout"
        }
      ]
    },
    {
      "cell_type": "code",
      "metadata": {
        "colab": {
          "base_uri": "https://localhost:8080/"
        },
        "id": "5MHvkgGU_gT9",
        "outputId": "d92bb5a9-897c-436d-a317-8c62027dd586"
      },
      "source": [
        "# %time sgd_model_sc = sgd_model.fit(X_train_sc,y_train)"
      ],
      "execution_count": null,
      "outputs": [
        {
          "output_type": "stream",
          "text": [
            "CPU times: user 1.05 s, sys: 0 ns, total: 1.05 s\n",
            "Wall time: 1.06 s\n"
          ],
          "name": "stdout"
        }
      ]
    },
    {
      "cell_type": "markdown",
      "metadata": {
        "id": "hRCMfRckeLHL"
      },
      "source": [
        "<a id=section1001></a>"
      ]
    },
    {
      "cell_type": "markdown",
      "metadata": {
        "id": "LQ0X4Rd9eLHM"
      },
      "source": [
        "<a id='section801'></a>\n",
        "### 8.1 SGDClassifier Model Evaluation"
      ]
    },
    {
      "cell_type": "markdown",
      "metadata": {
        "id": "9CiFABNEeLHM"
      },
      "source": [
        "Predictions on train data"
      ]
    },
    {
      "cell_type": "code",
      "metadata": {
        "collapsed": true,
        "id": "CPYxDgoyeLHM"
      },
      "source": [
        "y_train_pred_sgd = sgd_model.predict(X_train)"
      ],
      "execution_count": null,
      "outputs": []
    },
    {
      "cell_type": "markdown",
      "metadata": {
        "id": "s_xaMXLpeLHN"
      },
      "source": [
        "Accuracy of model on train data"
      ]
    },
    {
      "cell_type": "code",
      "metadata": {
        "id": "x5Ljk19PeLHO",
        "colab": {
          "base_uri": "https://localhost:8080/"
        },
        "outputId": "1fee6891-6cee-4e7a-db87-13d8f67302e0"
      },
      "source": [
        "accuracy_score(y_train,y_train_pred_sgd)"
      ],
      "execution_count": null,
      "outputs": [
        {
          "output_type": "execute_result",
          "data": {
            "text/plain": [
              "0.7741592033569237"
            ]
          },
          "metadata": {
            "tags": []
          },
          "execution_count": 36
        }
      ]
    },
    {
      "cell_type": "markdown",
      "metadata": {
        "id": "ysJIrLRMeLHO"
      },
      "source": [
        "Confusion matrix on train data"
      ]
    },
    {
      "cell_type": "code",
      "metadata": {
        "id": "ew2irVCqeLHP",
        "colab": {
          "base_uri": "https://localhost:8080/"
        },
        "outputId": "e2173a41-f100-47f0-908f-f8744d475c41"
      },
      "source": [
        "cm_train_sgd = confusion_matrix(y_train,y_train_pred_sgd)\n",
        "print(cm_train_sgd)"
      ],
      "execution_count": null,
      "outputs": [
        {
          "output_type": "stream",
          "text": [
            "[[    0 18030]\n",
            " [    0 61805]]\n"
          ],
          "name": "stdout"
        }
      ]
    },
    {
      "cell_type": "code",
      "metadata": {
        "colab": {
          "base_uri": "https://localhost:8080/"
        },
        "id": "R46dWPEx_taB",
        "outputId": "9a038cf7-1641-4346-c82e-76721158e5c0"
      },
      "source": [
        "from sklearn.metrics import confusion_matrix, classification_report\n",
        "print(classification_report(y_train, y_train_pred_sgd))"
      ],
      "execution_count": null,
      "outputs": [
        {
          "output_type": "stream",
          "text": [
            "              precision    recall  f1-score   support\n",
            "\n",
            "           0       0.25      0.21      0.23     18033\n",
            "           1       0.78      0.82      0.80     61802\n",
            "\n",
            "    accuracy                           0.68     79835\n",
            "   macro avg       0.51      0.51      0.51     79835\n",
            "weighted avg       0.66      0.68      0.67     79835\n",
            "\n"
          ],
          "name": "stdout"
        }
      ]
    },
    {
      "cell_type": "code",
      "metadata": {
        "colab": {
          "base_uri": "https://localhost:8080/"
        },
        "id": "7DldzvSy__vY",
        "outputId": "bc3f0e6d-9697-4d5a-c1b9-99d15dfd1e8c"
      },
      "source": [
        "from sklearn.metrics import confusion_matrix, classification_report\n",
        "y_test_pred_sgd = sgd_model.predict(X_test)\n",
        "print(classification_report(y_test, y_test_pred_sgd))"
      ],
      "execution_count": null,
      "outputs": [
        {
          "output_type": "stream",
          "text": [
            "              precision    recall  f1-score   support\n",
            "\n",
            "           0       0.26      0.21      0.23      4554\n",
            "           1       0.78      0.82      0.80     15405\n",
            "\n",
            "    accuracy                           0.68     19959\n",
            "   macro avg       0.52      0.51      0.51     19959\n",
            "weighted avg       0.66      0.68      0.67     19959\n",
            "\n"
          ],
          "name": "stdout"
        }
      ]
    },
    {
      "cell_type": "markdown",
      "metadata": {
        "id": "8_aAL6NyeLHP"
      },
      "source": [
        "Recall on train data"
      ]
    },
    {
      "cell_type": "code",
      "metadata": {
        "id": "mZ4HypdAeLHQ",
        "outputId": "8a102f89-d478-4bdc-e12b-1da7a5bd15c5"
      },
      "source": [
        "cm_train_sgd[1,1]/(cm_train_sgd[1,1]+cm_train_sgd[1,0])"
      ],
      "execution_count": null,
      "outputs": [
        {
          "output_type": "execute_result",
          "data": {
            "text/plain": [
              "0.9771539519456355"
            ]
          },
          "metadata": {
            "tags": []
          },
          "execution_count": 96
        }
      ]
    },
    {
      "cell_type": "markdown",
      "metadata": {
        "id": "S5Rt-pHOeLHQ"
      },
      "source": [
        "Precision on train data"
      ]
    },
    {
      "cell_type": "code",
      "metadata": {
        "id": "Et7XGum9eLHR",
        "outputId": "fee33f61-031c-485c-83aa-ba6a4b96101f"
      },
      "source": [
        "cm_train_sgd[1,1]/(cm_train_sgd[1,1]+cm_train_sgd[0,1])"
      ],
      "execution_count": null,
      "outputs": [
        {
          "output_type": "execute_result",
          "data": {
            "text/plain": [
              "0.8137682916969844"
            ]
          },
          "metadata": {
            "tags": []
          },
          "execution_count": 97
        }
      ]
    },
    {
      "cell_type": "markdown",
      "metadata": {
        "id": "ycxk9obneLHR"
      },
      "source": [
        "Predictions on test data"
      ]
    },
    {
      "cell_type": "code",
      "metadata": {
        "collapsed": true,
        "id": "oBm5We-8eLHS"
      },
      "source": [
        "y_test_pred_sgd = sgd_model.predict(X_test)"
      ],
      "execution_count": null,
      "outputs": []
    },
    {
      "cell_type": "markdown",
      "metadata": {
        "id": "tTU9V-rCeLHS"
      },
      "source": [
        "Accuracy of SGDClassifier model on test data"
      ]
    },
    {
      "cell_type": "code",
      "metadata": {
        "id": "kl5X7WnqeLHT",
        "outputId": "61c390c6-8c33-4d1d-f262-a875a3bba4e8"
      },
      "source": [
        "accuracy_score(y_test,y_test_pred_sgd)"
      ],
      "execution_count": null,
      "outputs": [
        {
          "output_type": "execute_result",
          "data": {
            "text/plain": [
              "0.8076556941730547"
            ]
          },
          "metadata": {
            "tags": []
          },
          "execution_count": 99
        }
      ]
    },
    {
      "cell_type": "markdown",
      "metadata": {
        "id": "xTwmmhXeeLHT"
      },
      "source": [
        "Confusion Matrix on test data"
      ]
    },
    {
      "cell_type": "code",
      "metadata": {
        "id": "j_jzuTfXeLHU",
        "outputId": "a8c8280b-bdcf-4753-920e-deebb016faa2"
      },
      "source": [
        "cm_test_sgd = confusion_matrix(y_test,y_test_pred_sgd)\n",
        "print(cm_test_sgd)"
      ],
      "execution_count": null,
      "outputs": [
        {
          "output_type": "stream",
          "text": [
            "[[ 1100  3457]\n",
            " [  382 15020]]\n"
          ],
          "name": "stdout"
        }
      ]
    },
    {
      "cell_type": "markdown",
      "metadata": {
        "id": "TTb1xO6PeLHU"
      },
      "source": [
        "Recall on test data"
      ]
    },
    {
      "cell_type": "code",
      "metadata": {
        "id": "fODZEwZZeLHV",
        "outputId": "09ab3c9c-0287-4ad5-8d24-697443e83d0d"
      },
      "source": [
        "cm_test_sgd[1,1]/(cm_test_sgd[1,1]+cm_test_sgd[1,0])"
      ],
      "execution_count": null,
      "outputs": [
        {
          "output_type": "execute_result",
          "data": {
            "text/plain": [
              "0.9751980262303597"
            ]
          },
          "metadata": {
            "tags": []
          },
          "execution_count": 101
        }
      ]
    },
    {
      "cell_type": "markdown",
      "metadata": {
        "id": "aUrYadX5eLHV"
      },
      "source": [
        "Precision on test data"
      ]
    },
    {
      "cell_type": "code",
      "metadata": {
        "id": "4YYbqw1ZeLHW",
        "outputId": "d6c6320c-ceb2-4065-a793-9b6ce47e7f6a"
      },
      "source": [
        "cm_test_sgd[1,1]/(cm_test_sgd[1,1]+cm_test_sgd[0,1])"
      ],
      "execution_count": null,
      "outputs": [
        {
          "output_type": "execute_result",
          "data": {
            "text/plain": [
              "0.8129025274665801"
            ]
          },
          "metadata": {
            "tags": []
          },
          "execution_count": 102
        }
      ]
    },
    {
      "cell_type": "markdown",
      "metadata": {
        "id": "lNprmSlzeLHX"
      },
      "source": [
        "<a id=section1002></a>"
      ]
    },
    {
      "cell_type": "markdown",
      "metadata": {
        "id": "tyXnC4AKeLHX"
      },
      "source": [
        "<a id=\"section802\"></a>\n",
        "### 8.2 Evaluating performance of SGD Classifier for no.of epochs ranging from 1 to 20"
      ]
    },
    {
      "cell_type": "code",
      "metadata": {
        "colab": {
          "base_uri": "https://localhost:8080/"
        },
        "id": "XFyhSOqEBgg4",
        "outputId": "a4e23e7d-56e5-4ee7-f3c7-fd46addf1b52"
      },
      "source": [
        "test_accuracy_list_epochs"
      ],
      "execution_count": null,
      "outputs": [
        {
          "output_type": "execute_result",
          "data": {
            "text/plain": [
              "[0.7114584899043038,\n",
              " 0.7361591262087279,\n",
              " 0.5942682499123203,\n",
              " 0.7251866325968235,\n",
              " 0.6916679192344306,\n",
              " 0.6692219049050554,\n",
              " 0.6379077108071547,\n",
              " 0.7120597224309835,\n",
              " 0.6024850944436094,\n",
              " 0.7047948294002706,\n",
              " 0.7051455483741671,\n",
              " 0.755548875194148,\n",
              " 0.6268851144846936,\n",
              " 0.7706798937822537,\n",
              " 0.7598076055914625,\n",
              " 0.7300465955208176,\n",
              " 0.7717821534144997,\n",
              " 0.7006864071346259,\n",
              " 0.7102059221403878,\n",
              " 0.7142642416954758,\n",
              " 0.7269903301768625,\n",
              " 0.6617064983215591,\n",
              " 0.7101057167192745,\n",
              " 0.7647176712260133,\n",
              " 0.7113081817726339,\n",
              " 0.6321960018036976,\n",
              " 0.7034921589257979,\n",
              " 0.3676536900646325,\n",
              " 0.6880104213637958,\n",
              " 0.6003807806002305,\n",
              " 0.6441204469161782,\n",
              " 0.7612605841976051,\n",
              " 0.7002354827396162,\n",
              " 0.7307981361791673,\n",
              " 0.3631444461145348,\n",
              " 0.6968786011323213,\n",
              " 0.7107570519565108,\n",
              " 0.7723833859411794,\n",
              " 0.6684202615361491,\n",
              " 0.7338042988125658,\n",
              " 0.7388145698682299,\n",
              " 0.5758805551380329,\n",
              " 0.6723282729595671,\n",
              " 0.6491808206823989,\n",
              " 0.6173154967683752,\n",
              " 0.7145147552482589,\n",
              " 0.4963174507740869,\n",
              " 0.7383135427626635,\n",
              " 0.6112530687910216,\n",
              " 0.6220752542712561,\n",
              " 0.6463249661806704,\n",
              " 0.6406633598877699,\n",
              " 0.6665664612455534,\n",
              " 0.722180469963425,\n",
              " 0.6851545668620672,\n",
              " 0.6847537451776141,\n",
              " 0.4806353023698582,\n",
              " 0.6842026153614911,\n",
              " 0.6718773485645574,\n",
              " 0.7731850293100857,\n",
              " 0.7722330778095094,\n",
              " 0.6620572172954556,\n",
              " 0.6585500275564908,\n",
              " 0.6736810461445965,\n",
              " 0.6943233628939326,\n",
              " 0.48359136229270006,\n",
              " 0.7810010521569217,\n",
              " 0.7047948294002706,\n",
              " 0.6961771631845283,\n",
              " 0.6804950147802996,\n",
              " 0.7607094543814821,\n",
              " 0.6259832656946741,\n",
              " 0.742572273159978,\n",
              " 0.7335537852597825,\n",
              " 0.6132070745027306,\n",
              " 0.7142642416954758,\n",
              " 0.7438749436344506,\n",
              " 0.7080014028758956,\n",
              " 0.6631594769277018,\n",
              " 0.5782353825341952,\n",
              " 0.6957262387895186,\n",
              " 0.7565008266947242,\n",
              " 0.7271907410190891,\n",
              " 0.6897139135227216,\n",
              " 0.743123402976101,\n",
              " 0.3982664462147402,\n",
              " 0.6803447066486297,\n",
              " 0.7243348865173606,\n",
              " 0.6265844982213538,\n",
              " 0.7147151660904855,\n",
              " 0.7523924044290796,\n",
              " 0.7727341049150759,\n",
              " 0.7459792574778296,\n",
              " 0.5516809459391753,\n",
              " 0.6955759306578486,\n",
              " 0.7616614058820582,\n",
              " 0.6688711859311589,\n",
              " 0.7659702389899293,\n",
              " 0.7598577083020192]"
            ]
          },
          "metadata": {
            "tags": []
          },
          "execution_count": 61
        }
      ]
    },
    {
      "cell_type": "code",
      "metadata": {
        "colab": {
          "base_uri": "https://localhost:8080/"
        },
        "id": "QwyCmeCtBilZ",
        "outputId": "0556f540-f03c-4f00-9525-90e86638f84b"
      },
      "source": [
        "train_accuracy_list_epochs"
      ],
      "execution_count": null,
      "outputs": [
        {
          "output_type": "execute_result",
          "data": {
            "text/plain": [
              "[0.6945449990605624,\n",
              " 0.6766330556773344,\n",
              " 0.7263105154380911,\n",
              " 0.6673764639569111,\n",
              " 0.7375211373457756,\n",
              " 0.7545061689735079,\n",
              " 0.6848124256278575,\n",
              " 0.7143483434583829,\n",
              " 0.5381349032379282,\n",
              " 0.7428696686916766,\n",
              " 0.7489572242750673,\n",
              " 0.7740840483497213,\n",
              " 0.6482996179620467,\n",
              " 0.7029623598672261,\n",
              " 0.7489071209369325,\n",
              " 0.661401640884324,\n",
              " 0.7065698002129391,\n",
              " 0.6704327675831402,\n",
              " 0.6576438905242061,\n",
              " 0.7490073276132022]"
            ]
          },
          "metadata": {
            "tags": []
          },
          "execution_count": 59
        }
      ]
    },
    {
      "cell_type": "code",
      "metadata": {
        "scrolled": true,
        "id": "Pj-vy5aEeLHY",
        "colab": {
          "base_uri": "https://localhost:8080/"
        },
        "outputId": "63a9d97b-9d68-4baf-be43-d58d63e8466f"
      },
      "source": [
        "%%time\n",
        "test_accuracy_list_epochs = []\n",
        "train_accuracy_list_epochs = []\n",
        "\n",
        "for  i in range(1,100):\n",
        "    \n",
        "    sgd = SGDClassifier(max_iter=i,loss = 'log',learning_rate = 'optimal')\n",
        "    sgd_model = sgd.fit(X_train,y_train)\n",
        "    \n",
        "    y_train_preds = sgd_model.predict(X_train)\n",
        "    y_test_preds = sgd_model.predict(X_test)\n",
        "    \n",
        "    y_train_accuracy = accuracy_score(y_train,y_train_preds)\n",
        "    y_test_accuracy = accuracy_score(y_test,y_test_preds)\n",
        "    \n",
        "    train_accuracy_list_epochs.append(y_train_accuracy)\n",
        "    test_accuracy_list_epochs.append(y_test_accuracy)"
      ],
      "execution_count": null,
      "outputs": [
        {
          "output_type": "stream",
          "text": [
            "/usr/local/lib/python3.6/dist-packages/sklearn/linear_model/_stochastic_gradient.py:557: ConvergenceWarning: Maximum number of iteration reached before convergence. Consider increasing max_iter to improve the fit.\n",
            "  ConvergenceWarning)\n",
            "/usr/local/lib/python3.6/dist-packages/sklearn/linear_model/_stochastic_gradient.py:557: ConvergenceWarning: Maximum number of iteration reached before convergence. Consider increasing max_iter to improve the fit.\n",
            "  ConvergenceWarning)\n",
            "/usr/local/lib/python3.6/dist-packages/sklearn/linear_model/_stochastic_gradient.py:557: ConvergenceWarning: Maximum number of iteration reached before convergence. Consider increasing max_iter to improve the fit.\n",
            "  ConvergenceWarning)\n",
            "/usr/local/lib/python3.6/dist-packages/sklearn/linear_model/_stochastic_gradient.py:557: ConvergenceWarning: Maximum number of iteration reached before convergence. Consider increasing max_iter to improve the fit.\n",
            "  ConvergenceWarning)\n",
            "/usr/local/lib/python3.6/dist-packages/sklearn/linear_model/_stochastic_gradient.py:557: ConvergenceWarning: Maximum number of iteration reached before convergence. Consider increasing max_iter to improve the fit.\n",
            "  ConvergenceWarning)\n",
            "/usr/local/lib/python3.6/dist-packages/sklearn/linear_model/_stochastic_gradient.py:557: ConvergenceWarning: Maximum number of iteration reached before convergence. Consider increasing max_iter to improve the fit.\n",
            "  ConvergenceWarning)\n",
            "/usr/local/lib/python3.6/dist-packages/sklearn/linear_model/_stochastic_gradient.py:557: ConvergenceWarning: Maximum number of iteration reached before convergence. Consider increasing max_iter to improve the fit.\n",
            "  ConvergenceWarning)\n",
            "/usr/local/lib/python3.6/dist-packages/sklearn/linear_model/_stochastic_gradient.py:557: ConvergenceWarning: Maximum number of iteration reached before convergence. Consider increasing max_iter to improve the fit.\n",
            "  ConvergenceWarning)\n",
            "/usr/local/lib/python3.6/dist-packages/sklearn/linear_model/_stochastic_gradient.py:557: ConvergenceWarning: Maximum number of iteration reached before convergence. Consider increasing max_iter to improve the fit.\n",
            "  ConvergenceWarning)\n",
            "/usr/local/lib/python3.6/dist-packages/sklearn/linear_model/_stochastic_gradient.py:557: ConvergenceWarning: Maximum number of iteration reached before convergence. Consider increasing max_iter to improve the fit.\n",
            "  ConvergenceWarning)\n",
            "/usr/local/lib/python3.6/dist-packages/sklearn/linear_model/_stochastic_gradient.py:557: ConvergenceWarning: Maximum number of iteration reached before convergence. Consider increasing max_iter to improve the fit.\n",
            "  ConvergenceWarning)\n",
            "/usr/local/lib/python3.6/dist-packages/sklearn/linear_model/_stochastic_gradient.py:557: ConvergenceWarning: Maximum number of iteration reached before convergence. Consider increasing max_iter to improve the fit.\n",
            "  ConvergenceWarning)\n",
            "/usr/local/lib/python3.6/dist-packages/sklearn/linear_model/_stochastic_gradient.py:557: ConvergenceWarning: Maximum number of iteration reached before convergence. Consider increasing max_iter to improve the fit.\n",
            "  ConvergenceWarning)\n",
            "/usr/local/lib/python3.6/dist-packages/sklearn/linear_model/_stochastic_gradient.py:557: ConvergenceWarning: Maximum number of iteration reached before convergence. Consider increasing max_iter to improve the fit.\n",
            "  ConvergenceWarning)\n",
            "/usr/local/lib/python3.6/dist-packages/sklearn/linear_model/_stochastic_gradient.py:557: ConvergenceWarning: Maximum number of iteration reached before convergence. Consider increasing max_iter to improve the fit.\n",
            "  ConvergenceWarning)\n",
            "/usr/local/lib/python3.6/dist-packages/sklearn/linear_model/_stochastic_gradient.py:557: ConvergenceWarning: Maximum number of iteration reached before convergence. Consider increasing max_iter to improve the fit.\n",
            "  ConvergenceWarning)\n"
          ],
          "name": "stderr"
        },
        {
          "output_type": "stream",
          "text": [
            "CPU times: user 47.4 s, sys: 10.9 s, total: 58.3 s\n",
            "Wall time: 46.1 s\n"
          ],
          "name": "stdout"
        }
      ]
    },
    {
      "cell_type": "markdown",
      "metadata": {
        "id": "BcaB-aYweLHY"
      },
      "source": [
        "#### Plotting Accuracy of the model against no.of epochs "
      ]
    },
    {
      "cell_type": "code",
      "metadata": {
        "scrolled": false,
        "id": "eUh_m1YweLHZ",
        "colab": {
          "base_uri": "https://localhost:8080/",
          "height": 622
        },
        "outputId": "23746f3f-34f1-43cf-a388-2a37491efb2c"
      },
      "source": [
        "import matplotlib.pyplot as plt\n",
        "\n",
        "plt.figure(figsize=(20,10))\n",
        "plt.plot(range(1,100),train_accuracy_list_epochs,'-',label = 'train')\n",
        "plt.plot(range(1,100),test_accuracy_list_epochs,'-',label = 'test')\n",
        "plt.xticks(range(1,100))\n",
        "plt.xlabel('No.of Epochs')\n",
        "plt.ylabel('Accuracy')\n",
        "plt.grid()\n",
        "plt.legend()"
      ],
      "execution_count": null,
      "outputs": [
        {
          "output_type": "execute_result",
          "data": {
            "text/plain": [
              "<matplotlib.legend.Legend at 0x7f5172bdfcc0>"
            ]
          },
          "metadata": {
            "tags": []
          },
          "execution_count": 78
        },
        {
          "output_type": "display_data",
          "data": {
            "image/png": "[encoded data removed]",
            "text/plain": [
              "<Figure size 1440x720 with 1 Axes>"
            ]
          },
          "metadata": {
            "tags": [],
            "needs_background": "light"
          }
        }
      ]
    },
    {
      "cell_type": "markdown",
      "metadata": {
        "id": "VVyKjj-yeLHZ"
      },
      "source": [
        "We can infer from the graph that after 3 epochs there is no much increase in accuracy. So we can set max_iter = 3. More epochs means more computations."
      ]
    },
    {
      "cell_type": "markdown",
      "metadata": {
        "id": "sSuUbP2feLHa"
      },
      "source": [
        "<a id=section1003></a>"
      ]
    },
    {
      "cell_type": "markdown",
      "metadata": {
        "id": "NKfq2PyEeLHb"
      },
      "source": [
        "<a id='section803'></a>\n",
        "### 8.3 Evaluating performance of SGD Classifier for different learning_rates"
      ]
    },
    {
      "cell_type": "markdown",
      "metadata": {
        "id": "RuErrlrleLHb"
      },
      "source": [
        "In SGDClassifier(), **alpha** is used **to calculate learning_rate**.\n",
        "So we will evaluate the model performace for different values of alpha =  [1e-4,3e-4,7e-4,1e-3,3e-3]"
      ]
    },
    {
      "cell_type": "code",
      "metadata": {
        "id": "nlu7EtFQeLHb",
        "colab": {
          "base_uri": "https://localhost:8080/"
        },
        "outputId": "8c99e38a-e492-4819-f71c-db36538f36b1"
      },
      "source": [
        "%%time\n",
        "test_accuracy_list_alpha = []\n",
        "train_accuracy_list_alpha = []\n",
        "for i in [1e-4,3e-4,7e-4,1e-3,3e-3,7e-3,1e-2]:\n",
        "    sgd = SGDClassifier(alpha = i,loss = 'log')  \n",
        "    sgd_model = sgd.fit(X_train,y_train)\n",
        "    y_train_preds = sgd_model.predict(X_train)\n",
        "    y_test_preds = sgd_model.predict(X_test)\n",
        "    \n",
        "    y_train_accuracy = accuracy_score(y_train,y_train_preds)\n",
        "    train_accuracy_list_alpha.append(y_train_accuracy)\n",
        "    \n",
        "    y_test_accuracy = accuracy_score(y_test,y_test_preds)\n",
        "    test_accuracy_list_alpha.append(y_test_accuracy)"
      ],
      "execution_count": null,
      "outputs": [
        {
          "output_type": "stream",
          "text": [
            "CPU times: user 3.75 s, sys: 702 ms, total: 4.45 s\n",
            "Wall time: 3.69 s\n"
          ],
          "name": "stdout"
        }
      ]
    },
    {
      "cell_type": "markdown",
      "metadata": {
        "id": "4npvsE8eeLHc"
      },
      "source": [
        "#### Plotting Accuracy of the model against  alpha "
      ]
    },
    {
      "cell_type": "code",
      "metadata": {
        "id": "7kadYZpfeLHc",
        "colab": {
          "base_uri": "https://localhost:8080/",
          "height": 304
        },
        "outputId": "160bd2a3-fba7-47cf-80cb-01bb6e2dcbaf"
      },
      "source": [
        "plt.plot([1e-4,3e-4,7e-4,1e-3,3e-3,7e-3,1e-2],train_accuracy_list_alpha,'-',label = 'train')\n",
        "plt.plot([1e-4,3e-4,7e-4,1e-3,3e-3,7e-3,1e-2],test_accuracy_list_alpha,'-',label = 'test')\n",
        "plt.xticks([1e-4,3e-4,7e-4,1e-3,3e-3,7e-3,1e-2], rotation='vertical')\n",
        "plt.xlabel('alpha')\n",
        "plt.ylabel('Accuracy')\n",
        "plt.legend()\n",
        "plt.grid()"
      ],
      "execution_count": null,
      "outputs": [
        {
          "output_type": "display_data",
          "data": {
            "image/png": "[encoded data removed]",
            "text/plain": [
              "<Figure size 432x288 with 1 Axes>"
            ]
          },
          "metadata": {
            "tags": [],
            "needs_background": "light"
          }
        }
      ]
    },
    {
      "cell_type": "markdown",
      "metadata": {
        "id": "uWwXHjRveLHd"
      },
      "source": [
        " - Optimum alpha value seems to be 0.0007. From alpha = 0.001 test accuracy is dreacesing. That means model starts to overfit from aplha = 0.001.\n",
        " - Also after aplha = 0.001 there is a dip in both train and test accuracy. That means the ball is jumping here and there instead of converging to the minimum of cost function."
      ]
    },
    {
      "cell_type": "code",
      "metadata": {
        "colab": {
          "base_uri": "https://localhost:8080/"
        },
        "id": "_oHChcL5DbeS",
        "outputId": "0fd73ab5-51ba-4806-f28e-afced5cecfd3"
      },
      "source": [
        "%%time\n",
        "test_accuracy_list_alpha = []\n",
        "train_accuracy_list_alpha = []\n",
        "for i in ['optimal']:\n",
        "    sgd = SGDClassifier(learning_rate = i,loss = 'log')  \n",
        "    sgd_model = sgd.fit(X_train,y_train)\n",
        "    y_train_preds = sgd_model.predict(X_train)\n",
        "    y_test_preds = sgd_model.predict(X_test)\n",
        "    \n",
        "    y_train_accuracy = accuracy_score(y_train,y_train_preds)\n",
        "    train_accuracy_list_alpha.append(y_train_accuracy)\n",
        "    \n",
        "    y_test_accuracy = accuracy_score(y_test,y_test_preds)\n",
        "    test_accuracy_list_alpha.append(y_test_accuracy)"
      ],
      "execution_count": null,
      "outputs": [
        {
          "output_type": "stream",
          "text": [
            "CPU times: user 422 ms, sys: 9.34 ms, total: 432 ms\n",
            "Wall time: 427 ms\n"
          ],
          "name": "stdout"
        }
      ]
    },
    {
      "cell_type": "markdown",
      "metadata": {
        "id": "v2yiZrDAeLHe"
      },
      "source": [
        "<a id=section1004></a>"
      ]
    },
    {
      "cell_type": "code",
      "metadata": {
        "colab": {
          "base_uri": "https://localhost:8080/"
        },
        "id": "qk98Tm0lFJcI",
        "outputId": "6a91f839-4084-4680-bdfb-d2aff8cecc1f"
      },
      "source": [
        "%%time\n",
        "from sklearn.ensemble import RandomForestClassifier\n",
        "from sklearn.metrics import confusion_matrix, classification_report\n",
        "clf = RandomForestClassifier(random_state=0,max_depth=50, n_estimators=501)\n",
        "clf.fit(X_train, y_train)\n",
        "y_pred_dt = clf.predict(X_test)\n",
        "print(classification_report(y_test, y_pred_dt))"
      ],
      "execution_count": null,
      "outputs": [
        {
          "output_type": "stream",
          "text": [
            "/usr/local/lib/python3.6/dist-packages/ipykernel_launcher.py:4: DataConversionWarning: A column-vector y was passed when a 1d array was expected. Please change the shape of y to (n_samples,), for example using ravel().\n",
            "  after removing the cwd from sys.path.\n"
          ],
          "name": "stderr"
        },
        {
          "output_type": "stream",
          "text": [
            "              precision    recall  f1-score   support\n",
            "\n",
            " Charged Off       0.90      0.23      0.36      4558\n",
            "  Fully Paid       0.81      0.99      0.89     15401\n",
            "\n",
            "    accuracy                           0.82     19959\n",
            "   macro avg       0.86      0.61      0.63     19959\n",
            "weighted avg       0.83      0.82      0.77     19959\n",
            "\n",
            "CPU times: user 1min 53s, sys: 3.52 s, total: 1min 57s\n",
            "Wall time: 1min 57s\n"
          ],
          "name": "stdout"
        }
      ]
    },
    {
      "cell_type": "code",
      "metadata": {
        "colab": {
          "base_uri": "https://localhost:8080/"
        },
        "id": "9EX3syvTGjQj",
        "outputId": "8c1656da-4beb-409c-de4b-fab91243a9c0"
      },
      "source": [
        "%%time\n",
        "from sklearn.ensemble import GradientBoostingClassifier\n",
        "clf = GradientBoostingClassifier(random_state=0,learning_rate=0.001,n_estimators=300,max_depth=10)\n",
        "clf.fit(X_train, y_train)\n",
        "y_pred_dt = clf.predict(X_test)\n",
        "print(classification_report(y_test, y_pred_dt))"
      ],
      "execution_count": null,
      "outputs": [
        {
          "output_type": "stream",
          "text": [
            "/usr/local/lib/python3.6/dist-packages/sklearn/ensemble/_gb.py:1454: DataConversionWarning: A column-vector y was passed when a 1d array was expected. Please change the shape of y to (n_samples, ), for example using ravel().\n",
            "  y = column_or_1d(y, warn=True)\n",
            "/usr/local/lib/python3.6/dist-packages/sklearn/metrics/_classification.py:1272: UndefinedMetricWarning: Precision and F-score are ill-defined and being set to 0.0 in labels with no predicted samples. Use `zero_division` parameter to control this behavior.\n",
            "  _warn_prf(average, modifier, msg_start, len(result))\n"
          ],
          "name": "stderr"
        },
        {
          "output_type": "stream",
          "text": [
            "              precision    recall  f1-score   support\n",
            "\n",
            " Charged Off       0.00      0.00      0.00      4558\n",
            "  Fully Paid       0.77      1.00      0.87     15401\n",
            "\n",
            "    accuracy                           0.77     19959\n",
            "   macro avg       0.39      0.50      0.44     19959\n",
            "weighted avg       0.60      0.77      0.67     19959\n",
            "\n",
            "CPU times: user 4min 1s, sys: 103 ms, total: 4min 1s\n",
            "Wall time: 4min 2s\n"
          ],
          "name": "stdout"
        }
      ]
    },
    {
      "cell_type": "code",
      "metadata": {
        "colab": {
          "base_uri": "https://localhost:8080/"
        },
        "id": "QN_lfZP9FV5j",
        "outputId": "25c5a0cd-32d8-4e29-d4e3-dc729dcabc90"
      },
      "source": [
        "from sklearn.tree import DecisionTreeClassifier\n",
        "clf = DecisionTreeClassifier(random_state=0)\n",
        "clf.fit(X_train, y_train)\n",
        "y_pred_dt = clf.predict(X_test)\n",
        "print(classification_report(y_test, y_pred_dt))"
      ],
      "execution_count": null,
      "outputs": [
        {
          "output_type": "stream",
          "text": [
            "              precision    recall  f1-score   support\n",
            "\n",
            "           0       0.45      0.45      0.45      4554\n",
            "           1       0.84      0.84      0.84     15405\n",
            "\n",
            "    accuracy                           0.75     19959\n",
            "   macro avg       0.65      0.64      0.64     19959\n",
            "weighted avg       0.75      0.75      0.75     19959\n",
            "\n"
          ],
          "name": "stdout"
        }
      ]
    },
    {
      "cell_type": "code",
      "metadata": {
        "colab": {
          "base_uri": "https://localhost:8080/"
        },
        "id": "v8B_5CTHFg0D",
        "outputId": "65d1d6a1-f5aa-4412-b324-833b311f12f3"
      },
      "source": [
        "from sklearn.svm import SVC\n",
        "clf = SVC(random_state=0)\n",
        "clf.fit(X_train, y_train)\n",
        "y_pred_dt = clf.predict(X_test)\n",
        "print(classification_report(y_test, y_pred_dt))"
      ],
      "execution_count": null,
      "outputs": [
        {
          "output_type": "stream",
          "text": [
            "/usr/local/lib/python3.6/dist-packages/sklearn/utils/validation.py:760: DataConversionWarning: A column-vector y was passed when a 1d array was expected. Please change the shape of y to (n_samples, ), for example using ravel().\n",
            "  y = column_or_1d(y, warn=True)\n",
            "/usr/local/lib/python3.6/dist-packages/sklearn/metrics/_classification.py:1272: UndefinedMetricWarning: Precision and F-score are ill-defined and being set to 0.0 in labels with no predicted samples. Use `zero_division` parameter to control this behavior.\n",
            "  _warn_prf(average, modifier, msg_start, len(result))\n"
          ],
          "name": "stderr"
        },
        {
          "output_type": "stream",
          "text": [
            "              precision    recall  f1-score   support\n",
            "\n",
            " Charged Off       0.00      0.00      0.00      4558\n",
            "  Fully Paid       0.77      1.00      0.87     15401\n",
            "\n",
            "    accuracy                           0.77     19959\n",
            "   macro avg       0.39      0.50      0.44     19959\n",
            "weighted avg       0.60      0.77      0.67     19959\n",
            "\n"
          ],
          "name": "stdout"
        }
      ]
    },
    {
      "cell_type": "markdown",
      "metadata": {
        "id": "O2yon5BLeLHe"
      },
      "source": [
        "<a id=\"section804\"></a>\n",
        "### 8.4 GridSearchCV on for SGD Classifier"
      ]
    },
    {
      "cell_type": "markdown",
      "metadata": {
        "id": "bVMA17_XeLHf"
      },
      "source": [
        "**GridSearchCV will help us to find right alpha and no.of iterations**"
      ]
    },
    {
      "cell_type": "code",
      "metadata": {
        "scrolled": true,
        "id": "mKi1mIZZeLHg",
        "outputId": "5dd5f502-f478-425b-ea98-2525eb7dd779"
      },
      "source": [
        "sc1 = StandardScaler()\n",
        "X = sc1.fit_transform(features)\n",
        "\n",
        "labelencoder_y = LabelEncoder()\n",
        "y = labelencoder_y.fit_transform(targets)"
      ],
      "execution_count": null,
      "outputs": [
        {
          "output_type": "stream",
          "text": [
            "C:\\Users\\vinay\\Anaconda3\\lib\\site-packages\\sklearn\\preprocessing\\label.py:111: DataConversionWarning: A column-vector y was passed when a 1d array was expected. Please change the shape of y to (n_samples, ), for example using ravel().\n",
            "  y = column_or_1d(y, warn=True)\n"
          ],
          "name": "stderr"
        }
      ]
    },
    {
      "cell_type": "code",
      "metadata": {
        "id": "bmgk314HeLHg",
        "outputId": "c0636986-9c0e-40b9-a82d-65c27c05e261"
      },
      "source": [
        "from sklearn.model_selection import GridSearchCV\n",
        "\n",
        "params = {\n",
        "    \"alpha\" : [1e-4,3e-4,7e-4,1e-3,3e-3,7e-3,1e-2],\n",
        "    \"max_iter\" : list(range(1,21))\n",
        "}\n",
        "\n",
        "model = SGDClassifier(loss = 'log')\n",
        "clf = GridSearchCV(model, param_grid=params,scoring = 'accuracy',cv = 10)"
      ],
      "execution_count": null,
      "outputs": [
        {
          "output_type": "stream",
          "text": [
            "C:\\Users\\vinay\\Anaconda3\\lib\\site-packages\\sklearn\\linear_model\\stochastic_gradient.py:84: FutureWarning: max_iter and tol parameters have been added in <class 'sklearn.linear_model.stochastic_gradient.SGDClassifier'> in 0.19. If both are left unset, they default to max_iter=5 and tol=None. If tol is not None, max_iter defaults to max_iter=1000. From 0.21, default max_iter will be 1000, and default tol will be 1e-3.\n",
            "  \"and default tol will be 1e-3.\" % type(self), FutureWarning)\n"
          ],
          "name": "stderr"
        }
      ]
    },
    {
      "cell_type": "code",
      "metadata": {
        "scrolled": true,
        "id": "3nqISJ3veLHh",
        "outputId": "21d73ef0-6392-4682-c174-a783ce1b1923"
      },
      "source": [
        "%%time\n",
        "clf.fit(X, y)\n",
        "print(clf.best_score_)"
      ],
      "execution_count": null,
      "outputs": [
        {
          "output_type": "stream",
          "text": [
            "0.819327815299517\n",
            "Wall time: 10min 9s\n"
          ],
          "name": "stdout"
        }
      ]
    },
    {
      "cell_type": "code",
      "metadata": {
        "id": "ik1E9Z9XeLHi",
        "outputId": "5aa47801-cffb-4f46-be04-c6053b7c6b27"
      },
      "source": [
        "clf.best_params_"
      ],
      "execution_count": null,
      "outputs": [
        {
          "output_type": "execute_result",
          "data": {
            "text/plain": [
              "{'alpha': 0.001, 'max_iter': 18}"
            ]
          },
          "metadata": {
            "tags": []
          },
          "execution_count": 110
        }
      ]
    },
    {
      "cell_type": "code",
      "metadata": {
        "id": "zqyPlzvVeLHj",
        "outputId": "1a690874-363c-479a-f8d8-dcd175195f64"
      },
      "source": [
        "clf.best_score_"
      ],
      "execution_count": null,
      "outputs": [
        {
          "output_type": "execute_result",
          "data": {
            "text/plain": [
              "0.819327815299517"
            ]
          },
          "metadata": {
            "tags": []
          },
          "execution_count": 111
        }
      ]
    },
    {
      "cell_type": "markdown",
      "metadata": {
        "id": "_rTMyHC1eLHj"
      },
      "source": [
        "- One shouldn't blindly take best parameters from GridSearchCV. The results should be cross checked with above graphs and final decision has to be taken based on accuracy and time taken to train the model to obtain that level of accuracy."
      ]
    },
    {
      "cell_type": "markdown",
      "metadata": {
        "id": "1zlW0lm0eLHj"
      },
      "source": [
        "<a id=\"section9\"></a>\n",
        "## 9. Conclusion"
      ]
    },
    {
      "cell_type": "markdown",
      "metadata": {
        "id": "4cbxqDw4eLHl"
      },
      "source": [
        "- **Accuracy** obtaing in **SGDClassifier model** is **almost same** as accuracy obtained in **LogisticRegression model** but in much less time.\n",
        "\n",
        "    - **SGDClassifier model** will be almost **10-15 times faster than LogisticRegression model** on this small train dataset of size 79,835. This will **make a huge difference when training on much larger datasets** in real-world applications."
      ]
    }
  ]
}