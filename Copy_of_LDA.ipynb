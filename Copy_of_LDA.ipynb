{
  "nbformat": 4,
  "nbformat_minor": 0,
  "metadata": {
    "hide_input": false,
    "kernelspec": {
      "display_name": "Python 3",
      "language": "python",
      "name": "python3"
    },
    "language_info": {
      "codemirror_mode": {
        "name": "ipython",
        "version": 3
      },
      "file_extension": ".py",
      "mimetype": "text/x-python",
      "name": "python",
      "nbconvert_exporter": "python",
      "pygments_lexer": "ipython3",
      "version": "3.7.9"
    },
    "toc": {
      "base_numbering": 1,
      "nav_menu": {},
      "number_sections": false,
      "sideBar": false,
      "skip_h1_title": false,
      "title_cell": "Table of Contents",
      "title_sidebar": "Contents",
      "toc_cell": false,
      "toc_position": {},
      "toc_section_display": false,
      "toc_window_display": false
    },
    "varInspector": {
      "cols": {
        "lenName": 16,
        "lenType": 16,
        "lenVar": 40
      },
      "kernels_config": {
        "python": {
          "delete_cmd_postfix": "",
          "delete_cmd_prefix": "del ",
          "library": "var_list.py",
          "varRefreshCmd": "print(var_dic_list())"
        },
        "r": {
          "delete_cmd_postfix": ") ",
          "delete_cmd_prefix": "rm(",
          "library": "var_list.r",
          "varRefreshCmd": "cat(var_dic_list()) "
        }
      },
      "types_to_exclude": [
        "module",
        "function",
        "builtin_function_or_method",
        "instance",
        "_Feature"
      ],
      "window_display": false
    },
    "colab": {
      "name": "Copy of LDA.ipynb",
      "provenance": [],
      "collapsed_sections": [],
      "include_colab_link": true
    }
  },
  "cells": [
    {
      "cell_type": "markdown",
      "metadata": {
        "id": "view-in-github",
        "colab_type": "text"
      },
      "source": [
        "<a href=\"https://colab.research.google.com/github/ramachandra17/ramachandra17/blob/main/Copy_of_LDA.ipynb\" target=\"_parent\"><img src=\"https://colab.research.google.com/assets/colab-badge.svg\" alt=\"Open In Colab\"/></a>"
      ]
    },
    {
      "cell_type": "markdown",
      "metadata": {
        "id": "R9hfpSpm6yhO"
      },
      "source": [
        "<center><img src=\"https://github.com/insaid2018/Term-1/blob/master/Images/INSAID_Full%20Logo.png?raw=true\" width=\"240\" height=\"100\" /></center>\n",
        "\n",
        "# <center><b>Linear Discriminant Analysis<b></center>"
      ]
    },
    {
      "cell_type": "markdown",
      "metadata": {
        "id": "oqg5lTwH6yhV"
      },
      "source": [
        "## **Table of Content**\n",
        "\n",
        "1. [Introduction to Linear Discriminant Analysis](#section1)<br>\n",
        "\n",
        "  - 1.1 [What is Dimensionality Reduction?](#section101)<br>\n",
        "\n",
        "  - 1.2 [Linear Discriminant Analysis](#section102)<br>\n",
        "    \n",
        "    - 1.2.1 [Purpose of LDA](#section103)<br>\n",
        "    \n",
        "    - 1.2.2 [Understanding using Example](#section104)<br>\n",
        "    \n",
        "    - 1.2.3 [LDA Applications](#section105)<br>\n",
        "    \n",
        "    - 1.2.4 [PCA vs LDA](#section106)<br>\n",
        "\n",
        "2. [Use Case : IBM Attrition and Performance](#section2)<br>\n",
        "\n",
        "3. [Data Loading and Description](#section3)<br>\n",
        "\n",
        "4. [Data Visualization](#section4)<br>\n",
        "\n",
        "5. [Data Preprocessing](#section5)<br>\n",
        "\n",
        "6. [Modelling and Prediction](#section6)<br>\n",
        "\n",
        "  - 6.1 [Logistic Regression](#section601)<br>\n",
        "\n",
        "  - 6.2 [Logistic Regression with LDA](#section602)<br>\n",
        "\n",
        "  - 6.3 [Computing Time Difference Between Logistic Regression Models](#section603)<br>\n",
        "\n",
        "7. [Using KNN, SVM and Decision Tree Models and Comparing their Performance](#section7)<br>\n",
        "\n",
        "  - 7.1 [KNN with LDA](#section701)<br>\n",
        "\n",
        "  - 7.2 [SVM with LDA](#section702)<br>\n",
        "\n",
        "  - 7.3 [Decision Tree with LDA](#section703)<br>\n",
        "\n",
        "8. [Conclusion](#section8)<br>"
      ]
    },
    {
      "cell_type": "markdown",
      "metadata": {
        "id": "pqlh97dBDoS9"
      },
      "source": [
        "<a id=section1></a>\n",
        "## 1. Introduction to Linear Discriminant Analysis"
      ]
    },
    {
      "cell_type": "markdown",
      "metadata": {
        "id": "yTSRdvcD6yhY"
      },
      "source": [
        "<center><img src=\"https://raw.githubusercontent.com/insaid2018/Term-4/master/images/lda.png\" width=60% height=60%></center>"
      ]
    },
    {
      "cell_type": "markdown",
      "metadata": {
        "id": "UIz5F4O46yhc"
      },
      "source": [
        "<a id=section101></a>\n",
        "### 1.1 What is Dimensionality Reduction?"
      ]
    },
    {
      "cell_type": "markdown",
      "metadata": {
        "id": "Wokr5uBj6yhh"
      },
      "source": [
        "- Most of the time, we deal with datasets having lots of __redundant parameters__ that don’t provide significant amount of new information to us.\n",
        "\n",
        "- Using these parameters while building our model __won’t help__ in **increasing** our **accuracy** for **prediction** and it might __decrease__ too.\n",
        "\n",
        "- One way to deal with it is by __deleting__ these parameters but this would lead to significant __data loss__ if there are many such parameters.\n",
        "\n",
        "- Hence, **dimensionality reduction** comes into the picture.\n",
        "\n",
        "- Differenct **techniques** for Dimensionality Reduction:\n",
        "  \n",
        "  - Principal Component Analysis (PCA)\n",
        "  \n",
        "  - Linear Discriminant Analysis (LDA)\n",
        "\n",
        "<br> \n",
        "<center><img src=\"https://raw.githubusercontent.com/insaid2018/Term-4/master/images/lda2.png\" width=50% height=50%></center>\n",
        "<br> "
      ]
    },
    {
      "cell_type": "markdown",
      "metadata": {
        "id": "kK8TyI5J6yhl"
      },
      "source": [
        "<a id=section102></a>\n",
        "### 1.2 Linear Discriminant Analysis"
      ]
    },
    {
      "cell_type": "markdown",
      "metadata": {
        "id": "3CexgdNq6yho"
      },
      "source": [
        "- Linear Discriminant Analysis is a __dimensionality reduction__ technique used as a __preprocessing step__ in Machine Learning and __pattern classification applications__.\n",
        "\n",
        "- The main goal of dimensionality reduction techinques is to __reduce the dimensions__ by removing the reduntant and dependent features by transforming the features from __higher dimensional__ space to a space with __lower dimensions__.\n",
        "\n",
        "- Linear Discriminant Analysis is a __supervised classification technique__ which takes labels into consideration.\n",
        "\n",
        "<br> \n",
        "<center><img src=\"https://raw.githubusercontent.com/insaid2018/Term-4/master/images/lda1.png\"></center>"
      ]
    },
    {
      "cell_type": "markdown",
      "metadata": {
        "id": "Bg1DRsmY6yhr"
      },
      "source": [
        "- Unlike PCA, where our goal was to __retain maximum variance__, here we try to project a dataset onto a lower dimensional space with __good class separability__ in order to avoid overfitting."
      ]
    },
    {
      "cell_type": "markdown",
      "metadata": {
        "id": "Zq-rxazr6yhw"
      },
      "source": [
        "<a id=section103></a>\n",
        "#### 1.2.1 Purpose of LDA"
      ]
    },
    {
      "cell_type": "markdown",
      "metadata": {
        "id": "QNvPw_eG6yhy"
      },
      "source": [
        "- The purpose of Linear Discriminant Analysis is to __classify__ objects (people, customers, things, etc.) into one of two or more groups based on a __set of features__ that __describe__ the objects (e.g. gender, age, income, weight, preference score, etc.).\n",
        "\n",
        "<br> \n",
        "<center><img src=\"https://raw.githubusercontent.com/insaid2018/Term-4/master/images/lda3.png\"></center>\n",
        "<br> \n",
        "\n",
        "- In general, we assign an object to one of a number of predetermined groups based on __observations made on the object__.\n",
        "\n",
        "- Always keep in mind that the __groups__ are _known or predetermined_ and do not have order.\n",
        " \n",
        "- The classification problem gives several objects with a set features measured from those objects.\n",
        "\n",
        "<br> \n",
        "\n",
        "- We are looking for two things:\n",
        "\n",
        "  1. Which __set of features__ can best determine group membership of the object?\n",
        "\n",
        "  2. What is the classification __rule__ or __model__ to best seperate those groups?"
      ]
    },
    {
      "cell_type": "markdown",
      "metadata": {
        "id": "TurgGRXc6yh1"
      },
      "source": [
        "<a id=section104></a>\n",
        "#### 1.2.2 Understanding with Example"
      ]
    },
    {
      "cell_type": "markdown",
      "metadata": {
        "id": "hupn2x1J6yh3"
      },
      "source": [
        "- Suppose we want to know whether a soap product is good or bad based on several measurements on the product such as weight, volume, __people's preferential score__, smell, color contrast, etc.\n",
        "\n",
        "- The **object** here is **`soap`**.\n",
        "\n",
        "- The **class** or **group** is either **`good`** or **`bad`**.\n",
        "\n",
        "  - It is also called __dependent variable__.\n",
        "\n",
        "- Each measurement on the product is called a __feature__ that describe the object.\n",
        "\n",
        "  - It is also called **independent variable**.\n",
        "\n",
        "<br>\n",
        "<center><img src=\"https://raw.githubusercontent.com/insaid2018/Term-4/master/images/lda4.png\" width=35% height=35%></center>\n",
        "\n",
        "<br> \n",
        "\n",
        "- Thus, in discriminant analysis, the **dependent** variable (**`Y`**) is the *group* and the **independent** variables (**`X`**) are the *object features that might describe that group*.\n",
        "\n",
        "- The *dependent* variable is always **category** (nominal scale) variable while the *independent* variables can be **any measurement** scale.\n",
        "\n",
        "- If we assume that the *groups* are **linearly seperable**, we can use linear discriminant model (LDA).\n",
        "\n",
        "  - Linearly seperable suggests that the *groups can be seperated* by a **linear combination of features** that describe the objects.\n",
        "  \n",
        "  - If there are only **two features**, the seperators between the object group will become **lines**.\n",
        "  \n",
        "  - If the features are **three**, the seperator is a **plane**.\n",
        "  \n",
        "  - And, if the number of features (i.e. independent variables) is **more than 3**, the seperatores, become a **hyper-plane**."
      ]
    },
    {
      "cell_type": "markdown",
      "metadata": {
        "id": "mvqgN6Xj6yh6"
      },
      "source": [
        "<a id=section105></a>\n",
        "#### 1.2.3 LDA Applications"
      ]
    },
    {
      "cell_type": "markdown",
      "metadata": {
        "id": "AnUsI7_h6yh8"
      },
      "source": [
        "- Discriminant Analysis has been successfully used for many applications. \n",
        "\n",
        "- As long as we can transform the problem into a **classification** problem, we may apply the technique.\n",
        "\n",
        "- We may use Discriminant Analysis for original applications if we have new additional combination of features and objects that have never been considered by other people before.\n",
        "\n",
        "- Here are a few fields and examples:\n",
        "\n",
        "<br> "
      ]
    },
    {
      "cell_type": "markdown",
      "metadata": {
        "id": "crJ7jKK-6yh-"
      },
      "source": [
        "| Applications | Description | Images |\n",
        "| :--- | :---: | :---: |\n",
        "| __Identification__ | To __identify__ the type of customers that are __likely to buy__ certain product in a store. | <img src=\"https://raw.githubusercontent.com/insaid2018/Term-4/master/images/buy_or_not.png\" width=\"200px\" height=\"150px\" > |\n",
        "| __Decision Making__ | Doctor __diagnosing illness__ may see which disease the patient has. | <img src=\"https://raw.githubusercontent.com/insaid2018/Term-4/master/images/hiv-positive-negative-3961118.jpg\" width=\"200px\" height=\"150px\" > |\n",
        "| __Prediction__ | __Will it rain today__ can be tought as a prediction. | <img src=\"https://raw.githubusercontent.com/insaid2018/Term-4/master/images/prediction.jpg\" width=\"200px\" height=\"150px\" > |\n",
        "| __Pattern recognition__ | To __distinguish__ the pedestrians from dogs and cars in captured images. | <img src=\"https://raw.githubusercontent.com/insaid2018/Term-4/master/images/pattern_recog.jpg\" width=\"200px\" height=\"150px\" > |\n",
        "| __Learning__ | Scientist want to __teach robot__ to learn to talk. | <img src=\"https://raw.githubusercontent.com/insaid2018/Term-4/master/images/scientific.jpg\" width=\"200px\" height=\"150px\" > |\n",
        "\n",
        "<br> \n",
        "\n",
        "\n",
        "\n",
        "\n",
        "\n"
      ]
    },
    {
      "cell_type": "markdown",
      "metadata": {
        "id": "P-92m63k6yiA"
      },
      "source": [
        "<a id=section106></a>\n",
        "#### 1.2.4 PCA vs LDA"
      ]
    },
    {
      "cell_type": "markdown",
      "metadata": {
        "id": "tc-RqqZg6yiC"
      },
      "source": [
        "- The difference between the choice of lower dimension space for projecting dataset is evident.\n",
        "\n",
        "- If we use **PCA** on the dataset, it will select a line similar to the **decision boundary** as it will have **maximum variance** along it. \n",
        "\n",
        "- In practice, often LDA is done after performing PCA.\n",
        "\n",
        "<br> \n",
        "<center><img src=\"https://raw.githubusercontent.com/insaid2018/Term-4/master/images/lda5.png\" width=70% height=70%></center>"
      ]
    },
    {
      "cell_type": "markdown",
      "metadata": {
        "id": "2G6DsH8h6yiF"
      },
      "source": [
        "<a id=section2></a>\n",
        "## 2. Use Case : IBM Attrition and Performance (HR Analytics)"
      ]
    },
    {
      "cell_type": "markdown",
      "metadata": {
        "id": "KyxuXqVK6yiH"
      },
      "source": [
        "- Uncover the factors that lead to employee attrition and explore important questions such as:\n",
        "\n",
        "  - ‘Show me a breakdown of distance from home by job role and attrition’\n",
        "  \n",
        "  - ‘Compare average monthly income by education and attrition’.\n",
        "  \n",
        "- This is a fictional data set created by IBM data scientists."
      ]
    },
    {
      "cell_type": "markdown",
      "metadata": {
        "id": "2VRi1sII6yiJ"
      },
      "source": [
        "<a id=section3></a>\n",
        "### 3. Data Loading and Description"
      ]
    },
    {
      "cell_type": "markdown",
      "metadata": {
        "id": "5bNNEanI6yiL"
      },
      "source": [
        "#### Importing Packages"
      ]
    },
    {
      "cell_type": "code",
      "metadata": {
        "_uuid": "4c4db65eee1c70cf64a8b1ec5f1294c32424b298",
        "id": "bizdF-Sn6yiO"
      },
      "source": [
        "import numpy as np\n",
        "import pandas as pd\n",
        "pd.set_option('mode.chained_assignment', None)       # To suppress pandas warnings.\n",
        "pd.set_option('display.max_colwidth', None)          # To display all the data in the columns.\n",
        "pd.set_option('display.max_columns', None)           # To display all the columns.\n",
        "\n",
        "import matplotlib.pyplot as plt\n",
        "%matplotlib inline\n",
        "\n",
        "import seaborn as sns\n",
        "\n",
        "from collections import Counter\n",
        "import time\n",
        "\n",
        "import warnings\n",
        "warnings.filterwarnings('ignore')     # To suppress all the warnings in the notebook."
      ],
      "execution_count": null,
      "outputs": []
    },
    {
      "cell_type": "markdown",
      "metadata": {
        "id": "3LoYPcnZ6yic"
      },
      "source": [
        "#### Import Dataset"
      ]
    },
    {
      "cell_type": "code",
      "metadata": {
        "_uuid": "521fa04968ee724d4640ed1e3fb0cf0ca640e181",
        "id": "pBklfgdf6yie",
        "colab": {
          "base_uri": "https://localhost:8080/",
          "height": 309
        },
        "outputId": "89d5f573-2b4e-4760-9ce6-63069fd4d251"
      },
      "source": [
        "data = pd.read_csv('https://raw.githubusercontent.com/insaid2018/Term-4/master/Data/Assignment/Attrition_LDA.csv')\n",
        "data.head()"
      ],
      "execution_count": null,
      "outputs": [
        {
          "output_type": "execute_result",
          "data": {
            "text/html": [
              "<div>\n",
              "<style scoped>\n",
              "    .dataframe tbody tr th:only-of-type {\n",
              "        vertical-align: middle;\n",
              "    }\n",
              "\n",
              "    .dataframe tbody tr th {\n",
              "        vertical-align: top;\n",
              "    }\n",
              "\n",
              "    .dataframe thead th {\n",
              "        text-align: right;\n",
              "    }\n",
              "</style>\n",
              "<table border=\"1\" class=\"dataframe\">\n",
              "  <thead>\n",
              "    <tr style=\"text-align: right;\">\n",
              "      <th></th>\n",
              "      <th>Age</th>\n",
              "      <th>Attrition</th>\n",
              "      <th>BusinessTravel</th>\n",
              "      <th>DailyRate</th>\n",
              "      <th>Department</th>\n",
              "      <th>DistanceFromHome</th>\n",
              "      <th>Education</th>\n",
              "      <th>EducationField</th>\n",
              "      <th>EmployeeCount</th>\n",
              "      <th>EmployeeNumber</th>\n",
              "      <th>EnvironmentSatisfaction</th>\n",
              "      <th>Gender</th>\n",
              "      <th>HourlyRate</th>\n",
              "      <th>JobInvolvement</th>\n",
              "      <th>JobLevel</th>\n",
              "      <th>JobRole</th>\n",
              "      <th>JobSatisfaction</th>\n",
              "      <th>MaritalStatus</th>\n",
              "      <th>MonthlyIncome</th>\n",
              "      <th>MonthlyRate</th>\n",
              "      <th>NumCompaniesWorked</th>\n",
              "      <th>Over18</th>\n",
              "      <th>OverTime</th>\n",
              "      <th>PercentSalaryHike</th>\n",
              "      <th>PerformanceRating</th>\n",
              "      <th>RelationshipSatisfaction</th>\n",
              "      <th>StandardHours</th>\n",
              "      <th>StockOptionLevel</th>\n",
              "      <th>TotalWorkingYears</th>\n",
              "      <th>TrainingTimesLastYear</th>\n",
              "      <th>WorkLifeBalance</th>\n",
              "      <th>YearsAtCompany</th>\n",
              "      <th>YearsInCurrentRole</th>\n",
              "      <th>YearsSinceLastPromotion</th>\n",
              "      <th>YearsWithCurrManager</th>\n",
              "    </tr>\n",
              "  </thead>\n",
              "  <tbody>\n",
              "    <tr>\n",
              "      <th>0</th>\n",
              "      <td>41</td>\n",
              "      <td>Yes</td>\n",
              "      <td>Travel_Rarely</td>\n",
              "      <td>1102</td>\n",
              "      <td>Sales</td>\n",
              "      <td>1</td>\n",
              "      <td>2</td>\n",
              "      <td>Life Sciences</td>\n",
              "      <td>1</td>\n",
              "      <td>1</td>\n",
              "      <td>2</td>\n",
              "      <td>Female</td>\n",
              "      <td>94</td>\n",
              "      <td>3</td>\n",
              "      <td>2</td>\n",
              "      <td>Sales Executive</td>\n",
              "      <td>4</td>\n",
              "      <td>Single</td>\n",
              "      <td>5993</td>\n",
              "      <td>19479</td>\n",
              "      <td>8</td>\n",
              "      <td>Y</td>\n",
              "      <td>Yes</td>\n",
              "      <td>11</td>\n",
              "      <td>3</td>\n",
              "      <td>1</td>\n",
              "      <td>80</td>\n",
              "      <td>0</td>\n",
              "      <td>8</td>\n",
              "      <td>0</td>\n",
              "      <td>1</td>\n",
              "      <td>6</td>\n",
              "      <td>4</td>\n",
              "      <td>0</td>\n",
              "      <td>5</td>\n",
              "    </tr>\n",
              "    <tr>\n",
              "      <th>1</th>\n",
              "      <td>49</td>\n",
              "      <td>No</td>\n",
              "      <td>Travel_Frequently</td>\n",
              "      <td>279</td>\n",
              "      <td>Research &amp; Development</td>\n",
              "      <td>8</td>\n",
              "      <td>1</td>\n",
              "      <td>Life Sciences</td>\n",
              "      <td>1</td>\n",
              "      <td>2</td>\n",
              "      <td>3</td>\n",
              "      <td>Male</td>\n",
              "      <td>61</td>\n",
              "      <td>2</td>\n",
              "      <td>2</td>\n",
              "      <td>Research Scientist</td>\n",
              "      <td>2</td>\n",
              "      <td>Married</td>\n",
              "      <td>5130</td>\n",
              "      <td>24907</td>\n",
              "      <td>1</td>\n",
              "      <td>Y</td>\n",
              "      <td>No</td>\n",
              "      <td>23</td>\n",
              "      <td>4</td>\n",
              "      <td>4</td>\n",
              "      <td>80</td>\n",
              "      <td>1</td>\n",
              "      <td>10</td>\n",
              "      <td>3</td>\n",
              "      <td>3</td>\n",
              "      <td>10</td>\n",
              "      <td>7</td>\n",
              "      <td>1</td>\n",
              "      <td>7</td>\n",
              "    </tr>\n",
              "    <tr>\n",
              "      <th>2</th>\n",
              "      <td>37</td>\n",
              "      <td>Yes</td>\n",
              "      <td>Travel_Rarely</td>\n",
              "      <td>1373</td>\n",
              "      <td>Research &amp; Development</td>\n",
              "      <td>2</td>\n",
              "      <td>2</td>\n",
              "      <td>Other</td>\n",
              "      <td>1</td>\n",
              "      <td>4</td>\n",
              "      <td>4</td>\n",
              "      <td>Male</td>\n",
              "      <td>92</td>\n",
              "      <td>2</td>\n",
              "      <td>1</td>\n",
              "      <td>Laboratory Technician</td>\n",
              "      <td>3</td>\n",
              "      <td>Single</td>\n",
              "      <td>2090</td>\n",
              "      <td>2396</td>\n",
              "      <td>6</td>\n",
              "      <td>Y</td>\n",
              "      <td>Yes</td>\n",
              "      <td>15</td>\n",
              "      <td>3</td>\n",
              "      <td>2</td>\n",
              "      <td>80</td>\n",
              "      <td>0</td>\n",
              "      <td>7</td>\n",
              "      <td>3</td>\n",
              "      <td>3</td>\n",
              "      <td>0</td>\n",
              "      <td>0</td>\n",
              "      <td>0</td>\n",
              "      <td>0</td>\n",
              "    </tr>\n",
              "    <tr>\n",
              "      <th>3</th>\n",
              "      <td>33</td>\n",
              "      <td>No</td>\n",
              "      <td>Travel_Frequently</td>\n",
              "      <td>1392</td>\n",
              "      <td>Research &amp; Development</td>\n",
              "      <td>3</td>\n",
              "      <td>4</td>\n",
              "      <td>Life Sciences</td>\n",
              "      <td>1</td>\n",
              "      <td>5</td>\n",
              "      <td>4</td>\n",
              "      <td>Female</td>\n",
              "      <td>56</td>\n",
              "      <td>3</td>\n",
              "      <td>1</td>\n",
              "      <td>Research Scientist</td>\n",
              "      <td>3</td>\n",
              "      <td>Married</td>\n",
              "      <td>2909</td>\n",
              "      <td>23159</td>\n",
              "      <td>1</td>\n",
              "      <td>Y</td>\n",
              "      <td>Yes</td>\n",
              "      <td>11</td>\n",
              "      <td>3</td>\n",
              "      <td>3</td>\n",
              "      <td>80</td>\n",
              "      <td>0</td>\n",
              "      <td>8</td>\n",
              "      <td>3</td>\n",
              "      <td>3</td>\n",
              "      <td>8</td>\n",
              "      <td>7</td>\n",
              "      <td>3</td>\n",
              "      <td>0</td>\n",
              "    </tr>\n",
              "    <tr>\n",
              "      <th>4</th>\n",
              "      <td>27</td>\n",
              "      <td>No</td>\n",
              "      <td>Travel_Rarely</td>\n",
              "      <td>591</td>\n",
              "      <td>Research &amp; Development</td>\n",
              "      <td>2</td>\n",
              "      <td>1</td>\n",
              "      <td>Medical</td>\n",
              "      <td>1</td>\n",
              "      <td>7</td>\n",
              "      <td>1</td>\n",
              "      <td>Male</td>\n",
              "      <td>40</td>\n",
              "      <td>3</td>\n",
              "      <td>1</td>\n",
              "      <td>Laboratory Technician</td>\n",
              "      <td>2</td>\n",
              "      <td>Married</td>\n",
              "      <td>3468</td>\n",
              "      <td>16632</td>\n",
              "      <td>9</td>\n",
              "      <td>Y</td>\n",
              "      <td>No</td>\n",
              "      <td>12</td>\n",
              "      <td>3</td>\n",
              "      <td>4</td>\n",
              "      <td>80</td>\n",
              "      <td>1</td>\n",
              "      <td>6</td>\n",
              "      <td>3</td>\n",
              "      <td>3</td>\n",
              "      <td>2</td>\n",
              "      <td>2</td>\n",
              "      <td>2</td>\n",
              "      <td>2</td>\n",
              "    </tr>\n",
              "  </tbody>\n",
              "</table>\n",
              "</div>"
            ],
            "text/plain": [
              "   Age Attrition     BusinessTravel  DailyRate              Department  \\\n",
              "0   41       Yes      Travel_Rarely       1102                   Sales   \n",
              "1   49        No  Travel_Frequently        279  Research & Development   \n",
              "2   37       Yes      Travel_Rarely       1373  Research & Development   \n",
              "3   33        No  Travel_Frequently       1392  Research & Development   \n",
              "4   27        No      Travel_Rarely        591  Research & Development   \n",
              "\n",
              "   DistanceFromHome  Education EducationField  EmployeeCount  EmployeeNumber  \\\n",
              "0                 1          2  Life Sciences              1               1   \n",
              "1                 8          1  Life Sciences              1               2   \n",
              "2                 2          2          Other              1               4   \n",
              "3                 3          4  Life Sciences              1               5   \n",
              "4                 2          1        Medical              1               7   \n",
              "\n",
              "   EnvironmentSatisfaction  Gender  HourlyRate  JobInvolvement  JobLevel  \\\n",
              "0                        2  Female          94               3         2   \n",
              "1                        3    Male          61               2         2   \n",
              "2                        4    Male          92               2         1   \n",
              "3                        4  Female          56               3         1   \n",
              "4                        1    Male          40               3         1   \n",
              "\n",
              "                 JobRole  JobSatisfaction MaritalStatus  MonthlyIncome  \\\n",
              "0        Sales Executive                4        Single           5993   \n",
              "1     Research Scientist                2       Married           5130   \n",
              "2  Laboratory Technician                3        Single           2090   \n",
              "3     Research Scientist                3       Married           2909   \n",
              "4  Laboratory Technician                2       Married           3468   \n",
              "\n",
              "   MonthlyRate  NumCompaniesWorked Over18 OverTime  PercentSalaryHike  \\\n",
              "0        19479                   8      Y      Yes                 11   \n",
              "1        24907                   1      Y       No                 23   \n",
              "2         2396                   6      Y      Yes                 15   \n",
              "3        23159                   1      Y      Yes                 11   \n",
              "4        16632                   9      Y       No                 12   \n",
              "\n",
              "   PerformanceRating  RelationshipSatisfaction  StandardHours  \\\n",
              "0                  3                         1             80   \n",
              "1                  4                         4             80   \n",
              "2                  3                         2             80   \n",
              "3                  3                         3             80   \n",
              "4                  3                         4             80   \n",
              "\n",
              "   StockOptionLevel  TotalWorkingYears  TrainingTimesLastYear  \\\n",
              "0                 0                  8                      0   \n",
              "1                 1                 10                      3   \n",
              "2                 0                  7                      3   \n",
              "3                 0                  8                      3   \n",
              "4                 1                  6                      3   \n",
              "\n",
              "   WorkLifeBalance  YearsAtCompany  YearsInCurrentRole  \\\n",
              "0                1               6                   4   \n",
              "1                3              10                   7   \n",
              "2                3               0                   0   \n",
              "3                3               8                   7   \n",
              "4                3               2                   2   \n",
              "\n",
              "   YearsSinceLastPromotion  YearsWithCurrManager  \n",
              "0                        0                     5  \n",
              "1                        1                     7  \n",
              "2                        0                     0  \n",
              "3                        3                     0  \n",
              "4                        2                     2  "
            ]
          },
          "metadata": {
            "tags": []
          },
          "execution_count": 5
        }
      ]
    },
    {
      "cell_type": "code",
      "metadata": {
        "colab": {
          "base_uri": "https://localhost:8080/"
        },
        "id": "-GwBQa8Xuikh",
        "outputId": "7041dff6-78d8-45ca-97e8-cc623aaa7499"
      },
      "source": [
        "data.shape"
      ],
      "execution_count": null,
      "outputs": [
        {
          "output_type": "execute_result",
          "data": {
            "text/plain": [
              "(1470, 35)"
            ]
          },
          "metadata": {
            "tags": []
          },
          "execution_count": 6
        }
      ]
    },
    {
      "cell_type": "markdown",
      "metadata": {
        "id": "pHmeo_3XsuI9"
      },
      "source": [
        "#### Data Description\n",
        "\n",
        "- The data consists of a dependent variable **`Attrition`** and others as independent variables.\n",
        "\n",
        "- A few column in the dataset are explained below.\n",
        "\n",
        "| Column Name | Description |\n",
        "|:-----------:|:-----------:|\n",
        "| Age | Age of the employee. |\n",
        "| **Attrition** | Whether the employee attrition or not (target variable that we're trying to predict). |\n",
        "| BusinessTravel | Frequency of business travel. |\n",
        "| DailyRate | Daily Rate value. |\n",
        "| Department | Department of the employee. |\n",
        "| DistanceFromHome | Office distance form home for the employee. |\n",
        "| Education | Education level of the employee. |\n",
        "| EducationField | Education field of the employee. |\n",
        "| EmployeeCount | Employee count value. |\n",
        "| EmployeeNumber | Employee number value. |\n",
        "\n",
        "<br> \n",
        "\n",
        "- Similarly, the remaining columns have self-explanatory names."
      ]
    },
    {
      "cell_type": "markdown",
      "metadata": {
        "id": "zoxmxBhUw9lX"
      },
      "source": [
        "- Categories in the categorical features: \n",
        "\n",
        "  - __Education__\n",
        "\n",
        "    1. Below College \n",
        "\n",
        "    2. College \n",
        "\n",
        "    3. Bachelor \n",
        "\n",
        "    4. Master \n",
        "\n",
        "    5. Doctor\n",
        "<br><br> \n",
        "  - __EnvironmentSatisfaction__\n",
        "    \n",
        "    1. Low\n",
        "    \n",
        "    2. Medium\n",
        "    \n",
        "    3. High\n",
        "    \n",
        "    4. Very High\n",
        "<br><br> \n",
        "  - __JobInvolvement__ \n",
        "   \n",
        "    1. Low\n",
        "    \n",
        "    2. Medium\n",
        "    \n",
        "    3. High\n",
        "    \n",
        "    4. Very High\n",
        "<br><br> \n",
        "  - __JobSatisfaction__\n",
        "   \n",
        "    1. Low\n",
        "   \n",
        "    2. Medium\n",
        "   \n",
        "    3. High\n",
        "   \n",
        "    4. Very High\n",
        "<br><br> \n",
        "  - __PerformanceRating__\n",
        "\n",
        "    1. Low\n",
        "\n",
        "    2. Good\n",
        "\n",
        "    3. Excellent\n",
        "\n",
        "    4. Outstanding\n",
        "<br><br> \n",
        "  - __RelationshipSatisfaction__ \n",
        "    \n",
        "    1. Low\n",
        "    \n",
        "    2. Medium\n",
        "    \n",
        "    3. High\n",
        "    \n",
        "    4. Very High\n",
        "<br><br> \n",
        "  - __WorkLifeBalance__\n",
        "    \n",
        "    1. Bad\n",
        "    \n",
        "    2. Good\n",
        "    \n",
        "    3. Better\n",
        "    \n",
        "    4. Best\n",
        "\n",
        "<br> "
      ]
    },
    {
      "cell_type": "code",
      "metadata": {
        "id": "RT7r2RQpEbpJ",
        "colab": {
          "base_uri": "https://localhost:8080/"
        },
        "outputId": "6a87d34c-c238-4448-b8b9-727a63dd1f4b"
      },
      "source": [
        "data.info()"
      ],
      "execution_count": null,
      "outputs": [
        {
          "output_type": "stream",
          "text": [
            "<class 'pandas.core.frame.DataFrame'>\n",
            "RangeIndex: 1470 entries, 0 to 1469\n",
            "Data columns (total 35 columns):\n",
            " #   Column                    Non-Null Count  Dtype \n",
            "---  ------                    --------------  ----- \n",
            " 0   Age                       1470 non-null   int64 \n",
            " 1   Attrition                 1470 non-null   object\n",
            " 2   BusinessTravel            1470 non-null   object\n",
            " 3   DailyRate                 1470 non-null   int64 \n",
            " 4   Department                1470 non-null   object\n",
            " 5   DistanceFromHome          1470 non-null   int64 \n",
            " 6   Education                 1470 non-null   int64 \n",
            " 7   EducationField            1470 non-null   object\n",
            " 8   EmployeeCount             1470 non-null   int64 \n",
            " 9   EmployeeNumber            1470 non-null   int64 \n",
            " 10  EnvironmentSatisfaction   1470 non-null   int64 \n",
            " 11  Gender                    1470 non-null   object\n",
            " 12  HourlyRate                1470 non-null   int64 \n",
            " 13  JobInvolvement            1470 non-null   int64 \n",
            " 14  JobLevel                  1470 non-null   int64 \n",
            " 15  JobRole                   1470 non-null   object\n",
            " 16  JobSatisfaction           1470 non-null   int64 \n",
            " 17  MaritalStatus             1470 non-null   object\n",
            " 18  MonthlyIncome             1470 non-null   int64 \n",
            " 19  MonthlyRate               1470 non-null   int64 \n",
            " 20  NumCompaniesWorked        1470 non-null   int64 \n",
            " 21  Over18                    1470 non-null   object\n",
            " 22  OverTime                  1470 non-null   object\n",
            " 23  PercentSalaryHike         1470 non-null   int64 \n",
            " 24  PerformanceRating         1470 non-null   int64 \n",
            " 25  RelationshipSatisfaction  1470 non-null   int64 \n",
            " 26  StandardHours             1470 non-null   int64 \n",
            " 27  StockOptionLevel          1470 non-null   int64 \n",
            " 28  TotalWorkingYears         1470 non-null   int64 \n",
            " 29  TrainingTimesLastYear     1470 non-null   int64 \n",
            " 30  WorkLifeBalance           1470 non-null   int64 \n",
            " 31  YearsAtCompany            1470 non-null   int64 \n",
            " 32  YearsInCurrentRole        1470 non-null   int64 \n",
            " 33  YearsSinceLastPromotion   1470 non-null   int64 \n",
            " 34  YearsWithCurrManager      1470 non-null   int64 \n",
            "dtypes: int64(26), object(9)\n",
            "memory usage: 402.1+ KB\n"
          ],
          "name": "stdout"
        }
      ]
    },
    {
      "cell_type": "markdown",
      "metadata": {
        "id": "2DNMiqrAEbxa"
      },
      "source": [
        "**Observation**:\n",
        "\n",
        "- The dataset has **1470** rows and **35** columns.\n",
        "\n",
        "- **26** columns have an **int** datatype and **9** columns have an **object** datatype."
      ]
    },
    {
      "cell_type": "code",
      "metadata": {
        "id": "gmAG0sT7Eb6S",
        "colab": {
          "base_uri": "https://localhost:8080/",
          "height": 314
        },
        "outputId": "f5202c1a-8d25-44e0-cacc-1fc1a208f844"
      },
      "source": [
        "data.describe()"
      ],
      "execution_count": null,
      "outputs": [
        {
          "output_type": "execute_result",
          "data": {
            "text/html": [
              "<div>\n",
              "<style scoped>\n",
              "    .dataframe tbody tr th:only-of-type {\n",
              "        vertical-align: middle;\n",
              "    }\n",
              "\n",
              "    .dataframe tbody tr th {\n",
              "        vertical-align: top;\n",
              "    }\n",
              "\n",
              "    .dataframe thead th {\n",
              "        text-align: right;\n",
              "    }\n",
              "</style>\n",
              "<table border=\"1\" class=\"dataframe\">\n",
              "  <thead>\n",
              "    <tr style=\"text-align: right;\">\n",
              "      <th></th>\n",
              "      <th>Age</th>\n",
              "      <th>DailyRate</th>\n",
              "      <th>DistanceFromHome</th>\n",
              "      <th>Education</th>\n",
              "      <th>EmployeeCount</th>\n",
              "      <th>EmployeeNumber</th>\n",
              "      <th>EnvironmentSatisfaction</th>\n",
              "      <th>HourlyRate</th>\n",
              "      <th>JobInvolvement</th>\n",
              "      <th>JobLevel</th>\n",
              "      <th>JobSatisfaction</th>\n",
              "      <th>MonthlyIncome</th>\n",
              "      <th>MonthlyRate</th>\n",
              "      <th>NumCompaniesWorked</th>\n",
              "      <th>PercentSalaryHike</th>\n",
              "      <th>PerformanceRating</th>\n",
              "      <th>RelationshipSatisfaction</th>\n",
              "      <th>StandardHours</th>\n",
              "      <th>StockOptionLevel</th>\n",
              "      <th>TotalWorkingYears</th>\n",
              "      <th>TrainingTimesLastYear</th>\n",
              "      <th>WorkLifeBalance</th>\n",
              "      <th>YearsAtCompany</th>\n",
              "      <th>YearsInCurrentRole</th>\n",
              "      <th>YearsSinceLastPromotion</th>\n",
              "      <th>YearsWithCurrManager</th>\n",
              "    </tr>\n",
              "  </thead>\n",
              "  <tbody>\n",
              "    <tr>\n",
              "      <th>count</th>\n",
              "      <td>1470.000000</td>\n",
              "      <td>1470.000000</td>\n",
              "      <td>1470.000000</td>\n",
              "      <td>1470.000000</td>\n",
              "      <td>1470.0</td>\n",
              "      <td>1470.000000</td>\n",
              "      <td>1470.000000</td>\n",
              "      <td>1470.000000</td>\n",
              "      <td>1470.000000</td>\n",
              "      <td>1470.000000</td>\n",
              "      <td>1470.000000</td>\n",
              "      <td>1470.000000</td>\n",
              "      <td>1470.000000</td>\n",
              "      <td>1470.000000</td>\n",
              "      <td>1470.000000</td>\n",
              "      <td>1470.000000</td>\n",
              "      <td>1470.000000</td>\n",
              "      <td>1470.0</td>\n",
              "      <td>1470.000000</td>\n",
              "      <td>1470.000000</td>\n",
              "      <td>1470.000000</td>\n",
              "      <td>1470.000000</td>\n",
              "      <td>1470.000000</td>\n",
              "      <td>1470.000000</td>\n",
              "      <td>1470.000000</td>\n",
              "      <td>1470.000000</td>\n",
              "    </tr>\n",
              "    <tr>\n",
              "      <th>mean</th>\n",
              "      <td>36.923810</td>\n",
              "      <td>802.485714</td>\n",
              "      <td>9.192517</td>\n",
              "      <td>2.912925</td>\n",
              "      <td>1.0</td>\n",
              "      <td>1024.865306</td>\n",
              "      <td>2.721769</td>\n",
              "      <td>65.891156</td>\n",
              "      <td>2.729932</td>\n",
              "      <td>2.063946</td>\n",
              "      <td>2.728571</td>\n",
              "      <td>6502.931293</td>\n",
              "      <td>14313.103401</td>\n",
              "      <td>2.693197</td>\n",
              "      <td>15.209524</td>\n",
              "      <td>3.153741</td>\n",
              "      <td>2.712245</td>\n",
              "      <td>80.0</td>\n",
              "      <td>0.793878</td>\n",
              "      <td>11.279592</td>\n",
              "      <td>2.799320</td>\n",
              "      <td>2.761224</td>\n",
              "      <td>7.008163</td>\n",
              "      <td>4.229252</td>\n",
              "      <td>2.187755</td>\n",
              "      <td>4.123129</td>\n",
              "    </tr>\n",
              "    <tr>\n",
              "      <th>std</th>\n",
              "      <td>9.135373</td>\n",
              "      <td>403.509100</td>\n",
              "      <td>8.106864</td>\n",
              "      <td>1.024165</td>\n",
              "      <td>0.0</td>\n",
              "      <td>602.024335</td>\n",
              "      <td>1.093082</td>\n",
              "      <td>20.329428</td>\n",
              "      <td>0.711561</td>\n",
              "      <td>1.106940</td>\n",
              "      <td>1.102846</td>\n",
              "      <td>4707.956783</td>\n",
              "      <td>7117.786044</td>\n",
              "      <td>2.498009</td>\n",
              "      <td>3.659938</td>\n",
              "      <td>0.360824</td>\n",
              "      <td>1.081209</td>\n",
              "      <td>0.0</td>\n",
              "      <td>0.852077</td>\n",
              "      <td>7.780782</td>\n",
              "      <td>1.289271</td>\n",
              "      <td>0.706476</td>\n",
              "      <td>6.126525</td>\n",
              "      <td>3.623137</td>\n",
              "      <td>3.222430</td>\n",
              "      <td>3.568136</td>\n",
              "    </tr>\n",
              "    <tr>\n",
              "      <th>min</th>\n",
              "      <td>18.000000</td>\n",
              "      <td>102.000000</td>\n",
              "      <td>1.000000</td>\n",
              "      <td>1.000000</td>\n",
              "      <td>1.0</td>\n",
              "      <td>1.000000</td>\n",
              "      <td>1.000000</td>\n",
              "      <td>30.000000</td>\n",
              "      <td>1.000000</td>\n",
              "      <td>1.000000</td>\n",
              "      <td>1.000000</td>\n",
              "      <td>1009.000000</td>\n",
              "      <td>2094.000000</td>\n",
              "      <td>0.000000</td>\n",
              "      <td>11.000000</td>\n",
              "      <td>3.000000</td>\n",
              "      <td>1.000000</td>\n",
              "      <td>80.0</td>\n",
              "      <td>0.000000</td>\n",
              "      <td>0.000000</td>\n",
              "      <td>0.000000</td>\n",
              "      <td>1.000000</td>\n",
              "      <td>0.000000</td>\n",
              "      <td>0.000000</td>\n",
              "      <td>0.000000</td>\n",
              "      <td>0.000000</td>\n",
              "    </tr>\n",
              "    <tr>\n",
              "      <th>25%</th>\n",
              "      <td>30.000000</td>\n",
              "      <td>465.000000</td>\n",
              "      <td>2.000000</td>\n",
              "      <td>2.000000</td>\n",
              "      <td>1.0</td>\n",
              "      <td>491.250000</td>\n",
              "      <td>2.000000</td>\n",
              "      <td>48.000000</td>\n",
              "      <td>2.000000</td>\n",
              "      <td>1.000000</td>\n",
              "      <td>2.000000</td>\n",
              "      <td>2911.000000</td>\n",
              "      <td>8047.000000</td>\n",
              "      <td>1.000000</td>\n",
              "      <td>12.000000</td>\n",
              "      <td>3.000000</td>\n",
              "      <td>2.000000</td>\n",
              "      <td>80.0</td>\n",
              "      <td>0.000000</td>\n",
              "      <td>6.000000</td>\n",
              "      <td>2.000000</td>\n",
              "      <td>2.000000</td>\n",
              "      <td>3.000000</td>\n",
              "      <td>2.000000</td>\n",
              "      <td>0.000000</td>\n",
              "      <td>2.000000</td>\n",
              "    </tr>\n",
              "    <tr>\n",
              "      <th>50%</th>\n",
              "      <td>36.000000</td>\n",
              "      <td>802.000000</td>\n",
              "      <td>7.000000</td>\n",
              "      <td>3.000000</td>\n",
              "      <td>1.0</td>\n",
              "      <td>1020.500000</td>\n",
              "      <td>3.000000</td>\n",
              "      <td>66.000000</td>\n",
              "      <td>3.000000</td>\n",
              "      <td>2.000000</td>\n",
              "      <td>3.000000</td>\n",
              "      <td>4919.000000</td>\n",
              "      <td>14235.500000</td>\n",
              "      <td>2.000000</td>\n",
              "      <td>14.000000</td>\n",
              "      <td>3.000000</td>\n",
              "      <td>3.000000</td>\n",
              "      <td>80.0</td>\n",
              "      <td>1.000000</td>\n",
              "      <td>10.000000</td>\n",
              "      <td>3.000000</td>\n",
              "      <td>3.000000</td>\n",
              "      <td>5.000000</td>\n",
              "      <td>3.000000</td>\n",
              "      <td>1.000000</td>\n",
              "      <td>3.000000</td>\n",
              "    </tr>\n",
              "    <tr>\n",
              "      <th>75%</th>\n",
              "      <td>43.000000</td>\n",
              "      <td>1157.000000</td>\n",
              "      <td>14.000000</td>\n",
              "      <td>4.000000</td>\n",
              "      <td>1.0</td>\n",
              "      <td>1555.750000</td>\n",
              "      <td>4.000000</td>\n",
              "      <td>83.750000</td>\n",
              "      <td>3.000000</td>\n",
              "      <td>3.000000</td>\n",
              "      <td>4.000000</td>\n",
              "      <td>8379.000000</td>\n",
              "      <td>20461.500000</td>\n",
              "      <td>4.000000</td>\n",
              "      <td>18.000000</td>\n",
              "      <td>3.000000</td>\n",
              "      <td>4.000000</td>\n",
              "      <td>80.0</td>\n",
              "      <td>1.000000</td>\n",
              "      <td>15.000000</td>\n",
              "      <td>3.000000</td>\n",
              "      <td>3.000000</td>\n",
              "      <td>9.000000</td>\n",
              "      <td>7.000000</td>\n",
              "      <td>3.000000</td>\n",
              "      <td>7.000000</td>\n",
              "    </tr>\n",
              "    <tr>\n",
              "      <th>max</th>\n",
              "      <td>60.000000</td>\n",
              "      <td>1499.000000</td>\n",
              "      <td>29.000000</td>\n",
              "      <td>5.000000</td>\n",
              "      <td>1.0</td>\n",
              "      <td>2068.000000</td>\n",
              "      <td>4.000000</td>\n",
              "      <td>100.000000</td>\n",
              "      <td>4.000000</td>\n",
              "      <td>5.000000</td>\n",
              "      <td>4.000000</td>\n",
              "      <td>19999.000000</td>\n",
              "      <td>26999.000000</td>\n",
              "      <td>9.000000</td>\n",
              "      <td>25.000000</td>\n",
              "      <td>4.000000</td>\n",
              "      <td>4.000000</td>\n",
              "      <td>80.0</td>\n",
              "      <td>3.000000</td>\n",
              "      <td>40.000000</td>\n",
              "      <td>6.000000</td>\n",
              "      <td>4.000000</td>\n",
              "      <td>40.000000</td>\n",
              "      <td>18.000000</td>\n",
              "      <td>15.000000</td>\n",
              "      <td>17.000000</td>\n",
              "    </tr>\n",
              "  </tbody>\n",
              "</table>\n",
              "</div>"
            ],
            "text/plain": [
              "               Age    DailyRate  DistanceFromHome    Education  EmployeeCount  \\\n",
              "count  1470.000000  1470.000000       1470.000000  1470.000000         1470.0   \n",
              "mean     36.923810   802.485714          9.192517     2.912925            1.0   \n",
              "std       9.135373   403.509100          8.106864     1.024165            0.0   \n",
              "min      18.000000   102.000000          1.000000     1.000000            1.0   \n",
              "25%      30.000000   465.000000          2.000000     2.000000            1.0   \n",
              "50%      36.000000   802.000000          7.000000     3.000000            1.0   \n",
              "75%      43.000000  1157.000000         14.000000     4.000000            1.0   \n",
              "max      60.000000  1499.000000         29.000000     5.000000            1.0   \n",
              "\n",
              "       EmployeeNumber  EnvironmentSatisfaction   HourlyRate  JobInvolvement  \\\n",
              "count     1470.000000              1470.000000  1470.000000     1470.000000   \n",
              "mean      1024.865306                 2.721769    65.891156        2.729932   \n",
              "std        602.024335                 1.093082    20.329428        0.711561   \n",
              "min          1.000000                 1.000000    30.000000        1.000000   \n",
              "25%        491.250000                 2.000000    48.000000        2.000000   \n",
              "50%       1020.500000                 3.000000    66.000000        3.000000   \n",
              "75%       1555.750000                 4.000000    83.750000        3.000000   \n",
              "max       2068.000000                 4.000000   100.000000        4.000000   \n",
              "\n",
              "          JobLevel  JobSatisfaction  MonthlyIncome   MonthlyRate  \\\n",
              "count  1470.000000      1470.000000    1470.000000   1470.000000   \n",
              "mean      2.063946         2.728571    6502.931293  14313.103401   \n",
              "std       1.106940         1.102846    4707.956783   7117.786044   \n",
              "min       1.000000         1.000000    1009.000000   2094.000000   \n",
              "25%       1.000000         2.000000    2911.000000   8047.000000   \n",
              "50%       2.000000         3.000000    4919.000000  14235.500000   \n",
              "75%       3.000000         4.000000    8379.000000  20461.500000   \n",
              "max       5.000000         4.000000   19999.000000  26999.000000   \n",
              "\n",
              "       NumCompaniesWorked  PercentSalaryHike  PerformanceRating  \\\n",
              "count         1470.000000        1470.000000        1470.000000   \n",
              "mean             2.693197          15.209524           3.153741   \n",
              "std              2.498009           3.659938           0.360824   \n",
              "min              0.000000          11.000000           3.000000   \n",
              "25%              1.000000          12.000000           3.000000   \n",
              "50%              2.000000          14.000000           3.000000   \n",
              "75%              4.000000          18.000000           3.000000   \n",
              "max              9.000000          25.000000           4.000000   \n",
              "\n",
              "       RelationshipSatisfaction  StandardHours  StockOptionLevel  \\\n",
              "count               1470.000000         1470.0       1470.000000   \n",
              "mean                   2.712245           80.0          0.793878   \n",
              "std                    1.081209            0.0          0.852077   \n",
              "min                    1.000000           80.0          0.000000   \n",
              "25%                    2.000000           80.0          0.000000   \n",
              "50%                    3.000000           80.0          1.000000   \n",
              "75%                    4.000000           80.0          1.000000   \n",
              "max                    4.000000           80.0          3.000000   \n",
              "\n",
              "       TotalWorkingYears  TrainingTimesLastYear  WorkLifeBalance  \\\n",
              "count        1470.000000            1470.000000      1470.000000   \n",
              "mean           11.279592               2.799320         2.761224   \n",
              "std             7.780782               1.289271         0.706476   \n",
              "min             0.000000               0.000000         1.000000   \n",
              "25%             6.000000               2.000000         2.000000   \n",
              "50%            10.000000               3.000000         3.000000   \n",
              "75%            15.000000               3.000000         3.000000   \n",
              "max            40.000000               6.000000         4.000000   \n",
              "\n",
              "       YearsAtCompany  YearsInCurrentRole  YearsSinceLastPromotion  \\\n",
              "count     1470.000000         1470.000000              1470.000000   \n",
              "mean         7.008163            4.229252                 2.187755   \n",
              "std          6.126525            3.623137                 3.222430   \n",
              "min          0.000000            0.000000                 0.000000   \n",
              "25%          3.000000            2.000000                 0.000000   \n",
              "50%          5.000000            3.000000                 1.000000   \n",
              "75%          9.000000            7.000000                 3.000000   \n",
              "max         40.000000           18.000000                15.000000   \n",
              "\n",
              "       YearsWithCurrManager  \n",
              "count           1470.000000  \n",
              "mean               4.123129  \n",
              "std                3.568136  \n",
              "min                0.000000  \n",
              "25%                2.000000  \n",
              "50%                3.000000  \n",
              "75%                7.000000  \n",
              "max               17.000000  "
            ]
          },
          "metadata": {
            "tags": []
          },
          "execution_count": 8
        }
      ]
    },
    {
      "cell_type": "code",
      "metadata": {
        "id": "WidIw4Puvoem"
      },
      "source": [
        "#assignment --> Please do the pandas profiling "
      ],
      "execution_count": null,
      "outputs": []
    },
    {
      "cell_type": "markdown",
      "metadata": {
        "id": "tM-Cw7kfEcDB"
      },
      "source": [
        "**Observation**:\n",
        "\n",
        "- The **maximum** value in **`DailyRate`** (**1499**) is an **outlier** as it lies far away from the **75%** value (**1157**).\n",
        "\n",
        "- Similarly, we can see outliers in many other columns as well like **`MonthlyIncome`**, **`MonthlyRate`**, etc."
      ]
    },
    {
      "cell_type": "markdown",
      "metadata": {
        "_uuid": "806865c0a442f28af9daad629119201eee2cf111",
        "id": "QxutN18k6yiv"
      },
      "source": [
        "<a id=section4></a>\n",
        "## 4. Data Visualization"
      ]
    },
    {
      "cell_type": "markdown",
      "metadata": {
        "id": "JnfVK6FL6yix"
      },
      "source": [
        "### Correlation Heatmap"
      ]
    },
    {
      "cell_type": "code",
      "metadata": {
        "colab": {
          "base_uri": "https://localhost:8080/",
          "height": 866
        },
        "id": "Mfa5wzB-wdCi",
        "outputId": "89ae07bf-17b8-4ac8-b567-5e6dfcb7e624"
      },
      "source": [
        "data.corr()"
      ],
      "execution_count": null,
      "outputs": [
        {
          "output_type": "execute_result",
          "data": {
            "text/html": [
              "<div>\n",
              "<style scoped>\n",
              "    .dataframe tbody tr th:only-of-type {\n",
              "        vertical-align: middle;\n",
              "    }\n",
              "\n",
              "    .dataframe tbody tr th {\n",
              "        vertical-align: top;\n",
              "    }\n",
              "\n",
              "    .dataframe thead th {\n",
              "        text-align: right;\n",
              "    }\n",
              "</style>\n",
              "<table border=\"1\" class=\"dataframe\">\n",
              "  <thead>\n",
              "    <tr style=\"text-align: right;\">\n",
              "      <th></th>\n",
              "      <th>Age</th>\n",
              "      <th>DailyRate</th>\n",
              "      <th>DistanceFromHome</th>\n",
              "      <th>Education</th>\n",
              "      <th>EmployeeCount</th>\n",
              "      <th>EmployeeNumber</th>\n",
              "      <th>EnvironmentSatisfaction</th>\n",
              "      <th>HourlyRate</th>\n",
              "      <th>JobInvolvement</th>\n",
              "      <th>JobLevel</th>\n",
              "      <th>JobSatisfaction</th>\n",
              "      <th>MonthlyIncome</th>\n",
              "      <th>MonthlyRate</th>\n",
              "      <th>NumCompaniesWorked</th>\n",
              "      <th>PercentSalaryHike</th>\n",
              "      <th>PerformanceRating</th>\n",
              "      <th>RelationshipSatisfaction</th>\n",
              "      <th>StandardHours</th>\n",
              "      <th>StockOptionLevel</th>\n",
              "      <th>TotalWorkingYears</th>\n",
              "      <th>TrainingTimesLastYear</th>\n",
              "      <th>WorkLifeBalance</th>\n",
              "      <th>YearsAtCompany</th>\n",
              "      <th>YearsInCurrentRole</th>\n",
              "      <th>YearsSinceLastPromotion</th>\n",
              "      <th>YearsWithCurrManager</th>\n",
              "    </tr>\n",
              "  </thead>\n",
              "  <tbody>\n",
              "    <tr>\n",
              "      <th>Age</th>\n",
              "      <td>1.000000</td>\n",
              "      <td>0.010661</td>\n",
              "      <td>-0.001686</td>\n",
              "      <td>0.208034</td>\n",
              "      <td>NaN</td>\n",
              "      <td>-0.010145</td>\n",
              "      <td>0.010146</td>\n",
              "      <td>0.024287</td>\n",
              "      <td>0.029820</td>\n",
              "      <td>0.509604</td>\n",
              "      <td>-0.004892</td>\n",
              "      <td>0.497855</td>\n",
              "      <td>0.028051</td>\n",
              "      <td>0.299635</td>\n",
              "      <td>0.003634</td>\n",
              "      <td>0.001904</td>\n",
              "      <td>0.053535</td>\n",
              "      <td>NaN</td>\n",
              "      <td>0.037510</td>\n",
              "      <td>0.680381</td>\n",
              "      <td>-0.019621</td>\n",
              "      <td>-0.021490</td>\n",
              "      <td>0.311309</td>\n",
              "      <td>0.212901</td>\n",
              "      <td>0.216513</td>\n",
              "      <td>0.202089</td>\n",
              "    </tr>\n",
              "    <tr>\n",
              "      <th>DailyRate</th>\n",
              "      <td>0.010661</td>\n",
              "      <td>1.000000</td>\n",
              "      <td>-0.004985</td>\n",
              "      <td>-0.016806</td>\n",
              "      <td>NaN</td>\n",
              "      <td>-0.050990</td>\n",
              "      <td>0.018355</td>\n",
              "      <td>0.023381</td>\n",
              "      <td>0.046135</td>\n",
              "      <td>0.002966</td>\n",
              "      <td>0.030571</td>\n",
              "      <td>0.007707</td>\n",
              "      <td>-0.032182</td>\n",
              "      <td>0.038153</td>\n",
              "      <td>0.022704</td>\n",
              "      <td>0.000473</td>\n",
              "      <td>0.007846</td>\n",
              "      <td>NaN</td>\n",
              "      <td>0.042143</td>\n",
              "      <td>0.014515</td>\n",
              "      <td>0.002453</td>\n",
              "      <td>-0.037848</td>\n",
              "      <td>-0.034055</td>\n",
              "      <td>0.009932</td>\n",
              "      <td>-0.033229</td>\n",
              "      <td>-0.026363</td>\n",
              "    </tr>\n",
              "    <tr>\n",
              "      <th>DistanceFromHome</th>\n",
              "      <td>-0.001686</td>\n",
              "      <td>-0.004985</td>\n",
              "      <td>1.000000</td>\n",
              "      <td>0.021042</td>\n",
              "      <td>NaN</td>\n",
              "      <td>0.032916</td>\n",
              "      <td>-0.016075</td>\n",
              "      <td>0.031131</td>\n",
              "      <td>0.008783</td>\n",
              "      <td>0.005303</td>\n",
              "      <td>-0.003669</td>\n",
              "      <td>-0.017014</td>\n",
              "      <td>0.027473</td>\n",
              "      <td>-0.029251</td>\n",
              "      <td>0.040235</td>\n",
              "      <td>0.027110</td>\n",
              "      <td>0.006557</td>\n",
              "      <td>NaN</td>\n",
              "      <td>0.044872</td>\n",
              "      <td>0.004628</td>\n",
              "      <td>-0.036942</td>\n",
              "      <td>-0.026556</td>\n",
              "      <td>0.009508</td>\n",
              "      <td>0.018845</td>\n",
              "      <td>0.010029</td>\n",
              "      <td>0.014406</td>\n",
              "    </tr>\n",
              "    <tr>\n",
              "      <th>Education</th>\n",
              "      <td>0.208034</td>\n",
              "      <td>-0.016806</td>\n",
              "      <td>0.021042</td>\n",
              "      <td>1.000000</td>\n",
              "      <td>NaN</td>\n",
              "      <td>0.042070</td>\n",
              "      <td>-0.027128</td>\n",
              "      <td>0.016775</td>\n",
              "      <td>0.042438</td>\n",
              "      <td>0.101589</td>\n",
              "      <td>-0.011296</td>\n",
              "      <td>0.094961</td>\n",
              "      <td>-0.026084</td>\n",
              "      <td>0.126317</td>\n",
              "      <td>-0.011111</td>\n",
              "      <td>-0.024539</td>\n",
              "      <td>-0.009118</td>\n",
              "      <td>NaN</td>\n",
              "      <td>0.018422</td>\n",
              "      <td>0.148280</td>\n",
              "      <td>-0.025100</td>\n",
              "      <td>0.009819</td>\n",
              "      <td>0.069114</td>\n",
              "      <td>0.060236</td>\n",
              "      <td>0.054254</td>\n",
              "      <td>0.069065</td>\n",
              "    </tr>\n",
              "    <tr>\n",
              "      <th>EmployeeCount</th>\n",
              "      <td>NaN</td>\n",
              "      <td>NaN</td>\n",
              "      <td>NaN</td>\n",
              "      <td>NaN</td>\n",
              "      <td>NaN</td>\n",
              "      <td>NaN</td>\n",
              "      <td>NaN</td>\n",
              "      <td>NaN</td>\n",
              "      <td>NaN</td>\n",
              "      <td>NaN</td>\n",
              "      <td>NaN</td>\n",
              "      <td>NaN</td>\n",
              "      <td>NaN</td>\n",
              "      <td>NaN</td>\n",
              "      <td>NaN</td>\n",
              "      <td>NaN</td>\n",
              "      <td>NaN</td>\n",
              "      <td>NaN</td>\n",
              "      <td>NaN</td>\n",
              "      <td>NaN</td>\n",
              "      <td>NaN</td>\n",
              "      <td>NaN</td>\n",
              "      <td>NaN</td>\n",
              "      <td>NaN</td>\n",
              "      <td>NaN</td>\n",
              "      <td>NaN</td>\n",
              "    </tr>\n",
              "    <tr>\n",
              "      <th>EmployeeNumber</th>\n",
              "      <td>-0.010145</td>\n",
              "      <td>-0.050990</td>\n",
              "      <td>0.032916</td>\n",
              "      <td>0.042070</td>\n",
              "      <td>NaN</td>\n",
              "      <td>1.000000</td>\n",
              "      <td>0.017621</td>\n",
              "      <td>0.035179</td>\n",
              "      <td>-0.006888</td>\n",
              "      <td>-0.018519</td>\n",
              "      <td>-0.046247</td>\n",
              "      <td>-0.014829</td>\n",
              "      <td>0.012648</td>\n",
              "      <td>-0.001251</td>\n",
              "      <td>-0.012944</td>\n",
              "      <td>-0.020359</td>\n",
              "      <td>-0.069861</td>\n",
              "      <td>NaN</td>\n",
              "      <td>0.062227</td>\n",
              "      <td>-0.014365</td>\n",
              "      <td>0.023603</td>\n",
              "      <td>0.010309</td>\n",
              "      <td>-0.011240</td>\n",
              "      <td>-0.008416</td>\n",
              "      <td>-0.009019</td>\n",
              "      <td>-0.009197</td>\n",
              "    </tr>\n",
              "    <tr>\n",
              "      <th>EnvironmentSatisfaction</th>\n",
              "      <td>0.010146</td>\n",
              "      <td>0.018355</td>\n",
              "      <td>-0.016075</td>\n",
              "      <td>-0.027128</td>\n",
              "      <td>NaN</td>\n",
              "      <td>0.017621</td>\n",
              "      <td>1.000000</td>\n",
              "      <td>-0.049857</td>\n",
              "      <td>-0.008278</td>\n",
              "      <td>0.001212</td>\n",
              "      <td>-0.006784</td>\n",
              "      <td>-0.006259</td>\n",
              "      <td>0.037600</td>\n",
              "      <td>0.012594</td>\n",
              "      <td>-0.031701</td>\n",
              "      <td>-0.029548</td>\n",
              "      <td>0.007665</td>\n",
              "      <td>NaN</td>\n",
              "      <td>0.003432</td>\n",
              "      <td>-0.002693</td>\n",
              "      <td>-0.019359</td>\n",
              "      <td>0.027627</td>\n",
              "      <td>0.001458</td>\n",
              "      <td>0.018007</td>\n",
              "      <td>0.016194</td>\n",
              "      <td>-0.004999</td>\n",
              "    </tr>\n",
              "    <tr>\n",
              "      <th>HourlyRate</th>\n",
              "      <td>0.024287</td>\n",
              "      <td>0.023381</td>\n",
              "      <td>0.031131</td>\n",
              "      <td>0.016775</td>\n",
              "      <td>NaN</td>\n",
              "      <td>0.035179</td>\n",
              "      <td>-0.049857</td>\n",
              "      <td>1.000000</td>\n",
              "      <td>0.042861</td>\n",
              "      <td>-0.027853</td>\n",
              "      <td>-0.071335</td>\n",
              "      <td>-0.015794</td>\n",
              "      <td>-0.015297</td>\n",
              "      <td>0.022157</td>\n",
              "      <td>-0.009062</td>\n",
              "      <td>-0.002172</td>\n",
              "      <td>0.001330</td>\n",
              "      <td>NaN</td>\n",
              "      <td>0.050263</td>\n",
              "      <td>-0.002334</td>\n",
              "      <td>-0.008548</td>\n",
              "      <td>-0.004607</td>\n",
              "      <td>-0.019582</td>\n",
              "      <td>-0.024106</td>\n",
              "      <td>-0.026716</td>\n",
              "      <td>-0.020123</td>\n",
              "    </tr>\n",
              "    <tr>\n",
              "      <th>JobInvolvement</th>\n",
              "      <td>0.029820</td>\n",
              "      <td>0.046135</td>\n",
              "      <td>0.008783</td>\n",
              "      <td>0.042438</td>\n",
              "      <td>NaN</td>\n",
              "      <td>-0.006888</td>\n",
              "      <td>-0.008278</td>\n",
              "      <td>0.042861</td>\n",
              "      <td>1.000000</td>\n",
              "      <td>-0.012630</td>\n",
              "      <td>-0.021476</td>\n",
              "      <td>-0.015271</td>\n",
              "      <td>-0.016322</td>\n",
              "      <td>0.015012</td>\n",
              "      <td>-0.017205</td>\n",
              "      <td>-0.029071</td>\n",
              "      <td>0.034297</td>\n",
              "      <td>NaN</td>\n",
              "      <td>0.021523</td>\n",
              "      <td>-0.005533</td>\n",
              "      <td>-0.015338</td>\n",
              "      <td>-0.014617</td>\n",
              "      <td>-0.021355</td>\n",
              "      <td>0.008717</td>\n",
              "      <td>-0.024184</td>\n",
              "      <td>0.025976</td>\n",
              "    </tr>\n",
              "    <tr>\n",
              "      <th>JobLevel</th>\n",
              "      <td>0.509604</td>\n",
              "      <td>0.002966</td>\n",
              "      <td>0.005303</td>\n",
              "      <td>0.101589</td>\n",
              "      <td>NaN</td>\n",
              "      <td>-0.018519</td>\n",
              "      <td>0.001212</td>\n",
              "      <td>-0.027853</td>\n",
              "      <td>-0.012630</td>\n",
              "      <td>1.000000</td>\n",
              "      <td>-0.001944</td>\n",
              "      <td>0.950300</td>\n",
              "      <td>0.039563</td>\n",
              "      <td>0.142501</td>\n",
              "      <td>-0.034730</td>\n",
              "      <td>-0.021222</td>\n",
              "      <td>0.021642</td>\n",
              "      <td>NaN</td>\n",
              "      <td>0.013984</td>\n",
              "      <td>0.782208</td>\n",
              "      <td>-0.018191</td>\n",
              "      <td>0.037818</td>\n",
              "      <td>0.534739</td>\n",
              "      <td>0.389447</td>\n",
              "      <td>0.353885</td>\n",
              "      <td>0.375281</td>\n",
              "    </tr>\n",
              "    <tr>\n",
              "      <th>JobSatisfaction</th>\n",
              "      <td>-0.004892</td>\n",
              "      <td>0.030571</td>\n",
              "      <td>-0.003669</td>\n",
              "      <td>-0.011296</td>\n",
              "      <td>NaN</td>\n",
              "      <td>-0.046247</td>\n",
              "      <td>-0.006784</td>\n",
              "      <td>-0.071335</td>\n",
              "      <td>-0.021476</td>\n",
              "      <td>-0.001944</td>\n",
              "      <td>1.000000</td>\n",
              "      <td>-0.007157</td>\n",
              "      <td>0.000644</td>\n",
              "      <td>-0.055699</td>\n",
              "      <td>0.020002</td>\n",
              "      <td>0.002297</td>\n",
              "      <td>-0.012454</td>\n",
              "      <td>NaN</td>\n",
              "      <td>0.010690</td>\n",
              "      <td>-0.020185</td>\n",
              "      <td>-0.005779</td>\n",
              "      <td>-0.019459</td>\n",
              "      <td>-0.003803</td>\n",
              "      <td>-0.002305</td>\n",
              "      <td>-0.018214</td>\n",
              "      <td>-0.027656</td>\n",
              "    </tr>\n",
              "    <tr>\n",
              "      <th>MonthlyIncome</th>\n",
              "      <td>0.497855</td>\n",
              "      <td>0.007707</td>\n",
              "      <td>-0.017014</td>\n",
              "      <td>0.094961</td>\n",
              "      <td>NaN</td>\n",
              "      <td>-0.014829</td>\n",
              "      <td>-0.006259</td>\n",
              "      <td>-0.015794</td>\n",
              "      <td>-0.015271</td>\n",
              "      <td>0.950300</td>\n",
              "      <td>-0.007157</td>\n",
              "      <td>1.000000</td>\n",
              "      <td>0.034814</td>\n",
              "      <td>0.149515</td>\n",
              "      <td>-0.027269</td>\n",
              "      <td>-0.017120</td>\n",
              "      <td>0.025873</td>\n",
              "      <td>NaN</td>\n",
              "      <td>0.005408</td>\n",
              "      <td>0.772893</td>\n",
              "      <td>-0.021736</td>\n",
              "      <td>0.030683</td>\n",
              "      <td>0.514285</td>\n",
              "      <td>0.363818</td>\n",
              "      <td>0.344978</td>\n",
              "      <td>0.344079</td>\n",
              "    </tr>\n",
              "    <tr>\n",
              "      <th>MonthlyRate</th>\n",
              "      <td>0.028051</td>\n",
              "      <td>-0.032182</td>\n",
              "      <td>0.027473</td>\n",
              "      <td>-0.026084</td>\n",
              "      <td>NaN</td>\n",
              "      <td>0.012648</td>\n",
              "      <td>0.037600</td>\n",
              "      <td>-0.015297</td>\n",
              "      <td>-0.016322</td>\n",
              "      <td>0.039563</td>\n",
              "      <td>0.000644</td>\n",
              "      <td>0.034814</td>\n",
              "      <td>1.000000</td>\n",
              "      <td>0.017521</td>\n",
              "      <td>-0.006429</td>\n",
              "      <td>-0.009811</td>\n",
              "      <td>-0.004085</td>\n",
              "      <td>NaN</td>\n",
              "      <td>-0.034323</td>\n",
              "      <td>0.026442</td>\n",
              "      <td>0.001467</td>\n",
              "      <td>0.007963</td>\n",
              "      <td>-0.023655</td>\n",
              "      <td>-0.012815</td>\n",
              "      <td>0.001567</td>\n",
              "      <td>-0.036746</td>\n",
              "    </tr>\n",
              "    <tr>\n",
              "      <th>NumCompaniesWorked</th>\n",
              "      <td>0.299635</td>\n",
              "      <td>0.038153</td>\n",
              "      <td>-0.029251</td>\n",
              "      <td>0.126317</td>\n",
              "      <td>NaN</td>\n",
              "      <td>-0.001251</td>\n",
              "      <td>0.012594</td>\n",
              "      <td>0.022157</td>\n",
              "      <td>0.015012</td>\n",
              "      <td>0.142501</td>\n",
              "      <td>-0.055699</td>\n",
              "      <td>0.149515</td>\n",
              "      <td>0.017521</td>\n",
              "      <td>1.000000</td>\n",
              "      <td>-0.010238</td>\n",
              "      <td>-0.014095</td>\n",
              "      <td>0.052733</td>\n",
              "      <td>NaN</td>\n",
              "      <td>0.030075</td>\n",
              "      <td>0.237639</td>\n",
              "      <td>-0.066054</td>\n",
              "      <td>-0.008366</td>\n",
              "      <td>-0.118421</td>\n",
              "      <td>-0.090754</td>\n",
              "      <td>-0.036814</td>\n",
              "      <td>-0.110319</td>\n",
              "    </tr>\n",
              "    <tr>\n",
              "      <th>PercentSalaryHike</th>\n",
              "      <td>0.003634</td>\n",
              "      <td>0.022704</td>\n",
              "      <td>0.040235</td>\n",
              "      <td>-0.011111</td>\n",
              "      <td>NaN</td>\n",
              "      <td>-0.012944</td>\n",
              "      <td>-0.031701</td>\n",
              "      <td>-0.009062</td>\n",
              "      <td>-0.017205</td>\n",
              "      <td>-0.034730</td>\n",
              "      <td>0.020002</td>\n",
              "      <td>-0.027269</td>\n",
              "      <td>-0.006429</td>\n",
              "      <td>-0.010238</td>\n",
              "      <td>1.000000</td>\n",
              "      <td>0.773550</td>\n",
              "      <td>-0.040490</td>\n",
              "      <td>NaN</td>\n",
              "      <td>0.007528</td>\n",
              "      <td>-0.020608</td>\n",
              "      <td>-0.005221</td>\n",
              "      <td>-0.003280</td>\n",
              "      <td>-0.035991</td>\n",
              "      <td>-0.001520</td>\n",
              "      <td>-0.022154</td>\n",
              "      <td>-0.011985</td>\n",
              "    </tr>\n",
              "    <tr>\n",
              "      <th>PerformanceRating</th>\n",
              "      <td>0.001904</td>\n",
              "      <td>0.000473</td>\n",
              "      <td>0.027110</td>\n",
              "      <td>-0.024539</td>\n",
              "      <td>NaN</td>\n",
              "      <td>-0.020359</td>\n",
              "      <td>-0.029548</td>\n",
              "      <td>-0.002172</td>\n",
              "      <td>-0.029071</td>\n",
              "      <td>-0.021222</td>\n",
              "      <td>0.002297</td>\n",
              "      <td>-0.017120</td>\n",
              "      <td>-0.009811</td>\n",
              "      <td>-0.014095</td>\n",
              "      <td>0.773550</td>\n",
              "      <td>1.000000</td>\n",
              "      <td>-0.031351</td>\n",
              "      <td>NaN</td>\n",
              "      <td>0.003506</td>\n",
              "      <td>0.006744</td>\n",
              "      <td>-0.015579</td>\n",
              "      <td>0.002572</td>\n",
              "      <td>0.003435</td>\n",
              "      <td>0.034986</td>\n",
              "      <td>0.017896</td>\n",
              "      <td>0.022827</td>\n",
              "    </tr>\n",
              "    <tr>\n",
              "      <th>RelationshipSatisfaction</th>\n",
              "      <td>0.053535</td>\n",
              "      <td>0.007846</td>\n",
              "      <td>0.006557</td>\n",
              "      <td>-0.009118</td>\n",
              "      <td>NaN</td>\n",
              "      <td>-0.069861</td>\n",
              "      <td>0.007665</td>\n",
              "      <td>0.001330</td>\n",
              "      <td>0.034297</td>\n",
              "      <td>0.021642</td>\n",
              "      <td>-0.012454</td>\n",
              "      <td>0.025873</td>\n",
              "      <td>-0.004085</td>\n",
              "      <td>0.052733</td>\n",
              "      <td>-0.040490</td>\n",
              "      <td>-0.031351</td>\n",
              "      <td>1.000000</td>\n",
              "      <td>NaN</td>\n",
              "      <td>-0.045952</td>\n",
              "      <td>0.024054</td>\n",
              "      <td>0.002497</td>\n",
              "      <td>0.019604</td>\n",
              "      <td>0.019367</td>\n",
              "      <td>-0.015123</td>\n",
              "      <td>0.033493</td>\n",
              "      <td>-0.000867</td>\n",
              "    </tr>\n",
              "    <tr>\n",
              "      <th>StandardHours</th>\n",
              "      <td>NaN</td>\n",
              "      <td>NaN</td>\n",
              "      <td>NaN</td>\n",
              "      <td>NaN</td>\n",
              "      <td>NaN</td>\n",
              "      <td>NaN</td>\n",
              "      <td>NaN</td>\n",
              "      <td>NaN</td>\n",
              "      <td>NaN</td>\n",
              "      <td>NaN</td>\n",
              "      <td>NaN</td>\n",
              "      <td>NaN</td>\n",
              "      <td>NaN</td>\n",
              "      <td>NaN</td>\n",
              "      <td>NaN</td>\n",
              "      <td>NaN</td>\n",
              "      <td>NaN</td>\n",
              "      <td>NaN</td>\n",
              "      <td>NaN</td>\n",
              "      <td>NaN</td>\n",
              "      <td>NaN</td>\n",
              "      <td>NaN</td>\n",
              "      <td>NaN</td>\n",
              "      <td>NaN</td>\n",
              "      <td>NaN</td>\n",
              "      <td>NaN</td>\n",
              "    </tr>\n",
              "    <tr>\n",
              "      <th>StockOptionLevel</th>\n",
              "      <td>0.037510</td>\n",
              "      <td>0.042143</td>\n",
              "      <td>0.044872</td>\n",
              "      <td>0.018422</td>\n",
              "      <td>NaN</td>\n",
              "      <td>0.062227</td>\n",
              "      <td>0.003432</td>\n",
              "      <td>0.050263</td>\n",
              "      <td>0.021523</td>\n",
              "      <td>0.013984</td>\n",
              "      <td>0.010690</td>\n",
              "      <td>0.005408</td>\n",
              "      <td>-0.034323</td>\n",
              "      <td>0.030075</td>\n",
              "      <td>0.007528</td>\n",
              "      <td>0.003506</td>\n",
              "      <td>-0.045952</td>\n",
              "      <td>NaN</td>\n",
              "      <td>1.000000</td>\n",
              "      <td>0.010136</td>\n",
              "      <td>0.011274</td>\n",
              "      <td>0.004129</td>\n",
              "      <td>0.015058</td>\n",
              "      <td>0.050818</td>\n",
              "      <td>0.014352</td>\n",
              "      <td>0.024698</td>\n",
              "    </tr>\n",
              "    <tr>\n",
              "      <th>TotalWorkingYears</th>\n",
              "      <td>0.680381</td>\n",
              "      <td>0.014515</td>\n",
              "      <td>0.004628</td>\n",
              "      <td>0.148280</td>\n",
              "      <td>NaN</td>\n",
              "      <td>-0.014365</td>\n",
              "      <td>-0.002693</td>\n",
              "      <td>-0.002334</td>\n",
              "      <td>-0.005533</td>\n",
              "      <td>0.782208</td>\n",
              "      <td>-0.020185</td>\n",
              "      <td>0.772893</td>\n",
              "      <td>0.026442</td>\n",
              "      <td>0.237639</td>\n",
              "      <td>-0.020608</td>\n",
              "      <td>0.006744</td>\n",
              "      <td>0.024054</td>\n",
              "      <td>NaN</td>\n",
              "      <td>0.010136</td>\n",
              "      <td>1.000000</td>\n",
              "      <td>-0.035662</td>\n",
              "      <td>0.001008</td>\n",
              "      <td>0.628133</td>\n",
              "      <td>0.460365</td>\n",
              "      <td>0.404858</td>\n",
              "      <td>0.459188</td>\n",
              "    </tr>\n",
              "    <tr>\n",
              "      <th>TrainingTimesLastYear</th>\n",
              "      <td>-0.019621</td>\n",
              "      <td>0.002453</td>\n",
              "      <td>-0.036942</td>\n",
              "      <td>-0.025100</td>\n",
              "      <td>NaN</td>\n",
              "      <td>0.023603</td>\n",
              "      <td>-0.019359</td>\n",
              "      <td>-0.008548</td>\n",
              "      <td>-0.015338</td>\n",
              "      <td>-0.018191</td>\n",
              "      <td>-0.005779</td>\n",
              "      <td>-0.021736</td>\n",
              "      <td>0.001467</td>\n",
              "      <td>-0.066054</td>\n",
              "      <td>-0.005221</td>\n",
              "      <td>-0.015579</td>\n",
              "      <td>0.002497</td>\n",
              "      <td>NaN</td>\n",
              "      <td>0.011274</td>\n",
              "      <td>-0.035662</td>\n",
              "      <td>1.000000</td>\n",
              "      <td>0.028072</td>\n",
              "      <td>0.003569</td>\n",
              "      <td>-0.005738</td>\n",
              "      <td>-0.002067</td>\n",
              "      <td>-0.004096</td>\n",
              "    </tr>\n",
              "    <tr>\n",
              "      <th>WorkLifeBalance</th>\n",
              "      <td>-0.021490</td>\n",
              "      <td>-0.037848</td>\n",
              "      <td>-0.026556</td>\n",
              "      <td>0.009819</td>\n",
              "      <td>NaN</td>\n",
              "      <td>0.010309</td>\n",
              "      <td>0.027627</td>\n",
              "      <td>-0.004607</td>\n",
              "      <td>-0.014617</td>\n",
              "      <td>0.037818</td>\n",
              "      <td>-0.019459</td>\n",
              "      <td>0.030683</td>\n",
              "      <td>0.007963</td>\n",
              "      <td>-0.008366</td>\n",
              "      <td>-0.003280</td>\n",
              "      <td>0.002572</td>\n",
              "      <td>0.019604</td>\n",
              "      <td>NaN</td>\n",
              "      <td>0.004129</td>\n",
              "      <td>0.001008</td>\n",
              "      <td>0.028072</td>\n",
              "      <td>1.000000</td>\n",
              "      <td>0.012089</td>\n",
              "      <td>0.049856</td>\n",
              "      <td>0.008941</td>\n",
              "      <td>0.002759</td>\n",
              "    </tr>\n",
              "    <tr>\n",
              "      <th>YearsAtCompany</th>\n",
              "      <td>0.311309</td>\n",
              "      <td>-0.034055</td>\n",
              "      <td>0.009508</td>\n",
              "      <td>0.069114</td>\n",
              "      <td>NaN</td>\n",
              "      <td>-0.011240</td>\n",
              "      <td>0.001458</td>\n",
              "      <td>-0.019582</td>\n",
              "      <td>-0.021355</td>\n",
              "      <td>0.534739</td>\n",
              "      <td>-0.003803</td>\n",
              "      <td>0.514285</td>\n",
              "      <td>-0.023655</td>\n",
              "      <td>-0.118421</td>\n",
              "      <td>-0.035991</td>\n",
              "      <td>0.003435</td>\n",
              "      <td>0.019367</td>\n",
              "      <td>NaN</td>\n",
              "      <td>0.015058</td>\n",
              "      <td>0.628133</td>\n",
              "      <td>0.003569</td>\n",
              "      <td>0.012089</td>\n",
              "      <td>1.000000</td>\n",
              "      <td>0.758754</td>\n",
              "      <td>0.618409</td>\n",
              "      <td>0.769212</td>\n",
              "    </tr>\n",
              "    <tr>\n",
              "      <th>YearsInCurrentRole</th>\n",
              "      <td>0.212901</td>\n",
              "      <td>0.009932</td>\n",
              "      <td>0.018845</td>\n",
              "      <td>0.060236</td>\n",
              "      <td>NaN</td>\n",
              "      <td>-0.008416</td>\n",
              "      <td>0.018007</td>\n",
              "      <td>-0.024106</td>\n",
              "      <td>0.008717</td>\n",
              "      <td>0.389447</td>\n",
              "      <td>-0.002305</td>\n",
              "      <td>0.363818</td>\n",
              "      <td>-0.012815</td>\n",
              "      <td>-0.090754</td>\n",
              "      <td>-0.001520</td>\n",
              "      <td>0.034986</td>\n",
              "      <td>-0.015123</td>\n",
              "      <td>NaN</td>\n",
              "      <td>0.050818</td>\n",
              "      <td>0.460365</td>\n",
              "      <td>-0.005738</td>\n",
              "      <td>0.049856</td>\n",
              "      <td>0.758754</td>\n",
              "      <td>1.000000</td>\n",
              "      <td>0.548056</td>\n",
              "      <td>0.714365</td>\n",
              "    </tr>\n",
              "    <tr>\n",
              "      <th>YearsSinceLastPromotion</th>\n",
              "      <td>0.216513</td>\n",
              "      <td>-0.033229</td>\n",
              "      <td>0.010029</td>\n",
              "      <td>0.054254</td>\n",
              "      <td>NaN</td>\n",
              "      <td>-0.009019</td>\n",
              "      <td>0.016194</td>\n",
              "      <td>-0.026716</td>\n",
              "      <td>-0.024184</td>\n",
              "      <td>0.353885</td>\n",
              "      <td>-0.018214</td>\n",
              "      <td>0.344978</td>\n",
              "      <td>0.001567</td>\n",
              "      <td>-0.036814</td>\n",
              "      <td>-0.022154</td>\n",
              "      <td>0.017896</td>\n",
              "      <td>0.033493</td>\n",
              "      <td>NaN</td>\n",
              "      <td>0.014352</td>\n",
              "      <td>0.404858</td>\n",
              "      <td>-0.002067</td>\n",
              "      <td>0.008941</td>\n",
              "      <td>0.618409</td>\n",
              "      <td>0.548056</td>\n",
              "      <td>1.000000</td>\n",
              "      <td>0.510224</td>\n",
              "    </tr>\n",
              "    <tr>\n",
              "      <th>YearsWithCurrManager</th>\n",
              "      <td>0.202089</td>\n",
              "      <td>-0.026363</td>\n",
              "      <td>0.014406</td>\n",
              "      <td>0.069065</td>\n",
              "      <td>NaN</td>\n",
              "      <td>-0.009197</td>\n",
              "      <td>-0.004999</td>\n",
              "      <td>-0.020123</td>\n",
              "      <td>0.025976</td>\n",
              "      <td>0.375281</td>\n",
              "      <td>-0.027656</td>\n",
              "      <td>0.344079</td>\n",
              "      <td>-0.036746</td>\n",
              "      <td>-0.110319</td>\n",
              "      <td>-0.011985</td>\n",
              "      <td>0.022827</td>\n",
              "      <td>-0.000867</td>\n",
              "      <td>NaN</td>\n",
              "      <td>0.024698</td>\n",
              "      <td>0.459188</td>\n",
              "      <td>-0.004096</td>\n",
              "      <td>0.002759</td>\n",
              "      <td>0.769212</td>\n",
              "      <td>0.714365</td>\n",
              "      <td>0.510224</td>\n",
              "      <td>1.000000</td>\n",
              "    </tr>\n",
              "  </tbody>\n",
              "</table>\n",
              "</div>"
            ],
            "text/plain": [
              "                               Age  DailyRate  DistanceFromHome  Education  \\\n",
              "Age                       1.000000   0.010661         -0.001686   0.208034   \n",
              "DailyRate                 0.010661   1.000000         -0.004985  -0.016806   \n",
              "DistanceFromHome         -0.001686  -0.004985          1.000000   0.021042   \n",
              "Education                 0.208034  -0.016806          0.021042   1.000000   \n",
              "EmployeeCount                  NaN        NaN               NaN        NaN   \n",
              "EmployeeNumber           -0.010145  -0.050990          0.032916   0.042070   \n",
              "EnvironmentSatisfaction   0.010146   0.018355         -0.016075  -0.027128   \n",
              "HourlyRate                0.024287   0.023381          0.031131   0.016775   \n",
              "JobInvolvement            0.029820   0.046135          0.008783   0.042438   \n",
              "JobLevel                  0.509604   0.002966          0.005303   0.101589   \n",
              "JobSatisfaction          -0.004892   0.030571         -0.003669  -0.011296   \n",
              "MonthlyIncome             0.497855   0.007707         -0.017014   0.094961   \n",
              "MonthlyRate               0.028051  -0.032182          0.027473  -0.026084   \n",
              "NumCompaniesWorked        0.299635   0.038153         -0.029251   0.126317   \n",
              "PercentSalaryHike         0.003634   0.022704          0.040235  -0.011111   \n",
              "PerformanceRating         0.001904   0.000473          0.027110  -0.024539   \n",
              "RelationshipSatisfaction  0.053535   0.007846          0.006557  -0.009118   \n",
              "StandardHours                  NaN        NaN               NaN        NaN   \n",
              "StockOptionLevel          0.037510   0.042143          0.044872   0.018422   \n",
              "TotalWorkingYears         0.680381   0.014515          0.004628   0.148280   \n",
              "TrainingTimesLastYear    -0.019621   0.002453         -0.036942  -0.025100   \n",
              "WorkLifeBalance          -0.021490  -0.037848         -0.026556   0.009819   \n",
              "YearsAtCompany            0.311309  -0.034055          0.009508   0.069114   \n",
              "YearsInCurrentRole        0.212901   0.009932          0.018845   0.060236   \n",
              "YearsSinceLastPromotion   0.216513  -0.033229          0.010029   0.054254   \n",
              "YearsWithCurrManager      0.202089  -0.026363          0.014406   0.069065   \n",
              "\n",
              "                          EmployeeCount  EmployeeNumber  \\\n",
              "Age                                 NaN       -0.010145   \n",
              "DailyRate                           NaN       -0.050990   \n",
              "DistanceFromHome                    NaN        0.032916   \n",
              "Education                           NaN        0.042070   \n",
              "EmployeeCount                       NaN             NaN   \n",
              "EmployeeNumber                      NaN        1.000000   \n",
              "EnvironmentSatisfaction             NaN        0.017621   \n",
              "HourlyRate                          NaN        0.035179   \n",
              "JobInvolvement                      NaN       -0.006888   \n",
              "JobLevel                            NaN       -0.018519   \n",
              "JobSatisfaction                     NaN       -0.046247   \n",
              "MonthlyIncome                       NaN       -0.014829   \n",
              "MonthlyRate                         NaN        0.012648   \n",
              "NumCompaniesWorked                  NaN       -0.001251   \n",
              "PercentSalaryHike                   NaN       -0.012944   \n",
              "PerformanceRating                   NaN       -0.020359   \n",
              "RelationshipSatisfaction            NaN       -0.069861   \n",
              "StandardHours                       NaN             NaN   \n",
              "StockOptionLevel                    NaN        0.062227   \n",
              "TotalWorkingYears                   NaN       -0.014365   \n",
              "TrainingTimesLastYear               NaN        0.023603   \n",
              "WorkLifeBalance                     NaN        0.010309   \n",
              "YearsAtCompany                      NaN       -0.011240   \n",
              "YearsInCurrentRole                  NaN       -0.008416   \n",
              "YearsSinceLastPromotion             NaN       -0.009019   \n",
              "YearsWithCurrManager                NaN       -0.009197   \n",
              "\n",
              "                          EnvironmentSatisfaction  HourlyRate  JobInvolvement  \\\n",
              "Age                                      0.010146    0.024287        0.029820   \n",
              "DailyRate                                0.018355    0.023381        0.046135   \n",
              "DistanceFromHome                        -0.016075    0.031131        0.008783   \n",
              "Education                               -0.027128    0.016775        0.042438   \n",
              "EmployeeCount                                 NaN         NaN             NaN   \n",
              "EmployeeNumber                           0.017621    0.035179       -0.006888   \n",
              "EnvironmentSatisfaction                  1.000000   -0.049857       -0.008278   \n",
              "HourlyRate                              -0.049857    1.000000        0.042861   \n",
              "JobInvolvement                          -0.008278    0.042861        1.000000   \n",
              "JobLevel                                 0.001212   -0.027853       -0.012630   \n",
              "JobSatisfaction                         -0.006784   -0.071335       -0.021476   \n",
              "MonthlyIncome                           -0.006259   -0.015794       -0.015271   \n",
              "MonthlyRate                              0.037600   -0.015297       -0.016322   \n",
              "NumCompaniesWorked                       0.012594    0.022157        0.015012   \n",
              "PercentSalaryHike                       -0.031701   -0.009062       -0.017205   \n",
              "PerformanceRating                       -0.029548   -0.002172       -0.029071   \n",
              "RelationshipSatisfaction                 0.007665    0.001330        0.034297   \n",
              "StandardHours                                 NaN         NaN             NaN   \n",
              "StockOptionLevel                         0.003432    0.050263        0.021523   \n",
              "TotalWorkingYears                       -0.002693   -0.002334       -0.005533   \n",
              "TrainingTimesLastYear                   -0.019359   -0.008548       -0.015338   \n",
              "WorkLifeBalance                          0.027627   -0.004607       -0.014617   \n",
              "YearsAtCompany                           0.001458   -0.019582       -0.021355   \n",
              "YearsInCurrentRole                       0.018007   -0.024106        0.008717   \n",
              "YearsSinceLastPromotion                  0.016194   -0.026716       -0.024184   \n",
              "YearsWithCurrManager                    -0.004999   -0.020123        0.025976   \n",
              "\n",
              "                          JobLevel  JobSatisfaction  MonthlyIncome  \\\n",
              "Age                       0.509604        -0.004892       0.497855   \n",
              "DailyRate                 0.002966         0.030571       0.007707   \n",
              "DistanceFromHome          0.005303        -0.003669      -0.017014   \n",
              "Education                 0.101589        -0.011296       0.094961   \n",
              "EmployeeCount                  NaN              NaN            NaN   \n",
              "EmployeeNumber           -0.018519        -0.046247      -0.014829   \n",
              "EnvironmentSatisfaction   0.001212        -0.006784      -0.006259   \n",
              "HourlyRate               -0.027853        -0.071335      -0.015794   \n",
              "JobInvolvement           -0.012630        -0.021476      -0.015271   \n",
              "JobLevel                  1.000000        -0.001944       0.950300   \n",
              "JobSatisfaction          -0.001944         1.000000      -0.007157   \n",
              "MonthlyIncome             0.950300        -0.007157       1.000000   \n",
              "MonthlyRate               0.039563         0.000644       0.034814   \n",
              "NumCompaniesWorked        0.142501        -0.055699       0.149515   \n",
              "PercentSalaryHike        -0.034730         0.020002      -0.027269   \n",
              "PerformanceRating        -0.021222         0.002297      -0.017120   \n",
              "RelationshipSatisfaction  0.021642        -0.012454       0.025873   \n",
              "StandardHours                  NaN              NaN            NaN   \n",
              "StockOptionLevel          0.013984         0.010690       0.005408   \n",
              "TotalWorkingYears         0.782208        -0.020185       0.772893   \n",
              "TrainingTimesLastYear    -0.018191        -0.005779      -0.021736   \n",
              "WorkLifeBalance           0.037818        -0.019459       0.030683   \n",
              "YearsAtCompany            0.534739        -0.003803       0.514285   \n",
              "YearsInCurrentRole        0.389447        -0.002305       0.363818   \n",
              "YearsSinceLastPromotion   0.353885        -0.018214       0.344978   \n",
              "YearsWithCurrManager      0.375281        -0.027656       0.344079   \n",
              "\n",
              "                          MonthlyRate  NumCompaniesWorked  PercentSalaryHike  \\\n",
              "Age                          0.028051            0.299635           0.003634   \n",
              "DailyRate                   -0.032182            0.038153           0.022704   \n",
              "DistanceFromHome             0.027473           -0.029251           0.040235   \n",
              "Education                   -0.026084            0.126317          -0.011111   \n",
              "EmployeeCount                     NaN                 NaN                NaN   \n",
              "EmployeeNumber               0.012648           -0.001251          -0.012944   \n",
              "EnvironmentSatisfaction      0.037600            0.012594          -0.031701   \n",
              "HourlyRate                  -0.015297            0.022157          -0.009062   \n",
              "JobInvolvement              -0.016322            0.015012          -0.017205   \n",
              "JobLevel                     0.039563            0.142501          -0.034730   \n",
              "JobSatisfaction              0.000644           -0.055699           0.020002   \n",
              "MonthlyIncome                0.034814            0.149515          -0.027269   \n",
              "MonthlyRate                  1.000000            0.017521          -0.006429   \n",
              "NumCompaniesWorked           0.017521            1.000000          -0.010238   \n",
              "PercentSalaryHike           -0.006429           -0.010238           1.000000   \n",
              "PerformanceRating           -0.009811           -0.014095           0.773550   \n",
              "RelationshipSatisfaction    -0.004085            0.052733          -0.040490   \n",
              "StandardHours                     NaN                 NaN                NaN   \n",
              "StockOptionLevel            -0.034323            0.030075           0.007528   \n",
              "TotalWorkingYears            0.026442            0.237639          -0.020608   \n",
              "TrainingTimesLastYear        0.001467           -0.066054          -0.005221   \n",
              "WorkLifeBalance              0.007963           -0.008366          -0.003280   \n",
              "YearsAtCompany              -0.023655           -0.118421          -0.035991   \n",
              "YearsInCurrentRole          -0.012815           -0.090754          -0.001520   \n",
              "YearsSinceLastPromotion      0.001567           -0.036814          -0.022154   \n",
              "YearsWithCurrManager        -0.036746           -0.110319          -0.011985   \n",
              "\n",
              "                          PerformanceRating  RelationshipSatisfaction  \\\n",
              "Age                                0.001904                  0.053535   \n",
              "DailyRate                          0.000473                  0.007846   \n",
              "DistanceFromHome                   0.027110                  0.006557   \n",
              "Education                         -0.024539                 -0.009118   \n",
              "EmployeeCount                           NaN                       NaN   \n",
              "EmployeeNumber                    -0.020359                 -0.069861   \n",
              "EnvironmentSatisfaction           -0.029548                  0.007665   \n",
              "HourlyRate                        -0.002172                  0.001330   \n",
              "JobInvolvement                    -0.029071                  0.034297   \n",
              "JobLevel                          -0.021222                  0.021642   \n",
              "JobSatisfaction                    0.002297                 -0.012454   \n",
              "MonthlyIncome                     -0.017120                  0.025873   \n",
              "MonthlyRate                       -0.009811                 -0.004085   \n",
              "NumCompaniesWorked                -0.014095                  0.052733   \n",
              "PercentSalaryHike                  0.773550                 -0.040490   \n",
              "PerformanceRating                  1.000000                 -0.031351   \n",
              "RelationshipSatisfaction          -0.031351                  1.000000   \n",
              "StandardHours                           NaN                       NaN   \n",
              "StockOptionLevel                   0.003506                 -0.045952   \n",
              "TotalWorkingYears                  0.006744                  0.024054   \n",
              "TrainingTimesLastYear             -0.015579                  0.002497   \n",
              "WorkLifeBalance                    0.002572                  0.019604   \n",
              "YearsAtCompany                     0.003435                  0.019367   \n",
              "YearsInCurrentRole                 0.034986                 -0.015123   \n",
              "YearsSinceLastPromotion            0.017896                  0.033493   \n",
              "YearsWithCurrManager               0.022827                 -0.000867   \n",
              "\n",
              "                          StandardHours  StockOptionLevel  TotalWorkingYears  \\\n",
              "Age                                 NaN          0.037510           0.680381   \n",
              "DailyRate                           NaN          0.042143           0.014515   \n",
              "DistanceFromHome                    NaN          0.044872           0.004628   \n",
              "Education                           NaN          0.018422           0.148280   \n",
              "EmployeeCount                       NaN               NaN                NaN   \n",
              "EmployeeNumber                      NaN          0.062227          -0.014365   \n",
              "EnvironmentSatisfaction             NaN          0.003432          -0.002693   \n",
              "HourlyRate                          NaN          0.050263          -0.002334   \n",
              "JobInvolvement                      NaN          0.021523          -0.005533   \n",
              "JobLevel                            NaN          0.013984           0.782208   \n",
              "JobSatisfaction                     NaN          0.010690          -0.020185   \n",
              "MonthlyIncome                       NaN          0.005408           0.772893   \n",
              "MonthlyRate                         NaN         -0.034323           0.026442   \n",
              "NumCompaniesWorked                  NaN          0.030075           0.237639   \n",
              "PercentSalaryHike                   NaN          0.007528          -0.020608   \n",
              "PerformanceRating                   NaN          0.003506           0.006744   \n",
              "RelationshipSatisfaction            NaN         -0.045952           0.024054   \n",
              "StandardHours                       NaN               NaN                NaN   \n",
              "StockOptionLevel                    NaN          1.000000           0.010136   \n",
              "TotalWorkingYears                   NaN          0.010136           1.000000   \n",
              "TrainingTimesLastYear               NaN          0.011274          -0.035662   \n",
              "WorkLifeBalance                     NaN          0.004129           0.001008   \n",
              "YearsAtCompany                      NaN          0.015058           0.628133   \n",
              "YearsInCurrentRole                  NaN          0.050818           0.460365   \n",
              "YearsSinceLastPromotion             NaN          0.014352           0.404858   \n",
              "YearsWithCurrManager                NaN          0.024698           0.459188   \n",
              "\n",
              "                          TrainingTimesLastYear  WorkLifeBalance  \\\n",
              "Age                                   -0.019621        -0.021490   \n",
              "DailyRate                              0.002453        -0.037848   \n",
              "DistanceFromHome                      -0.036942        -0.026556   \n",
              "Education                             -0.025100         0.009819   \n",
              "EmployeeCount                               NaN              NaN   \n",
              "EmployeeNumber                         0.023603         0.010309   \n",
              "EnvironmentSatisfaction               -0.019359         0.027627   \n",
              "HourlyRate                            -0.008548        -0.004607   \n",
              "JobInvolvement                        -0.015338        -0.014617   \n",
              "JobLevel                              -0.018191         0.037818   \n",
              "JobSatisfaction                       -0.005779        -0.019459   \n",
              "MonthlyIncome                         -0.021736         0.030683   \n",
              "MonthlyRate                            0.001467         0.007963   \n",
              "NumCompaniesWorked                    -0.066054        -0.008366   \n",
              "PercentSalaryHike                     -0.005221        -0.003280   \n",
              "PerformanceRating                     -0.015579         0.002572   \n",
              "RelationshipSatisfaction               0.002497         0.019604   \n",
              "StandardHours                               NaN              NaN   \n",
              "StockOptionLevel                       0.011274         0.004129   \n",
              "TotalWorkingYears                     -0.035662         0.001008   \n",
              "TrainingTimesLastYear                  1.000000         0.028072   \n",
              "WorkLifeBalance                        0.028072         1.000000   \n",
              "YearsAtCompany                         0.003569         0.012089   \n",
              "YearsInCurrentRole                    -0.005738         0.049856   \n",
              "YearsSinceLastPromotion               -0.002067         0.008941   \n",
              "YearsWithCurrManager                  -0.004096         0.002759   \n",
              "\n",
              "                          YearsAtCompany  YearsInCurrentRole  \\\n",
              "Age                             0.311309            0.212901   \n",
              "DailyRate                      -0.034055            0.009932   \n",
              "DistanceFromHome                0.009508            0.018845   \n",
              "Education                       0.069114            0.060236   \n",
              "EmployeeCount                        NaN                 NaN   \n",
              "EmployeeNumber                 -0.011240           -0.008416   \n",
              "EnvironmentSatisfaction         0.001458            0.018007   \n",
              "HourlyRate                     -0.019582           -0.024106   \n",
              "JobInvolvement                 -0.021355            0.008717   \n",
              "JobLevel                        0.534739            0.389447   \n",
              "JobSatisfaction                -0.003803           -0.002305   \n",
              "MonthlyIncome                   0.514285            0.363818   \n",
              "MonthlyRate                    -0.023655           -0.012815   \n",
              "NumCompaniesWorked             -0.118421           -0.090754   \n",
              "PercentSalaryHike              -0.035991           -0.001520   \n",
              "PerformanceRating               0.003435            0.034986   \n",
              "RelationshipSatisfaction        0.019367           -0.015123   \n",
              "StandardHours                        NaN                 NaN   \n",
              "StockOptionLevel                0.015058            0.050818   \n",
              "TotalWorkingYears               0.628133            0.460365   \n",
              "TrainingTimesLastYear           0.003569           -0.005738   \n",
              "WorkLifeBalance                 0.012089            0.049856   \n",
              "YearsAtCompany                  1.000000            0.758754   \n",
              "YearsInCurrentRole              0.758754            1.000000   \n",
              "YearsSinceLastPromotion         0.618409            0.548056   \n",
              "YearsWithCurrManager            0.769212            0.714365   \n",
              "\n",
              "                          YearsSinceLastPromotion  YearsWithCurrManager  \n",
              "Age                                      0.216513              0.202089  \n",
              "DailyRate                               -0.033229             -0.026363  \n",
              "DistanceFromHome                         0.010029              0.014406  \n",
              "Education                                0.054254              0.069065  \n",
              "EmployeeCount                                 NaN                   NaN  \n",
              "EmployeeNumber                          -0.009019             -0.009197  \n",
              "EnvironmentSatisfaction                  0.016194             -0.004999  \n",
              "HourlyRate                              -0.026716             -0.020123  \n",
              "JobInvolvement                          -0.024184              0.025976  \n",
              "JobLevel                                 0.353885              0.375281  \n",
              "JobSatisfaction                         -0.018214             -0.027656  \n",
              "MonthlyIncome                            0.344978              0.344079  \n",
              "MonthlyRate                              0.001567             -0.036746  \n",
              "NumCompaniesWorked                      -0.036814             -0.110319  \n",
              "PercentSalaryHike                       -0.022154             -0.011985  \n",
              "PerformanceRating                        0.017896              0.022827  \n",
              "RelationshipSatisfaction                 0.033493             -0.000867  \n",
              "StandardHours                                 NaN                   NaN  \n",
              "StockOptionLevel                         0.014352              0.024698  \n",
              "TotalWorkingYears                        0.404858              0.459188  \n",
              "TrainingTimesLastYear                   -0.002067             -0.004096  \n",
              "WorkLifeBalance                          0.008941              0.002759  \n",
              "YearsAtCompany                           0.618409              0.769212  \n",
              "YearsInCurrentRole                       0.548056              0.714365  \n",
              "YearsSinceLastPromotion                  1.000000              0.510224  \n",
              "YearsWithCurrManager                     0.510224              1.000000  "
            ]
          },
          "metadata": {
            "tags": []
          },
          "execution_count": 11
        }
      ]
    },
    {
      "cell_type": "code",
      "metadata": {
        "_uuid": "8e8789fd29fc324c4951c62646c890385f8ea531",
        "id": "W4fkppMB6yiz",
        "colab": {
          "base_uri": "https://localhost:8080/",
          "height": 710
        },
        "outputId": "5b61e48c-f2a3-4c11-9129-0740427d4d10"
      },
      "source": [
        "plt.figure(figsize=(14,10))\n",
        "sns.heatmap(data.corr(), yticklabels=True, cbar=True, linewidths=0)\n",
        "plt.show()"
      ],
      "execution_count": null,
      "outputs": [
        {
          "output_type": "display_data",
          "data": {
            "image/png": "[encoded data removed]",
            "text/plain": [
              "<Figure size 1008x720 with 2 Axes>"
            ]
          },
          "metadata": {
            "tags": [],
            "needs_background": "light"
          }
        }
      ]
    },
    {
      "cell_type": "markdown",
      "metadata": {
        "_uuid": "9e8cedcb5df868579b04af0f6faf8def96420859",
        "id": "4b0wP_T66yi-"
      },
      "source": [
        "**Observation**:\n",
        "\n",
        "- The above data shows there is a severe **correlation** in the data.\n",
        "\n",
        "- **Dropping** these features may cause to **lose** enough **information**.\n",
        "\n",
        "- We will try using **decomposition** to solve this problem."
      ]
    },
    {
      "cell_type": "markdown",
      "metadata": {
        "id": "iJDk03zE6yjI"
      },
      "source": [
        "### Class Distribution in the **`Attrition`** Column."
      ]
    },
    {
      "cell_type": "code",
      "metadata": {
        "_uuid": "41cc8795cf00fbfe9e00de7c648f37ae7a1583e7",
        "id": "PFkdlad46yjJ",
        "colab": {
          "base_uri": "https://localhost:8080/",
          "height": 279
        },
        "outputId": "19943031-2228-4d14-b73a-2f4df7d5fdf2"
      },
      "source": [
        "sns.countplot(x=data['Attrition'])\n",
        "plt.show()"
      ],
      "execution_count": null,
      "outputs": [
        {
          "output_type": "display_data",
          "data": {
            "image/png": "[encoded data removed]",
            "text/plain": [
              "<Figure size 432x288 with 1 Axes>"
            ]
          },
          "metadata": {
            "tags": [],
            "needs_background": "light"
          }
        }
      ]
    },
    {
      "cell_type": "markdown",
      "metadata": {
        "id": "NhWWWgWTFmQU"
      },
      "source": [
        "**Observation**:\n",
        "\n",
        "- There is a **class imbalance** in the data.\n",
        "\n",
        "- There are about **1200** samples with **No** value in the `Attrition` column.\n",
        "\n",
        "- Only about **200** samples have a **Yes** value in the `Attrition` column."
      ]
    },
    {
      "cell_type": "markdown",
      "metadata": {
        "_uuid": "7e520d0b41b0fa79409dd5acb7ed15a78231417f",
        "id": "NeEdmLf46yjY"
      },
      "source": [
        "<a id=section5></a>\n",
        "## 5. Data Preprocessing"
      ]
    },
    {
      "cell_type": "markdown",
      "metadata": {
        "_uuid": "d35828a870b7483f9c77e1c83eac92769035c03d",
        "id": "_bSTCG8y6yjg"
      },
      "source": [
        "### Creating Dummy Variables\n",
        "\n",
        "- There are **6 categorical** features in the data.\n",
        "\n",
        "- We will create **dummy variables** of them."
      ]
    },
    {
      "cell_type": "code",
      "metadata": {
        "id": "V_3kEaFOytEe"
      },
      "source": [
        "dumy_df = pd.get_dummies(data[['BusinessTravel','Department','EducationField']], drop_first=True)"
      ],
      "execution_count": null,
      "outputs": []
    },
    {
      "cell_type": "code",
      "metadata": {
        "colab": {
          "base_uri": "https://localhost:8080/",
          "height": 239
        },
        "id": "BYyHE9Zvy1qG",
        "outputId": "a5b642e1-7e2b-4bc8-e934-489a32c307cd"
      },
      "source": [
        "pd.concat([originaldata(should not have columns passed in dummification),dummy_df], axis=1)"
      ],
      "execution_count": null,
      "outputs": [
        {
          "output_type": "execute_result",
          "data": {
            "text/html": [
              "<div>\n",
              "<style scoped>\n",
              "    .dataframe tbody tr th:only-of-type {\n",
              "        vertical-align: middle;\n",
              "    }\n",
              "\n",
              "    .dataframe tbody tr th {\n",
              "        vertical-align: top;\n",
              "    }\n",
              "\n",
              "    .dataframe thead th {\n",
              "        text-align: right;\n",
              "    }\n",
              "</style>\n",
              "<table border=\"1\" class=\"dataframe\">\n",
              "  <thead>\n",
              "    <tr style=\"text-align: right;\">\n",
              "      <th></th>\n",
              "      <th>BusinessTravel_Travel_Frequently</th>\n",
              "      <th>BusinessTravel_Travel_Rarely</th>\n",
              "      <th>Department_Research &amp; Development</th>\n",
              "      <th>Department_Sales</th>\n",
              "      <th>EducationField_Life Sciences</th>\n",
              "      <th>EducationField_Marketing</th>\n",
              "      <th>EducationField_Medical</th>\n",
              "      <th>EducationField_Other</th>\n",
              "      <th>EducationField_Technical Degree</th>\n",
              "    </tr>\n",
              "  </thead>\n",
              "  <tbody>\n",
              "    <tr>\n",
              "      <th>0</th>\n",
              "      <td>0</td>\n",
              "      <td>1</td>\n",
              "      <td>0</td>\n",
              "      <td>1</td>\n",
              "      <td>1</td>\n",
              "      <td>0</td>\n",
              "      <td>0</td>\n",
              "      <td>0</td>\n",
              "      <td>0</td>\n",
              "    </tr>\n",
              "    <tr>\n",
              "      <th>1</th>\n",
              "      <td>1</td>\n",
              "      <td>0</td>\n",
              "      <td>1</td>\n",
              "      <td>0</td>\n",
              "      <td>1</td>\n",
              "      <td>0</td>\n",
              "      <td>0</td>\n",
              "      <td>0</td>\n",
              "      <td>0</td>\n",
              "    </tr>\n",
              "    <tr>\n",
              "      <th>2</th>\n",
              "      <td>0</td>\n",
              "      <td>1</td>\n",
              "      <td>1</td>\n",
              "      <td>0</td>\n",
              "      <td>0</td>\n",
              "      <td>0</td>\n",
              "      <td>0</td>\n",
              "      <td>1</td>\n",
              "      <td>0</td>\n",
              "    </tr>\n",
              "    <tr>\n",
              "      <th>3</th>\n",
              "      <td>1</td>\n",
              "      <td>0</td>\n",
              "      <td>1</td>\n",
              "      <td>0</td>\n",
              "      <td>1</td>\n",
              "      <td>0</td>\n",
              "      <td>0</td>\n",
              "      <td>0</td>\n",
              "      <td>0</td>\n",
              "    </tr>\n",
              "    <tr>\n",
              "      <th>4</th>\n",
              "      <td>0</td>\n",
              "      <td>1</td>\n",
              "      <td>1</td>\n",
              "      <td>0</td>\n",
              "      <td>0</td>\n",
              "      <td>0</td>\n",
              "      <td>1</td>\n",
              "      <td>0</td>\n",
              "      <td>0</td>\n",
              "    </tr>\n",
              "  </tbody>\n",
              "</table>\n",
              "</div>"
            ],
            "text/plain": [
              "   BusinessTravel_Travel_Frequently  BusinessTravel_Travel_Rarely  \\\n",
              "0                                 0                             1   \n",
              "1                                 1                             0   \n",
              "2                                 0                             1   \n",
              "3                                 1                             0   \n",
              "4                                 0                             1   \n",
              "\n",
              "   Department_Research & Development  Department_Sales  \\\n",
              "0                                  0                 1   \n",
              "1                                  1                 0   \n",
              "2                                  1                 0   \n",
              "3                                  1                 0   \n",
              "4                                  1                 0   \n",
              "\n",
              "   EducationField_Life Sciences  EducationField_Marketing  \\\n",
              "0                             1                         0   \n",
              "1                             1                         0   \n",
              "2                             0                         0   \n",
              "3                             1                         0   \n",
              "4                             0                         0   \n",
              "\n",
              "   EducationField_Medical  EducationField_Other  \\\n",
              "0                       0                     0   \n",
              "1                       0                     0   \n",
              "2                       0                     1   \n",
              "3                       0                     0   \n",
              "4                       1                     0   \n",
              "\n",
              "   EducationField_Technical Degree  \n",
              "0                                0  \n",
              "1                                0  \n",
              "2                                0  \n",
              "3                                0  \n",
              "4                                0  "
            ]
          },
          "metadata": {
            "tags": []
          },
          "execution_count": 20
        }
      ]
    },
    {
      "cell_type": "code",
      "metadata": {
        "_uuid": "2a68c3a4b4c8b16f3dc8fe967ef360e2c01c3af2",
        "id": "H3QI7BqS6yji"
      },
      "source": [
        "BusinessTravel = pd.get_dummies(data['BusinessTravel'], drop_first=True)"
      ],
      "execution_count": null,
      "outputs": []
    },
    {
      "cell_type": "code",
      "metadata": {
        "_uuid": "cda6098bd282bcf81e2ded3bd6013c1e46edb621",
        "id": "CLfp9gqv6yjo"
      },
      "source": [
        "Department = pd.get_dummies(data['Department'], drop_first=True)"
      ],
      "execution_count": null,
      "outputs": []
    },
    {
      "cell_type": "code",
      "metadata": {
        "_uuid": "0911a8322fb66362212aaed75a35d34bb2a108b8",
        "id": "TNXAg29R6yju"
      },
      "source": [
        "EducationField = pd.get_dummies(data['EducationField'], drop_first=True)"
      ],
      "execution_count": null,
      "outputs": []
    },
    {
      "cell_type": "code",
      "metadata": {
        "_uuid": "aa376c99f2e7aa60462427183bef27da110c40f1",
        "id": "8mSvN0nW6yj0"
      },
      "source": [
        "Gender = pd.get_dummies(data['Gender'], drop_first=True)"
      ],
      "execution_count": null,
      "outputs": []
    },
    {
      "cell_type": "code",
      "metadata": {
        "_uuid": "8914fc809c267f05beefa680205fb39feae97d01",
        "id": "qthLKCER6yj5"
      },
      "source": [
        "JobRole  = pd.get_dummies(data['JobRole'], drop_first=True)"
      ],
      "execution_count": null,
      "outputs": []
    },
    {
      "cell_type": "code",
      "metadata": {
        "_uuid": "c9c87f8429c9b49ef9df312a5a18682c36fdd186",
        "id": "-Z7sBgLv6yj-"
      },
      "source": [
        "MaritalStatus = pd.get_dummies(data['MaritalStatus'], drop_first=True)"
      ],
      "execution_count": null,
      "outputs": []
    },
    {
      "cell_type": "markdown",
      "metadata": {
        "id": "nfYcszheOeHe"
      },
      "source": [
        "- Creating a **copy** of the `data` dataframe, **`Train`** "
      ]
    },
    {
      "cell_type": "code",
      "metadata": {
        "_uuid": "ae1698bb5a3d9d51f0ce980910caaf79e4f5968e",
        "id": "AYKFSzU-6ykE"
      },
      "source": [
        "Train = data.copy()"
      ],
      "execution_count": null,
      "outputs": []
    },
    {
      "cell_type": "markdown",
      "metadata": {
        "id": "HawgiMwx6yku"
      },
      "source": [
        "- **Concat** the **dummy variable** with the **`Train`** dataframe."
      ]
    },
    {
      "cell_type": "code",
      "metadata": {
        "_uuid": "0ec2cf62bc6b4c95ab7a3bc9d53805d29e317e19",
        "id": "IZarCSo96yku",
        "colab": {
          "base_uri": "https://localhost:8080/",
          "height": 326
        },
        "outputId": "8dfeb226-7faa-46a6-8b6b-5e6dd1c4ff2c"
      },
      "source": [
        "Train = pd.concat([Train, Department, EducationField, Gender, BusinessTravel, JobRole, MaritalStatus], axis=1)\n",
        "Train.head()"
      ],
      "execution_count": null,
      "outputs": [
        {
          "output_type": "execute_result",
          "data": {
            "text/html": [
              "<div>\n",
              "<style scoped>\n",
              "    .dataframe tbody tr th:only-of-type {\n",
              "        vertical-align: middle;\n",
              "    }\n",
              "\n",
              "    .dataframe tbody tr th {\n",
              "        vertical-align: top;\n",
              "    }\n",
              "\n",
              "    .dataframe thead th {\n",
              "        text-align: right;\n",
              "    }\n",
              "</style>\n",
              "<table border=\"1\" class=\"dataframe\">\n",
              "  <thead>\n",
              "    <tr style=\"text-align: right;\">\n",
              "      <th></th>\n",
              "      <th>Age</th>\n",
              "      <th>Attrition</th>\n",
              "      <th>BusinessTravel</th>\n",
              "      <th>DailyRate</th>\n",
              "      <th>Department</th>\n",
              "      <th>DistanceFromHome</th>\n",
              "      <th>Education</th>\n",
              "      <th>EducationField</th>\n",
              "      <th>EmployeeCount</th>\n",
              "      <th>EmployeeNumber</th>\n",
              "      <th>EnvironmentSatisfaction</th>\n",
              "      <th>Gender</th>\n",
              "      <th>HourlyRate</th>\n",
              "      <th>JobInvolvement</th>\n",
              "      <th>JobLevel</th>\n",
              "      <th>JobRole</th>\n",
              "      <th>JobSatisfaction</th>\n",
              "      <th>MaritalStatus</th>\n",
              "      <th>MonthlyIncome</th>\n",
              "      <th>MonthlyRate</th>\n",
              "      <th>NumCompaniesWorked</th>\n",
              "      <th>Over18</th>\n",
              "      <th>OverTime</th>\n",
              "      <th>PercentSalaryHike</th>\n",
              "      <th>PerformanceRating</th>\n",
              "      <th>RelationshipSatisfaction</th>\n",
              "      <th>StandardHours</th>\n",
              "      <th>StockOptionLevel</th>\n",
              "      <th>TotalWorkingYears</th>\n",
              "      <th>TrainingTimesLastYear</th>\n",
              "      <th>WorkLifeBalance</th>\n",
              "      <th>YearsAtCompany</th>\n",
              "      <th>YearsInCurrentRole</th>\n",
              "      <th>YearsSinceLastPromotion</th>\n",
              "      <th>YearsWithCurrManager</th>\n",
              "      <th>Research &amp; Development</th>\n",
              "      <th>Sales</th>\n",
              "      <th>Life Sciences</th>\n",
              "      <th>Marketing</th>\n",
              "      <th>Medical</th>\n",
              "      <th>Other</th>\n",
              "      <th>Technical Degree</th>\n",
              "      <th>Male</th>\n",
              "      <th>Travel_Frequently</th>\n",
              "      <th>Travel_Rarely</th>\n",
              "      <th>Human Resources</th>\n",
              "      <th>Laboratory Technician</th>\n",
              "      <th>Manager</th>\n",
              "      <th>Manufacturing Director</th>\n",
              "      <th>Research Director</th>\n",
              "      <th>Research Scientist</th>\n",
              "      <th>Sales Executive</th>\n",
              "      <th>Sales Representative</th>\n",
              "      <th>Married</th>\n",
              "      <th>Single</th>\n",
              "    </tr>\n",
              "  </thead>\n",
              "  <tbody>\n",
              "    <tr>\n",
              "      <th>0</th>\n",
              "      <td>41</td>\n",
              "      <td>Yes</td>\n",
              "      <td>Travel_Rarely</td>\n",
              "      <td>1102</td>\n",
              "      <td>Sales</td>\n",
              "      <td>1</td>\n",
              "      <td>2</td>\n",
              "      <td>Life Sciences</td>\n",
              "      <td>1</td>\n",
              "      <td>1</td>\n",
              "      <td>2</td>\n",
              "      <td>Female</td>\n",
              "      <td>94</td>\n",
              "      <td>3</td>\n",
              "      <td>2</td>\n",
              "      <td>Sales Executive</td>\n",
              "      <td>4</td>\n",
              "      <td>Single</td>\n",
              "      <td>5993</td>\n",
              "      <td>19479</td>\n",
              "      <td>8</td>\n",
              "      <td>Y</td>\n",
              "      <td>Yes</td>\n",
              "      <td>11</td>\n",
              "      <td>3</td>\n",
              "      <td>1</td>\n",
              "      <td>80</td>\n",
              "      <td>0</td>\n",
              "      <td>8</td>\n",
              "      <td>0</td>\n",
              "      <td>1</td>\n",
              "      <td>6</td>\n",
              "      <td>4</td>\n",
              "      <td>0</td>\n",
              "      <td>5</td>\n",
              "      <td>0</td>\n",
              "      <td>1</td>\n",
              "      <td>1</td>\n",
              "      <td>0</td>\n",
              "      <td>0</td>\n",
              "      <td>0</td>\n",
              "      <td>0</td>\n",
              "      <td>0</td>\n",
              "      <td>0</td>\n",
              "      <td>1</td>\n",
              "      <td>0</td>\n",
              "      <td>0</td>\n",
              "      <td>0</td>\n",
              "      <td>0</td>\n",
              "      <td>0</td>\n",
              "      <td>0</td>\n",
              "      <td>1</td>\n",
              "      <td>0</td>\n",
              "      <td>0</td>\n",
              "      <td>1</td>\n",
              "    </tr>\n",
              "    <tr>\n",
              "      <th>1</th>\n",
              "      <td>49</td>\n",
              "      <td>No</td>\n",
              "      <td>Travel_Frequently</td>\n",
              "      <td>279</td>\n",
              "      <td>Research &amp; Development</td>\n",
              "      <td>8</td>\n",
              "      <td>1</td>\n",
              "      <td>Life Sciences</td>\n",
              "      <td>1</td>\n",
              "      <td>2</td>\n",
              "      <td>3</td>\n",
              "      <td>Male</td>\n",
              "      <td>61</td>\n",
              "      <td>2</td>\n",
              "      <td>2</td>\n",
              "      <td>Research Scientist</td>\n",
              "      <td>2</td>\n",
              "      <td>Married</td>\n",
              "      <td>5130</td>\n",
              "      <td>24907</td>\n",
              "      <td>1</td>\n",
              "      <td>Y</td>\n",
              "      <td>No</td>\n",
              "      <td>23</td>\n",
              "      <td>4</td>\n",
              "      <td>4</td>\n",
              "      <td>80</td>\n",
              "      <td>1</td>\n",
              "      <td>10</td>\n",
              "      <td>3</td>\n",
              "      <td>3</td>\n",
              "      <td>10</td>\n",
              "      <td>7</td>\n",
              "      <td>1</td>\n",
              "      <td>7</td>\n",
              "      <td>1</td>\n",
              "      <td>0</td>\n",
              "      <td>1</td>\n",
              "      <td>0</td>\n",
              "      <td>0</td>\n",
              "      <td>0</td>\n",
              "      <td>0</td>\n",
              "      <td>1</td>\n",
              "      <td>1</td>\n",
              "      <td>0</td>\n",
              "      <td>0</td>\n",
              "      <td>0</td>\n",
              "      <td>0</td>\n",
              "      <td>0</td>\n",
              "      <td>0</td>\n",
              "      <td>1</td>\n",
              "      <td>0</td>\n",
              "      <td>0</td>\n",
              "      <td>1</td>\n",
              "      <td>0</td>\n",
              "    </tr>\n",
              "    <tr>\n",
              "      <th>2</th>\n",
              "      <td>37</td>\n",
              "      <td>Yes</td>\n",
              "      <td>Travel_Rarely</td>\n",
              "      <td>1373</td>\n",
              "      <td>Research &amp; Development</td>\n",
              "      <td>2</td>\n",
              "      <td>2</td>\n",
              "      <td>Other</td>\n",
              "      <td>1</td>\n",
              "      <td>4</td>\n",
              "      <td>4</td>\n",
              "      <td>Male</td>\n",
              "      <td>92</td>\n",
              "      <td>2</td>\n",
              "      <td>1</td>\n",
              "      <td>Laboratory Technician</td>\n",
              "      <td>3</td>\n",
              "      <td>Single</td>\n",
              "      <td>2090</td>\n",
              "      <td>2396</td>\n",
              "      <td>6</td>\n",
              "      <td>Y</td>\n",
              "      <td>Yes</td>\n",
              "      <td>15</td>\n",
              "      <td>3</td>\n",
              "      <td>2</td>\n",
              "      <td>80</td>\n",
              "      <td>0</td>\n",
              "      <td>7</td>\n",
              "      <td>3</td>\n",
              "      <td>3</td>\n",
              "      <td>0</td>\n",
              "      <td>0</td>\n",
              "      <td>0</td>\n",
              "      <td>0</td>\n",
              "      <td>1</td>\n",
              "      <td>0</td>\n",
              "      <td>0</td>\n",
              "      <td>0</td>\n",
              "      <td>0</td>\n",
              "      <td>1</td>\n",
              "      <td>0</td>\n",
              "      <td>1</td>\n",
              "      <td>0</td>\n",
              "      <td>1</td>\n",
              "      <td>0</td>\n",
              "      <td>1</td>\n",
              "      <td>0</td>\n",
              "      <td>0</td>\n",
              "      <td>0</td>\n",
              "      <td>0</td>\n",
              "      <td>0</td>\n",
              "      <td>0</td>\n",
              "      <td>0</td>\n",
              "      <td>1</td>\n",
              "    </tr>\n",
              "    <tr>\n",
              "      <th>3</th>\n",
              "      <td>33</td>\n",
              "      <td>No</td>\n",
              "      <td>Travel_Frequently</td>\n",
              "      <td>1392</td>\n",
              "      <td>Research &amp; Development</td>\n",
              "      <td>3</td>\n",
              "      <td>4</td>\n",
              "      <td>Life Sciences</td>\n",
              "      <td>1</td>\n",
              "      <td>5</td>\n",
              "      <td>4</td>\n",
              "      <td>Female</td>\n",
              "      <td>56</td>\n",
              "      <td>3</td>\n",
              "      <td>1</td>\n",
              "      <td>Research Scientist</td>\n",
              "      <td>3</td>\n",
              "      <td>Married</td>\n",
              "      <td>2909</td>\n",
              "      <td>23159</td>\n",
              "      <td>1</td>\n",
              "      <td>Y</td>\n",
              "      <td>Yes</td>\n",
              "      <td>11</td>\n",
              "      <td>3</td>\n",
              "      <td>3</td>\n",
              "      <td>80</td>\n",
              "      <td>0</td>\n",
              "      <td>8</td>\n",
              "      <td>3</td>\n",
              "      <td>3</td>\n",
              "      <td>8</td>\n",
              "      <td>7</td>\n",
              "      <td>3</td>\n",
              "      <td>0</td>\n",
              "      <td>1</td>\n",
              "      <td>0</td>\n",
              "      <td>1</td>\n",
              "      <td>0</td>\n",
              "      <td>0</td>\n",
              "      <td>0</td>\n",
              "      <td>0</td>\n",
              "      <td>0</td>\n",
              "      <td>1</td>\n",
              "      <td>0</td>\n",
              "      <td>0</td>\n",
              "      <td>0</td>\n",
              "      <td>0</td>\n",
              "      <td>0</td>\n",
              "      <td>0</td>\n",
              "      <td>1</td>\n",
              "      <td>0</td>\n",
              "      <td>0</td>\n",
              "      <td>1</td>\n",
              "      <td>0</td>\n",
              "    </tr>\n",
              "    <tr>\n",
              "      <th>4</th>\n",
              "      <td>27</td>\n",
              "      <td>No</td>\n",
              "      <td>Travel_Rarely</td>\n",
              "      <td>591</td>\n",
              "      <td>Research &amp; Development</td>\n",
              "      <td>2</td>\n",
              "      <td>1</td>\n",
              "      <td>Medical</td>\n",
              "      <td>1</td>\n",
              "      <td>7</td>\n",
              "      <td>1</td>\n",
              "      <td>Male</td>\n",
              "      <td>40</td>\n",
              "      <td>3</td>\n",
              "      <td>1</td>\n",
              "      <td>Laboratory Technician</td>\n",
              "      <td>2</td>\n",
              "      <td>Married</td>\n",
              "      <td>3468</td>\n",
              "      <td>16632</td>\n",
              "      <td>9</td>\n",
              "      <td>Y</td>\n",
              "      <td>No</td>\n",
              "      <td>12</td>\n",
              "      <td>3</td>\n",
              "      <td>4</td>\n",
              "      <td>80</td>\n",
              "      <td>1</td>\n",
              "      <td>6</td>\n",
              "      <td>3</td>\n",
              "      <td>3</td>\n",
              "      <td>2</td>\n",
              "      <td>2</td>\n",
              "      <td>2</td>\n",
              "      <td>2</td>\n",
              "      <td>1</td>\n",
              "      <td>0</td>\n",
              "      <td>0</td>\n",
              "      <td>0</td>\n",
              "      <td>1</td>\n",
              "      <td>0</td>\n",
              "      <td>0</td>\n",
              "      <td>1</td>\n",
              "      <td>0</td>\n",
              "      <td>1</td>\n",
              "      <td>0</td>\n",
              "      <td>1</td>\n",
              "      <td>0</td>\n",
              "      <td>0</td>\n",
              "      <td>0</td>\n",
              "      <td>0</td>\n",
              "      <td>0</td>\n",
              "      <td>0</td>\n",
              "      <td>1</td>\n",
              "      <td>0</td>\n",
              "    </tr>\n",
              "  </tbody>\n",
              "</table>\n",
              "</div>"
            ],
            "text/plain": [
              "   Age Attrition     BusinessTravel  DailyRate              Department  \\\n",
              "0   41       Yes      Travel_Rarely       1102                   Sales   \n",
              "1   49        No  Travel_Frequently        279  Research & Development   \n",
              "2   37       Yes      Travel_Rarely       1373  Research & Development   \n",
              "3   33        No  Travel_Frequently       1392  Research & Development   \n",
              "4   27        No      Travel_Rarely        591  Research & Development   \n",
              "\n",
              "   DistanceFromHome  Education EducationField  EmployeeCount  EmployeeNumber  \\\n",
              "0                 1          2  Life Sciences              1               1   \n",
              "1                 8          1  Life Sciences              1               2   \n",
              "2                 2          2          Other              1               4   \n",
              "3                 3          4  Life Sciences              1               5   \n",
              "4                 2          1        Medical              1               7   \n",
              "\n",
              "   EnvironmentSatisfaction  Gender  HourlyRate  JobInvolvement  JobLevel  \\\n",
              "0                        2  Female          94               3         2   \n",
              "1                        3    Male          61               2         2   \n",
              "2                        4    Male          92               2         1   \n",
              "3                        4  Female          56               3         1   \n",
              "4                        1    Male          40               3         1   \n",
              "\n",
              "                 JobRole  JobSatisfaction MaritalStatus  MonthlyIncome  \\\n",
              "0        Sales Executive                4        Single           5993   \n",
              "1     Research Scientist                2       Married           5130   \n",
              "2  Laboratory Technician                3        Single           2090   \n",
              "3     Research Scientist                3       Married           2909   \n",
              "4  Laboratory Technician                2       Married           3468   \n",
              "\n",
              "   MonthlyRate  NumCompaniesWorked Over18 OverTime  PercentSalaryHike  \\\n",
              "0        19479                   8      Y      Yes                 11   \n",
              "1        24907                   1      Y       No                 23   \n",
              "2         2396                   6      Y      Yes                 15   \n",
              "3        23159                   1      Y      Yes                 11   \n",
              "4        16632                   9      Y       No                 12   \n",
              "\n",
              "   PerformanceRating  RelationshipSatisfaction  StandardHours  \\\n",
              "0                  3                         1             80   \n",
              "1                  4                         4             80   \n",
              "2                  3                         2             80   \n",
              "3                  3                         3             80   \n",
              "4                  3                         4             80   \n",
              "\n",
              "   StockOptionLevel  TotalWorkingYears  TrainingTimesLastYear  \\\n",
              "0                 0                  8                      0   \n",
              "1                 1                 10                      3   \n",
              "2                 0                  7                      3   \n",
              "3                 0                  8                      3   \n",
              "4                 1                  6                      3   \n",
              "\n",
              "   WorkLifeBalance  YearsAtCompany  YearsInCurrentRole  \\\n",
              "0                1               6                   4   \n",
              "1                3              10                   7   \n",
              "2                3               0                   0   \n",
              "3                3               8                   7   \n",
              "4                3               2                   2   \n",
              "\n",
              "   YearsSinceLastPromotion  YearsWithCurrManager  Research & Development  \\\n",
              "0                        0                     5                       0   \n",
              "1                        1                     7                       1   \n",
              "2                        0                     0                       1   \n",
              "3                        3                     0                       1   \n",
              "4                        2                     2                       1   \n",
              "\n",
              "   Sales  Life Sciences  Marketing  Medical  Other  Technical Degree  Male  \\\n",
              "0      1              1          0        0      0                 0     0   \n",
              "1      0              1          0        0      0                 0     1   \n",
              "2      0              0          0        0      1                 0     1   \n",
              "3      0              1          0        0      0                 0     0   \n",
              "4      0              0          0        1      0                 0     1   \n",
              "\n",
              "   Travel_Frequently  Travel_Rarely  Human Resources  Laboratory Technician  \\\n",
              "0                  0              1                0                      0   \n",
              "1                  1              0                0                      0   \n",
              "2                  0              1                0                      1   \n",
              "3                  1              0                0                      0   \n",
              "4                  0              1                0                      1   \n",
              "\n",
              "   Manager  Manufacturing Director  Research Director  Research Scientist  \\\n",
              "0        0                       0                  0                   0   \n",
              "1        0                       0                  0                   1   \n",
              "2        0                       0                  0                   0   \n",
              "3        0                       0                  0                   1   \n",
              "4        0                       0                  0                   0   \n",
              "\n",
              "   Sales Executive  Sales Representative  Married  Single  \n",
              "0                1                     0        0       1  \n",
              "1                0                     0        1       0  \n",
              "2                0                     0        0       1  \n",
              "3                0                     0        1       0  \n",
              "4                0                     0        1       0  "
            ]
          },
          "metadata": {
            "tags": []
          },
          "execution_count": 22
        }
      ]
    },
    {
      "cell_type": "markdown",
      "metadata": {
        "id": "e3DyXiQT6ykq"
      },
      "source": [
        "### Dropping Redundant Variables"
      ]
    },
    {
      "cell_type": "code",
      "metadata": {
        "_uuid": "4b03236a4215a0b6b7f2d09faa191283ac16556b",
        "id": "maGyTgkb6ykq"
      },
      "source": [
        "Train.drop(['Department', 'EducationField', 'Gender', 'BusinessTravel', 'JobRole', 'MaritalStatus'], axis=1, inplace=True)"
      ],
      "execution_count": null,
      "outputs": []
    },
    {
      "cell_type": "markdown",
      "metadata": {
        "id": "Yf2OiDjHPQcS"
      },
      "source": [
        "### Encoding Binary Values Columns"
      ]
    },
    {
      "cell_type": "markdown",
      "metadata": {
        "id": "YSoK8OaqOl_s"
      },
      "source": [
        "- Creating funtion to encode **Yes** and **No** values to **binary** (**1** or **0**) values."
      ]
    },
    {
      "cell_type": "code",
      "metadata": {
        "id": "C1Rn3hia0i9h"
      },
      "source": [
        "# nominal / non_ordinal "
      ],
      "execution_count": null,
      "outputs": []
    },
    {
      "cell_type": "code",
      "metadata": {
        "_uuid": "c04ec141ddc5dcf085e1b8ce564146d66f495c22",
        "id": "PvHWL_Ga6ykJ"
      },
      "source": [
        "def StrToBin(a):\n",
        "    if a == 'Yes':\n",
        "        return 1\n",
        "    else:\n",
        "        return 0"
      ],
      "execution_count": null,
      "outputs": []
    },
    {
      "cell_type": "code",
      "metadata": {
        "id": "c-KcsAqQz9hU"
      },
      "source": [
        "# LabelEncoder \n",
        "# Dummy/onehot with drop_first=True? "
      ],
      "execution_count": null,
      "outputs": []
    },
    {
      "cell_type": "code",
      "metadata": {
        "id": "7uK01nNu0cVJ"
      },
      "source": [
        ".map(dict{\"yes\":1,\"no\":0})"
      ],
      "execution_count": null,
      "outputs": []
    },
    {
      "cell_type": "markdown",
      "metadata": {
        "id": "T1lHVVjhOzUY"
      },
      "source": [
        "- Creating funtion to encode **Y** and **N** values to **binary** (**1** or **0**) values."
      ]
    },
    {
      "cell_type": "code",
      "metadata": {
        "_uuid": "ded41787793363082b175bb86bb4845f2400fa79",
        "id": "PDL-uh1L6ykO"
      },
      "source": [
        "def StrToBinb(a):\n",
        "    if a == 'Y':\n",
        "        return 1\n",
        "    else:\n",
        "        return 0"
      ],
      "execution_count": null,
      "outputs": []
    },
    {
      "cell_type": "markdown",
      "metadata": {
        "id": "E4-9dUpRO2ad"
      },
      "source": [
        "- **Encoding** the **binary** values using the respective functions."
      ]
    },
    {
      "cell_type": "code",
      "metadata": {
        "_uuid": "51c2ded37e752003e90e201285a28f1d38ef23de",
        "id": "0hMZ7n7N6ykT"
      },
      "source": [
        "Train['Attrition'] = Train['Attrition'].apply(StrToBin)"
      ],
      "execution_count": null,
      "outputs": []
    },
    {
      "cell_type": "code",
      "metadata": {
        "_uuid": "bd3af9a3606dfd9d77389fa12c62eb735d548026",
        "id": "OXb0XrzJ6ykZ"
      },
      "source": [
        "Train['OverTime'] = Train['OverTime'].apply(StrToBin)"
      ],
      "execution_count": null,
      "outputs": []
    },
    {
      "cell_type": "code",
      "metadata": {
        "_uuid": "cfa71125070af8565a2744347ad85aabc122cb0b",
        "id": "f4lpG7QM6ykf"
      },
      "source": [
        "Train['Over18'] = Train['Over18'].apply(StrToBinb)"
      ],
      "execution_count": null,
      "outputs": []
    },
    {
      "cell_type": "code",
      "metadata": {
        "id": "ZJuLbfg6QA8f",
        "colab": {
          "base_uri": "https://localhost:8080/",
          "height": 239
        },
        "outputId": "ef660a3e-2785-4569-d4a9-689a1d47054f"
      },
      "source": [
        "Train.head()"
      ],
      "execution_count": null,
      "outputs": [
        {
          "output_type": "execute_result",
          "data": {
            "text/html": [
              "<div>\n",
              "<style scoped>\n",
              "    .dataframe tbody tr th:only-of-type {\n",
              "        vertical-align: middle;\n",
              "    }\n",
              "\n",
              "    .dataframe tbody tr th {\n",
              "        vertical-align: top;\n",
              "    }\n",
              "\n",
              "    .dataframe thead th {\n",
              "        text-align: right;\n",
              "    }\n",
              "</style>\n",
              "<table border=\"1\" class=\"dataframe\">\n",
              "  <thead>\n",
              "    <tr style=\"text-align: right;\">\n",
              "      <th></th>\n",
              "      <th>Age</th>\n",
              "      <th>Attrition</th>\n",
              "      <th>DailyRate</th>\n",
              "      <th>DistanceFromHome</th>\n",
              "      <th>Education</th>\n",
              "      <th>EmployeeCount</th>\n",
              "      <th>EmployeeNumber</th>\n",
              "      <th>EnvironmentSatisfaction</th>\n",
              "      <th>HourlyRate</th>\n",
              "      <th>JobInvolvement</th>\n",
              "      <th>JobLevel</th>\n",
              "      <th>JobSatisfaction</th>\n",
              "      <th>MonthlyIncome</th>\n",
              "      <th>MonthlyRate</th>\n",
              "      <th>NumCompaniesWorked</th>\n",
              "      <th>Over18</th>\n",
              "      <th>OverTime</th>\n",
              "      <th>PercentSalaryHike</th>\n",
              "      <th>PerformanceRating</th>\n",
              "      <th>RelationshipSatisfaction</th>\n",
              "      <th>StandardHours</th>\n",
              "      <th>StockOptionLevel</th>\n",
              "      <th>TotalWorkingYears</th>\n",
              "      <th>TrainingTimesLastYear</th>\n",
              "      <th>WorkLifeBalance</th>\n",
              "      <th>YearsAtCompany</th>\n",
              "      <th>YearsInCurrentRole</th>\n",
              "      <th>YearsSinceLastPromotion</th>\n",
              "      <th>YearsWithCurrManager</th>\n",
              "      <th>Research &amp; Development</th>\n",
              "      <th>Sales</th>\n",
              "      <th>Life Sciences</th>\n",
              "      <th>Marketing</th>\n",
              "      <th>Medical</th>\n",
              "      <th>Other</th>\n",
              "      <th>Technical Degree</th>\n",
              "      <th>Male</th>\n",
              "      <th>Travel_Frequently</th>\n",
              "      <th>Travel_Rarely</th>\n",
              "      <th>Human Resources</th>\n",
              "      <th>Laboratory Technician</th>\n",
              "      <th>Manager</th>\n",
              "      <th>Manufacturing Director</th>\n",
              "      <th>Research Director</th>\n",
              "      <th>Research Scientist</th>\n",
              "      <th>Sales Executive</th>\n",
              "      <th>Sales Representative</th>\n",
              "      <th>Married</th>\n",
              "      <th>Single</th>\n",
              "    </tr>\n",
              "  </thead>\n",
              "  <tbody>\n",
              "    <tr>\n",
              "      <th>0</th>\n",
              "      <td>41</td>\n",
              "      <td>1</td>\n",
              "      <td>1102</td>\n",
              "      <td>1</td>\n",
              "      <td>2</td>\n",
              "      <td>1</td>\n",
              "      <td>1</td>\n",
              "      <td>2</td>\n",
              "      <td>94</td>\n",
              "      <td>3</td>\n",
              "      <td>2</td>\n",
              "      <td>4</td>\n",
              "      <td>5993</td>\n",
              "      <td>19479</td>\n",
              "      <td>8</td>\n",
              "      <td>1</td>\n",
              "      <td>1</td>\n",
              "      <td>11</td>\n",
              "      <td>3</td>\n",
              "      <td>1</td>\n",
              "      <td>80</td>\n",
              "      <td>0</td>\n",
              "      <td>8</td>\n",
              "      <td>0</td>\n",
              "      <td>1</td>\n",
              "      <td>6</td>\n",
              "      <td>4</td>\n",
              "      <td>0</td>\n",
              "      <td>5</td>\n",
              "      <td>0</td>\n",
              "      <td>1</td>\n",
              "      <td>1</td>\n",
              "      <td>0</td>\n",
              "      <td>0</td>\n",
              "      <td>0</td>\n",
              "      <td>0</td>\n",
              "      <td>0</td>\n",
              "      <td>0</td>\n",
              "      <td>1</td>\n",
              "      <td>0</td>\n",
              "      <td>0</td>\n",
              "      <td>0</td>\n",
              "      <td>0</td>\n",
              "      <td>0</td>\n",
              "      <td>0</td>\n",
              "      <td>1</td>\n",
              "      <td>0</td>\n",
              "      <td>0</td>\n",
              "      <td>1</td>\n",
              "    </tr>\n",
              "    <tr>\n",
              "      <th>1</th>\n",
              "      <td>49</td>\n",
              "      <td>0</td>\n",
              "      <td>279</td>\n",
              "      <td>8</td>\n",
              "      <td>1</td>\n",
              "      <td>1</td>\n",
              "      <td>2</td>\n",
              "      <td>3</td>\n",
              "      <td>61</td>\n",
              "      <td>2</td>\n",
              "      <td>2</td>\n",
              "      <td>2</td>\n",
              "      <td>5130</td>\n",
              "      <td>24907</td>\n",
              "      <td>1</td>\n",
              "      <td>1</td>\n",
              "      <td>0</td>\n",
              "      <td>23</td>\n",
              "      <td>4</td>\n",
              "      <td>4</td>\n",
              "      <td>80</td>\n",
              "      <td>1</td>\n",
              "      <td>10</td>\n",
              "      <td>3</td>\n",
              "      <td>3</td>\n",
              "      <td>10</td>\n",
              "      <td>7</td>\n",
              "      <td>1</td>\n",
              "      <td>7</td>\n",
              "      <td>1</td>\n",
              "      <td>0</td>\n",
              "      <td>1</td>\n",
              "      <td>0</td>\n",
              "      <td>0</td>\n",
              "      <td>0</td>\n",
              "      <td>0</td>\n",
              "      <td>1</td>\n",
              "      <td>1</td>\n",
              "      <td>0</td>\n",
              "      <td>0</td>\n",
              "      <td>0</td>\n",
              "      <td>0</td>\n",
              "      <td>0</td>\n",
              "      <td>0</td>\n",
              "      <td>1</td>\n",
              "      <td>0</td>\n",
              "      <td>0</td>\n",
              "      <td>1</td>\n",
              "      <td>0</td>\n",
              "    </tr>\n",
              "    <tr>\n",
              "      <th>2</th>\n",
              "      <td>37</td>\n",
              "      <td>1</td>\n",
              "      <td>1373</td>\n",
              "      <td>2</td>\n",
              "      <td>2</td>\n",
              "      <td>1</td>\n",
              "      <td>4</td>\n",
              "      <td>4</td>\n",
              "      <td>92</td>\n",
              "      <td>2</td>\n",
              "      <td>1</td>\n",
              "      <td>3</td>\n",
              "      <td>2090</td>\n",
              "      <td>2396</td>\n",
              "      <td>6</td>\n",
              "      <td>1</td>\n",
              "      <td>1</td>\n",
              "      <td>15</td>\n",
              "      <td>3</td>\n",
              "      <td>2</td>\n",
              "      <td>80</td>\n",
              "      <td>0</td>\n",
              "      <td>7</td>\n",
              "      <td>3</td>\n",
              "      <td>3</td>\n",
              "      <td>0</td>\n",
              "      <td>0</td>\n",
              "      <td>0</td>\n",
              "      <td>0</td>\n",
              "      <td>1</td>\n",
              "      <td>0</td>\n",
              "      <td>0</td>\n",
              "      <td>0</td>\n",
              "      <td>0</td>\n",
              "      <td>1</td>\n",
              "      <td>0</td>\n",
              "      <td>1</td>\n",
              "      <td>0</td>\n",
              "      <td>1</td>\n",
              "      <td>0</td>\n",
              "      <td>1</td>\n",
              "      <td>0</td>\n",
              "      <td>0</td>\n",
              "      <td>0</td>\n",
              "      <td>0</td>\n",
              "      <td>0</td>\n",
              "      <td>0</td>\n",
              "      <td>0</td>\n",
              "      <td>1</td>\n",
              "    </tr>\n",
              "    <tr>\n",
              "      <th>3</th>\n",
              "      <td>33</td>\n",
              "      <td>0</td>\n",
              "      <td>1392</td>\n",
              "      <td>3</td>\n",
              "      <td>4</td>\n",
              "      <td>1</td>\n",
              "      <td>5</td>\n",
              "      <td>4</td>\n",
              "      <td>56</td>\n",
              "      <td>3</td>\n",
              "      <td>1</td>\n",
              "      <td>3</td>\n",
              "      <td>2909</td>\n",
              "      <td>23159</td>\n",
              "      <td>1</td>\n",
              "      <td>1</td>\n",
              "      <td>1</td>\n",
              "      <td>11</td>\n",
              "      <td>3</td>\n",
              "      <td>3</td>\n",
              "      <td>80</td>\n",
              "      <td>0</td>\n",
              "      <td>8</td>\n",
              "      <td>3</td>\n",
              "      <td>3</td>\n",
              "      <td>8</td>\n",
              "      <td>7</td>\n",
              "      <td>3</td>\n",
              "      <td>0</td>\n",
              "      <td>1</td>\n",
              "      <td>0</td>\n",
              "      <td>1</td>\n",
              "      <td>0</td>\n",
              "      <td>0</td>\n",
              "      <td>0</td>\n",
              "      <td>0</td>\n",
              "      <td>0</td>\n",
              "      <td>1</td>\n",
              "      <td>0</td>\n",
              "      <td>0</td>\n",
              "      <td>0</td>\n",
              "      <td>0</td>\n",
              "      <td>0</td>\n",
              "      <td>0</td>\n",
              "      <td>1</td>\n",
              "      <td>0</td>\n",
              "      <td>0</td>\n",
              "      <td>1</td>\n",
              "      <td>0</td>\n",
              "    </tr>\n",
              "    <tr>\n",
              "      <th>4</th>\n",
              "      <td>27</td>\n",
              "      <td>0</td>\n",
              "      <td>591</td>\n",
              "      <td>2</td>\n",
              "      <td>1</td>\n",
              "      <td>1</td>\n",
              "      <td>7</td>\n",
              "      <td>1</td>\n",
              "      <td>40</td>\n",
              "      <td>3</td>\n",
              "      <td>1</td>\n",
              "      <td>2</td>\n",
              "      <td>3468</td>\n",
              "      <td>16632</td>\n",
              "      <td>9</td>\n",
              "      <td>1</td>\n",
              "      <td>0</td>\n",
              "      <td>12</td>\n",
              "      <td>3</td>\n",
              "      <td>4</td>\n",
              "      <td>80</td>\n",
              "      <td>1</td>\n",
              "      <td>6</td>\n",
              "      <td>3</td>\n",
              "      <td>3</td>\n",
              "      <td>2</td>\n",
              "      <td>2</td>\n",
              "      <td>2</td>\n",
              "      <td>2</td>\n",
              "      <td>1</td>\n",
              "      <td>0</td>\n",
              "      <td>0</td>\n",
              "      <td>0</td>\n",
              "      <td>1</td>\n",
              "      <td>0</td>\n",
              "      <td>0</td>\n",
              "      <td>1</td>\n",
              "      <td>0</td>\n",
              "      <td>1</td>\n",
              "      <td>0</td>\n",
              "      <td>1</td>\n",
              "      <td>0</td>\n",
              "      <td>0</td>\n",
              "      <td>0</td>\n",
              "      <td>0</td>\n",
              "      <td>0</td>\n",
              "      <td>0</td>\n",
              "      <td>1</td>\n",
              "      <td>0</td>\n",
              "    </tr>\n",
              "  </tbody>\n",
              "</table>\n",
              "</div>"
            ],
            "text/plain": [
              "   Age  Attrition  DailyRate  DistanceFromHome  Education  EmployeeCount  \\\n",
              "0   41          1       1102                 1          2              1   \n",
              "1   49          0        279                 8          1              1   \n",
              "2   37          1       1373                 2          2              1   \n",
              "3   33          0       1392                 3          4              1   \n",
              "4   27          0        591                 2          1              1   \n",
              "\n",
              "   EmployeeNumber  EnvironmentSatisfaction  HourlyRate  JobInvolvement  \\\n",
              "0               1                        2          94               3   \n",
              "1               2                        3          61               2   \n",
              "2               4                        4          92               2   \n",
              "3               5                        4          56               3   \n",
              "4               7                        1          40               3   \n",
              "\n",
              "   JobLevel  JobSatisfaction  MonthlyIncome  MonthlyRate  NumCompaniesWorked  \\\n",
              "0         2                4           5993        19479                   8   \n",
              "1         2                2           5130        24907                   1   \n",
              "2         1                3           2090         2396                   6   \n",
              "3         1                3           2909        23159                   1   \n",
              "4         1                2           3468        16632                   9   \n",
              "\n",
              "   Over18  OverTime  PercentSalaryHike  PerformanceRating  \\\n",
              "0       1         1                 11                  3   \n",
              "1       1         0                 23                  4   \n",
              "2       1         1                 15                  3   \n",
              "3       1         1                 11                  3   \n",
              "4       1         0                 12                  3   \n",
              "\n",
              "   RelationshipSatisfaction  StandardHours  StockOptionLevel  \\\n",
              "0                         1             80                 0   \n",
              "1                         4             80                 1   \n",
              "2                         2             80                 0   \n",
              "3                         3             80                 0   \n",
              "4                         4             80                 1   \n",
              "\n",
              "   TotalWorkingYears  TrainingTimesLastYear  WorkLifeBalance  YearsAtCompany  \\\n",
              "0                  8                      0                1               6   \n",
              "1                 10                      3                3              10   \n",
              "2                  7                      3                3               0   \n",
              "3                  8                      3                3               8   \n",
              "4                  6                      3                3               2   \n",
              "\n",
              "   YearsInCurrentRole  YearsSinceLastPromotion  YearsWithCurrManager  \\\n",
              "0                   4                        0                     5   \n",
              "1                   7                        1                     7   \n",
              "2                   0                        0                     0   \n",
              "3                   7                        3                     0   \n",
              "4                   2                        2                     2   \n",
              "\n",
              "   Research & Development  Sales  Life Sciences  Marketing  Medical  Other  \\\n",
              "0                       0      1              1          0        0      0   \n",
              "1                       1      0              1          0        0      0   \n",
              "2                       1      0              0          0        0      1   \n",
              "3                       1      0              1          0        0      0   \n",
              "4                       1      0              0          0        1      0   \n",
              "\n",
              "   Technical Degree  Male  Travel_Frequently  Travel_Rarely  Human Resources  \\\n",
              "0                 0     0                  0              1                0   \n",
              "1                 0     1                  1              0                0   \n",
              "2                 0     1                  0              1                0   \n",
              "3                 0     0                  1              0                0   \n",
              "4                 0     1                  0              1                0   \n",
              "\n",
              "   Laboratory Technician  Manager  Manufacturing Director  Research Director  \\\n",
              "0                      0        0                       0                  0   \n",
              "1                      0        0                       0                  0   \n",
              "2                      1        0                       0                  0   \n",
              "3                      0        0                       0                  0   \n",
              "4                      1        0                       0                  0   \n",
              "\n",
              "   Research Scientist  Sales Executive  Sales Representative  Married  Single  \n",
              "0                   0                1                     0        0       1  \n",
              "1                   1                0                     0        1       0  \n",
              "2                   0                0                     0        0       1  \n",
              "3                   1                0                     0        1       0  \n",
              "4                   0                0                     0        1       0  "
            ]
          },
          "metadata": {
            "tags": []
          },
          "execution_count": 31
        }
      ]
    },
    {
      "cell_type": "code",
      "metadata": {
        "id": "c_ArvqIoRq9e",
        "colab": {
          "base_uri": "https://localhost:8080/",
          "height": 34
        },
        "outputId": "6b2646ad-179e-45d8-a827-a8fa431fe993"
      },
      "source": [
        "Train.shape"
      ],
      "execution_count": null,
      "outputs": [
        {
          "output_type": "execute_result",
          "data": {
            "text/plain": [
              "(1470, 49)"
            ]
          },
          "metadata": {
            "tags": []
          },
          "execution_count": 22
        }
      ]
    },
    {
      "cell_type": "markdown",
      "metadata": {
        "_uuid": "9d7ab7afb2f2a7721aa8d1a93bbad1ac973b5619",
        "id": "EfdD82Vy6yky"
      },
      "source": [
        "- We have **encoded** all our categorical columns to have **numerical** values."
      ]
    },
    {
      "cell_type": "markdown",
      "metadata": {
        "id": "Z4of3gruMeqq"
      },
      "source": [
        "<a id=section6></a>\n",
        "## 6. Modelling and Prediction"
      ]
    },
    {
      "cell_type": "markdown",
      "metadata": {
        "id": "36k84OnC6yk2"
      },
      "source": [
        "#### Preparing X "
      ]
    },
    {
      "cell_type": "markdown",
      "metadata": {
        "id": "Ftk6R1f0EyD1"
      },
      "source": [
        "- We will now create a dataframe **`X`** consisting of only the **independent** features."
      ]
    },
    {
      "cell_type": "code",
      "metadata": {
        "_uuid": "c502ee3807100ab76966b6ff3aed0864c78dbea0",
        "id": "tr6tGvYw6yk2",
        "colab": {
          "base_uri": "https://localhost:8080/",
          "height": 239
        },
        "outputId": "5092c307-36f1-4c95-d43f-72338cd8f1ad"
      },
      "source": [
        "X = Train.drop(['Attrition'], axis=1)\n",
        "X.head()"
      ],
      "execution_count": null,
      "outputs": [
        {
          "output_type": "execute_result",
          "data": {
            "text/html": [
              "<div>\n",
              "<style scoped>\n",
              "    .dataframe tbody tr th:only-of-type {\n",
              "        vertical-align: middle;\n",
              "    }\n",
              "\n",
              "    .dataframe tbody tr th {\n",
              "        vertical-align: top;\n",
              "    }\n",
              "\n",
              "    .dataframe thead th {\n",
              "        text-align: right;\n",
              "    }\n",
              "</style>\n",
              "<table border=\"1\" class=\"dataframe\">\n",
              "  <thead>\n",
              "    <tr style=\"text-align: right;\">\n",
              "      <th></th>\n",
              "      <th>Age</th>\n",
              "      <th>DailyRate</th>\n",
              "      <th>DistanceFromHome</th>\n",
              "      <th>Education</th>\n",
              "      <th>EmployeeCount</th>\n",
              "      <th>EmployeeNumber</th>\n",
              "      <th>EnvironmentSatisfaction</th>\n",
              "      <th>HourlyRate</th>\n",
              "      <th>JobInvolvement</th>\n",
              "      <th>JobLevel</th>\n",
              "      <th>JobSatisfaction</th>\n",
              "      <th>MonthlyIncome</th>\n",
              "      <th>MonthlyRate</th>\n",
              "      <th>NumCompaniesWorked</th>\n",
              "      <th>Over18</th>\n",
              "      <th>OverTime</th>\n",
              "      <th>PercentSalaryHike</th>\n",
              "      <th>PerformanceRating</th>\n",
              "      <th>RelationshipSatisfaction</th>\n",
              "      <th>StandardHours</th>\n",
              "      <th>StockOptionLevel</th>\n",
              "      <th>TotalWorkingYears</th>\n",
              "      <th>TrainingTimesLastYear</th>\n",
              "      <th>WorkLifeBalance</th>\n",
              "      <th>YearsAtCompany</th>\n",
              "      <th>YearsInCurrentRole</th>\n",
              "      <th>YearsSinceLastPromotion</th>\n",
              "      <th>YearsWithCurrManager</th>\n",
              "      <th>Research &amp; Development</th>\n",
              "      <th>Sales</th>\n",
              "      <th>Life Sciences</th>\n",
              "      <th>Marketing</th>\n",
              "      <th>Medical</th>\n",
              "      <th>Other</th>\n",
              "      <th>Technical Degree</th>\n",
              "      <th>Male</th>\n",
              "      <th>Travel_Frequently</th>\n",
              "      <th>Travel_Rarely</th>\n",
              "      <th>Human Resources</th>\n",
              "      <th>Laboratory Technician</th>\n",
              "      <th>Manager</th>\n",
              "      <th>Manufacturing Director</th>\n",
              "      <th>Research Director</th>\n",
              "      <th>Research Scientist</th>\n",
              "      <th>Sales Executive</th>\n",
              "      <th>Sales Representative</th>\n",
              "      <th>Married</th>\n",
              "      <th>Single</th>\n",
              "    </tr>\n",
              "  </thead>\n",
              "  <tbody>\n",
              "    <tr>\n",
              "      <th>0</th>\n",
              "      <td>41</td>\n",
              "      <td>1102</td>\n",
              "      <td>1</td>\n",
              "      <td>2</td>\n",
              "      <td>1</td>\n",
              "      <td>1</td>\n",
              "      <td>2</td>\n",
              "      <td>94</td>\n",
              "      <td>3</td>\n",
              "      <td>2</td>\n",
              "      <td>4</td>\n",
              "      <td>5993</td>\n",
              "      <td>19479</td>\n",
              "      <td>8</td>\n",
              "      <td>1</td>\n",
              "      <td>1</td>\n",
              "      <td>11</td>\n",
              "      <td>3</td>\n",
              "      <td>1</td>\n",
              "      <td>80</td>\n",
              "      <td>0</td>\n",
              "      <td>8</td>\n",
              "      <td>0</td>\n",
              "      <td>1</td>\n",
              "      <td>6</td>\n",
              "      <td>4</td>\n",
              "      <td>0</td>\n",
              "      <td>5</td>\n",
              "      <td>0</td>\n",
              "      <td>1</td>\n",
              "      <td>1</td>\n",
              "      <td>0</td>\n",
              "      <td>0</td>\n",
              "      <td>0</td>\n",
              "      <td>0</td>\n",
              "      <td>0</td>\n",
              "      <td>0</td>\n",
              "      <td>1</td>\n",
              "      <td>0</td>\n",
              "      <td>0</td>\n",
              "      <td>0</td>\n",
              "      <td>0</td>\n",
              "      <td>0</td>\n",
              "      <td>0</td>\n",
              "      <td>1</td>\n",
              "      <td>0</td>\n",
              "      <td>0</td>\n",
              "      <td>1</td>\n",
              "    </tr>\n",
              "    <tr>\n",
              "      <th>1</th>\n",
              "      <td>49</td>\n",
              "      <td>279</td>\n",
              "      <td>8</td>\n",
              "      <td>1</td>\n",
              "      <td>1</td>\n",
              "      <td>2</td>\n",
              "      <td>3</td>\n",
              "      <td>61</td>\n",
              "      <td>2</td>\n",
              "      <td>2</td>\n",
              "      <td>2</td>\n",
              "      <td>5130</td>\n",
              "      <td>24907</td>\n",
              "      <td>1</td>\n",
              "      <td>1</td>\n",
              "      <td>0</td>\n",
              "      <td>23</td>\n",
              "      <td>4</td>\n",
              "      <td>4</td>\n",
              "      <td>80</td>\n",
              "      <td>1</td>\n",
              "      <td>10</td>\n",
              "      <td>3</td>\n",
              "      <td>3</td>\n",
              "      <td>10</td>\n",
              "      <td>7</td>\n",
              "      <td>1</td>\n",
              "      <td>7</td>\n",
              "      <td>1</td>\n",
              "      <td>0</td>\n",
              "      <td>1</td>\n",
              "      <td>0</td>\n",
              "      <td>0</td>\n",
              "      <td>0</td>\n",
              "      <td>0</td>\n",
              "      <td>1</td>\n",
              "      <td>1</td>\n",
              "      <td>0</td>\n",
              "      <td>0</td>\n",
              "      <td>0</td>\n",
              "      <td>0</td>\n",
              "      <td>0</td>\n",
              "      <td>0</td>\n",
              "      <td>1</td>\n",
              "      <td>0</td>\n",
              "      <td>0</td>\n",
              "      <td>1</td>\n",
              "      <td>0</td>\n",
              "    </tr>\n",
              "    <tr>\n",
              "      <th>2</th>\n",
              "      <td>37</td>\n",
              "      <td>1373</td>\n",
              "      <td>2</td>\n",
              "      <td>2</td>\n",
              "      <td>1</td>\n",
              "      <td>4</td>\n",
              "      <td>4</td>\n",
              "      <td>92</td>\n",
              "      <td>2</td>\n",
              "      <td>1</td>\n",
              "      <td>3</td>\n",
              "      <td>2090</td>\n",
              "      <td>2396</td>\n",
              "      <td>6</td>\n",
              "      <td>1</td>\n",
              "      <td>1</td>\n",
              "      <td>15</td>\n",
              "      <td>3</td>\n",
              "      <td>2</td>\n",
              "      <td>80</td>\n",
              "      <td>0</td>\n",
              "      <td>7</td>\n",
              "      <td>3</td>\n",
              "      <td>3</td>\n",
              "      <td>0</td>\n",
              "      <td>0</td>\n",
              "      <td>0</td>\n",
              "      <td>0</td>\n",
              "      <td>1</td>\n",
              "      <td>0</td>\n",
              "      <td>0</td>\n",
              "      <td>0</td>\n",
              "      <td>0</td>\n",
              "      <td>1</td>\n",
              "      <td>0</td>\n",
              "      <td>1</td>\n",
              "      <td>0</td>\n",
              "      <td>1</td>\n",
              "      <td>0</td>\n",
              "      <td>1</td>\n",
              "      <td>0</td>\n",
              "      <td>0</td>\n",
              "      <td>0</td>\n",
              "      <td>0</td>\n",
              "      <td>0</td>\n",
              "      <td>0</td>\n",
              "      <td>0</td>\n",
              "      <td>1</td>\n",
              "    </tr>\n",
              "    <tr>\n",
              "      <th>3</th>\n",
              "      <td>33</td>\n",
              "      <td>1392</td>\n",
              "      <td>3</td>\n",
              "      <td>4</td>\n",
              "      <td>1</td>\n",
              "      <td>5</td>\n",
              "      <td>4</td>\n",
              "      <td>56</td>\n",
              "      <td>3</td>\n",
              "      <td>1</td>\n",
              "      <td>3</td>\n",
              "      <td>2909</td>\n",
              "      <td>23159</td>\n",
              "      <td>1</td>\n",
              "      <td>1</td>\n",
              "      <td>1</td>\n",
              "      <td>11</td>\n",
              "      <td>3</td>\n",
              "      <td>3</td>\n",
              "      <td>80</td>\n",
              "      <td>0</td>\n",
              "      <td>8</td>\n",
              "      <td>3</td>\n",
              "      <td>3</td>\n",
              "      <td>8</td>\n",
              "      <td>7</td>\n",
              "      <td>3</td>\n",
              "      <td>0</td>\n",
              "      <td>1</td>\n",
              "      <td>0</td>\n",
              "      <td>1</td>\n",
              "      <td>0</td>\n",
              "      <td>0</td>\n",
              "      <td>0</td>\n",
              "      <td>0</td>\n",
              "      <td>0</td>\n",
              "      <td>1</td>\n",
              "      <td>0</td>\n",
              "      <td>0</td>\n",
              "      <td>0</td>\n",
              "      <td>0</td>\n",
              "      <td>0</td>\n",
              "      <td>0</td>\n",
              "      <td>1</td>\n",
              "      <td>0</td>\n",
              "      <td>0</td>\n",
              "      <td>1</td>\n",
              "      <td>0</td>\n",
              "    </tr>\n",
              "    <tr>\n",
              "      <th>4</th>\n",
              "      <td>27</td>\n",
              "      <td>591</td>\n",
              "      <td>2</td>\n",
              "      <td>1</td>\n",
              "      <td>1</td>\n",
              "      <td>7</td>\n",
              "      <td>1</td>\n",
              "      <td>40</td>\n",
              "      <td>3</td>\n",
              "      <td>1</td>\n",
              "      <td>2</td>\n",
              "      <td>3468</td>\n",
              "      <td>16632</td>\n",
              "      <td>9</td>\n",
              "      <td>1</td>\n",
              "      <td>0</td>\n",
              "      <td>12</td>\n",
              "      <td>3</td>\n",
              "      <td>4</td>\n",
              "      <td>80</td>\n",
              "      <td>1</td>\n",
              "      <td>6</td>\n",
              "      <td>3</td>\n",
              "      <td>3</td>\n",
              "      <td>2</td>\n",
              "      <td>2</td>\n",
              "      <td>2</td>\n",
              "      <td>2</td>\n",
              "      <td>1</td>\n",
              "      <td>0</td>\n",
              "      <td>0</td>\n",
              "      <td>0</td>\n",
              "      <td>1</td>\n",
              "      <td>0</td>\n",
              "      <td>0</td>\n",
              "      <td>1</td>\n",
              "      <td>0</td>\n",
              "      <td>1</td>\n",
              "      <td>0</td>\n",
              "      <td>1</td>\n",
              "      <td>0</td>\n",
              "      <td>0</td>\n",
              "      <td>0</td>\n",
              "      <td>0</td>\n",
              "      <td>0</td>\n",
              "      <td>0</td>\n",
              "      <td>1</td>\n",
              "      <td>0</td>\n",
              "    </tr>\n",
              "  </tbody>\n",
              "</table>\n",
              "</div>"
            ],
            "text/plain": [
              "   Age  DailyRate  DistanceFromHome  Education  EmployeeCount  EmployeeNumber  \\\n",
              "0   41       1102                 1          2              1               1   \n",
              "1   49        279                 8          1              1               2   \n",
              "2   37       1373                 2          2              1               4   \n",
              "3   33       1392                 3          4              1               5   \n",
              "4   27        591                 2          1              1               7   \n",
              "\n",
              "   EnvironmentSatisfaction  HourlyRate  JobInvolvement  JobLevel  \\\n",
              "0                        2          94               3         2   \n",
              "1                        3          61               2         2   \n",
              "2                        4          92               2         1   \n",
              "3                        4          56               3         1   \n",
              "4                        1          40               3         1   \n",
              "\n",
              "   JobSatisfaction  MonthlyIncome  MonthlyRate  NumCompaniesWorked  Over18  \\\n",
              "0                4           5993        19479                   8       1   \n",
              "1                2           5130        24907                   1       1   \n",
              "2                3           2090         2396                   6       1   \n",
              "3                3           2909        23159                   1       1   \n",
              "4                2           3468        16632                   9       1   \n",
              "\n",
              "   OverTime  PercentSalaryHike  PerformanceRating  RelationshipSatisfaction  \\\n",
              "0         1                 11                  3                         1   \n",
              "1         0                 23                  4                         4   \n",
              "2         1                 15                  3                         2   \n",
              "3         1                 11                  3                         3   \n",
              "4         0                 12                  3                         4   \n",
              "\n",
              "   StandardHours  StockOptionLevel  TotalWorkingYears  TrainingTimesLastYear  \\\n",
              "0             80                 0                  8                      0   \n",
              "1             80                 1                 10                      3   \n",
              "2             80                 0                  7                      3   \n",
              "3             80                 0                  8                      3   \n",
              "4             80                 1                  6                      3   \n",
              "\n",
              "   WorkLifeBalance  YearsAtCompany  YearsInCurrentRole  \\\n",
              "0                1               6                   4   \n",
              "1                3              10                   7   \n",
              "2                3               0                   0   \n",
              "3                3               8                   7   \n",
              "4                3               2                   2   \n",
              "\n",
              "   YearsSinceLastPromotion  YearsWithCurrManager  Research & Development  \\\n",
              "0                        0                     5                       0   \n",
              "1                        1                     7                       1   \n",
              "2                        0                     0                       1   \n",
              "3                        3                     0                       1   \n",
              "4                        2                     2                       1   \n",
              "\n",
              "   Sales  Life Sciences  Marketing  Medical  Other  Technical Degree  Male  \\\n",
              "0      1              1          0        0      0                 0     0   \n",
              "1      0              1          0        0      0                 0     1   \n",
              "2      0              0          0        0      1                 0     1   \n",
              "3      0              1          0        0      0                 0     0   \n",
              "4      0              0          0        1      0                 0     1   \n",
              "\n",
              "   Travel_Frequently  Travel_Rarely  Human Resources  Laboratory Technician  \\\n",
              "0                  0              1                0                      0   \n",
              "1                  1              0                0                      0   \n",
              "2                  0              1                0                      1   \n",
              "3                  1              0                0                      0   \n",
              "4                  0              1                0                      1   \n",
              "\n",
              "   Manager  Manufacturing Director  Research Director  Research Scientist  \\\n",
              "0        0                       0                  0                   0   \n",
              "1        0                       0                  0                   1   \n",
              "2        0                       0                  0                   0   \n",
              "3        0                       0                  0                   1   \n",
              "4        0                       0                  0                   0   \n",
              "\n",
              "   Sales Executive  Sales Representative  Married  Single  \n",
              "0                1                     0        0       1  \n",
              "1                0                     0        1       0  \n",
              "2                0                     0        0       1  \n",
              "3                0                     0        1       0  \n",
              "4                0                     0        1       0  "
            ]
          },
          "metadata": {
            "tags": []
          },
          "execution_count": 32
        }
      ]
    },
    {
      "cell_type": "code",
      "metadata": {
        "id": "Nzqdv1scRVtu",
        "colab": {
          "base_uri": "https://localhost:8080/",
          "height": 34
        },
        "outputId": "66053561-e6e5-4a94-92f4-5d2488e84f43"
      },
      "source": [
        "X.shape"
      ],
      "execution_count": null,
      "outputs": [
        {
          "output_type": "execute_result",
          "data": {
            "text/plain": [
              "(1470, 48)"
            ]
          },
          "metadata": {
            "tags": []
          },
          "execution_count": 24
        }
      ]
    },
    {
      "cell_type": "markdown",
      "metadata": {
        "id": "CrBiZIfZ6yk6"
      },
      "source": [
        "#### Preparing y"
      ]
    },
    {
      "cell_type": "markdown",
      "metadata": {
        "id": "yhZouJLvF1mR"
      },
      "source": [
        "- Creating **`y`** variable consisting of the **dependent** feature (**target**)."
      ]
    },
    {
      "cell_type": "code",
      "metadata": {
        "_uuid": "197d54c5cd77ace3f6cf8581b961e44866deac94",
        "id": "7JZSBddw6yk7",
        "colab": {
          "base_uri": "https://localhost:8080/"
        },
        "outputId": "f1225cb3-7c72-43d2-9f30-05a28220c58e"
      },
      "source": [
        "y = Train['Attrition']\n",
        "y.shape"
      ],
      "execution_count": null,
      "outputs": [
        {
          "output_type": "execute_result",
          "data": {
            "text/plain": [
              "(1470,)"
            ]
          },
          "metadata": {
            "tags": []
          },
          "execution_count": 33
        }
      ]
    },
    {
      "cell_type": "markdown",
      "metadata": {
        "id": "Sz81Ld0MUMC3"
      },
      "source": [
        "### Importing Scikit-Learn Dependencies"
      ]
    },
    {
      "cell_type": "code",
      "metadata": {
        "id": "cpbrKhjDUWUw"
      },
      "source": [
        "from sklearn.model_selection import train_test_split\n",
        "from sklearn.preprocessing import StandardScaler\n",
        "from sklearn.linear_model import LogisticRegression\n",
        "from sklearn.neighbors import KNeighborsClassifier\n",
        "from sklearn.svm import SVC\n",
        "from sklearn.tree import DecisionTreeClassifier\n",
        "from sklearn.discriminant_analysis import LinearDiscriminantAnalysis\n",
        "from sklearn.metrics import confusion_matrix, classification_report"
      ],
      "execution_count": null,
      "outputs": []
    },
    {
      "cell_type": "markdown",
      "metadata": {
        "_uuid": "0a4fd8f9c991e1b72116cc1101479e80603fc92e",
        "id": "AlRfiJOE6yk-"
      },
      "source": [
        "#### Train Test Split"
      ]
    },
    {
      "cell_type": "markdown",
      "metadata": {
        "id": "sT7aEDeRR64y"
      },
      "source": [
        "- **Splitting** the data into train and test sets.\n",
        "\n",
        "- **Train** set will have **75%** data samples.\n",
        "\n",
        "- **Test** set will have **25%** data samples. "
      ]
    },
    {
      "cell_type": "code",
      "metadata": {
        "_uuid": "03265e24fe47a7f0c6775aca6408e955e2750c83",
        "id": "gPFZ-rBc6yk_"
      },
      "source": [
        "X_train, X_test, y_train, y_test = train_test_split(X, y, test_size = 0.25, random_state=0)"
      ],
      "execution_count": null,
      "outputs": []
    },
    {
      "cell_type": "code",
      "metadata": {
        "colab": {
          "base_uri": "https://localhost:8080/",
          "height": 453
        },
        "id": "KDHoXb3W3O2-",
        "outputId": "1b87a4af-81ad-4dff-b607-93a0d5256162"
      },
      "source": [
        "X_train"
      ],
      "execution_count": null,
      "outputs": [
        {
          "output_type": "execute_result",
          "data": {
            "text/html": [
              "<div>\n",
              "<style scoped>\n",
              "    .dataframe tbody tr th:only-of-type {\n",
              "        vertical-align: middle;\n",
              "    }\n",
              "\n",
              "    .dataframe tbody tr th {\n",
              "        vertical-align: top;\n",
              "    }\n",
              "\n",
              "    .dataframe thead th {\n",
              "        text-align: right;\n",
              "    }\n",
              "</style>\n",
              "<table border=\"1\" class=\"dataframe\">\n",
              "  <thead>\n",
              "    <tr style=\"text-align: right;\">\n",
              "      <th></th>\n",
              "      <th>Age</th>\n",
              "      <th>DailyRate</th>\n",
              "      <th>DistanceFromHome</th>\n",
              "      <th>Education</th>\n",
              "      <th>EmployeeCount</th>\n",
              "      <th>EmployeeNumber</th>\n",
              "      <th>EnvironmentSatisfaction</th>\n",
              "      <th>HourlyRate</th>\n",
              "      <th>JobInvolvement</th>\n",
              "      <th>JobLevel</th>\n",
              "      <th>JobSatisfaction</th>\n",
              "      <th>MonthlyIncome</th>\n",
              "      <th>MonthlyRate</th>\n",
              "      <th>NumCompaniesWorked</th>\n",
              "      <th>Over18</th>\n",
              "      <th>OverTime</th>\n",
              "      <th>PercentSalaryHike</th>\n",
              "      <th>PerformanceRating</th>\n",
              "      <th>RelationshipSatisfaction</th>\n",
              "      <th>StandardHours</th>\n",
              "      <th>StockOptionLevel</th>\n",
              "      <th>TotalWorkingYears</th>\n",
              "      <th>TrainingTimesLastYear</th>\n",
              "      <th>WorkLifeBalance</th>\n",
              "      <th>YearsAtCompany</th>\n",
              "      <th>YearsInCurrentRole</th>\n",
              "      <th>YearsSinceLastPromotion</th>\n",
              "      <th>YearsWithCurrManager</th>\n",
              "      <th>Research &amp; Development</th>\n",
              "      <th>Sales</th>\n",
              "      <th>Life Sciences</th>\n",
              "      <th>Marketing</th>\n",
              "      <th>Medical</th>\n",
              "      <th>Other</th>\n",
              "      <th>Technical Degree</th>\n",
              "      <th>Male</th>\n",
              "      <th>Travel_Frequently</th>\n",
              "      <th>Travel_Rarely</th>\n",
              "      <th>Human Resources</th>\n",
              "      <th>Laboratory Technician</th>\n",
              "      <th>Manager</th>\n",
              "      <th>Manufacturing Director</th>\n",
              "      <th>Research Director</th>\n",
              "      <th>Research Scientist</th>\n",
              "      <th>Sales Executive</th>\n",
              "      <th>Sales Representative</th>\n",
              "      <th>Married</th>\n",
              "      <th>Single</th>\n",
              "    </tr>\n",
              "  </thead>\n",
              "  <tbody>\n",
              "    <tr>\n",
              "      <th>944</th>\n",
              "      <td>28</td>\n",
              "      <td>1476</td>\n",
              "      <td>1</td>\n",
              "      <td>3</td>\n",
              "      <td>1</td>\n",
              "      <td>1315</td>\n",
              "      <td>3</td>\n",
              "      <td>55</td>\n",
              "      <td>1</td>\n",
              "      <td>2</td>\n",
              "      <td>4</td>\n",
              "      <td>6674</td>\n",
              "      <td>16392</td>\n",
              "      <td>0</td>\n",
              "      <td>1</td>\n",
              "      <td>0</td>\n",
              "      <td>11</td>\n",
              "      <td>3</td>\n",
              "      <td>1</td>\n",
              "      <td>80</td>\n",
              "      <td>3</td>\n",
              "      <td>10</td>\n",
              "      <td>6</td>\n",
              "      <td>3</td>\n",
              "      <td>9</td>\n",
              "      <td>8</td>\n",
              "      <td>7</td>\n",
              "      <td>5</td>\n",
              "      <td>1</td>\n",
              "      <td>0</td>\n",
              "      <td>1</td>\n",
              "      <td>0</td>\n",
              "      <td>0</td>\n",
              "      <td>0</td>\n",
              "      <td>0</td>\n",
              "      <td>0</td>\n",
              "      <td>0</td>\n",
              "      <td>0</td>\n",
              "      <td>0</td>\n",
              "      <td>1</td>\n",
              "      <td>0</td>\n",
              "      <td>0</td>\n",
              "      <td>0</td>\n",
              "      <td>0</td>\n",
              "      <td>0</td>\n",
              "      <td>0</td>\n",
              "      <td>1</td>\n",
              "      <td>0</td>\n",
              "    </tr>\n",
              "    <tr>\n",
              "      <th>1402</th>\n",
              "      <td>31</td>\n",
              "      <td>1276</td>\n",
              "      <td>2</td>\n",
              "      <td>1</td>\n",
              "      <td>1</td>\n",
              "      <td>1974</td>\n",
              "      <td>4</td>\n",
              "      <td>59</td>\n",
              "      <td>1</td>\n",
              "      <td>1</td>\n",
              "      <td>4</td>\n",
              "      <td>1129</td>\n",
              "      <td>17536</td>\n",
              "      <td>1</td>\n",
              "      <td>1</td>\n",
              "      <td>1</td>\n",
              "      <td>11</td>\n",
              "      <td>3</td>\n",
              "      <td>3</td>\n",
              "      <td>80</td>\n",
              "      <td>3</td>\n",
              "      <td>1</td>\n",
              "      <td>4</td>\n",
              "      <td>3</td>\n",
              "      <td>1</td>\n",
              "      <td>0</td>\n",
              "      <td>0</td>\n",
              "      <td>0</td>\n",
              "      <td>1</td>\n",
              "      <td>0</td>\n",
              "      <td>0</td>\n",
              "      <td>0</td>\n",
              "      <td>1</td>\n",
              "      <td>0</td>\n",
              "      <td>0</td>\n",
              "      <td>0</td>\n",
              "      <td>0</td>\n",
              "      <td>1</td>\n",
              "      <td>0</td>\n",
              "      <td>1</td>\n",
              "      <td>0</td>\n",
              "      <td>0</td>\n",
              "      <td>0</td>\n",
              "      <td>0</td>\n",
              "      <td>0</td>\n",
              "      <td>0</td>\n",
              "      <td>0</td>\n",
              "      <td>0</td>\n",
              "    </tr>\n",
              "    <tr>\n",
              "      <th>1054</th>\n",
              "      <td>49</td>\n",
              "      <td>1490</td>\n",
              "      <td>7</td>\n",
              "      <td>4</td>\n",
              "      <td>1</td>\n",
              "      <td>1484</td>\n",
              "      <td>3</td>\n",
              "      <td>35</td>\n",
              "      <td>3</td>\n",
              "      <td>3</td>\n",
              "      <td>2</td>\n",
              "      <td>10466</td>\n",
              "      <td>20948</td>\n",
              "      <td>3</td>\n",
              "      <td>1</td>\n",
              "      <td>0</td>\n",
              "      <td>14</td>\n",
              "      <td>3</td>\n",
              "      <td>2</td>\n",
              "      <td>80</td>\n",
              "      <td>2</td>\n",
              "      <td>29</td>\n",
              "      <td>3</td>\n",
              "      <td>3</td>\n",
              "      <td>8</td>\n",
              "      <td>7</td>\n",
              "      <td>0</td>\n",
              "      <td>7</td>\n",
              "      <td>1</td>\n",
              "      <td>0</td>\n",
              "      <td>1</td>\n",
              "      <td>0</td>\n",
              "      <td>0</td>\n",
              "      <td>0</td>\n",
              "      <td>0</td>\n",
              "      <td>1</td>\n",
              "      <td>0</td>\n",
              "      <td>1</td>\n",
              "      <td>0</td>\n",
              "      <td>0</td>\n",
              "      <td>0</td>\n",
              "      <td>0</td>\n",
              "      <td>0</td>\n",
              "      <td>0</td>\n",
              "      <td>0</td>\n",
              "      <td>0</td>\n",
              "      <td>0</td>\n",
              "      <td>0</td>\n",
              "    </tr>\n",
              "    <tr>\n",
              "      <th>1128</th>\n",
              "      <td>36</td>\n",
              "      <td>1302</td>\n",
              "      <td>6</td>\n",
              "      <td>4</td>\n",
              "      <td>1</td>\n",
              "      <td>1594</td>\n",
              "      <td>1</td>\n",
              "      <td>80</td>\n",
              "      <td>4</td>\n",
              "      <td>2</td>\n",
              "      <td>1</td>\n",
              "      <td>5562</td>\n",
              "      <td>19711</td>\n",
              "      <td>3</td>\n",
              "      <td>1</td>\n",
              "      <td>1</td>\n",
              "      <td>13</td>\n",
              "      <td>3</td>\n",
              "      <td>4</td>\n",
              "      <td>80</td>\n",
              "      <td>1</td>\n",
              "      <td>9</td>\n",
              "      <td>3</td>\n",
              "      <td>3</td>\n",
              "      <td>3</td>\n",
              "      <td>2</td>\n",
              "      <td>0</td>\n",
              "      <td>2</td>\n",
              "      <td>1</td>\n",
              "      <td>0</td>\n",
              "      <td>1</td>\n",
              "      <td>0</td>\n",
              "      <td>0</td>\n",
              "      <td>0</td>\n",
              "      <td>0</td>\n",
              "      <td>1</td>\n",
              "      <td>1</td>\n",
              "      <td>0</td>\n",
              "      <td>0</td>\n",
              "      <td>1</td>\n",
              "      <td>0</td>\n",
              "      <td>0</td>\n",
              "      <td>0</td>\n",
              "      <td>0</td>\n",
              "      <td>0</td>\n",
              "      <td>0</td>\n",
              "      <td>1</td>\n",
              "      <td>0</td>\n",
              "    </tr>\n",
              "    <tr>\n",
              "      <th>1323</th>\n",
              "      <td>28</td>\n",
              "      <td>280</td>\n",
              "      <td>1</td>\n",
              "      <td>2</td>\n",
              "      <td>1</td>\n",
              "      <td>1858</td>\n",
              "      <td>3</td>\n",
              "      <td>43</td>\n",
              "      <td>3</td>\n",
              "      <td>1</td>\n",
              "      <td>4</td>\n",
              "      <td>2706</td>\n",
              "      <td>10494</td>\n",
              "      <td>1</td>\n",
              "      <td>1</td>\n",
              "      <td>0</td>\n",
              "      <td>15</td>\n",
              "      <td>3</td>\n",
              "      <td>2</td>\n",
              "      <td>80</td>\n",
              "      <td>1</td>\n",
              "      <td>3</td>\n",
              "      <td>2</td>\n",
              "      <td>3</td>\n",
              "      <td>3</td>\n",
              "      <td>2</td>\n",
              "      <td>2</td>\n",
              "      <td>2</td>\n",
              "      <td>0</td>\n",
              "      <td>0</td>\n",
              "      <td>1</td>\n",
              "      <td>0</td>\n",
              "      <td>0</td>\n",
              "      <td>0</td>\n",
              "      <td>0</td>\n",
              "      <td>1</td>\n",
              "      <td>0</td>\n",
              "      <td>0</td>\n",
              "      <td>1</td>\n",
              "      <td>0</td>\n",
              "      <td>0</td>\n",
              "      <td>0</td>\n",
              "      <td>0</td>\n",
              "      <td>0</td>\n",
              "      <td>0</td>\n",
              "      <td>0</td>\n",
              "      <td>0</td>\n",
              "      <td>0</td>\n",
              "    </tr>\n",
              "    <tr>\n",
              "      <th>...</th>\n",
              "      <td>...</td>\n",
              "      <td>...</td>\n",
              "      <td>...</td>\n",
              "      <td>...</td>\n",
              "      <td>...</td>\n",
              "      <td>...</td>\n",
              "      <td>...</td>\n",
              "      <td>...</td>\n",
              "      <td>...</td>\n",
              "      <td>...</td>\n",
              "      <td>...</td>\n",
              "      <td>...</td>\n",
              "      <td>...</td>\n",
              "      <td>...</td>\n",
              "      <td>...</td>\n",
              "      <td>...</td>\n",
              "      <td>...</td>\n",
              "      <td>...</td>\n",
              "      <td>...</td>\n",
              "      <td>...</td>\n",
              "      <td>...</td>\n",
              "      <td>...</td>\n",
              "      <td>...</td>\n",
              "      <td>...</td>\n",
              "      <td>...</td>\n",
              "      <td>...</td>\n",
              "      <td>...</td>\n",
              "      <td>...</td>\n",
              "      <td>...</td>\n",
              "      <td>...</td>\n",
              "      <td>...</td>\n",
              "      <td>...</td>\n",
              "      <td>...</td>\n",
              "      <td>...</td>\n",
              "      <td>...</td>\n",
              "      <td>...</td>\n",
              "      <td>...</td>\n",
              "      <td>...</td>\n",
              "      <td>...</td>\n",
              "      <td>...</td>\n",
              "      <td>...</td>\n",
              "      <td>...</td>\n",
              "      <td>...</td>\n",
              "      <td>...</td>\n",
              "      <td>...</td>\n",
              "      <td>...</td>\n",
              "      <td>...</td>\n",
              "      <td>...</td>\n",
              "    </tr>\n",
              "    <tr>\n",
              "      <th>763</th>\n",
              "      <td>34</td>\n",
              "      <td>1333</td>\n",
              "      <td>10</td>\n",
              "      <td>4</td>\n",
              "      <td>1</td>\n",
              "      <td>1055</td>\n",
              "      <td>3</td>\n",
              "      <td>87</td>\n",
              "      <td>3</td>\n",
              "      <td>1</td>\n",
              "      <td>3</td>\n",
              "      <td>2220</td>\n",
              "      <td>18410</td>\n",
              "      <td>1</td>\n",
              "      <td>1</td>\n",
              "      <td>1</td>\n",
              "      <td>19</td>\n",
              "      <td>3</td>\n",
              "      <td>4</td>\n",
              "      <td>80</td>\n",
              "      <td>1</td>\n",
              "      <td>1</td>\n",
              "      <td>2</td>\n",
              "      <td>3</td>\n",
              "      <td>1</td>\n",
              "      <td>1</td>\n",
              "      <td>0</td>\n",
              "      <td>0</td>\n",
              "      <td>0</td>\n",
              "      <td>1</td>\n",
              "      <td>1</td>\n",
              "      <td>0</td>\n",
              "      <td>0</td>\n",
              "      <td>0</td>\n",
              "      <td>0</td>\n",
              "      <td>0</td>\n",
              "      <td>0</td>\n",
              "      <td>1</td>\n",
              "      <td>0</td>\n",
              "      <td>0</td>\n",
              "      <td>0</td>\n",
              "      <td>0</td>\n",
              "      <td>0</td>\n",
              "      <td>0</td>\n",
              "      <td>0</td>\n",
              "      <td>1</td>\n",
              "      <td>1</td>\n",
              "      <td>0</td>\n",
              "    </tr>\n",
              "    <tr>\n",
              "      <th>835</th>\n",
              "      <td>35</td>\n",
              "      <td>528</td>\n",
              "      <td>8</td>\n",
              "      <td>4</td>\n",
              "      <td>1</td>\n",
              "      <td>1164</td>\n",
              "      <td>3</td>\n",
              "      <td>100</td>\n",
              "      <td>3</td>\n",
              "      <td>1</td>\n",
              "      <td>3</td>\n",
              "      <td>4323</td>\n",
              "      <td>7108</td>\n",
              "      <td>1</td>\n",
              "      <td>1</td>\n",
              "      <td>0</td>\n",
              "      <td>17</td>\n",
              "      <td>3</td>\n",
              "      <td>2</td>\n",
              "      <td>80</td>\n",
              "      <td>0</td>\n",
              "      <td>6</td>\n",
              "      <td>2</td>\n",
              "      <td>1</td>\n",
              "      <td>5</td>\n",
              "      <td>4</td>\n",
              "      <td>1</td>\n",
              "      <td>4</td>\n",
              "      <td>0</td>\n",
              "      <td>0</td>\n",
              "      <td>0</td>\n",
              "      <td>0</td>\n",
              "      <td>0</td>\n",
              "      <td>0</td>\n",
              "      <td>1</td>\n",
              "      <td>1</td>\n",
              "      <td>0</td>\n",
              "      <td>1</td>\n",
              "      <td>1</td>\n",
              "      <td>0</td>\n",
              "      <td>0</td>\n",
              "      <td>0</td>\n",
              "      <td>0</td>\n",
              "      <td>0</td>\n",
              "      <td>0</td>\n",
              "      <td>0</td>\n",
              "      <td>0</td>\n",
              "      <td>1</td>\n",
              "    </tr>\n",
              "    <tr>\n",
              "      <th>1216</th>\n",
              "      <td>43</td>\n",
              "      <td>1179</td>\n",
              "      <td>2</td>\n",
              "      <td>3</td>\n",
              "      <td>1</td>\n",
              "      <td>1706</td>\n",
              "      <td>4</td>\n",
              "      <td>73</td>\n",
              "      <td>3</td>\n",
              "      <td>2</td>\n",
              "      <td>4</td>\n",
              "      <td>7847</td>\n",
              "      <td>6069</td>\n",
              "      <td>1</td>\n",
              "      <td>1</td>\n",
              "      <td>1</td>\n",
              "      <td>17</td>\n",
              "      <td>3</td>\n",
              "      <td>1</td>\n",
              "      <td>80</td>\n",
              "      <td>1</td>\n",
              "      <td>10</td>\n",
              "      <td>3</td>\n",
              "      <td>3</td>\n",
              "      <td>10</td>\n",
              "      <td>9</td>\n",
              "      <td>8</td>\n",
              "      <td>8</td>\n",
              "      <td>0</td>\n",
              "      <td>1</td>\n",
              "      <td>0</td>\n",
              "      <td>0</td>\n",
              "      <td>1</td>\n",
              "      <td>0</td>\n",
              "      <td>0</td>\n",
              "      <td>1</td>\n",
              "      <td>0</td>\n",
              "      <td>1</td>\n",
              "      <td>0</td>\n",
              "      <td>0</td>\n",
              "      <td>0</td>\n",
              "      <td>0</td>\n",
              "      <td>0</td>\n",
              "      <td>0</td>\n",
              "      <td>1</td>\n",
              "      <td>0</td>\n",
              "      <td>1</td>\n",
              "      <td>0</td>\n",
              "    </tr>\n",
              "    <tr>\n",
              "      <th>559</th>\n",
              "      <td>38</td>\n",
              "      <td>268</td>\n",
              "      <td>2</td>\n",
              "      <td>5</td>\n",
              "      <td>1</td>\n",
              "      <td>773</td>\n",
              "      <td>4</td>\n",
              "      <td>92</td>\n",
              "      <td>3</td>\n",
              "      <td>1</td>\n",
              "      <td>3</td>\n",
              "      <td>3057</td>\n",
              "      <td>20471</td>\n",
              "      <td>6</td>\n",
              "      <td>1</td>\n",
              "      <td>1</td>\n",
              "      <td>13</td>\n",
              "      <td>3</td>\n",
              "      <td>2</td>\n",
              "      <td>80</td>\n",
              "      <td>1</td>\n",
              "      <td>6</td>\n",
              "      <td>0</td>\n",
              "      <td>1</td>\n",
              "      <td>1</td>\n",
              "      <td>0</td>\n",
              "      <td>0</td>\n",
              "      <td>1</td>\n",
              "      <td>1</td>\n",
              "      <td>0</td>\n",
              "      <td>0</td>\n",
              "      <td>0</td>\n",
              "      <td>1</td>\n",
              "      <td>0</td>\n",
              "      <td>0</td>\n",
              "      <td>1</td>\n",
              "      <td>0</td>\n",
              "      <td>1</td>\n",
              "      <td>0</td>\n",
              "      <td>0</td>\n",
              "      <td>0</td>\n",
              "      <td>0</td>\n",
              "      <td>0</td>\n",
              "      <td>1</td>\n",
              "      <td>0</td>\n",
              "      <td>0</td>\n",
              "      <td>1</td>\n",
              "      <td>0</td>\n",
              "    </tr>\n",
              "    <tr>\n",
              "      <th>684</th>\n",
              "      <td>40</td>\n",
              "      <td>658</td>\n",
              "      <td>10</td>\n",
              "      <td>4</td>\n",
              "      <td>1</td>\n",
              "      <td>954</td>\n",
              "      <td>1</td>\n",
              "      <td>67</td>\n",
              "      <td>2</td>\n",
              "      <td>3</td>\n",
              "      <td>2</td>\n",
              "      <td>9705</td>\n",
              "      <td>20652</td>\n",
              "      <td>2</td>\n",
              "      <td>1</td>\n",
              "      <td>0</td>\n",
              "      <td>12</td>\n",
              "      <td>3</td>\n",
              "      <td>2</td>\n",
              "      <td>80</td>\n",
              "      <td>1</td>\n",
              "      <td>11</td>\n",
              "      <td>2</td>\n",
              "      <td>2</td>\n",
              "      <td>1</td>\n",
              "      <td>0</td>\n",
              "      <td>0</td>\n",
              "      <td>0</td>\n",
              "      <td>0</td>\n",
              "      <td>1</td>\n",
              "      <td>0</td>\n",
              "      <td>1</td>\n",
              "      <td>0</td>\n",
              "      <td>0</td>\n",
              "      <td>0</td>\n",
              "      <td>1</td>\n",
              "      <td>0</td>\n",
              "      <td>1</td>\n",
              "      <td>0</td>\n",
              "      <td>0</td>\n",
              "      <td>0</td>\n",
              "      <td>0</td>\n",
              "      <td>0</td>\n",
              "      <td>0</td>\n",
              "      <td>1</td>\n",
              "      <td>0</td>\n",
              "      <td>0</td>\n",
              "      <td>0</td>\n",
              "    </tr>\n",
              "  </tbody>\n",
              "</table>\n",
              "<p>1102 rows × 48 columns</p>\n",
              "</div>"
            ],
            "text/plain": [
              "      Age  DailyRate  DistanceFromHome  Education  EmployeeCount  \\\n",
              "944    28       1476                 1          3              1   \n",
              "1402   31       1276                 2          1              1   \n",
              "1054   49       1490                 7          4              1   \n",
              "1128   36       1302                 6          4              1   \n",
              "1323   28        280                 1          2              1   \n",
              "...   ...        ...               ...        ...            ...   \n",
              "763    34       1333                10          4              1   \n",
              "835    35        528                 8          4              1   \n",
              "1216   43       1179                 2          3              1   \n",
              "559    38        268                 2          5              1   \n",
              "684    40        658                10          4              1   \n",
              "\n",
              "      EmployeeNumber  EnvironmentSatisfaction  HourlyRate  JobInvolvement  \\\n",
              "944             1315                        3          55               1   \n",
              "1402            1974                        4          59               1   \n",
              "1054            1484                        3          35               3   \n",
              "1128            1594                        1          80               4   \n",
              "1323            1858                        3          43               3   \n",
              "...              ...                      ...         ...             ...   \n",
              "763             1055                        3          87               3   \n",
              "835             1164                        3         100               3   \n",
              "1216            1706                        4          73               3   \n",
              "559              773                        4          92               3   \n",
              "684              954                        1          67               2   \n",
              "\n",
              "      JobLevel  JobSatisfaction  MonthlyIncome  MonthlyRate  \\\n",
              "944          2                4           6674        16392   \n",
              "1402         1                4           1129        17536   \n",
              "1054         3                2          10466        20948   \n",
              "1128         2                1           5562        19711   \n",
              "1323         1                4           2706        10494   \n",
              "...        ...              ...            ...          ...   \n",
              "763          1                3           2220        18410   \n",
              "835          1                3           4323         7108   \n",
              "1216         2                4           7847         6069   \n",
              "559          1                3           3057        20471   \n",
              "684          3                2           9705        20652   \n",
              "\n",
              "      NumCompaniesWorked  Over18  OverTime  PercentSalaryHike  \\\n",
              "944                    0       1         0                 11   \n",
              "1402                   1       1         1                 11   \n",
              "1054                   3       1         0                 14   \n",
              "1128                   3       1         1                 13   \n",
              "1323                   1       1         0                 15   \n",
              "...                  ...     ...       ...                ...   \n",
              "763                    1       1         1                 19   \n",
              "835                    1       1         0                 17   \n",
              "1216                   1       1         1                 17   \n",
              "559                    6       1         1                 13   \n",
              "684                    2       1         0                 12   \n",
              "\n",
              "      PerformanceRating  RelationshipSatisfaction  StandardHours  \\\n",
              "944                   3                         1             80   \n",
              "1402                  3                         3             80   \n",
              "1054                  3                         2             80   \n",
              "1128                  3                         4             80   \n",
              "1323                  3                         2             80   \n",
              "...                 ...                       ...            ...   \n",
              "763                   3                         4             80   \n",
              "835                   3                         2             80   \n",
              "1216                  3                         1             80   \n",
              "559                   3                         2             80   \n",
              "684                   3                         2             80   \n",
              "\n",
              "      StockOptionLevel  TotalWorkingYears  TrainingTimesLastYear  \\\n",
              "944                  3                 10                      6   \n",
              "1402                 3                  1                      4   \n",
              "1054                 2                 29                      3   \n",
              "1128                 1                  9                      3   \n",
              "1323                 1                  3                      2   \n",
              "...                ...                ...                    ...   \n",
              "763                  1                  1                      2   \n",
              "835                  0                  6                      2   \n",
              "1216                 1                 10                      3   \n",
              "559                  1                  6                      0   \n",
              "684                  1                 11                      2   \n",
              "\n",
              "      WorkLifeBalance  YearsAtCompany  YearsInCurrentRole  \\\n",
              "944                 3               9                   8   \n",
              "1402                3               1                   0   \n",
              "1054                3               8                   7   \n",
              "1128                3               3                   2   \n",
              "1323                3               3                   2   \n",
              "...               ...             ...                 ...   \n",
              "763                 3               1                   1   \n",
              "835                 1               5                   4   \n",
              "1216                3              10                   9   \n",
              "559                 1               1                   0   \n",
              "684                 2               1                   0   \n",
              "\n",
              "      YearsSinceLastPromotion  YearsWithCurrManager  Research & Development  \\\n",
              "944                         7                     5                       1   \n",
              "1402                        0                     0                       1   \n",
              "1054                        0                     7                       1   \n",
              "1128                        0                     2                       1   \n",
              "1323                        2                     2                       0   \n",
              "...                       ...                   ...                     ...   \n",
              "763                         0                     0                       0   \n",
              "835                         1                     4                       0   \n",
              "1216                        8                     8                       0   \n",
              "559                         0                     1                       1   \n",
              "684                         0                     0                       0   \n",
              "\n",
              "      Sales  Life Sciences  Marketing  Medical  Other  Technical Degree  Male  \\\n",
              "944       0              1          0        0      0                 0     0   \n",
              "1402      0              0          0        1      0                 0     0   \n",
              "1054      0              1          0        0      0                 0     1   \n",
              "1128      0              1          0        0      0                 0     1   \n",
              "1323      0              1          0        0      0                 0     1   \n",
              "...     ...            ...        ...      ...    ...               ...   ...   \n",
              "763       1              1          0        0      0                 0     0   \n",
              "835       0              0          0        0      0                 1     1   \n",
              "1216      1              0          0        1      0                 0     1   \n",
              "559       0              0          0        1      0                 0     1   \n",
              "684       1              0          1        0      0                 0     1   \n",
              "\n",
              "      Travel_Frequently  Travel_Rarely  Human Resources  \\\n",
              "944                   0              0                0   \n",
              "1402                  0              1                0   \n",
              "1054                  0              1                0   \n",
              "1128                  1              0                0   \n",
              "1323                  0              0                1   \n",
              "...                 ...            ...              ...   \n",
              "763                   0              1                0   \n",
              "835                   0              1                1   \n",
              "1216                  0              1                0   \n",
              "559                   0              1                0   \n",
              "684                   0              1                0   \n",
              "\n",
              "      Laboratory Technician  Manager  Manufacturing Director  \\\n",
              "944                       1        0                       0   \n",
              "1402                      1        0                       0   \n",
              "1054                      0        0                       0   \n",
              "1128                      1        0                       0   \n",
              "1323                      0        0                       0   \n",
              "...                     ...      ...                     ...   \n",
              "763                       0        0                       0   \n",
              "835                       0        0                       0   \n",
              "1216                      0        0                       0   \n",
              "559                       0        0                       0   \n",
              "684                       0        0                       0   \n",
              "\n",
              "      Research Director  Research Scientist  Sales Executive  \\\n",
              "944                   0                   0                0   \n",
              "1402                  0                   0                0   \n",
              "1054                  0                   0                0   \n",
              "1128                  0                   0                0   \n",
              "1323                  0                   0                0   \n",
              "...                 ...                 ...              ...   \n",
              "763                   0                   0                0   \n",
              "835                   0                   0                0   \n",
              "1216                  0                   0                1   \n",
              "559                   0                   1                0   \n",
              "684                   0                   0                1   \n",
              "\n",
              "      Sales Representative  Married  Single  \n",
              "944                      0        1       0  \n",
              "1402                     0        0       0  \n",
              "1054                     0        0       0  \n",
              "1128                     0        1       0  \n",
              "1323                     0        0       0  \n",
              "...                    ...      ...     ...  \n",
              "763                      1        1       0  \n",
              "835                      0        0       1  \n",
              "1216                     0        1       0  \n",
              "559                      0        1       0  \n",
              "684                      0        0       0  \n",
              "\n",
              "[1102 rows x 48 columns]"
            ]
          },
          "metadata": {
            "tags": []
          },
          "execution_count": 36
        }
      ]
    },
    {
      "cell_type": "code",
      "metadata": {
        "colab": {
          "base_uri": "https://localhost:8080/"
        },
        "id": "FTeHF6F_3RWp",
        "outputId": "02921ad1-1e84-468a-aedf-0549029637ad"
      },
      "source": [
        "y_train"
      ],
      "execution_count": null,
      "outputs": [
        {
          "output_type": "execute_result",
          "data": {
            "text/plain": [
              "944     0\n",
              "1402    0\n",
              "1054    0\n",
              "1128    0\n",
              "1323    0\n",
              "       ..\n",
              "763     0\n",
              "835     0\n",
              "1216    0\n",
              "559     0\n",
              "684     0\n",
              "Name: Attrition, Length: 1102, dtype: int64"
            ]
          },
          "metadata": {
            "tags": []
          },
          "execution_count": 37
        }
      ]
    },
    {
      "cell_type": "markdown",
      "metadata": {
        "id": "DEmHBlXl6ylC"
      },
      "source": [
        "#### Standardizing the Variables"
      ]
    },
    {
      "cell_type": "markdown",
      "metadata": {
        "id": "JO15JfE3Hiu9"
      },
      "source": [
        "- **Standardizing** the train and test set values."
      ]
    },
    {
      "cell_type": "code",
      "metadata": {
        "_uuid": "940f9e597cabd078609c36e7e14ffdc84ed86243",
        "id": "G3JGh6il6ylC"
      },
      "source": [
        "sc = StandardScaler()\n",
        "X_train_sc = sc.fit_transform(X_train)"
      ],
      "execution_count": null,
      "outputs": []
    },
    {
      "cell_type": "code",
      "metadata": {
        "colab": {
          "base_uri": "https://localhost:8080/"
        },
        "id": "zlK5vsPf36yK",
        "outputId": "a5219236-3be7-4091-edbb-8a7d6dd208a9"
      },
      "source": [
        "X_train_sc"
      ],
      "execution_count": null,
      "outputs": [
        {
          "output_type": "execute_result",
          "data": {
            "text/plain": [
              "array([[-0.97814689,  1.64929306, -1.00324133, ..., -0.23996161,\n",
              "         1.10940039, -0.69654519],\n",
              "       [-0.64555884,  1.15826825, -0.87953406, ..., -0.23996161,\n",
              "        -0.90138782, -0.69654519],\n",
              "       [ 1.34996947,  1.6836648 , -0.26099766, ..., -0.23996161,\n",
              "        -0.90138782, -0.69654519],\n",
              "       ...,\n",
              "       [ 0.68479337,  0.92012122, -0.87953406, ..., -0.23996161,\n",
              "         1.10940039, -0.69654519],\n",
              "       [ 0.13047995, -1.31649677, -0.87953406, ..., -0.23996161,\n",
              "         1.10940039, -0.69654519],\n",
              "       [ 0.35220531, -0.35899839,  0.11012417, ..., -0.23996161,\n",
              "        -0.90138782, -0.69654519]])"
            ]
          },
          "metadata": {
            "tags": []
          },
          "execution_count": 40
        }
      ]
    },
    {
      "cell_type": "code",
      "metadata": {
        "id": "oBvY8UAZSQrR"
      },
      "source": [
        "X_test_sc = sc.transform(X_test)"
      ],
      "execution_count": null,
      "outputs": []
    },
    {
      "cell_type": "markdown",
      "metadata": {
        "id": "cvP6N0M9ZpFA"
      },
      "source": [
        "---"
      ]
    },
    {
      "cell_type": "markdown",
      "metadata": {
        "id": "zSY8lqI8SXTv"
      },
      "source": [
        "<a id=section601></a>\n",
        "### 6.1 Logistic Regression"
      ]
    },
    {
      "cell_type": "markdown",
      "metadata": {
        "id": "AgIPbEHfHo5M"
      },
      "source": [
        "- **Creating** the Logistic Regression model."
      ]
    },
    {
      "cell_type": "code",
      "metadata": {
        "id": "LbLbcTdK6ylG"
      },
      "source": [
        "classifier = LogisticRegression(random_state=0) # base model "
      ],
      "execution_count": null,
      "outputs": []
    },
    {
      "cell_type": "markdown",
      "metadata": {
        "id": "SGqHPHRbHtc9"
      },
      "source": [
        "- **Fitting** the Logistic Regression classifier with the train set.\n",
        "\n",
        "- Here, we are also **calculating** the **time** taken to fit the data."
      ]
    },
    {
      "cell_type": "code",
      "metadata": {
        "id": "dIcW8TU3Sc11",
        "colab": {
          "base_uri": "https://localhost:8080/"
        },
        "outputId": "51d007dd-5172-4907-f7b0-3852728ec788"
      },
      "source": [
        "start_time = time.time()\n",
        "fit1 = classifier.fit(X_train_sc, y_train)\n",
        "end_time = time.time()\n",
        "time2 = end_time-start_time\n",
        "print(time2)"
      ],
      "execution_count": null,
      "outputs": [
        {
          "output_type": "stream",
          "text": [
            "0.043868303298950195\n"
          ],
          "name": "stdout"
        }
      ]
    },
    {
      "cell_type": "markdown",
      "metadata": {
        "id": "LRAPXbCYH8Iz"
      },
      "source": [
        "**Observations**:\n",
        "\n",
        "- It takes **0.036 seconds** for our model to **fit** on the standardized data."
      ]
    },
    {
      "cell_type": "markdown",
      "metadata": {
        "id": "HBx70NKWZKBD"
      },
      "source": [
        "- Making **predictions** on the test set."
      ]
    },
    {
      "cell_type": "code",
      "metadata": {
        "id": "ifVtiKzl6ylL"
      },
      "source": [
        "y_pred_lr1 = fit1.predict(X_test_sc)"
      ],
      "execution_count": null,
      "outputs": []
    },
    {
      "cell_type": "markdown",
      "metadata": {
        "id": "6JsB4vicUhaC"
      },
      "source": [
        "#### Confusion Matrix and Classification Report"
      ]
    },
    {
      "cell_type": "code",
      "metadata": {
        "id": "iRGUYZwX6ylP",
        "colab": {
          "base_uri": "https://localhost:8080/"
        },
        "outputId": "6f5cb057-ed55-42a8-96dd-cb6480beb822"
      },
      "source": [
        "print(confusion_matrix(y_test, y_pred_lr1))"
      ],
      "execution_count": null,
      "outputs": [
        {
          "output_type": "stream",
          "text": [
            "[[302   8]\n",
            " [ 34  24]]\n"
          ],
          "name": "stdout"
        }
      ]
    },
    {
      "cell_type": "markdown",
      "metadata": {
        "id": "LoK1wZoMIAi-"
      },
      "source": [
        "**Observations**:\n",
        "\n",
        "- There are **326 correct** predictions out of **368 samples**.\n",
        "\n",
        "- The total number of **incorrect** predictions is **42**."
      ]
    },
    {
      "cell_type": "code",
      "metadata": {
        "id": "o6NPKTvYUknm",
        "colab": {
          "base_uri": "https://localhost:8080/"
        },
        "outputId": "5de7ddac-4863-44a4-fab1-c8d9b1eb641e"
      },
      "source": [
        "print(classification_report(y_test, y_pred_lr1))"
      ],
      "execution_count": null,
      "outputs": [
        {
          "output_type": "stream",
          "text": [
            "              precision    recall  f1-score   support\n",
            "\n",
            "           0       0.90      0.97      0.93       310\n",
            "           1       0.75      0.41      0.53        58\n",
            "\n",
            "    accuracy                           0.89       368\n",
            "   macro avg       0.82      0.69      0.73       368\n",
            "weighted avg       0.88      0.89      0.87       368\n",
            "\n"
          ],
          "name": "stdout"
        }
      ]
    },
    {
      "cell_type": "markdown",
      "metadata": {
        "id": "RwvwcnH_ICY-"
      },
      "source": [
        "**Observations**:\n",
        "\n",
        "- Our model is achieving an **accuracy** of **89%** on the **test** data."
      ]
    },
    {
      "cell_type": "markdown",
      "metadata": {
        "id": "1o9iWZFGJbAb"
      },
      "source": [
        "- Let's check the model performance after using **LDA** on the data."
      ]
    },
    {
      "cell_type": "markdown",
      "metadata": {
        "id": "PAILAc2sZrFc"
      },
      "source": [
        "---"
      ]
    },
    {
      "cell_type": "markdown",
      "metadata": {
        "_uuid": "98a5e021f80e3c208ba9e4e978c78067e6cdfcb7",
        "id": "6CMR78ZF6ylS"
      },
      "source": [
        "<a id=section602></a>\n",
        "### 6.2 Logistic Regression with LDA"
      ]
    },
    {
      "cell_type": "markdown",
      "metadata": {
        "_uuid": "68446d737426410caa169f5db9555d8574cdf89d",
        "id": "5cPC28Q26ylT"
      },
      "source": [
        "#### Applying LDA"
      ]
    },
    {
      "cell_type": "markdown",
      "metadata": {
        "id": "FQNcj88KJkDr"
      },
      "source": [
        "- Applying **LDA** on the train and test data."
      ]
    },
    {
      "cell_type": "code",
      "metadata": {
        "colab": {
          "base_uri": "https://localhost:8080/"
        },
        "id": "xH4p3qxg56Sb",
        "outputId": "4c72c54e-e1c9-47b6-e3cf-84ef6e78d0b9"
      },
      "source": [
        "len(X_train_sc[0])"
      ],
      "execution_count": null,
      "outputs": [
        {
          "output_type": "execute_result",
          "data": {
            "text/plain": [
              "48"
            ]
          },
          "metadata": {
            "tags": []
          },
          "execution_count": 62
        }
      ]
    },
    {
      "cell_type": "code",
      "metadata": {
        "id": "UcRtmNXS6Yua"
      },
      "source": [
        "# Number of components == \n",
        "# Unlke in PCA, where n_componenets can be less than equal to number of columns (0,n) ?\n",
        "# in LDA, the number of n_components is (1,Total Number of Class -1), because we are creatin componenets with respect to classes. \n",
        "# if you are doing binary, , just 1 componnet will be there. "
      ],
      "execution_count": null,
      "outputs": []
    },
    {
      "cell_type": "code",
      "metadata": {
        "_uuid": "afa7c7a672fd23efdcb87e7a3ca576bdcf2a541e",
        "id": "dePyeFBE6ylW"
      },
      "source": [
        "lda = LinearDiscriminantAnalysis(n_components=None)\n",
        "\n",
        "X_train_lda = lda.fit_transform(X_train_sc, y_train)"
      ],
      "execution_count": null,
      "outputs": []
    },
    {
      "cell_type": "code",
      "metadata": {
        "id": "Qu5544DuUu2u"
      },
      "source": [
        "X_test_lda = lda.transform(X_test_sc)"
      ],
      "execution_count": null,
      "outputs": []
    },
    {
      "cell_type": "code",
      "metadata": {
        "colab": {
          "base_uri": "https://localhost:8080/"
        },
        "id": "sVtjAKcV5gzB",
        "outputId": "dde37b94-0b24-4fa6-f487-62e92123c494"
      },
      "source": [
        "X_train_sc.shape"
      ],
      "execution_count": null,
      "outputs": [
        {
          "output_type": "execute_result",
          "data": {
            "text/plain": [
              "(1102, 48)"
            ]
          },
          "metadata": {
            "tags": []
          },
          "execution_count": 55
        }
      ]
    },
    {
      "cell_type": "code",
      "metadata": {
        "colab": {
          "base_uri": "https://localhost:8080/"
        },
        "id": "tReqq3jW5fnc",
        "outputId": "a35b1955-a536-44b7-8d5a-16a6bcfdac00"
      },
      "source": [
        "len(X_train_lda[0])"
      ],
      "execution_count": null,
      "outputs": [
        {
          "output_type": "execute_result",
          "data": {
            "text/plain": [
              "1"
            ]
          },
          "metadata": {
            "tags": []
          },
          "execution_count": 63
        }
      ]
    },
    {
      "cell_type": "code",
      "metadata": {
        "colab": {
          "base_uri": "https://localhost:8080/"
        },
        "id": "yycsRqYS6Fl1",
        "outputId": "5b85f96c-424e-4f68-ff9c-2b971af285ac"
      },
      "source": [
        "X_train_lda"
      ],
      "execution_count": null,
      "outputs": [
        {
          "output_type": "execute_result",
          "data": {
            "text/plain": [
              "array([[-0.83080633],\n",
              "       [ 0.43024273],\n",
              "       [-2.35703948],\n",
              "       ...,\n",
              "       [-0.77857902],\n",
              "       [ 1.34840757],\n",
              "       [ 1.0667449 ]])"
            ]
          },
          "metadata": {
            "tags": []
          },
          "execution_count": 68
        }
      ]
    },
    {
      "cell_type": "markdown",
      "metadata": {
        "_uuid": "0bc436c23a272bbe147a900a914b92ca3084e600",
        "id": "c-BlnzfV6ylZ"
      },
      "source": [
        "#### Logistic Regression"
      ]
    },
    {
      "cell_type": "markdown",
      "metadata": {
        "id": "cMYZXHebJtxP"
      },
      "source": [
        "- **Creating** the Logistic Regression model."
      ]
    },
    {
      "cell_type": "code",
      "metadata": {
        "id": "Q-SwFN1QV-ul"
      },
      "source": [
        "classifier = LogisticRegression(random_state=0)"
      ],
      "execution_count": null,
      "outputs": []
    },
    {
      "cell_type": "markdown",
      "metadata": {
        "id": "3UpcJRS1KFht"
      },
      "source": [
        "- **Fitting** the Logistic Regression classifier with the **LDA transformed** train set.\n",
        "\n",
        "- Also, **calculating** the **time** taken to fit the data."
      ]
    },
    {
      "cell_type": "code",
      "metadata": {
        "_uuid": "6729acdb307b7d2e58c022809f9c61059ea4660f",
        "id": "_WnB--_O6yla",
        "colab": {
          "base_uri": "https://localhost:8080/"
        },
        "outputId": "a4bacd42-759b-4185-eac3-ca304228e31d"
      },
      "source": [
        "start_time = time.time()\n",
        "fit2 = classifier.fit(X_train_lda, y_train)\n",
        "end_time = time.time()\n",
        "time3 = end_time-start_time\n",
        "print(time3)"
      ],
      "execution_count": null,
      "outputs": [
        {
          "output_type": "stream",
          "text": [
            "0.010084867477416992\n"
          ],
          "name": "stdout"
        }
      ]
    },
    {
      "cell_type": "markdown",
      "metadata": {
        "id": "X1eZ6L-EIDnx"
      },
      "source": [
        "**Observations**:\n",
        "\n",
        "- It takes **0.016 seconds** for our model to **fit** on the standardized data."
      ]
    },
    {
      "cell_type": "markdown",
      "metadata": {
        "id": "WIR6xNLjZQ0G"
      },
      "source": [
        "- Making **predictions** on the test set."
      ]
    },
    {
      "cell_type": "code",
      "metadata": {
        "_uuid": "71e12d62f1af893c14a4512e7db692a55ee50525",
        "id": "YzjrW5UY6ylf"
      },
      "source": [
        "y_pred_lr2 = fit2.predict(X_test_lda)"
      ],
      "execution_count": null,
      "outputs": []
    },
    {
      "cell_type": "markdown",
      "metadata": {
        "_uuid": "2e26c891c10397d9055a172278839668073d3301",
        "id": "R6U2KByg6yli"
      },
      "source": [
        "#### Confusion Matrix and Classification Report"
      ]
    },
    {
      "cell_type": "code",
      "metadata": {
        "_uuid": "fd0d95880849e00f47a869d6e2964cfbbecae19a",
        "id": "o1yzqMht6yli",
        "colab": {
          "base_uri": "https://localhost:8080/"
        },
        "outputId": "d2e12ea0-bf04-4e57-dd95-1a6508470f6e"
      },
      "source": [
        "print(confusion_matrix(y_test, y_pred_lr2))"
      ],
      "execution_count": null,
      "outputs": [
        {
          "output_type": "stream",
          "text": [
            "[[301   9]\n",
            " [ 35  23]]\n"
          ],
          "name": "stdout"
        }
      ]
    },
    {
      "cell_type": "markdown",
      "metadata": {
        "id": "6Rotx0YIIGXl"
      },
      "source": [
        "**Observations**:\n",
        "\n",
        "- There are **324 correct** predictions out of **368 samples**.\n",
        "\n",
        "- The total number of **incorrect** predictions is **44**."
      ]
    },
    {
      "cell_type": "code",
      "metadata": {
        "_uuid": "801d1ec198fedea2ec58432d1a2607779a852cf8",
        "id": "STj-GOqb6yln",
        "colab": {
          "base_uri": "https://localhost:8080/"
        },
        "outputId": "75289893-3809-4d45-bf14-4202e4d5ec9c"
      },
      "source": [
        "print(classification_report(y_test, y_pred_lr2))"
      ],
      "execution_count": null,
      "outputs": [
        {
          "output_type": "stream",
          "text": [
            "              precision    recall  f1-score   support\n",
            "\n",
            "           0       0.90      0.97      0.93       310\n",
            "           1       0.72      0.40      0.51        58\n",
            "\n",
            "    accuracy                           0.88       368\n",
            "   macro avg       0.81      0.68      0.72       368\n",
            "weighted avg       0.87      0.88      0.87       368\n",
            "\n"
          ],
          "name": "stdout"
        }
      ]
    },
    {
      "cell_type": "markdown",
      "metadata": {
        "id": "k0mt-KpVIHF8"
      },
      "source": [
        "**Observations**:\n",
        "\n",
        "- Our model is achieving an **accuracy** of **88%** on the **LDA transformed test** data.\n",
        "\n",
        "- This is almost **similar** to the Logistic Regression model with standardized data."
      ]
    },
    {
      "cell_type": "markdown",
      "metadata": {
        "id": "VmxayRi7ZvOz"
      },
      "source": [
        "---"
      ]
    },
    {
      "cell_type": "markdown",
      "metadata": {
        "id": "0J1ZnOHw6ylq"
      },
      "source": [
        "<a id=section603></a>\n",
        "### 6.3 Computing Time Difference Between Logistic Regression Models"
      ]
    },
    {
      "cell_type": "markdown",
      "metadata": {
        "id": "mUz3-rn1w0D8"
      },
      "source": [
        "- Here, we will compute the **time difference** between the two different logistic regression models."
      ]
    },
    {
      "cell_type": "code",
      "metadata": {
        "id": "dOC6RR_e6ylr",
        "colab": {
          "base_uri": "https://localhost:8080/"
        },
        "outputId": "750372fc-15f6-4e90-d325-8e332778397e"
      },
      "source": [
        "time_diff = time3 / time2\n",
        "print(time_diff)"
      ],
      "execution_count": null,
      "outputs": [
        {
          "output_type": "stream",
          "text": [
            "0.22988961776550704\n"
          ],
          "name": "stdout"
        }
      ]
    },
    {
      "cell_type": "markdown",
      "metadata": {
        "id": "qJhSEcmLIH9t"
      },
      "source": [
        "**Observations**:\n",
        "\n",
        "- The **time ratio** of the LDA and without LDA models is **0.44 seconds**.\n",
        "\n",
        "- This implies that the *model after LDA* is **44% faster** than the model without LDA."
      ]
    },
    {
      "cell_type": "markdown",
      "metadata": {
        "id": "rFD0SW86aTSd"
      },
      "source": [
        "---"
      ]
    },
    {
      "cell_type": "markdown",
      "metadata": {
        "_uuid": "e9c1a7c2733a1cf59fdc7261ea40d5d6550c1e93",
        "id": "xh4Gw2lg6ylu"
      },
      "source": [
        "<a id=section7></a>\n",
        "## 7. Using KNN, SVM and Decision Tree Models and Comparing their Performance"
      ]
    },
    {
      "cell_type": "markdown",
      "metadata": {
        "_uuid": "0137171a12362f9d90104427d12890ab613942ca",
        "id": "o12Secm_6yl6"
      },
      "source": [
        "<a id=section701></a>\n",
        "### 7.1 KNN with LDA"
      ]
    },
    {
      "cell_type": "markdown",
      "metadata": {
        "_uuid": "f6af06a23b2b983262cb86fb2a0b7abd16be1192",
        "id": "Ne5XezKP6ymA"
      },
      "source": [
        "#### Choosing the best K"
      ]
    },
    {
      "cell_type": "code",
      "metadata": {
        "_uuid": "e8529a877ac60a799bb2aac4f703587cd84bb29a",
        "id": "3RIvNW9d6ymA"
      },
      "source": [
        "error_rate = []\n",
        "for i in range(1, 40):\n",
        "    knn = KNeighborsClassifier(n_neighbors=i)\n",
        "    knn.fit(X_train_lda, y_train)\n",
        "    pred_i = knn.predict(X_test_lda)\n",
        "    error_rate.append(np.mean(pred_i != y_test))"
      ],
      "execution_count": null,
      "outputs": []
    },
    {
      "cell_type": "markdown",
      "metadata": {
        "id": "ncX6UYZkX8lG"
      },
      "source": [
        "- **Plotting** the **error** values for different **K** values. "
      ]
    },
    {
      "cell_type": "code",
      "metadata": {
        "_uuid": "909566de57b6d7cce8deb4838d93c8a88330791b",
        "id": "6A8wXRK76ymE",
        "colab": {
          "base_uri": "https://localhost:8080/",
          "height": 421
        },
        "outputId": "72358f05-905b-4481-9c14-dc0a7f05e893"
      },
      "source": [
        "plt.figure(figsize=(10,6))\n",
        "plt.plot(range(1, 40), error_rate, color='blue', linestyle='dashed', marker='o',\n",
        "         markerfacecolor='red', markersize=10)\n",
        "plt.title('Error Rate vs. K Value')\n",
        "plt.xlabel('K')\n",
        "plt.ylabel('Error Rate')"
      ],
      "execution_count": null,
      "outputs": [
        {
          "output_type": "execute_result",
          "data": {
            "text/plain": [
              "Text(0, 0.5, 'Error Rate')"
            ]
          },
          "metadata": {
            "tags": []
          },
          "execution_count": 76
        },
        {
          "output_type": "display_data",
          "data": {
            "image/png": "[encoded data removed]",
            "text/plain": [
              "<Figure size 720x432 with 1 Axes>"
            ]
          },
          "metadata": {
            "tags": [],
            "needs_background": "light"
          }
        }
      ]
    },
    {
      "cell_type": "markdown",
      "metadata": {
        "id": "emNPVwc8YvLc"
      },
      "source": [
        "**Observations**:\n",
        "\n",
        "- From the above plot, we can see that the **error rate** has a significant **drop** at **5**.\n",
        "\n",
        "- After 5, the error rate **stagnates** and starts to **overfit**.\n",
        "\n",
        "- So we will select **5** as **`n_neighbors`**."
      ]
    },
    {
      "cell_type": "markdown",
      "metadata": {
        "id": "NnXvsBm5Zmxm"
      },
      "source": [
        "#### KNN"
      ]
    },
    {
      "cell_type": "markdown",
      "metadata": {
        "id": "y-n4na5MJvx5"
      },
      "source": [
        "- **Creating** the KNN model."
      ]
    },
    {
      "cell_type": "code",
      "metadata": {
        "_uuid": "3ec55066843c6d5bbb41258dd5d35347b3f61acc",
        "id": "aVTG1jc26yl7",
        "colab": {
          "base_uri": "https://localhost:8080/"
        },
        "outputId": "404a9dff-2892-4584-8692-7a659bbdf582"
      },
      "source": [
        "knn = KNeighborsClassifier(n_neighbors=35, weights='distance', algorithm='brute')\n",
        "knn.fit(X_train_lda, y_train)"
      ],
      "execution_count": null,
      "outputs": [
        {
          "output_type": "execute_result",
          "data": {
            "text/plain": [
              "KNeighborsClassifier(algorithm='brute', leaf_size=30, metric='minkowski',\n",
              "                     metric_params=None, n_jobs=None, n_neighbors=35, p=2,\n",
              "                     weights='distance')"
            ]
          },
          "metadata": {
            "tags": []
          },
          "execution_count": 81
        }
      ]
    },
    {
      "cell_type": "markdown",
      "metadata": {
        "id": "ZCw2Wxx7ZSQ3"
      },
      "source": [
        "- Making **predictions** on the test set."
      ]
    },
    {
      "cell_type": "code",
      "metadata": {
        "_uuid": "dd2d967a30efe8c110a33e62c294cd8d7be514d8",
        "id": "atTwWfNB6yl9"
      },
      "source": [
        "y_pred_knn = knn.predict(X_test_lda)"
      ],
      "execution_count": null,
      "outputs": []
    },
    {
      "cell_type": "markdown",
      "metadata": {
        "_uuid": "b90c42612ee3a829db8e4ef2bfcd7ba86835ca87",
        "id": "Y14dlzNJ6ymH"
      },
      "source": [
        "#### Confusion Matrix and Classification Report"
      ]
    },
    {
      "cell_type": "code",
      "metadata": {
        "_uuid": "4c06a4f1e96f8a1c51b30147fa2a0e4e7b295c61",
        "id": "NwsdKh_G6ymJ",
        "colab": {
          "base_uri": "https://localhost:8080/"
        },
        "outputId": "2e9cf1c1-5940-4a30-ccbc-74102243985b"
      },
      "source": [
        "print(confusion_matrix(y_test, y_pred_knn))"
      ],
      "execution_count": null,
      "outputs": [
        {
          "output_type": "stream",
          "text": [
            "[[296  14]\n",
            " [ 30  28]]\n"
          ],
          "name": "stdout"
        }
      ]
    },
    {
      "cell_type": "markdown",
      "metadata": {
        "id": "LOJjWiUwIJjv"
      },
      "source": [
        "**Observations**:\n",
        "\n",
        "- There are **317 correct** predictions out of **368 samples**.\n",
        "\n",
        "- The total number of **incorrect** predictions is **51**."
      ]
    },
    {
      "cell_type": "code",
      "metadata": {
        "id": "hS_Osx4fZN1h",
        "colab": {
          "base_uri": "https://localhost:8080/"
        },
        "outputId": "44c8e9bd-4630-4d2c-f0ab-ae18e86c896f"
      },
      "source": [
        "print(classification_report(y_test, y_pred_knn))"
      ],
      "execution_count": null,
      "outputs": [
        {
          "output_type": "stream",
          "text": [
            "              precision    recall  f1-score   support\n",
            "\n",
            "           0       0.91      0.95      0.93       310\n",
            "           1       0.67      0.48      0.56        58\n",
            "\n",
            "    accuracy                           0.88       368\n",
            "   macro avg       0.79      0.72      0.75       368\n",
            "weighted avg       0.87      0.88      0.87       368\n",
            "\n"
          ],
          "name": "stdout"
        }
      ]
    },
    {
      "cell_type": "markdown",
      "metadata": {
        "id": "8zZrrBkBIKZ1"
      },
      "source": [
        "**Observations**:\n",
        "\n",
        "- Our model is achieving an **accuracy** of **86%** on the **LDA transformed test** data.\n",
        "\n",
        "- This is slightly **lower** than the Logistic Regression models."
      ]
    },
    {
      "cell_type": "markdown",
      "metadata": {
        "_uuid": "a4385847037cf08be529136b60a77e66b647a254",
        "id": "76C8O53k6ymP"
      },
      "source": [
        "--------------------------------------------------------------------------------------------------------------------------------"
      ]
    },
    {
      "cell_type": "markdown",
      "metadata": {
        "_uuid": "404e91f0dd9dda0334f74adef0432b20601b3754",
        "id": "LHAe3acI6ymQ"
      },
      "source": [
        "<a id=section702></a>\n",
        "### 7.2 SVM with LDA"
      ]
    },
    {
      "cell_type": "markdown",
      "metadata": {
        "id": "1hWGUVmaJyhF"
      },
      "source": [
        "#### SVM"
      ]
    },
    {
      "cell_type": "markdown",
      "metadata": {
        "id": "x2XSQW4NJ09J"
      },
      "source": [
        "- **Creating** the SVM model."
      ]
    },
    {
      "cell_type": "code",
      "metadata": {
        "_uuid": "adea6b97b0b3309cc9ec0e08ce26334bf39c2d0e",
        "id": "a1XA0obV6ymW",
        "colab": {
          "base_uri": "https://localhost:8080/"
        },
        "outputId": "63cfb042-896c-49dc-8a61-c989256ee268"
      },
      "source": [
        "svm = SVC(random_state=0)\n",
        "svm.fit(X_train_lda, y_train)"
      ],
      "execution_count": null,
      "outputs": [
        {
          "output_type": "execute_result",
          "data": {
            "text/plain": [
              "SVC(C=1.0, break_ties=False, cache_size=200, class_weight=None, coef0=0.0,\n",
              "    decision_function_shape='ovr', degree=3, gamma='scale', kernel='rbf',\n",
              "    max_iter=-1, probability=False, random_state=0, shrinking=True, tol=0.001,\n",
              "    verbose=False)"
            ]
          },
          "metadata": {
            "tags": []
          },
          "execution_count": 85
        }
      ]
    },
    {
      "cell_type": "markdown",
      "metadata": {
        "id": "n1o1dCBKZTgy"
      },
      "source": [
        "- Making **predictions** on the test set."
      ]
    },
    {
      "cell_type": "code",
      "metadata": {
        "_uuid": "36cf04b2a6bf3d72fc941c96415b0a872b466a28",
        "id": "6l-eRaZw6ymZ"
      },
      "source": [
        "y_pred_svm = svm.predict(X_test_lda)"
      ],
      "execution_count": null,
      "outputs": []
    },
    {
      "cell_type": "markdown",
      "metadata": {
        "_uuid": "216d253f19849f5793067aa36f33c1504cd81bbb",
        "id": "ha5D6Os_6ymb"
      },
      "source": [
        "#### Confusion Matrix and Classification Report"
      ]
    },
    {
      "cell_type": "code",
      "metadata": {
        "_uuid": "df51aa0881d7b1611b26da98369be77a9785086c",
        "id": "x83_M45s6ymc",
        "colab": {
          "base_uri": "https://localhost:8080/"
        },
        "outputId": "43dfe635-2593-4444-bc37-6f21e8c497a0"
      },
      "source": [
        "print(confusion_matrix(y_test, y_pred_svm))"
      ],
      "execution_count": null,
      "outputs": [
        {
          "output_type": "stream",
          "text": [
            "[[301   9]\n",
            " [ 37  21]]\n"
          ],
          "name": "stdout"
        }
      ]
    },
    {
      "cell_type": "markdown",
      "metadata": {
        "id": "om-WsnqNILTn"
      },
      "source": [
        "**Observations**:\n",
        "\n",
        "- There are **322 correct** predictions out of **368 samples**.\n",
        "\n",
        "- The total number of **incorrect** predictions is **46**."
      ]
    },
    {
      "cell_type": "code",
      "metadata": {
        "id": "AsY57mjDaI92",
        "colab": {
          "base_uri": "https://localhost:8080/"
        },
        "outputId": "d704b382-ef0b-4444-ab4e-33ec63fe7d53"
      },
      "source": [
        "print(classification_report(y_test, y_pred_svm))"
      ],
      "execution_count": null,
      "outputs": [
        {
          "output_type": "stream",
          "text": [
            "              precision    recall  f1-score   support\n",
            "\n",
            "           0       0.89      0.97      0.93       310\n",
            "           1       0.70      0.36      0.48        58\n",
            "\n",
            "    accuracy                           0.88       368\n",
            "   macro avg       0.80      0.67      0.70       368\n",
            "weighted avg       0.86      0.88      0.86       368\n",
            "\n"
          ],
          "name": "stdout"
        }
      ]
    },
    {
      "cell_type": "markdown",
      "metadata": {
        "id": "RQ6x-j_vIL9l"
      },
      "source": [
        "**Observations**:\n",
        "\n",
        "- Our model is achieving an **accuracy** of **88%** on the **LDA transformed test** data.\n",
        "\n",
        "- This is **similar** to the Logistic regression model on LDA transformed data."
      ]
    },
    {
      "cell_type": "markdown",
      "metadata": {
        "id": "VT-inDeCa6OU"
      },
      "source": [
        "---"
      ]
    },
    {
      "cell_type": "markdown",
      "metadata": {
        "_uuid": "1ccf6e67f7f97c1cadc66c186f329f8b8ea78993",
        "id": "v3Tudgsc6ymh"
      },
      "source": [
        "<a id=section703></a>\n",
        "### 7.3 Decision Tree with LDA"
      ]
    },
    {
      "cell_type": "markdown",
      "metadata": {
        "id": "iFQhNCqyJ6sy"
      },
      "source": [
        "#### Decision Tree"
      ]
    },
    {
      "cell_type": "markdown",
      "metadata": {
        "id": "eXXaxzH1J8NV"
      },
      "source": [
        "- **Creating** the Decision Tree model."
      ]
    },
    {
      "cell_type": "code",
      "metadata": {
        "_uuid": "9de3080d97e2e71bb86b0ce6e75414f1ec2667ba",
        "id": "j5ZGw0kH6ymk"
      },
      "source": [
        "dt = DecisionTreeClassifier(random_state=0)"
      ],
      "execution_count": null,
      "outputs": []
    },
    {
      "cell_type": "code",
      "metadata": {
        "_uuid": "472756664709d1d76aa19398887cfe0660b9494e",
        "id": "dAV-QaIZ6ymm",
        "colab": {
          "base_uri": "https://localhost:8080/"
        },
        "outputId": "a80b3157-cb43-4db0-dcfa-56ef18dd6e7d"
      },
      "source": [
        "dt.fit(X_train_lda, y_train)"
      ],
      "execution_count": null,
      "outputs": [
        {
          "output_type": "execute_result",
          "data": {
            "text/plain": [
              "DecisionTreeClassifier(ccp_alpha=0.0, class_weight=None, criterion='gini',\n",
              "                       max_depth=None, max_features=None, max_leaf_nodes=None,\n",
              "                       min_impurity_decrease=0.0, min_impurity_split=None,\n",
              "                       min_samples_leaf=1, min_samples_split=2,\n",
              "                       min_weight_fraction_leaf=0.0, presort='deprecated',\n",
              "                       random_state=0, splitter='best')"
            ]
          },
          "metadata": {
            "tags": []
          },
          "execution_count": 90
        }
      ]
    },
    {
      "cell_type": "markdown",
      "metadata": {
        "id": "IdFeqTUbZVPJ"
      },
      "source": [
        "- Making **predictions** on the test set."
      ]
    },
    {
      "cell_type": "code",
      "metadata": {
        "_uuid": "0a0af1b9cb941a6c8488fbdbd7204b7d8bc705c9",
        "id": "EgUGJUjo6ymo"
      },
      "source": [
        "y_pred_dt = dt.predict(X_test_lda)"
      ],
      "execution_count": null,
      "outputs": []
    },
    {
      "cell_type": "markdown",
      "metadata": {
        "id": "oQGwv8YuAWx1"
      },
      "source": [
        "#### Confusion Matrix and Classification Report"
      ]
    },
    {
      "cell_type": "code",
      "metadata": {
        "_uuid": "78028a6b39aec8e74a9f5431cb70b587d3c42363",
        "id": "WsAmTYBt6ymq",
        "colab": {
          "base_uri": "https://localhost:8080/"
        },
        "outputId": "16dfbcbf-f98d-4b44-9846-e77acaec5c44"
      },
      "source": [
        "print(confusion_matrix(y_test, y_pred_dt))"
      ],
      "execution_count": null,
      "outputs": [
        {
          "output_type": "stream",
          "text": [
            "[[275  35]\n",
            " [ 33  25]]\n"
          ],
          "name": "stdout"
        }
      ]
    },
    {
      "cell_type": "markdown",
      "metadata": {
        "id": "RWuDwcqBIMzZ"
      },
      "source": [
        "**Observations**:\n",
        "\n",
        "- There are **300 correct** predictions out of **368 samples**.\n",
        "\n",
        "- The total number of **incorrect** predictions is **68**."
      ]
    },
    {
      "cell_type": "code",
      "metadata": {
        "_uuid": "38ec33f8ba1463c97764f32ca159e25d5399e1b5",
        "id": "FkeyRS6s6yms",
        "colab": {
          "base_uri": "https://localhost:8080/"
        },
        "outputId": "ac037ec3-63f0-41b8-85c0-e9aa72119836"
      },
      "source": [
        "print(classification_report(y_test, y_pred_dt))"
      ],
      "execution_count": null,
      "outputs": [
        {
          "output_type": "stream",
          "text": [
            "              precision    recall  f1-score   support\n",
            "\n",
            "           0       0.89      0.89      0.89       310\n",
            "           1       0.42      0.43      0.42        58\n",
            "\n",
            "    accuracy                           0.82       368\n",
            "   macro avg       0.65      0.66      0.66       368\n",
            "weighted avg       0.82      0.82      0.82       368\n",
            "\n"
          ],
          "name": "stdout"
        }
      ]
    },
    {
      "cell_type": "code",
      "metadata": {
        "colab": {
          "base_uri": "https://localhost:8080/"
        },
        "id": "ALqfSbMl9xKQ",
        "outputId": "c3db481b-0ddf-4b60-f497-7bbbb98d6050"
      },
      "source": [
        "from sklearn.ensemble import GradientBoostingClassifier\n",
        "clf = GradientBoostingClassifier(random_state=0)\n",
        "clf.fit(X_train_sc, y_train)\n",
        "y_pred_dt = clf.predict(X_test_sc)\n",
        "print(classification_report(y_test, y_pred_dt))"
      ],
      "execution_count": null,
      "outputs": [
        {
          "output_type": "stream",
          "text": [
            "              precision    recall  f1-score   support\n",
            "\n",
            "           0       0.89      0.98      0.93       310\n",
            "           1       0.77      0.34      0.48        58\n",
            "\n",
            "    accuracy                           0.88       368\n",
            "   macro avg       0.83      0.66      0.70       368\n",
            "weighted avg       0.87      0.88      0.86       368\n",
            "\n"
          ],
          "name": "stdout"
        }
      ]
    },
    {
      "cell_type": "markdown",
      "metadata": {
        "id": "6I3HysmpINf4"
      },
      "source": [
        "**Observations**:\n",
        "\n",
        "- Our model is achieving an **accuracy** of **82%** on the **LDA transformed test** data.\n",
        "\n",
        "- This is the **lowest accuracy** achieved by any model."
      ]
    },
    {
      "cell_type": "markdown",
      "metadata": {
        "id": "LDsfN4s16ymy"
      },
      "source": [
        "<a id=section8></a>\n",
        "## 8. Conclusion"
      ]
    },
    {
      "cell_type": "markdown",
      "metadata": {
        "_uuid": "b919f517c0e1df1a047fde36a00e1aac6258e9ce",
        "id": "9DKoKexL6ym1"
      },
      "source": [
        "- In this notebook, we studien in-depth about the **Linear Discriminant Analysis**.\n",
        "\n",
        "- We briefly explained the concept of **Dimensionality Reduction**, and it's need.\n",
        "\n",
        "- Then we moved onto Linear Discriminant Analysis, and explained it in detail.\n",
        "\n",
        "  - We talked about the **purpose** of LDA, and tried understanding it using **examples**.\n",
        "\n",
        "  - We also studied some **Applications** of LDA.\n",
        "\n",
        "  - At last we compared **PCA vs LDA**.\n",
        "\n",
        "- Then we stared working on the use case of **IBM Attrition and Performance**.\n",
        "\n",
        "  - We briefly explained the problem statement and the data description.\n",
        "  \n",
        "  - Then we performed some **Data Visualization**, and did **Data Preprocessing** on the dataset.\n",
        "\n",
        "- After this we started the modelling process.\n",
        "\n",
        "  - First, we build a **Logistic Regression** model and fitted it will the standardized train set and made predictions on the standardized test set.\n",
        "\n",
        "  - Then we applied **LDA** on the data and repeated the model fitting and making predictions process on this LDA transformed data.\n",
        "\n",
        "  - We found that, both models achieved almost **similar performance** with LDA transformed model being **44% faster** in training.\n",
        "\n",
        "- After that we build various other ML models and compared their performance on the LDA transformed data.\n",
        "\n",
        "  - We found that Logistic Regression and SVM models both achieved similar accuracy score.\n",
        "\n",
        "  - But, the Logistic Regression (**0.51**) model had slightly better F1 score while predicting the **Attrition** than SVM (**0.48**).\n",
        "\n",
        "  - Hence, Logistic Regression turned out to be the **best model**.\n",
        "\n"
      ]
    }
  ]
}