{
  "nbformat": 4,
  "nbformat_minor": 0,
  "metadata": {
    "colab": {
      "name": "ML_End2End_Pipeline_NewFeature.ipynb",
      "provenance": [],
      "collapsed_sections": [
        "paVMdoyGkcoD"
      ],
      "include_colab_link": true
    },
    "kernelspec": {
      "name": "python3",
      "display_name": "Python 3"
    },
    "accelerator": "GPU"
  },
  "cells": [
    {
      "cell_type": "markdown",
      "metadata": {
        "id": "view-in-github",
        "colab_type": "text"
      },
      "source": [
        "<a href=\"https://colab.research.google.com/github/ramachandra17/ramachandra17/blob/main/ML_End2End_Pipeline_NewFeature.ipynb\" target=\"_parent\"><img src=\"https://colab.research.google.com/assets/colab-badge.svg\" alt=\"Open In Colab\"/></a>"
      ]
    },
    {
      "cell_type": "code",
      "metadata": {
        "id": "fU5Hja3f0XOE"
      },
      "source": [
        "#library\n",
        "import pandas as pd\n",
        "import seaborn as sns\n",
        "import matplotlib.pyplot as plt\n",
        "%matplotlib inline\n",
        "\n",
        "import numpy as np\n",
        "import random as rnd\n",
        "\n",
        "from sklearn import svm, tree, linear_model, neighbors, naive_bayes, ensemble, discriminant_analysis, gaussian_process\n",
        "from xgboost import XGBClassifier\n",
        "\n",
        "#Common Model Helpers\n",
        "from sklearn.preprocessing import OneHotEncoder, LabelEncoder\n",
        "from sklearn import feature_selection\n",
        "from sklearn import model_selection\n",
        "from sklearn import metrics\n",
        "\n",
        "#Visualization\n",
        "import matplotlib as mpl\n",
        "import matplotlib.pyplot as plt\n",
        "import matplotlib.pylab as pylab\n",
        "import seaborn as sns\n",
        "from pandas.plotting import scatter_matrix\n",
        "\n",
        "# Importing Models\n",
        "from sklearn import svm, tree, linear_model, neighbors, naive_bayes, ensemble, discriminant_analysis, gaussian_process\n",
        "\n",
        "from sklearn.linear_model import LogisticRegression\n",
        "from sklearn.tree import DecisionTreeClassifier\n",
        "from sklearn.discriminant_analysis import LinearDiscriminantAnalysis\n",
        "from sklearn.ensemble import AdaBoostClassifier, RandomForestClassifier, GradientBoostingClassifier\n",
        "from sklearn.neighbors import KNeighborsClassifier\n",
        "from sklearn.svm import SVC, LinearSVC\n",
        "from xgboost import XGBClassifier\n",
        "from lightgbm import LGBMClassifier\n",
        "\n",
        "# Importing other tools\n",
        "from sklearn import model_selection\n",
        "from sklearn.metrics import confusion_matrix, classification_report, make_scorer\n",
        "from sklearn.metrics import accuracy_score, recall_score, precision_recall_curve\n",
        "from sklearn.model_selection import StratifiedKFold, cross_validate\n",
        "from sklearn.preprocessing import StandardScaler\n",
        "from sklearn.pipeline import Pipeline\n",
        "from sklearn.calibration import CalibratedClassifierCV"
      ],
      "execution_count": null,
      "outputs": []
    },
    {
      "cell_type": "code",
      "metadata": {
        "id": "zCcUYBcK1gkN"
      },
      "source": [
        "data = pd.read_csv(\"https://raw.githubusercontent.com/Mineria/Titanic/master/csv/train.csv\")"
      ],
      "execution_count": null,
      "outputs": []
    },
    {
      "cell_type": "code",
      "metadata": {
        "id": "DjAawrCe2DGR",
        "colab": {
          "base_uri": "https://localhost:8080/",
          "height": 202
        },
        "outputId": "390bcaea-4ef1-41a7-8c09-34a7530f8b61"
      },
      "source": [
        "data.head()"
      ],
      "execution_count": null,
      "outputs": [
        {
          "output_type": "execute_result",
          "data": {
            "text/html": [
              "<div>\n",
              "<style scoped>\n",
              "    .dataframe tbody tr th:only-of-type {\n",
              "        vertical-align: middle;\n",
              "    }\n",
              "\n",
              "    .dataframe tbody tr th {\n",
              "        vertical-align: top;\n",
              "    }\n",
              "\n",
              "    .dataframe thead th {\n",
              "        text-align: right;\n",
              "    }\n",
              "</style>\n",
              "<table border=\"1\" class=\"dataframe\">\n",
              "  <thead>\n",
              "    <tr style=\"text-align: right;\">\n",
              "      <th></th>\n",
              "      <th>PassengerId</th>\n",
              "      <th>Survived</th>\n",
              "      <th>Pclass</th>\n",
              "      <th>Name</th>\n",
              "      <th>Sex</th>\n",
              "      <th>Age</th>\n",
              "      <th>SibSp</th>\n",
              "      <th>Parch</th>\n",
              "      <th>Ticket</th>\n",
              "      <th>Fare</th>\n",
              "      <th>Cabin</th>\n",
              "      <th>Embarked</th>\n",
              "    </tr>\n",
              "  </thead>\n",
              "  <tbody>\n",
              "    <tr>\n",
              "      <th>0</th>\n",
              "      <td>1</td>\n",
              "      <td>0</td>\n",
              "      <td>3</td>\n",
              "      <td>Braund, Mr. Owen Harris</td>\n",
              "      <td>male</td>\n",
              "      <td>22.0</td>\n",
              "      <td>1</td>\n",
              "      <td>0</td>\n",
              "      <td>A/5 21171</td>\n",
              "      <td>7.2500</td>\n",
              "      <td>NaN</td>\n",
              "      <td>S</td>\n",
              "    </tr>\n",
              "    <tr>\n",
              "      <th>1</th>\n",
              "      <td>2</td>\n",
              "      <td>1</td>\n",
              "      <td>1</td>\n",
              "      <td>Cumings, Mrs. John Bradley (Florence Briggs Th...</td>\n",
              "      <td>female</td>\n",
              "      <td>38.0</td>\n",
              "      <td>1</td>\n",
              "      <td>0</td>\n",
              "      <td>PC 17599</td>\n",
              "      <td>71.2833</td>\n",
              "      <td>C85</td>\n",
              "      <td>C</td>\n",
              "    </tr>\n",
              "    <tr>\n",
              "      <th>2</th>\n",
              "      <td>3</td>\n",
              "      <td>1</td>\n",
              "      <td>3</td>\n",
              "      <td>Heikkinen, Miss. Laina</td>\n",
              "      <td>female</td>\n",
              "      <td>26.0</td>\n",
              "      <td>0</td>\n",
              "      <td>0</td>\n",
              "      <td>STON/O2. 3101282</td>\n",
              "      <td>7.9250</td>\n",
              "      <td>NaN</td>\n",
              "      <td>S</td>\n",
              "    </tr>\n",
              "    <tr>\n",
              "      <th>3</th>\n",
              "      <td>4</td>\n",
              "      <td>1</td>\n",
              "      <td>1</td>\n",
              "      <td>Futrelle, Mrs. Jacques Heath (Lily May Peel)</td>\n",
              "      <td>female</td>\n",
              "      <td>35.0</td>\n",
              "      <td>1</td>\n",
              "      <td>0</td>\n",
              "      <td>113803</td>\n",
              "      <td>53.1000</td>\n",
              "      <td>C123</td>\n",
              "      <td>S</td>\n",
              "    </tr>\n",
              "    <tr>\n",
              "      <th>4</th>\n",
              "      <td>5</td>\n",
              "      <td>0</td>\n",
              "      <td>3</td>\n",
              "      <td>Allen, Mr. William Henry</td>\n",
              "      <td>male</td>\n",
              "      <td>35.0</td>\n",
              "      <td>0</td>\n",
              "      <td>0</td>\n",
              "      <td>373450</td>\n",
              "      <td>8.0500</td>\n",
              "      <td>NaN</td>\n",
              "      <td>S</td>\n",
              "    </tr>\n",
              "  </tbody>\n",
              "</table>\n",
              "</div>"
            ],
            "text/plain": [
              "   PassengerId  Survived  Pclass  ...     Fare Cabin  Embarked\n",
              "0            1         0       3  ...   7.2500   NaN         S\n",
              "1            2         1       1  ...  71.2833   C85         C\n",
              "2            3         1       3  ...   7.9250   NaN         S\n",
              "3            4         1       1  ...  53.1000  C123         S\n",
              "4            5         0       3  ...   8.0500   NaN         S\n",
              "\n",
              "[5 rows x 12 columns]"
            ]
          },
          "metadata": {
            "tags": []
          },
          "execution_count": 3
        }
      ]
    },
    {
      "cell_type": "markdown",
      "metadata": {
        "id": "k7jNZjuL1tvC"
      },
      "source": [
        "# Basic Preproccesing"
      ]
    },
    {
      "cell_type": "code",
      "metadata": {
        "id": "uzYGyf8N1oFa",
        "colab": {
          "base_uri": "https://localhost:8080/",
          "height": 132
        },
        "outputId": "c7507213-c26b-4dd2-c39f-191de7163330"
      },
      "source": [
        "# %%writefile pre-proces.py\n",
        "# Drop Ticket & Cabin \n",
        "def preprocess(data):\n",
        "\tdata = data.drop(['Ticket', 'Cabin'], axis=1)\n",
        "\n",
        "\t# Get the title from name\n",
        "\tdata['Title'] = data.Name.str.extract(' ([A-Za-z]+)\\.', expand=False)\n",
        "\tdata['Title'] = data['Title'].replace(['Lady', 'Countess','Capt', 'Col',\\\n",
        "\t\t'Don', 'Dr', 'Major', 'Rev', 'Sir', 'Jonkheer', 'Dona'], 'Rare')\n",
        "\tdata['Title'] = data['Title'].replace('Mlle', 'Miss')\n",
        "\tdata['Title'] = data['Title'].replace('Ms', 'Miss')\n",
        "\tdata['Title'] = data['Title'].replace('Mme', 'Mrs')\n",
        "\n",
        "\ttitle_mapping = {\"Mr\": 1, \"Miss\": 2, \"Mrs\": 3, \"Master\": 4, \"Rare\": 5} \n",
        "\n",
        "\tdata['Title'] = data['Title'].map(title_mapping)\n",
        "\tdata = data.drop(['Name', 'PassengerId'], axis=1)\n",
        "\n",
        "\t#Change Sex to Numeric\n",
        "\tdata['Sex'] = data['Sex'].map( {'female': 1, 'male': 0} ).astype(int)\n",
        "\n",
        "\t#Add Family Size \n",
        "\tdata['FamilySize'] = data['SibSp'] + data['Parch'] + 1  # gives the number of people per ticket \n",
        "\tdata['IsAlone'] = 0\n",
        "\tdata.loc[data['FamilySize'] == 1, 'IsAlone'] = 1\n",
        "\tdata = data.drop(['Parch', 'SibSp', 'FamilySize'], axis=1)\n",
        "\n",
        "\t#Imputing Missing Value \n",
        "\tdata['Age'].fillna(data['Age'].dropna().median(), inplace=True)\n",
        "\tdata['Embarked'].fillna(data['Embarked'].dropna().mode()[0], inplace=True)\n",
        "\n",
        "\t# Categorizing Numerical Value \n",
        "\tdata['FareBand'] = pd.qcut(data['Fare'], 4).astype(str)\n",
        "\tdata['AgeBand'] = pd.qcut(data['Age'], 4).astype(str)\n",
        "\t# data = data.drop(['Fare', 'Age'], axis=1)\n",
        "\n",
        "\t# Converting Embark to Number\n",
        "\tdata['Embarked'] = data['Embarked'].map( {'S': 0, 'C': 1, 'Q': 2} ).astype(int)\n",
        "\n",
        "\tdata['FareBand'] = data['FareBand'].map( {'(-0.001, 7.91]': 0, '(31.0, 512.329]': 3, '(7.91, 14.454]': 1, '(14.454, 31.0]':2 } ).astype(int)\n",
        "\tdata['AgeBand'] = data['AgeBand'].map( {'(0.419, 22.0]': 0, '(35.0, 80.0]': 3, '(22.0, 28.0]': 1, '(28.0, 35.0]':2 } ).astype(int)\n",
        "return data"
      ],
      "execution_count": null,
      "outputs": [
        {
          "output_type": "error",
          "ename": "SyntaxError",
          "evalue": "ignored",
          "traceback": [
            "\u001b[0;36m  File \u001b[0;32m\"<ipython-input-4-5d8df079bffe>\"\u001b[0;36m, line \u001b[0;32m41\u001b[0m\n\u001b[0;31m    return data\u001b[0m\n\u001b[0m               ^\u001b[0m\n\u001b[0;31mSyntaxError\u001b[0m\u001b[0;31m:\u001b[0m 'return' outside function\n"
          ]
        }
      ]
    },
    {
      "cell_type": "code",
      "metadata": {
        "id": "ApAwSH-xanIb"
      },
      "source": [
        "data = data.drop(['Ticket', 'Cabin'], axis=1)\n",
        "\n",
        "# Get the title from name\n",
        "data['Title'] = data.Name.str.extract(' ([A-Za-z]+)\\.', expand=False)\n",
        "data['Title'] = data['Title'].replace(['Lady', 'Countess','Capt', 'Col',\\\n",
        "'Don', 'Dr', 'Major', 'Rev', 'Sir', 'Jonkheer', 'Dona'], 'Rare')\n",
        "data['Title'] = data['Title'].replace('Mlle', 'Miss')\n",
        "data['Title'] = data['Title'].replace('Ms', 'Miss')\n",
        "data['Title'] = data['Title'].replace('Mme', 'Mrs')\n",
        "\n",
        "title_mapping = {\"Mr\": 1, \"Miss\": 2, \"Mrs\": 3, \"Master\": 4, \"Rare\": 5} \n",
        "\n",
        "data['Title'] = data['Title'].map(title_mapping)\n",
        "data = data.drop(['Name', 'PassengerId'], axis=1)\n",
        "\n",
        "#Change Sex to Numeric\n",
        "data['Sex'] = data['Sex'].map( {'female': 1, 'male': 0} ).astype(int)\n",
        "\n",
        "#Add Family Size \n",
        "data['FamilySize'] = data['SibSp'] + data['Parch'] + 1  # gives the number of people per ticket \n",
        "data['IsAlone'] = 0\n",
        "data.loc[data['FamilySize'] == 1, 'IsAlone'] = 1\n",
        "data = data.drop(['Parch', 'SibSp', 'FamilySize'], axis=1)\n",
        "\n",
        "#Imputing Missing Value \n",
        "data['Age'].fillna(data['Age'].dropna().median(), inplace=True)\n",
        "data['Embarked'].fillna(data['Embarked'].dropna().mode()[0], inplace=True)\n",
        "\n",
        "# Categorizing Numerical Value \n",
        "data['FareBand'] = pd.qcut(data['Fare'], 4).astype(str)\n",
        "data['AgeBand'] = pd.qcut(data['Age'], 4).astype(str)\n",
        "# data = data.drop(['Fare', 'Age'], axis=1)\n",
        "\n",
        "# Converting Embark to Number\n",
        "data['Embarked'] = data['Embarked'].map( {'S': 0, 'C': 1, 'Q': 2} ).astype(int)\n",
        "\n",
        "data['FareBand'] = data['FareBand'].map( {'(-0.001, 7.91]': 0, '(31.0, 512.329]': 3, '(7.91, 14.454]': 1, '(14.454, 31.0]':2 } ).astype(int)\n",
        "data['AgeBand'] = data['AgeBand'].map( {'(0.419, 22.0]': 0, '(35.0, 80.0]': 3, '(22.0, 28.0]': 1, '(28.0, 35.0]':2 } ).astype(int)"
      ],
      "execution_count": null,
      "outputs": []
    },
    {
      "cell_type": "code",
      "metadata": {
        "id": "oynutXTD2gW2",
        "colab": {
          "base_uri": "https://localhost:8080/",
          "height": 202
        },
        "outputId": "4b086dc4-fdde-4263-a378-31fcce332a99"
      },
      "source": [
        "data.head()"
      ],
      "execution_count": null,
      "outputs": [
        {
          "output_type": "execute_result",
          "data": {
            "text/html": [
              "<div>\n",
              "<style scoped>\n",
              "    .dataframe tbody tr th:only-of-type {\n",
              "        vertical-align: middle;\n",
              "    }\n",
              "\n",
              "    .dataframe tbody tr th {\n",
              "        vertical-align: top;\n",
              "    }\n",
              "\n",
              "    .dataframe thead th {\n",
              "        text-align: right;\n",
              "    }\n",
              "</style>\n",
              "<table border=\"1\" class=\"dataframe\">\n",
              "  <thead>\n",
              "    <tr style=\"text-align: right;\">\n",
              "      <th></th>\n",
              "      <th>Survived</th>\n",
              "      <th>Pclass</th>\n",
              "      <th>Sex</th>\n",
              "      <th>Embarked</th>\n",
              "      <th>Title</th>\n",
              "      <th>IsAlone</th>\n",
              "      <th>FareBand</th>\n",
              "      <th>AgeBand</th>\n",
              "    </tr>\n",
              "  </thead>\n",
              "  <tbody>\n",
              "    <tr>\n",
              "      <th>0</th>\n",
              "      <td>0</td>\n",
              "      <td>3</td>\n",
              "      <td>0</td>\n",
              "      <td>0</td>\n",
              "      <td>1</td>\n",
              "      <td>0</td>\n",
              "      <td>0</td>\n",
              "      <td>0</td>\n",
              "    </tr>\n",
              "    <tr>\n",
              "      <th>1</th>\n",
              "      <td>1</td>\n",
              "      <td>1</td>\n",
              "      <td>1</td>\n",
              "      <td>1</td>\n",
              "      <td>3</td>\n",
              "      <td>0</td>\n",
              "      <td>3</td>\n",
              "      <td>3</td>\n",
              "    </tr>\n",
              "    <tr>\n",
              "      <th>2</th>\n",
              "      <td>1</td>\n",
              "      <td>3</td>\n",
              "      <td>1</td>\n",
              "      <td>0</td>\n",
              "      <td>2</td>\n",
              "      <td>1</td>\n",
              "      <td>1</td>\n",
              "      <td>1</td>\n",
              "    </tr>\n",
              "    <tr>\n",
              "      <th>3</th>\n",
              "      <td>1</td>\n",
              "      <td>1</td>\n",
              "      <td>1</td>\n",
              "      <td>0</td>\n",
              "      <td>3</td>\n",
              "      <td>0</td>\n",
              "      <td>3</td>\n",
              "      <td>2</td>\n",
              "    </tr>\n",
              "    <tr>\n",
              "      <th>4</th>\n",
              "      <td>0</td>\n",
              "      <td>3</td>\n",
              "      <td>0</td>\n",
              "      <td>0</td>\n",
              "      <td>1</td>\n",
              "      <td>1</td>\n",
              "      <td>1</td>\n",
              "      <td>2</td>\n",
              "    </tr>\n",
              "  </tbody>\n",
              "</table>\n",
              "</div>"
            ],
            "text/plain": [
              "   Survived  Pclass  Sex  Embarked  Title  IsAlone  FareBand  AgeBand\n",
              "0         0       3    0         0      1        0         0        0\n",
              "1         1       1    1         1      3        0         3        3\n",
              "2         1       3    1         0      2        1         1        1\n",
              "3         1       1    1         0      3        0         3        2\n",
              "4         0       3    0         0      1        1         1        2"
            ]
          },
          "metadata": {
            "tags": []
          },
          "execution_count": 9
        }
      ]
    },
    {
      "cell_type": "code",
      "metadata": {
        "id": "JBvw9fCV_Vrg"
      },
      "source": [
        "data.drop(['Age','Fare'],axis=1,inplace=True)"
      ],
      "execution_count": null,
      "outputs": []
    },
    {
      "cell_type": "markdown",
      "metadata": {
        "id": "ubUUqk68-jjx"
      },
      "source": [
        "#GridSearch "
      ]
    },
    {
      "cell_type": "code",
      "metadata": {
        "id": "NYF5SiBsMnv0"
      },
      "source": [
        "# Change in the cateogry Type & Data Columns to make it dummy\n",
        "dataDump  = data.copy()\n",
        "df = dataDump.drop(['Survived'], axis=1)\n",
        "df2 = df.drop([],axis = 1)\n",
        "df3 = pd.DataFrame()\n",
        "for col in df.columns:\n",
        "    df3[col] = df[col].astype('category')\n",
        "  "
      ],
      "execution_count": null,
      "outputs": []
    },
    {
      "cell_type": "code",
      "metadata": {
        "id": "rOpsujW4kzOc"
      },
      "source": [
        "Target = ['Survived']\n",
        "data1_x_bin = pd.concat([pd.get_dummies(df3)],axis=1)"
      ],
      "execution_count": null,
      "outputs": []
    },
    {
      "cell_type": "code",
      "metadata": {
        "id": "ChKDuuwuccIn",
        "colab": {
          "base_uri": "https://localhost:8080/",
          "height": 435
        },
        "outputId": "06c3aca7-75bb-41ad-9054-e50a780c31da"
      },
      "source": [
        "data1_x_bin"
      ],
      "execution_count": null,
      "outputs": [
        {
          "output_type": "execute_result",
          "data": {
            "text/html": [
              "<div>\n",
              "<style scoped>\n",
              "    .dataframe tbody tr th:only-of-type {\n",
              "        vertical-align: middle;\n",
              "    }\n",
              "\n",
              "    .dataframe tbody tr th {\n",
              "        vertical-align: top;\n",
              "    }\n",
              "\n",
              "    .dataframe thead th {\n",
              "        text-align: right;\n",
              "    }\n",
              "</style>\n",
              "<table border=\"1\" class=\"dataframe\">\n",
              "  <thead>\n",
              "    <tr style=\"text-align: right;\">\n",
              "      <th></th>\n",
              "      <th>Pclass_1</th>\n",
              "      <th>Pclass_2</th>\n",
              "      <th>Pclass_3</th>\n",
              "      <th>Sex_0</th>\n",
              "      <th>Sex_1</th>\n",
              "      <th>Embarked_0</th>\n",
              "      <th>Embarked_1</th>\n",
              "      <th>Embarked_2</th>\n",
              "      <th>Title_1</th>\n",
              "      <th>Title_2</th>\n",
              "      <th>Title_3</th>\n",
              "      <th>Title_4</th>\n",
              "      <th>Title_5</th>\n",
              "      <th>IsAlone_0</th>\n",
              "      <th>IsAlone_1</th>\n",
              "      <th>FareBand_0</th>\n",
              "      <th>FareBand_1</th>\n",
              "      <th>FareBand_2</th>\n",
              "      <th>FareBand_3</th>\n",
              "      <th>AgeBand_0</th>\n",
              "      <th>AgeBand_1</th>\n",
              "      <th>AgeBand_2</th>\n",
              "      <th>AgeBand_3</th>\n",
              "    </tr>\n",
              "  </thead>\n",
              "  <tbody>\n",
              "    <tr>\n",
              "      <th>0</th>\n",
              "      <td>0</td>\n",
              "      <td>0</td>\n",
              "      <td>1</td>\n",
              "      <td>1</td>\n",
              "      <td>0</td>\n",
              "      <td>1</td>\n",
              "      <td>0</td>\n",
              "      <td>0</td>\n",
              "      <td>1</td>\n",
              "      <td>0</td>\n",
              "      <td>0</td>\n",
              "      <td>0</td>\n",
              "      <td>0</td>\n",
              "      <td>1</td>\n",
              "      <td>0</td>\n",
              "      <td>1</td>\n",
              "      <td>0</td>\n",
              "      <td>0</td>\n",
              "      <td>0</td>\n",
              "      <td>1</td>\n",
              "      <td>0</td>\n",
              "      <td>0</td>\n",
              "      <td>0</td>\n",
              "    </tr>\n",
              "    <tr>\n",
              "      <th>1</th>\n",
              "      <td>1</td>\n",
              "      <td>0</td>\n",
              "      <td>0</td>\n",
              "      <td>0</td>\n",
              "      <td>1</td>\n",
              "      <td>0</td>\n",
              "      <td>1</td>\n",
              "      <td>0</td>\n",
              "      <td>0</td>\n",
              "      <td>0</td>\n",
              "      <td>1</td>\n",
              "      <td>0</td>\n",
              "      <td>0</td>\n",
              "      <td>1</td>\n",
              "      <td>0</td>\n",
              "      <td>0</td>\n",
              "      <td>0</td>\n",
              "      <td>0</td>\n",
              "      <td>1</td>\n",
              "      <td>0</td>\n",
              "      <td>0</td>\n",
              "      <td>0</td>\n",
              "      <td>1</td>\n",
              "    </tr>\n",
              "    <tr>\n",
              "      <th>2</th>\n",
              "      <td>0</td>\n",
              "      <td>0</td>\n",
              "      <td>1</td>\n",
              "      <td>0</td>\n",
              "      <td>1</td>\n",
              "      <td>1</td>\n",
              "      <td>0</td>\n",
              "      <td>0</td>\n",
              "      <td>0</td>\n",
              "      <td>1</td>\n",
              "      <td>0</td>\n",
              "      <td>0</td>\n",
              "      <td>0</td>\n",
              "      <td>0</td>\n",
              "      <td>1</td>\n",
              "      <td>0</td>\n",
              "      <td>1</td>\n",
              "      <td>0</td>\n",
              "      <td>0</td>\n",
              "      <td>0</td>\n",
              "      <td>1</td>\n",
              "      <td>0</td>\n",
              "      <td>0</td>\n",
              "    </tr>\n",
              "    <tr>\n",
              "      <th>3</th>\n",
              "      <td>1</td>\n",
              "      <td>0</td>\n",
              "      <td>0</td>\n",
              "      <td>0</td>\n",
              "      <td>1</td>\n",
              "      <td>1</td>\n",
              "      <td>0</td>\n",
              "      <td>0</td>\n",
              "      <td>0</td>\n",
              "      <td>0</td>\n",
              "      <td>1</td>\n",
              "      <td>0</td>\n",
              "      <td>0</td>\n",
              "      <td>1</td>\n",
              "      <td>0</td>\n",
              "      <td>0</td>\n",
              "      <td>0</td>\n",
              "      <td>0</td>\n",
              "      <td>1</td>\n",
              "      <td>0</td>\n",
              "      <td>0</td>\n",
              "      <td>1</td>\n",
              "      <td>0</td>\n",
              "    </tr>\n",
              "    <tr>\n",
              "      <th>4</th>\n",
              "      <td>0</td>\n",
              "      <td>0</td>\n",
              "      <td>1</td>\n",
              "      <td>1</td>\n",
              "      <td>0</td>\n",
              "      <td>1</td>\n",
              "      <td>0</td>\n",
              "      <td>0</td>\n",
              "      <td>1</td>\n",
              "      <td>0</td>\n",
              "      <td>0</td>\n",
              "      <td>0</td>\n",
              "      <td>0</td>\n",
              "      <td>0</td>\n",
              "      <td>1</td>\n",
              "      <td>0</td>\n",
              "      <td>1</td>\n",
              "      <td>0</td>\n",
              "      <td>0</td>\n",
              "      <td>0</td>\n",
              "      <td>0</td>\n",
              "      <td>1</td>\n",
              "      <td>0</td>\n",
              "    </tr>\n",
              "    <tr>\n",
              "      <th>...</th>\n",
              "      <td>...</td>\n",
              "      <td>...</td>\n",
              "      <td>...</td>\n",
              "      <td>...</td>\n",
              "      <td>...</td>\n",
              "      <td>...</td>\n",
              "      <td>...</td>\n",
              "      <td>...</td>\n",
              "      <td>...</td>\n",
              "      <td>...</td>\n",
              "      <td>...</td>\n",
              "      <td>...</td>\n",
              "      <td>...</td>\n",
              "      <td>...</td>\n",
              "      <td>...</td>\n",
              "      <td>...</td>\n",
              "      <td>...</td>\n",
              "      <td>...</td>\n",
              "      <td>...</td>\n",
              "      <td>...</td>\n",
              "      <td>...</td>\n",
              "      <td>...</td>\n",
              "      <td>...</td>\n",
              "    </tr>\n",
              "    <tr>\n",
              "      <th>886</th>\n",
              "      <td>0</td>\n",
              "      <td>1</td>\n",
              "      <td>0</td>\n",
              "      <td>1</td>\n",
              "      <td>0</td>\n",
              "      <td>1</td>\n",
              "      <td>0</td>\n",
              "      <td>0</td>\n",
              "      <td>0</td>\n",
              "      <td>0</td>\n",
              "      <td>0</td>\n",
              "      <td>0</td>\n",
              "      <td>1</td>\n",
              "      <td>0</td>\n",
              "      <td>1</td>\n",
              "      <td>0</td>\n",
              "      <td>1</td>\n",
              "      <td>0</td>\n",
              "      <td>0</td>\n",
              "      <td>0</td>\n",
              "      <td>1</td>\n",
              "      <td>0</td>\n",
              "      <td>0</td>\n",
              "    </tr>\n",
              "    <tr>\n",
              "      <th>887</th>\n",
              "      <td>1</td>\n",
              "      <td>0</td>\n",
              "      <td>0</td>\n",
              "      <td>0</td>\n",
              "      <td>1</td>\n",
              "      <td>1</td>\n",
              "      <td>0</td>\n",
              "      <td>0</td>\n",
              "      <td>0</td>\n",
              "      <td>1</td>\n",
              "      <td>0</td>\n",
              "      <td>0</td>\n",
              "      <td>0</td>\n",
              "      <td>0</td>\n",
              "      <td>1</td>\n",
              "      <td>0</td>\n",
              "      <td>0</td>\n",
              "      <td>1</td>\n",
              "      <td>0</td>\n",
              "      <td>1</td>\n",
              "      <td>0</td>\n",
              "      <td>0</td>\n",
              "      <td>0</td>\n",
              "    </tr>\n",
              "    <tr>\n",
              "      <th>888</th>\n",
              "      <td>0</td>\n",
              "      <td>0</td>\n",
              "      <td>1</td>\n",
              "      <td>0</td>\n",
              "      <td>1</td>\n",
              "      <td>1</td>\n",
              "      <td>0</td>\n",
              "      <td>0</td>\n",
              "      <td>0</td>\n",
              "      <td>1</td>\n",
              "      <td>0</td>\n",
              "      <td>0</td>\n",
              "      <td>0</td>\n",
              "      <td>1</td>\n",
              "      <td>0</td>\n",
              "      <td>0</td>\n",
              "      <td>0</td>\n",
              "      <td>1</td>\n",
              "      <td>0</td>\n",
              "      <td>0</td>\n",
              "      <td>1</td>\n",
              "      <td>0</td>\n",
              "      <td>0</td>\n",
              "    </tr>\n",
              "    <tr>\n",
              "      <th>889</th>\n",
              "      <td>1</td>\n",
              "      <td>0</td>\n",
              "      <td>0</td>\n",
              "      <td>1</td>\n",
              "      <td>0</td>\n",
              "      <td>0</td>\n",
              "      <td>1</td>\n",
              "      <td>0</td>\n",
              "      <td>1</td>\n",
              "      <td>0</td>\n",
              "      <td>0</td>\n",
              "      <td>0</td>\n",
              "      <td>0</td>\n",
              "      <td>0</td>\n",
              "      <td>1</td>\n",
              "      <td>0</td>\n",
              "      <td>0</td>\n",
              "      <td>1</td>\n",
              "      <td>0</td>\n",
              "      <td>0</td>\n",
              "      <td>1</td>\n",
              "      <td>0</td>\n",
              "      <td>0</td>\n",
              "    </tr>\n",
              "    <tr>\n",
              "      <th>890</th>\n",
              "      <td>0</td>\n",
              "      <td>0</td>\n",
              "      <td>1</td>\n",
              "      <td>1</td>\n",
              "      <td>0</td>\n",
              "      <td>0</td>\n",
              "      <td>0</td>\n",
              "      <td>1</td>\n",
              "      <td>1</td>\n",
              "      <td>0</td>\n",
              "      <td>0</td>\n",
              "      <td>0</td>\n",
              "      <td>0</td>\n",
              "      <td>0</td>\n",
              "      <td>1</td>\n",
              "      <td>1</td>\n",
              "      <td>0</td>\n",
              "      <td>0</td>\n",
              "      <td>0</td>\n",
              "      <td>0</td>\n",
              "      <td>0</td>\n",
              "      <td>1</td>\n",
              "      <td>0</td>\n",
              "    </tr>\n",
              "  </tbody>\n",
              "</table>\n",
              "<p>891 rows × 23 columns</p>\n",
              "</div>"
            ],
            "text/plain": [
              "     Pclass_1  Pclass_2  Pclass_3  ...  AgeBand_1  AgeBand_2  AgeBand_3\n",
              "0           0         0         1  ...          0          0          0\n",
              "1           1         0         0  ...          0          0          1\n",
              "2           0         0         1  ...          1          0          0\n",
              "3           1         0         0  ...          0          1          0\n",
              "4           0         0         1  ...          0          1          0\n",
              "..        ...       ...       ...  ...        ...        ...        ...\n",
              "886         0         1         0  ...          1          0          0\n",
              "887         1         0         0  ...          0          0          0\n",
              "888         0         0         1  ...          1          0          0\n",
              "889         1         0         0  ...          1          0          0\n",
              "890         0         0         1  ...          0          1          0\n",
              "\n",
              "[891 rows x 23 columns]"
            ]
          },
          "metadata": {
            "tags": []
          },
          "execution_count": 12
        }
      ]
    },
    {
      "cell_type": "code",
      "metadata": {
        "id": "Zc0-7m2CcGx6"
      },
      "source": [
        ""
      ],
      "execution_count": null,
      "outputs": []
    },
    {
      "cell_type": "code",
      "metadata": {
        "id": "_6Q2wN-pGu33"
      },
      "source": [
        "import warnings\n",
        "warnings.filterwarnings('ignore')"
      ],
      "execution_count": null,
      "outputs": []
    },
    {
      "cell_type": "markdown",
      "metadata": {
        "id": "4Z1yOHgCG6E6"
      },
      "source": [
        "## Simple Block to experiment all available Algorithm (Major One's, not exhustive) without setting any parameter"
      ]
    },
    {
      "cell_type": "markdown",
      "metadata": {
        "id": "58P9JG-1lqxR"
      },
      "source": [
        "### BaseLine Model Selection "
      ]
    },
    {
      "cell_type": "code",
      "metadata": {
        "id": "_bXOvXLejJgl"
      },
      "source": [
        "# Model Training\n",
        "# model.fit(X_train)\n",
        "\n",
        "##Train = accuracy(model.predict(X_Train) , Y_Train)  #redfitting X_train?\n",
        "\n",
        "#Test Accuracy \n",
        "#Test = accuracy(model.predict(X_Test),Y_Test)\n",
        "\n",
        "#\n",
        "#If, Test >> Train ; Overfit \n",
        "#If, Test << Train; Underfit #\n",
        "\n",
        "#\n",
        "#STD (Predicted Vaue, Actual Value) ~ same ;   Low Bias \n",
        "#STD (Predicted Vaue, Actual Value) ~ high difference ;  High Bias \n",
        "\n",
        "#Variance ( Predicted Vaue, Actual Value ) ~ same ; Low Variance \n",
        "#Variance ( Predicted Vaue, Actual Value ) ~ High Difference ; High Variance \n",
        "\n",
        "# can you judge the Variance & Bias by using single MOdel?\n",
        " #-- Ideally, you should have bunch of different model, to comment on Boas and vairance "
      ],
      "execution_count": null,
      "outputs": []
    },
    {
      "cell_type": "code",
      "metadata": {
        "id": "OVL5kALy-its",
        "colab": {
          "base_uri": "https://localhost:8080/",
          "height": 901
        },
        "outputId": "90151248-f9a2-42f7-80f7-6ab6720b437d"
      },
      "source": [
        "Target = ['Survived']\n",
        "\n",
        "\n",
        "# X = data1_x_bin\n",
        "# y = Target\n",
        "# from sklearn.model_selection import train_test_split\n",
        "# X_train, X_test, y_train, y_test = train_test_split(X, y, test_size=0.2, random_state=101)\n",
        "\n",
        "MLA = [\n",
        "    #Ensemble Methods\n",
        "    ensemble.AdaBoostClassifier(),\n",
        "    ensemble.BaggingClassifier(),\n",
        "    ensemble.ExtraTreesClassifier(),\n",
        "    ensemble.GradientBoostingClassifier(),\n",
        "    ensemble.RandomForestClassifier(),\n",
        "\n",
        "    #Gaussian Processes\n",
        "    gaussian_process.GaussianProcessClassifier(),\n",
        "    \n",
        "    #GLM\n",
        "    linear_model.LogisticRegressionCV(),\n",
        "    linear_model.PassiveAggressiveClassifier(),\n",
        "    linear_model.RidgeClassifierCV(),\n",
        "    linear_model.SGDClassifier(),\n",
        "    linear_model.Perceptron(),\n",
        "    \n",
        "    #Navies Bayes\n",
        "    naive_bayes.BernoulliNB(),\n",
        "    naive_bayes.GaussianNB(),\n",
        "    \n",
        "    #Nearest Neighbor\n",
        "    neighbors.KNeighborsClassifier(),\n",
        "    \n",
        "    #SVM\n",
        "    svm.SVC(probability=True),\n",
        "    svm.NuSVC(probability=True),\n",
        "    svm.LinearSVC(),\n",
        "    \n",
        "    #Trees    \n",
        "    tree.DecisionTreeClassifier(),\n",
        "    tree.ExtraTreeClassifier(),\n",
        "    \n",
        "    #Discriminant Analysis\n",
        "    discriminant_analysis.LinearDiscriminantAnalysis(),\n",
        "    discriminant_analysis.QuadraticDiscriminantAnalysis(),\n",
        "\n",
        "    \n",
        "    #xgboost: http://xgboost.readthedocs.io/en/latest/model.html\n",
        "    XGBClassifier()    \n",
        "    ]\n",
        "\n",
        "#split dataset in cross-validation with this splitter class: http://scikit-learn.org/stable/modules/generated/sklearn.model_selection.ShuffleSplit.html#sklearn.model_selection.ShuffleSplit\n",
        "#note: this is an alternative to train_test_split\n",
        "cv_split = model_selection.ShuffleSplit(n_splits = 10, test_size = .3, train_size = .7 ) # run model 10x with 60/30 split intentionally leaving out 10%\n",
        "#random_state = 0 \n",
        "#create table to compare MLA metrics\n",
        "MLA_columns = ['MLA Name', 'MLA Parameters','MLA Train Accuracy Mean', 'MLA Test Accuracy Mean', 'MLA Test Accuracy 3*STD' ,'MLA Time']\n",
        "MLA_compare = pd.DataFrame(columns = MLA_columns)\n",
        "\n",
        "#create table to compare MLA predictions\n",
        "MLA_predict = data[Target]  # Y \n",
        "\n",
        "#index through MLA and save performance to table\n",
        "row_index = 0\n",
        "Feature_Importance = {}\n",
        "\n",
        "for alg in MLA:\n",
        "\n",
        "    #set name and parameters\n",
        "    MLA_name = alg.__class__.__name__\n",
        "    MLA_compare.loc[row_index, 'MLA Name'] = MLA_name\n",
        "    MLA_compare.loc[row_index, 'MLA Parameters'] = str(alg.get_params())\n",
        "    \n",
        "    \n",
        "    #score model with cross validation: http://scikit-learn.org/stable/modules/generated/sklearn.model_selection.cross_validate.html#sklearn.model_selection.cross_validate\n",
        "    cv_results = model_selection.cross_validate(alg, data1_x_bin, data[Target], cv  = cv_split,return_train_score=True,scoring='f1')\n",
        "\n",
        "    MLA_compare.loc[row_index, 'MLA Time'] = cv_results['fit_time'].mean()\n",
        "    MLA_compare.loc[row_index, 'MLA Train Accuracy Mean'] = cv_results['train_score'].mean()\n",
        "    MLA_compare.loc[row_index, 'MLA Test Accuracy Mean'] = cv_results['test_score'].mean()   \n",
        "    #if this is a non-bias random sample, then +/-3 standard deviations (std) from the mean, should statistically capture 99.7% of the subsets\n",
        "    MLA_compare.loc[row_index, 'MLA Test Accuracy 3*STD'] = cv_results['test_score'].std()*3   #let's know the worst that can happen!\n",
        "    \n",
        "\n",
        "    #save MLA predictions - see section 6 for usage\n",
        "    alg.fit(data1_x_bin, data[Target])\n",
        "\n",
        "    try:\n",
        "      Feature_Importance[MLA_name] = alg.feature_importances_\n",
        "    except AttributeError:\n",
        "      pass\n",
        "      \n",
        "    MLA_predict[MLA_name] = alg.predict(data1_x_bin)\n",
        "    \n",
        "    row_index+=1\n",
        "\n",
        "    \n",
        "#print and sort table: https://pandas.pydata.org/pandas-docs/stable/generated/pandas.DataFrame.sort_values.html\n",
        "MLA_compare.sort_values(by = ['MLA Test Accuracy Mean'], ascending = False, inplace = True)\n",
        "MLA_compare\n",
        "MLA_compare['Difference'] = (MLA_compare['MLA Test Accuracy Mean']-MLA_compare['MLA Train Accuracy Mean'])*100\n",
        "MLA_compare.sort_values(by='Difference',ascending=False)\n",
        "\n",
        "#MLA_predict\n",
        "\n",
        "\n",
        "# To select the final baseline, run this block of code - without random state ~ 5 time and then pick the consistent Algo;\n",
        "\n",
        "# as a first step, run the model pipeline and select the best model \n",
        "    # check the selected model, without random state atleast ~ 5 times; just to be sure, if it's behaving normally "
      ],
      "execution_count": null,
      "outputs": [
        {
          "output_type": "execute_result",
          "data": {
            "text/html": [
              "<div>\n",
              "<style scoped>\n",
              "    .dataframe tbody tr th:only-of-type {\n",
              "        vertical-align: middle;\n",
              "    }\n",
              "\n",
              "    .dataframe tbody tr th {\n",
              "        vertical-align: top;\n",
              "    }\n",
              "\n",
              "    .dataframe thead th {\n",
              "        text-align: right;\n",
              "    }\n",
              "</style>\n",
              "<table border=\"1\" class=\"dataframe\">\n",
              "  <thead>\n",
              "    <tr style=\"text-align: right;\">\n",
              "      <th></th>\n",
              "      <th>MLA Name</th>\n",
              "      <th>MLA Parameters</th>\n",
              "      <th>MLA Train Accuracy Mean</th>\n",
              "      <th>MLA Test Accuracy Mean</th>\n",
              "      <th>MLA Test Accuracy 3*STD</th>\n",
              "      <th>MLA Time</th>\n",
              "      <th>Difference</th>\n",
              "    </tr>\n",
              "  </thead>\n",
              "  <tbody>\n",
              "    <tr>\n",
              "      <th>11</th>\n",
              "      <td>BernoulliNB</td>\n",
              "      <td>{'alpha': 1.0, 'binarize': 0.0, 'class_prior':...</td>\n",
              "      <td>0.732083</td>\n",
              "      <td>0.74945</td>\n",
              "      <td>0.064419</td>\n",
              "      <td>0.00479832</td>\n",
              "      <td>1.73675</td>\n",
              "    </tr>\n",
              "    <tr>\n",
              "      <th>14</th>\n",
              "      <td>SVC</td>\n",
              "      <td>{'C': 1.0, 'cache_size': 200, 'class_weight': ...</td>\n",
              "      <td>0.724298</td>\n",
              "      <td>0.729413</td>\n",
              "      <td>0.126618</td>\n",
              "      <td>0.0735278</td>\n",
              "      <td>0.511479</td>\n",
              "    </tr>\n",
              "    <tr>\n",
              "      <th>16</th>\n",
              "      <td>LinearSVC</td>\n",
              "      <td>{'C': 1.0, 'class_weight': None, 'dual': True,...</td>\n",
              "      <td>0.759587</td>\n",
              "      <td>0.756146</td>\n",
              "      <td>0.0661826</td>\n",
              "      <td>0.0147089</td>\n",
              "      <td>-0.344147</td>\n",
              "    </tr>\n",
              "    <tr>\n",
              "      <th>15</th>\n",
              "      <td>NuSVC</td>\n",
              "      <td>{'cache_size': 200, 'class_weight': None, 'coe...</td>\n",
              "      <td>0.716124</td>\n",
              "      <td>0.709658</td>\n",
              "      <td>0.0767887</td>\n",
              "      <td>0.0937184</td>\n",
              "      <td>-0.646626</td>\n",
              "    </tr>\n",
              "    <tr>\n",
              "      <th>12</th>\n",
              "      <td>GaussianNB</td>\n",
              "      <td>{'priors': None, 'var_smoothing': 1e-09}</td>\n",
              "      <td>0.740733</td>\n",
              "      <td>0.733512</td>\n",
              "      <td>0.0600809</td>\n",
              "      <td>0.00319777</td>\n",
              "      <td>-0.72211</td>\n",
              "    </tr>\n",
              "    <tr>\n",
              "      <th>8</th>\n",
              "      <td>RidgeClassifierCV</td>\n",
              "      <td>{'alphas': array([ 0.1,  1. , 10. ]), 'class_w...</td>\n",
              "      <td>0.75953</td>\n",
              "      <td>0.752069</td>\n",
              "      <td>0.0776452</td>\n",
              "      <td>0.0123311</td>\n",
              "      <td>-0.74617</td>\n",
              "    </tr>\n",
              "    <tr>\n",
              "      <th>9</th>\n",
              "      <td>SGDClassifier</td>\n",
              "      <td>{'alpha': 0.0001, 'average': False, 'class_wei...</td>\n",
              "      <td>0.712304</td>\n",
              "      <td>0.699991</td>\n",
              "      <td>0.147365</td>\n",
              "      <td>0.00844426</td>\n",
              "      <td>-1.23133</td>\n",
              "    </tr>\n",
              "    <tr>\n",
              "      <th>19</th>\n",
              "      <td>LinearDiscriminantAnalysis</td>\n",
              "      <td>{'n_components': None, 'priors': None, 'shrink...</td>\n",
              "      <td>0.757288</td>\n",
              "      <td>0.744648</td>\n",
              "      <td>0.123265</td>\n",
              "      <td>0.00858364</td>\n",
              "      <td>-1.26393</td>\n",
              "    </tr>\n",
              "    <tr>\n",
              "      <th>20</th>\n",
              "      <td>QuadraticDiscriminantAnalysis</td>\n",
              "      <td>{'priors': None, 'reg_param': 0.0, 'store_cova...</td>\n",
              "      <td>0.414783</td>\n",
              "      <td>0.401353</td>\n",
              "      <td>0.66209</td>\n",
              "      <td>0.00576565</td>\n",
              "      <td>-1.343</td>\n",
              "    </tr>\n",
              "    <tr>\n",
              "      <th>0</th>\n",
              "      <td>AdaBoostClassifier</td>\n",
              "      <td>{'algorithm': 'SAMME.R', 'base_estimator': Non...</td>\n",
              "      <td>0.752743</td>\n",
              "      <td>0.730542</td>\n",
              "      <td>0.0626963</td>\n",
              "      <td>0.067406</td>\n",
              "      <td>-2.22007</td>\n",
              "    </tr>\n",
              "    <tr>\n",
              "      <th>7</th>\n",
              "      <td>PassiveAggressiveClassifier</td>\n",
              "      <td>{'C': 1.0, 'average': False, 'class_weight': N...</td>\n",
              "      <td>0.64494</td>\n",
              "      <td>0.621202</td>\n",
              "      <td>0.323253</td>\n",
              "      <td>0.00516059</td>\n",
              "      <td>-2.37381</td>\n",
              "    </tr>\n",
              "    <tr>\n",
              "      <th>6</th>\n",
              "      <td>LogisticRegressionCV</td>\n",
              "      <td>{'Cs': 10, 'class_weight': None, 'cv': 'warn',...</td>\n",
              "      <td>0.761189</td>\n",
              "      <td>0.731074</td>\n",
              "      <td>0.0902586</td>\n",
              "      <td>0.287771</td>\n",
              "      <td>-3.01149</td>\n",
              "    </tr>\n",
              "    <tr>\n",
              "      <th>10</th>\n",
              "      <td>Perceptron</td>\n",
              "      <td>{'alpha': 0.0001, 'class_weight': None, 'early...</td>\n",
              "      <td>0.631727</td>\n",
              "      <td>0.598854</td>\n",
              "      <td>0.312794</td>\n",
              "      <td>0.00494151</td>\n",
              "      <td>-3.28727</td>\n",
              "    </tr>\n",
              "    <tr>\n",
              "      <th>5</th>\n",
              "      <td>GaussianProcessClassifier</td>\n",
              "      <td>{'copy_X_train': True, 'kernel': None, 'max_it...</td>\n",
              "      <td>0.788468</td>\n",
              "      <td>0.742071</td>\n",
              "      <td>0.0503197</td>\n",
              "      <td>0.206151</td>\n",
              "      <td>-4.63975</td>\n",
              "    </tr>\n",
              "    <tr>\n",
              "      <th>21</th>\n",
              "      <td>XGBClassifier</td>\n",
              "      <td>{'base_score': 0.5, 'booster': 'gbtree', 'cols...</td>\n",
              "      <td>0.782204</td>\n",
              "      <td>0.726426</td>\n",
              "      <td>0.139127</td>\n",
              "      <td>0.105368</td>\n",
              "      <td>-5.57786</td>\n",
              "    </tr>\n",
              "    <tr>\n",
              "      <th>13</th>\n",
              "      <td>KNeighborsClassifier</td>\n",
              "      <td>{'algorithm': 'auto', 'leaf_size': 30, 'metric...</td>\n",
              "      <td>0.787157</td>\n",
              "      <td>0.711836</td>\n",
              "      <td>0.0574532</td>\n",
              "      <td>0.0039809</td>\n",
              "      <td>-7.53209</td>\n",
              "    </tr>\n",
              "    <tr>\n",
              "      <th>1</th>\n",
              "      <td>BaggingClassifier</td>\n",
              "      <td>{'base_estimator': None, 'bootstrap': True, 'b...</td>\n",
              "      <td>0.822908</td>\n",
              "      <td>0.726164</td>\n",
              "      <td>0.107014</td>\n",
              "      <td>0.0179234</td>\n",
              "      <td>-9.67445</td>\n",
              "    </tr>\n",
              "    <tr>\n",
              "      <th>2</th>\n",
              "      <td>ExtraTreesClassifier</td>\n",
              "      <td>{'bootstrap': False, 'class_weight': None, 'cr...</td>\n",
              "      <td>0.819991</td>\n",
              "      <td>0.723196</td>\n",
              "      <td>0.106018</td>\n",
              "      <td>0.0137755</td>\n",
              "      <td>-9.6795</td>\n",
              "    </tr>\n",
              "    <tr>\n",
              "      <th>4</th>\n",
              "      <td>RandomForestClassifier</td>\n",
              "      <td>{'bootstrap': True, 'class_weight': None, 'cri...</td>\n",
              "      <td>0.830225</td>\n",
              "      <td>0.722173</td>\n",
              "      <td>0.0959182</td>\n",
              "      <td>0.0137894</td>\n",
              "      <td>-10.8052</td>\n",
              "    </tr>\n",
              "    <tr>\n",
              "      <th>3</th>\n",
              "      <td>GradientBoostingClassifier</td>\n",
              "      <td>{'criterion': 'friedman_mse', 'init': None, 'l...</td>\n",
              "      <td>0.807124</td>\n",
              "      <td>0.697002</td>\n",
              "      <td>0.077783</td>\n",
              "      <td>0.10253</td>\n",
              "      <td>-11.0122</td>\n",
              "    </tr>\n",
              "    <tr>\n",
              "      <th>17</th>\n",
              "      <td>DecisionTreeClassifier</td>\n",
              "      <td>{'class_weight': None, 'criterion': 'gini', 'm...</td>\n",
              "      <td>0.826192</td>\n",
              "      <td>0.682617</td>\n",
              "      <td>0.0985903</td>\n",
              "      <td>0.00605793</td>\n",
              "      <td>-14.3576</td>\n",
              "    </tr>\n",
              "    <tr>\n",
              "      <th>18</th>\n",
              "      <td>ExtraTreeClassifier</td>\n",
              "      <td>{'class_weight': None, 'criterion': 'gini', 'm...</td>\n",
              "      <td>0.829527</td>\n",
              "      <td>0.684723</td>\n",
              "      <td>0.0798801</td>\n",
              "      <td>0.00396612</td>\n",
              "      <td>-14.4804</td>\n",
              "    </tr>\n",
              "  </tbody>\n",
              "</table>\n",
              "</div>"
            ],
            "text/plain": [
              "                         MLA Name  ... Difference\n",
              "11                    BernoulliNB  ...    1.73675\n",
              "14                            SVC  ...   0.511479\n",
              "16                      LinearSVC  ...  -0.344147\n",
              "15                          NuSVC  ...  -0.646626\n",
              "12                     GaussianNB  ...   -0.72211\n",
              "8               RidgeClassifierCV  ...   -0.74617\n",
              "9                   SGDClassifier  ...   -1.23133\n",
              "19     LinearDiscriminantAnalysis  ...   -1.26393\n",
              "20  QuadraticDiscriminantAnalysis  ...     -1.343\n",
              "0              AdaBoostClassifier  ...   -2.22007\n",
              "7     PassiveAggressiveClassifier  ...   -2.37381\n",
              "6            LogisticRegressionCV  ...   -3.01149\n",
              "10                     Perceptron  ...   -3.28727\n",
              "5       GaussianProcessClassifier  ...   -4.63975\n",
              "21                  XGBClassifier  ...   -5.57786\n",
              "13           KNeighborsClassifier  ...   -7.53209\n",
              "1               BaggingClassifier  ...   -9.67445\n",
              "2            ExtraTreesClassifier  ...    -9.6795\n",
              "4          RandomForestClassifier  ...   -10.8052\n",
              "3      GradientBoostingClassifier  ...   -11.0122\n",
              "17         DecisionTreeClassifier  ...   -14.3576\n",
              "18            ExtraTreeClassifier  ...   -14.4804\n",
              "\n",
              "[22 rows x 7 columns]"
            ]
          },
          "metadata": {
            "tags": []
          },
          "execution_count": 11
        }
      ]
    },
    {
      "cell_type": "code",
      "metadata": {
        "id": "EzDkuf63olTi",
        "colab": {
          "base_uri": "https://localhost:8080/",
          "height": 901
        },
        "outputId": "c124ccb9-048b-4227-b773-642515ee35e2"
      },
      "source": [
        "MLA_compare"
      ],
      "execution_count": null,
      "outputs": [
        {
          "output_type": "execute_result",
          "data": {
            "text/html": [
              "<div>\n",
              "<style scoped>\n",
              "    .dataframe tbody tr th:only-of-type {\n",
              "        vertical-align: middle;\n",
              "    }\n",
              "\n",
              "    .dataframe tbody tr th {\n",
              "        vertical-align: top;\n",
              "    }\n",
              "\n",
              "    .dataframe thead th {\n",
              "        text-align: right;\n",
              "    }\n",
              "</style>\n",
              "<table border=\"1\" class=\"dataframe\">\n",
              "  <thead>\n",
              "    <tr style=\"text-align: right;\">\n",
              "      <th></th>\n",
              "      <th>MLA Name</th>\n",
              "      <th>MLA Parameters</th>\n",
              "      <th>MLA Train Accuracy Mean</th>\n",
              "      <th>MLA Test Accuracy Mean</th>\n",
              "      <th>MLA Test Accuracy 3*STD</th>\n",
              "      <th>MLA Time</th>\n",
              "      <th>Difference</th>\n",
              "    </tr>\n",
              "  </thead>\n",
              "  <tbody>\n",
              "    <tr>\n",
              "      <th>19</th>\n",
              "      <td>LinearDiscriminantAnalysis</td>\n",
              "      <td>{'n_components': None, 'priors': None, 'shrink...</td>\n",
              "      <td>0.754845</td>\n",
              "      <td>0.754274</td>\n",
              "      <td>0.0875661</td>\n",
              "      <td>0.00580742</td>\n",
              "      <td>-0.0571005</td>\n",
              "    </tr>\n",
              "    <tr>\n",
              "      <th>8</th>\n",
              "      <td>RidgeClassifierCV</td>\n",
              "      <td>{'alphas': array([ 0.1,  1. , 10. ]), 'class_w...</td>\n",
              "      <td>0.754549</td>\n",
              "      <td>0.745596</td>\n",
              "      <td>0.0714458</td>\n",
              "      <td>0.00785422</td>\n",
              "      <td>-0.895317</td>\n",
              "    </tr>\n",
              "    <tr>\n",
              "      <th>16</th>\n",
              "      <td>LinearSVC</td>\n",
              "      <td>{'C': 1.0, 'class_weight': None, 'dual': True,...</td>\n",
              "      <td>0.761147</td>\n",
              "      <td>0.744002</td>\n",
              "      <td>0.0749696</td>\n",
              "      <td>0.0107599</td>\n",
              "      <td>-1.71454</td>\n",
              "    </tr>\n",
              "    <tr>\n",
              "      <th>12</th>\n",
              "      <td>GaussianNB</td>\n",
              "      <td>{'priors': None, 'var_smoothing': 1e-09}</td>\n",
              "      <td>0.739047</td>\n",
              "      <td>0.734835</td>\n",
              "      <td>0.0943053</td>\n",
              "      <td>0.00312731</td>\n",
              "      <td>-0.421228</td>\n",
              "    </tr>\n",
              "    <tr>\n",
              "      <th>21</th>\n",
              "      <td>XGBClassifier</td>\n",
              "      <td>{'base_score': 0.5, 'booster': 'gbtree', 'cols...</td>\n",
              "      <td>0.783963</td>\n",
              "      <td>0.733927</td>\n",
              "      <td>0.0868922</td>\n",
              "      <td>0.0994028</td>\n",
              "      <td>-5.00353</td>\n",
              "    </tr>\n",
              "    <tr>\n",
              "      <th>11</th>\n",
              "      <td>BernoulliNB</td>\n",
              "      <td>{'alpha': 1.0, 'binarize': 0.0, 'class_prior':...</td>\n",
              "      <td>0.740148</td>\n",
              "      <td>0.732982</td>\n",
              "      <td>0.113649</td>\n",
              "      <td>0.00313222</td>\n",
              "      <td>-0.716582</td>\n",
              "    </tr>\n",
              "    <tr>\n",
              "      <th>6</th>\n",
              "      <td>LogisticRegressionCV</td>\n",
              "      <td>{'Cs': 10, 'class_weight': None, 'cv': 'warn',...</td>\n",
              "      <td>0.75407</td>\n",
              "      <td>0.732501</td>\n",
              "      <td>0.135109</td>\n",
              "      <td>0.164882</td>\n",
              "      <td>-2.15687</td>\n",
              "    </tr>\n",
              "    <tr>\n",
              "      <th>13</th>\n",
              "      <td>KNeighborsClassifier</td>\n",
              "      <td>{'algorithm': 'auto', 'leaf_size': 30, 'metric...</td>\n",
              "      <td>0.775396</td>\n",
              "      <td>0.731152</td>\n",
              "      <td>0.0395978</td>\n",
              "      <td>0.00285535</td>\n",
              "      <td>-4.42441</td>\n",
              "    </tr>\n",
              "    <tr>\n",
              "      <th>3</th>\n",
              "      <td>GradientBoostingClassifier</td>\n",
              "      <td>{'criterion': 'friedman_mse', 'init': None, 'l...</td>\n",
              "      <td>0.78872</td>\n",
              "      <td>0.728718</td>\n",
              "      <td>0.0986461</td>\n",
              "      <td>0.079415</td>\n",
              "      <td>-6.00022</td>\n",
              "    </tr>\n",
              "    <tr>\n",
              "      <th>14</th>\n",
              "      <td>SVC</td>\n",
              "      <td>{'C': 1.0, 'cache_size': 200, 'class_weight': ...</td>\n",
              "      <td>0.723703</td>\n",
              "      <td>0.723324</td>\n",
              "      <td>0.0550463</td>\n",
              "      <td>0.067722</td>\n",
              "      <td>-0.0379493</td>\n",
              "    </tr>\n",
              "    <tr>\n",
              "      <th>0</th>\n",
              "      <td>AdaBoostClassifier</td>\n",
              "      <td>{'algorithm': 'SAMME.R', 'base_estimator': Non...</td>\n",
              "      <td>0.756721</td>\n",
              "      <td>0.719014</td>\n",
              "      <td>0.109841</td>\n",
              "      <td>0.0486608</td>\n",
              "      <td>-3.7707</td>\n",
              "    </tr>\n",
              "    <tr>\n",
              "      <th>5</th>\n",
              "      <td>GaussianProcessClassifier</td>\n",
              "      <td>{'copy_X_train': True, 'kernel': None, 'max_it...</td>\n",
              "      <td>0.801771</td>\n",
              "      <td>0.714791</td>\n",
              "      <td>0.102385</td>\n",
              "      <td>0.150516</td>\n",
              "      <td>-8.698</td>\n",
              "    </tr>\n",
              "    <tr>\n",
              "      <th>1</th>\n",
              "      <td>BaggingClassifier</td>\n",
              "      <td>{'base_estimator': None, 'bootstrap': True, 'b...</td>\n",
              "      <td>0.820914</td>\n",
              "      <td>0.71063</td>\n",
              "      <td>0.0715986</td>\n",
              "      <td>0.0129301</td>\n",
              "      <td>-11.0285</td>\n",
              "    </tr>\n",
              "    <tr>\n",
              "      <th>18</th>\n",
              "      <td>ExtraTreeClassifier</td>\n",
              "      <td>{'class_weight': None, 'criterion': 'gini', 'm...</td>\n",
              "      <td>0.822926</td>\n",
              "      <td>0.709911</td>\n",
              "      <td>0.108971</td>\n",
              "      <td>0.00282252</td>\n",
              "      <td>-11.3015</td>\n",
              "    </tr>\n",
              "    <tr>\n",
              "      <th>15</th>\n",
              "      <td>NuSVC</td>\n",
              "      <td>{'cache_size': 200, 'class_weight': None, 'coe...</td>\n",
              "      <td>0.711159</td>\n",
              "      <td>0.707712</td>\n",
              "      <td>0.0645658</td>\n",
              "      <td>0.0825171</td>\n",
              "      <td>-0.344729</td>\n",
              "    </tr>\n",
              "    <tr>\n",
              "      <th>4</th>\n",
              "      <td>RandomForestClassifier</td>\n",
              "      <td>{'bootstrap': True, 'class_weight': None, 'cri...</td>\n",
              "      <td>0.831566</td>\n",
              "      <td>0.702157</td>\n",
              "      <td>0.0843812</td>\n",
              "      <td>0.00992131</td>\n",
              "      <td>-12.9409</td>\n",
              "    </tr>\n",
              "    <tr>\n",
              "      <th>17</th>\n",
              "      <td>DecisionTreeClassifier</td>\n",
              "      <td>{'class_weight': None, 'criterion': 'gini', 'm...</td>\n",
              "      <td>0.830746</td>\n",
              "      <td>0.696713</td>\n",
              "      <td>0.0975282</td>\n",
              "      <td>0.0041096</td>\n",
              "      <td>-13.4033</td>\n",
              "    </tr>\n",
              "    <tr>\n",
              "      <th>2</th>\n",
              "      <td>ExtraTreesClassifier</td>\n",
              "      <td>{'bootstrap': False, 'class_weight': None, 'cr...</td>\n",
              "      <td>0.827465</td>\n",
              "      <td>0.683691</td>\n",
              "      <td>0.0805233</td>\n",
              "      <td>0.00997717</td>\n",
              "      <td>-14.3775</td>\n",
              "    </tr>\n",
              "    <tr>\n",
              "      <th>7</th>\n",
              "      <td>PassiveAggressiveClassifier</td>\n",
              "      <td>{'C': 1.0, 'average': False, 'class_weight': N...</td>\n",
              "      <td>0.676848</td>\n",
              "      <td>0.68101</td>\n",
              "      <td>0.199307</td>\n",
              "      <td>0.00350132</td>\n",
              "      <td>0.416232</td>\n",
              "    </tr>\n",
              "    <tr>\n",
              "      <th>9</th>\n",
              "      <td>SGDClassifier</td>\n",
              "      <td>{'alpha': 0.0001, 'average': False, 'class_wei...</td>\n",
              "      <td>0.685945</td>\n",
              "      <td>0.678181</td>\n",
              "      <td>0.122854</td>\n",
              "      <td>0.00588083</td>\n",
              "      <td>-0.776455</td>\n",
              "    </tr>\n",
              "    <tr>\n",
              "      <th>10</th>\n",
              "      <td>Perceptron</td>\n",
              "      <td>{'alpha': 0.0001, 'class_weight': None, 'early...</td>\n",
              "      <td>0.640214</td>\n",
              "      <td>0.610485</td>\n",
              "      <td>0.303611</td>\n",
              "      <td>0.00331955</td>\n",
              "      <td>-2.97288</td>\n",
              "    </tr>\n",
              "    <tr>\n",
              "      <th>20</th>\n",
              "      <td>QuadraticDiscriminantAnalysis</td>\n",
              "      <td>{'priors': None, 'reg_param': 0.0, 'store_cova...</td>\n",
              "      <td>0.383375</td>\n",
              "      <td>0.395248</td>\n",
              "      <td>0.557583</td>\n",
              "      <td>0.00435116</td>\n",
              "      <td>1.18736</td>\n",
              "    </tr>\n",
              "  </tbody>\n",
              "</table>\n",
              "</div>"
            ],
            "text/plain": [
              "                         MLA Name  ... Difference\n",
              "19     LinearDiscriminantAnalysis  ... -0.0571005\n",
              "8               RidgeClassifierCV  ...  -0.895317\n",
              "16                      LinearSVC  ...   -1.71454\n",
              "12                     GaussianNB  ...  -0.421228\n",
              "21                  XGBClassifier  ...   -5.00353\n",
              "11                    BernoulliNB  ...  -0.716582\n",
              "6            LogisticRegressionCV  ...   -2.15687\n",
              "13           KNeighborsClassifier  ...   -4.42441\n",
              "3      GradientBoostingClassifier  ...   -6.00022\n",
              "14                            SVC  ... -0.0379493\n",
              "0              AdaBoostClassifier  ...    -3.7707\n",
              "5       GaussianProcessClassifier  ...     -8.698\n",
              "1               BaggingClassifier  ...   -11.0285\n",
              "18            ExtraTreeClassifier  ...   -11.3015\n",
              "15                          NuSVC  ...  -0.344729\n",
              "4          RandomForestClassifier  ...   -12.9409\n",
              "17         DecisionTreeClassifier  ...   -13.4033\n",
              "2            ExtraTreesClassifier  ...   -14.3775\n",
              "7     PassiveAggressiveClassifier  ...   0.416232\n",
              "9                   SGDClassifier  ...  -0.776455\n",
              "10                     Perceptron  ...   -2.97288\n",
              "20  QuadraticDiscriminantAnalysis  ...    1.18736\n",
              "\n",
              "[22 rows x 7 columns]"
            ]
          },
          "metadata": {
            "tags": []
          },
          "execution_count": 13
        }
      ]
    },
    {
      "cell_type": "code",
      "metadata": {
        "id": "fjFhfm7h2kHb"
      },
      "source": [
        "#@title Example form fields\n",
        "#@markdown Forms support many types of fields.\n",
        "\n",
        "no_type_checking = ''  #@param\n",
        "string_type = 'example'  #@param {type: \"string\"}\n",
        "slider_value = 164  #@param {type: \"slider\", min: 100, max: 200}\n",
        "number = 102  #@param {type: \"number\"}\n",
        "date = '2010-11-05'  #@param {type: \"date\"}\n",
        "pick_me = \"monday\"  #@param ['monday', 'tuesday', 'wednesday', 'thursday']\n",
        "select_or_input = \"apples\" #@param [\"apples\", \"bananas\", \"oranges\"] {allow-input: true}\n",
        "#@markdown ---\n"
      ],
      "execution_count": null,
      "outputs": []
    },
    {
      "cell_type": "code",
      "metadata": {
        "id": "HRB3whWgHgGo",
        "colab": {
          "base_uri": "https://localhost:8080/",
          "height": 517
        },
        "outputId": "b8fdb2e1-c2d3-4c15-d280-5487500132af"
      },
      "source": [
        "# sns.lineplot(x=\"MLA Train Accuracy Mean\", y=\"MLA Test Accuracy Mean\", hue=\"MLA Name\", data=MLA_compare)\n",
        "from matplotlib import pyplot as plt\n",
        "plt.figure(figsize=(18,8))\n",
        "cmap = sns.cubehelix_palette(dark=.1, light=0.8, as_cmap=True)\n",
        "# cmap = sns.palplot(sns.hls_palette(8, l=.3, s=.8))\n",
        "sns.scatterplot(x=\"MLA Train Accuracy Mean\", y=\"MLA Name\", data=MLA_compare,hue=\"MLA Time\",palette=cmap ,sizes=(20, 200))"
      ],
      "execution_count": null,
      "outputs": [
        {
          "output_type": "execute_result",
          "data": {
            "text/plain": [
              "<matplotlib.axes._subplots.AxesSubplot at 0x7fd27c0e3f28>"
            ]
          },
          "metadata": {
            "tags": []
          },
          "execution_count": 14
        },
        {
          "output_type": "display_data",
          "data": {
            "image/png": "[encoded data removed]",
            "text/plain": [
              "<Figure size 1296x576 with 1 Axes>"
            ]
          },
          "metadata": {
            "tags": []
          }
        }
      ]
    },
    {
      "cell_type": "code",
      "metadata": {
        "id": "ZDfvn7ljOnew",
        "colab": {
          "base_uri": "https://localhost:8080/",
          "height": 517
        },
        "outputId": "65c37211-4308-4eed-a906-929780369510"
      },
      "source": [
        "# sns.lineplot(x=\"MLA Train Accuracy Mean\", y=\"MLA Test Accuracy Mean\", hue=\"MLA Name\", data=MLA_compare)\n",
        "from matplotlib import pyplot as plt\n",
        "plt.figure(figsize=(18,8))\n",
        "cmap = sns.cubehelix_palette(dark=.1, light=0.8, as_cmap=True)\n",
        "# cmap = sns.palplot(sns.hls_palette(8, l=.3, s=.8))\n",
        "sns.scatterplot(x=\"MLA Test Accuracy Mean\", y=\"MLA Name\", data=MLA_compare,hue=\"MLA Time\",palette=cmap ,sizes=(20, 200))"
      ],
      "execution_count": null,
      "outputs": [
        {
          "output_type": "execute_result",
          "data": {
            "text/plain": [
              "<matplotlib.axes._subplots.AxesSubplot at 0x7fd270143da0>"
            ]
          },
          "metadata": {
            "tags": []
          },
          "execution_count": 15
        },
        {
          "output_type": "display_data",
          "data": {
            "image/png": "[encoded data removed]",
            "text/plain": [
              "<Figure size 1296x576 with 1 Axes>"
            ]
          },
          "metadata": {
            "tags": []
          }
        }
      ]
    },
    {
      "cell_type": "code",
      "metadata": {
        "id": "XNUdHJQdT9lH",
        "colab": {
          "base_uri": "https://localhost:8080/",
          "height": 517
        },
        "outputId": "e5bbe4d2-2f58-4b2b-dd8b-77c965f44236"
      },
      "source": [
        "# sns.lineplot(x=\"MLA Train Accuracy Mean\", y=\"MLA Test Accuracy Mean\", hue=\"MLA Name\", data=MLA_compare)\n",
        "from matplotlib import pyplot as plt\n",
        "plt.figure(figsize=(18,8))\n",
        "cmap = sns.cubehelix_palette(dark=.1, light=0.8, as_cmap=True)\n",
        "# cmap = sns.palplot(sns.hls_palette(8, l=.3, s=.8))\n",
        "sns.scatterplot(x=\"Difference\", y=\"MLA Name\", data=MLA_compare,hue=\"MLA Time\",palette=cmap ,sizes=(20, 200))"
      ],
      "execution_count": null,
      "outputs": [
        {
          "output_type": "execute_result",
          "data": {
            "text/plain": [
              "<matplotlib.axes._subplots.AxesSubplot at 0x7fd2700f27f0>"
            ]
          },
          "metadata": {
            "tags": []
          },
          "execution_count": 16
        },
        {
          "output_type": "display_data",
          "data": {
            "image/png": "[encoded data removed]",
            "text/plain": [
              "<Figure size 1296x576 with 1 Axes>"
            ]
          },
          "metadata": {
            "tags": []
          }
        }
      ]
    },
    {
      "cell_type": "code",
      "metadata": {
        "id": "Eb5121rfjQi0",
        "colab": {
          "base_uri": "https://localhost:8080/",
          "height": 612
        },
        "outputId": "cd96b8c5-ea03-4d24-d3ce-d427cfdfa163"
      },
      "source": [
        "Feature_Importance"
      ],
      "execution_count": null,
      "outputs": [
        {
          "output_type": "execute_result",
          "data": {
            "text/plain": [
              "{'AdaBoostClassifier': array([0.06, 0.02, 0.02, 0.06, 0.1 , 0.04, 0.  , 0.04, 0.08, 0.1 , 0.06,\n",
              "        0.06, 0.04, 0.06, 0.02, 0.04, 0.02, 0.02, 0.02, 0.04, 0.02, 0.04,\n",
              "        0.04]),\n",
              " 'DecisionTreeClassifier': array([4.81368984e-02, 1.89120338e-02, 1.12700133e-01, 6.23019830e-03,\n",
              "        6.23269137e-06, 2.36091623e-02, 1.61761482e-02, 4.74518289e-03,\n",
              "        4.84883666e-01, 2.07253832e-02, 2.27887824e-03, 4.06870093e-03,\n",
              "        5.63283990e-02, 1.47822191e-02, 3.12091908e-02, 6.18189269e-03,\n",
              "        1.66497450e-02, 1.66238435e-02, 4.37432836e-02, 2.07124296e-02,\n",
              "        2.37918629e-02, 7.10373506e-03, 2.04007812e-02]),\n",
              " 'ExtraTreeClassifier': array([6.70040340e-02, 4.52746796e-02, 5.88596633e-02, 0.00000000e+00,\n",
              "        2.98830123e-01, 4.11233844e-02, 7.24878906e-03, 1.29471421e-02,\n",
              "        4.60760520e-02, 1.81097986e-01, 1.15704968e-05, 0.00000000e+00,\n",
              "        1.14397283e-03, 1.82783816e-02, 1.91881737e-02, 1.13755080e-02,\n",
              "        5.98460376e-03, 3.97521640e-02, 3.65069586e-02, 2.61328076e-02,\n",
              "        3.00961073e-02, 2.26838970e-02, 3.03840015e-02]),\n",
              " 'ExtraTreesClassifier': array([0.05329563, 0.02947295, 0.10921399, 0.07535116, 0.08999548,\n",
              "        0.03516162, 0.01879895, 0.01241694, 0.23355976, 0.04255671,\n",
              "        0.05270845, 0.00830318, 0.00499014, 0.0262758 , 0.02797762,\n",
              "        0.01702422, 0.02124669, 0.0248171 , 0.03176213, 0.02258669,\n",
              "        0.02376405, 0.01806319, 0.02065755]),\n",
              " 'GradientBoostingClassifier': array([0.04811777, 0.00273388, 0.14386259, 0.10274921, 0.05566882,\n",
              "        0.02533105, 0.00910761, 0.01358378, 0.41858493, 0.00057251,\n",
              "        0.00271894, 0.01910382, 0.05352825, 0.00198008, 0.00464008,\n",
              "        0.01947327, 0.00419047, 0.00970462, 0.03512632, 0.00527197,\n",
              "        0.00873902, 0.00589149, 0.00931952]),\n",
              " 'RandomForestClassifier': array([0.04239016, 0.02940246, 0.09749104, 0.19667424, 0.00639132,\n",
              "        0.03241643, 0.02333857, 0.01431373, 0.22449397, 0.03529894,\n",
              "        0.01549182, 0.01526315, 0.01527932, 0.01845045, 0.01590402,\n",
              "        0.02883247, 0.02773214, 0.02835231, 0.0283796 , 0.03025687,\n",
              "        0.03013936, 0.02061866, 0.02308894]),\n",
              " 'XGBClassifier': array([0.03996599, 0.01120297, 0.123702  , 0.16746217, 0.        ,\n",
              "        0.0217087 , 0.01438695, 0.00888421, 0.41114035, 0.00346364,\n",
              "        0.00644867, 0.01874606, 0.07132679, 0.00830275, 0.        ,\n",
              "        0.02025605, 0.00556129, 0.01048818, 0.02014345, 0.00784573,\n",
              "        0.01099096, 0.00877707, 0.00919598], dtype=float32)}"
            ]
          },
          "metadata": {
            "tags": []
          },
          "execution_count": 17
        }
      ]
    },
    {
      "cell_type": "code",
      "metadata": {
        "id": "9rNOT4RZjqyx",
        "colab": {
          "base_uri": "https://localhost:8080/",
          "height": 119
        },
        "outputId": "dd6a729c-bd39-45a6-efc1-10f321e36d7e"
      },
      "source": [
        "data1_x_bin.columns"
      ],
      "execution_count": null,
      "outputs": [
        {
          "output_type": "execute_result",
          "data": {
            "text/plain": [
              "Index(['Pclass_1', 'Pclass_2', 'Pclass_3', 'Sex_0', 'Sex_1', 'Embarked_0',\n",
              "       'Embarked_1', 'Embarked_2', 'Title_1', 'Title_2', 'Title_3', 'Title_4',\n",
              "       'Title_5', 'IsAlone_0', 'IsAlone_1', 'FareBand_0', 'FareBand_1',\n",
              "       'FareBand_2', 'FareBand_3', 'AgeBand_0', 'AgeBand_1', 'AgeBand_2',\n",
              "       'AgeBand_3'],\n",
              "      dtype='object')"
            ]
          },
          "metadata": {
            "tags": []
          },
          "execution_count": 18
        }
      ]
    },
    {
      "cell_type": "code",
      "metadata": {
        "id": "tHz7my45UJa4",
        "colab": {
          "base_uri": "https://localhost:8080/",
          "height": 782
        },
        "outputId": "776bade4-33c1-41f8-afdd-945c8960ec69"
      },
      "source": [
        "# Get Importance Feature \n",
        "\n",
        "feature_names = data1_x_bin.columns\n",
        "feat_imp_df = pd.DataFrame.from_dict(Feature_Importance)\n",
        "feat_imp_df.index = feature_names\n",
        "feat_imp_df"
      ],
      "execution_count": null,
      "outputs": [
        {
          "output_type": "execute_result",
          "data": {
            "text/html": [
              "<div>\n",
              "<style scoped>\n",
              "    .dataframe tbody tr th:only-of-type {\n",
              "        vertical-align: middle;\n",
              "    }\n",
              "\n",
              "    .dataframe tbody tr th {\n",
              "        vertical-align: top;\n",
              "    }\n",
              "\n",
              "    .dataframe thead th {\n",
              "        text-align: right;\n",
              "    }\n",
              "</style>\n",
              "<table border=\"1\" class=\"dataframe\">\n",
              "  <thead>\n",
              "    <tr style=\"text-align: right;\">\n",
              "      <th></th>\n",
              "      <th>AdaBoostClassifier</th>\n",
              "      <th>ExtraTreesClassifier</th>\n",
              "      <th>GradientBoostingClassifier</th>\n",
              "      <th>RandomForestClassifier</th>\n",
              "      <th>DecisionTreeClassifier</th>\n",
              "      <th>ExtraTreeClassifier</th>\n",
              "      <th>XGBClassifier</th>\n",
              "    </tr>\n",
              "  </thead>\n",
              "  <tbody>\n",
              "    <tr>\n",
              "      <th>Pclass_1</th>\n",
              "      <td>0.06</td>\n",
              "      <td>0.053296</td>\n",
              "      <td>0.048118</td>\n",
              "      <td>0.042390</td>\n",
              "      <td>0.048137</td>\n",
              "      <td>0.067004</td>\n",
              "      <td>0.039966</td>\n",
              "    </tr>\n",
              "    <tr>\n",
              "      <th>Pclass_2</th>\n",
              "      <td>0.02</td>\n",
              "      <td>0.029473</td>\n",
              "      <td>0.002734</td>\n",
              "      <td>0.029402</td>\n",
              "      <td>0.018912</td>\n",
              "      <td>0.045275</td>\n",
              "      <td>0.011203</td>\n",
              "    </tr>\n",
              "    <tr>\n",
              "      <th>Pclass_3</th>\n",
              "      <td>0.02</td>\n",
              "      <td>0.109214</td>\n",
              "      <td>0.143863</td>\n",
              "      <td>0.097491</td>\n",
              "      <td>0.112700</td>\n",
              "      <td>0.058860</td>\n",
              "      <td>0.123702</td>\n",
              "    </tr>\n",
              "    <tr>\n",
              "      <th>Sex_0</th>\n",
              "      <td>0.06</td>\n",
              "      <td>0.075351</td>\n",
              "      <td>0.102749</td>\n",
              "      <td>0.196674</td>\n",
              "      <td>0.006230</td>\n",
              "      <td>0.000000</td>\n",
              "      <td>0.167462</td>\n",
              "    </tr>\n",
              "    <tr>\n",
              "      <th>Sex_1</th>\n",
              "      <td>0.10</td>\n",
              "      <td>0.089995</td>\n",
              "      <td>0.055669</td>\n",
              "      <td>0.006391</td>\n",
              "      <td>0.000006</td>\n",
              "      <td>0.298830</td>\n",
              "      <td>0.000000</td>\n",
              "    </tr>\n",
              "    <tr>\n",
              "      <th>Embarked_0</th>\n",
              "      <td>0.04</td>\n",
              "      <td>0.035162</td>\n",
              "      <td>0.025331</td>\n",
              "      <td>0.032416</td>\n",
              "      <td>0.023609</td>\n",
              "      <td>0.041123</td>\n",
              "      <td>0.021709</td>\n",
              "    </tr>\n",
              "    <tr>\n",
              "      <th>Embarked_1</th>\n",
              "      <td>0.00</td>\n",
              "      <td>0.018799</td>\n",
              "      <td>0.009108</td>\n",
              "      <td>0.023339</td>\n",
              "      <td>0.016176</td>\n",
              "      <td>0.007249</td>\n",
              "      <td>0.014387</td>\n",
              "    </tr>\n",
              "    <tr>\n",
              "      <th>Embarked_2</th>\n",
              "      <td>0.04</td>\n",
              "      <td>0.012417</td>\n",
              "      <td>0.013584</td>\n",
              "      <td>0.014314</td>\n",
              "      <td>0.004745</td>\n",
              "      <td>0.012947</td>\n",
              "      <td>0.008884</td>\n",
              "    </tr>\n",
              "    <tr>\n",
              "      <th>Title_1</th>\n",
              "      <td>0.08</td>\n",
              "      <td>0.233560</td>\n",
              "      <td>0.418585</td>\n",
              "      <td>0.224494</td>\n",
              "      <td>0.484884</td>\n",
              "      <td>0.046076</td>\n",
              "      <td>0.411140</td>\n",
              "    </tr>\n",
              "    <tr>\n",
              "      <th>Title_2</th>\n",
              "      <td>0.10</td>\n",
              "      <td>0.042557</td>\n",
              "      <td>0.000573</td>\n",
              "      <td>0.035299</td>\n",
              "      <td>0.020725</td>\n",
              "      <td>0.181098</td>\n",
              "      <td>0.003464</td>\n",
              "    </tr>\n",
              "    <tr>\n",
              "      <th>Title_3</th>\n",
              "      <td>0.06</td>\n",
              "      <td>0.052708</td>\n",
              "      <td>0.002719</td>\n",
              "      <td>0.015492</td>\n",
              "      <td>0.002279</td>\n",
              "      <td>0.000012</td>\n",
              "      <td>0.006449</td>\n",
              "    </tr>\n",
              "    <tr>\n",
              "      <th>Title_4</th>\n",
              "      <td>0.06</td>\n",
              "      <td>0.008303</td>\n",
              "      <td>0.019104</td>\n",
              "      <td>0.015263</td>\n",
              "      <td>0.004069</td>\n",
              "      <td>0.000000</td>\n",
              "      <td>0.018746</td>\n",
              "    </tr>\n",
              "    <tr>\n",
              "      <th>Title_5</th>\n",
              "      <td>0.04</td>\n",
              "      <td>0.004990</td>\n",
              "      <td>0.053528</td>\n",
              "      <td>0.015279</td>\n",
              "      <td>0.056328</td>\n",
              "      <td>0.001144</td>\n",
              "      <td>0.071327</td>\n",
              "    </tr>\n",
              "    <tr>\n",
              "      <th>IsAlone_0</th>\n",
              "      <td>0.06</td>\n",
              "      <td>0.026276</td>\n",
              "      <td>0.001980</td>\n",
              "      <td>0.018450</td>\n",
              "      <td>0.014782</td>\n",
              "      <td>0.018278</td>\n",
              "      <td>0.008303</td>\n",
              "    </tr>\n",
              "    <tr>\n",
              "      <th>IsAlone_1</th>\n",
              "      <td>0.02</td>\n",
              "      <td>0.027978</td>\n",
              "      <td>0.004640</td>\n",
              "      <td>0.015904</td>\n",
              "      <td>0.031209</td>\n",
              "      <td>0.019188</td>\n",
              "      <td>0.000000</td>\n",
              "    </tr>\n",
              "    <tr>\n",
              "      <th>FareBand_0</th>\n",
              "      <td>0.04</td>\n",
              "      <td>0.017024</td>\n",
              "      <td>0.019473</td>\n",
              "      <td>0.028832</td>\n",
              "      <td>0.006182</td>\n",
              "      <td>0.011376</td>\n",
              "      <td>0.020256</td>\n",
              "    </tr>\n",
              "    <tr>\n",
              "      <th>FareBand_1</th>\n",
              "      <td>0.02</td>\n",
              "      <td>0.021247</td>\n",
              "      <td>0.004190</td>\n",
              "      <td>0.027732</td>\n",
              "      <td>0.016650</td>\n",
              "      <td>0.005985</td>\n",
              "      <td>0.005561</td>\n",
              "    </tr>\n",
              "    <tr>\n",
              "      <th>FareBand_2</th>\n",
              "      <td>0.02</td>\n",
              "      <td>0.024817</td>\n",
              "      <td>0.009705</td>\n",
              "      <td>0.028352</td>\n",
              "      <td>0.016624</td>\n",
              "      <td>0.039752</td>\n",
              "      <td>0.010488</td>\n",
              "    </tr>\n",
              "    <tr>\n",
              "      <th>FareBand_3</th>\n",
              "      <td>0.02</td>\n",
              "      <td>0.031762</td>\n",
              "      <td>0.035126</td>\n",
              "      <td>0.028380</td>\n",
              "      <td>0.043743</td>\n",
              "      <td>0.036507</td>\n",
              "      <td>0.020143</td>\n",
              "    </tr>\n",
              "    <tr>\n",
              "      <th>AgeBand_0</th>\n",
              "      <td>0.04</td>\n",
              "      <td>0.022587</td>\n",
              "      <td>0.005272</td>\n",
              "      <td>0.030257</td>\n",
              "      <td>0.020712</td>\n",
              "      <td>0.026133</td>\n",
              "      <td>0.007846</td>\n",
              "    </tr>\n",
              "    <tr>\n",
              "      <th>AgeBand_1</th>\n",
              "      <td>0.02</td>\n",
              "      <td>0.023764</td>\n",
              "      <td>0.008739</td>\n",
              "      <td>0.030139</td>\n",
              "      <td>0.023792</td>\n",
              "      <td>0.030096</td>\n",
              "      <td>0.010991</td>\n",
              "    </tr>\n",
              "    <tr>\n",
              "      <th>AgeBand_2</th>\n",
              "      <td>0.04</td>\n",
              "      <td>0.018063</td>\n",
              "      <td>0.005891</td>\n",
              "      <td>0.020619</td>\n",
              "      <td>0.007104</td>\n",
              "      <td>0.022684</td>\n",
              "      <td>0.008777</td>\n",
              "    </tr>\n",
              "    <tr>\n",
              "      <th>AgeBand_3</th>\n",
              "      <td>0.04</td>\n",
              "      <td>0.020658</td>\n",
              "      <td>0.009320</td>\n",
              "      <td>0.023089</td>\n",
              "      <td>0.020401</td>\n",
              "      <td>0.030384</td>\n",
              "      <td>0.009196</td>\n",
              "    </tr>\n",
              "  </tbody>\n",
              "</table>\n",
              "</div>"
            ],
            "text/plain": [
              "            AdaBoostClassifier  ...  XGBClassifier\n",
              "Pclass_1                  0.06  ...       0.039966\n",
              "Pclass_2                  0.02  ...       0.011203\n",
              "Pclass_3                  0.02  ...       0.123702\n",
              "Sex_0                     0.06  ...       0.167462\n",
              "Sex_1                     0.10  ...       0.000000\n",
              "Embarked_0                0.04  ...       0.021709\n",
              "Embarked_1                0.00  ...       0.014387\n",
              "Embarked_2                0.04  ...       0.008884\n",
              "Title_1                   0.08  ...       0.411140\n",
              "Title_2                   0.10  ...       0.003464\n",
              "Title_3                   0.06  ...       0.006449\n",
              "Title_4                   0.06  ...       0.018746\n",
              "Title_5                   0.04  ...       0.071327\n",
              "IsAlone_0                 0.06  ...       0.008303\n",
              "IsAlone_1                 0.02  ...       0.000000\n",
              "FareBand_0                0.04  ...       0.020256\n",
              "FareBand_1                0.02  ...       0.005561\n",
              "FareBand_2                0.02  ...       0.010488\n",
              "FareBand_3                0.02  ...       0.020143\n",
              "AgeBand_0                 0.04  ...       0.007846\n",
              "AgeBand_1                 0.02  ...       0.010991\n",
              "AgeBand_2                 0.04  ...       0.008777\n",
              "AgeBand_3                 0.04  ...       0.009196\n",
              "\n",
              "[23 rows x 7 columns]"
            ]
          },
          "metadata": {
            "tags": []
          },
          "execution_count": 19
        }
      ]
    },
    {
      "cell_type": "code",
      "metadata": {
        "id": "YLKKM8SykGm2",
        "colab": {
          "base_uri": "https://localhost:8080/",
          "height": 119
        },
        "outputId": "1657079c-cc55-4c3d-a50b-3e3662209f47"
      },
      "source": [
        "feat_imp_df.sort_values(by=\"DecisionTreeClassifier\",ascending=False)['DecisionTreeClassifier'][:5]"
      ],
      "execution_count": null,
      "outputs": [
        {
          "output_type": "execute_result",
          "data": {
            "text/plain": [
              "Title_1       0.484884\n",
              "Pclass_3      0.112700\n",
              "Title_5       0.056328\n",
              "Pclass_1      0.048137\n",
              "FareBand_3    0.043743\n",
              "Name: DecisionTreeClassifier, dtype: float64"
            ]
          },
          "metadata": {
            "tags": []
          },
          "execution_count": 20
        }
      ]
    },
    {
      "cell_type": "code",
      "metadata": {
        "id": "fsvME7Doksyq",
        "colab": {
          "base_uri": "https://localhost:8080/",
          "height": 119
        },
        "outputId": "1905c6d9-d85a-4e80-9053-6aa70264512a"
      },
      "source": [
        "feat_imp_df.sort_values(by=\"RandomForestClassifier\",ascending=False)['RandomForestClassifier'][:5]"
      ],
      "execution_count": null,
      "outputs": [
        {
          "output_type": "execute_result",
          "data": {
            "text/plain": [
              "Title_1     0.224494\n",
              "Sex_0       0.196674\n",
              "Pclass_3    0.097491\n",
              "Pclass_1    0.042390\n",
              "Title_2     0.035299\n",
              "Name: RandomForestClassifier, dtype: float64"
            ]
          },
          "metadata": {
            "tags": []
          },
          "execution_count": 21
        }
      ]
    },
    {
      "cell_type": "code",
      "metadata": {
        "id": "6pqM2Q1cZQ7u",
        "colab": {
          "base_uri": "https://localhost:8080/",
          "height": 611
        },
        "outputId": "57f81a00-f443-4a80-bded-c7bb3a7d1e9c"
      },
      "source": [
        "from sklearn.preprocessing import MinMaxScaler\n",
        "mms = MinMaxScaler()\n",
        "\n",
        "scaled_fi = pd.DataFrame(data=mms.fit_transform(feat_imp_df),\n",
        "                         columns=feat_imp_df.columns,\n",
        "                         index=feat_imp_df.index)\n",
        "\n",
        "scaled_fi['Overall'] = scaled_fi.sum(axis=1)\n",
        "print(scaled_fi.head())\n",
        "ordered_ranking = scaled_fi.sort_values('Overall', ascending=False)\n",
        "fig, ax = plt.subplots(figsize=(10,7), dpi=80)\n",
        "sns.barplot(data=ordered_ranking, y=ordered_ranking.index, x='Overall', palette='magma')\n",
        "ax.spines['right'].set_visible(False)\n",
        "ax.spines['top'].set_visible(False)\n",
        "ax.spines['bottom'].set_visible(False)\n",
        "ax.xaxis.set_visible(False)\n",
        "ax.grid(False)\n",
        "ax.set_title('Feature Importances for all Models');"
      ],
      "execution_count": null,
      "outputs": [
        {
          "output_type": "stream",
          "text": [
            "          AdaBoostClassifier  ExtraTreesClassifier  ...  XGBClassifier   Overall\n",
            "Pclass_1                 0.6              0.211338  ...       0.097208  1.510826\n",
            "Pclass_2                 0.2              0.107113  ...       0.027249  0.635536\n",
            "Pclass_3                 0.2              0.455983  ...       0.300875  2.146724\n",
            "Sex_0                    0.6              0.307832  ...       0.407311  2.444861\n",
            "Sex_1                    1.0              0.371901  ...       0.000000  2.503707\n",
            "\n",
            "[5 rows x 8 columns]\n"
          ],
          "name": "stdout"
        },
        {
          "output_type": "display_data",
          "data": {
            "image/png": "[encoded data removed]",
            "text/plain": [
              "<Figure size 800x560 with 1 Axes>"
            ]
          },
          "metadata": {
            "tags": []
          }
        }
      ]
    },
    {
      "cell_type": "code",
      "metadata": {
        "id": "Qa-uYbxnn6vo",
        "colab": {
          "base_uri": "https://localhost:8080/",
          "height": 163
        },
        "outputId": "31c61e13-5ef1-42d8-ca45-5f68bd1b43f1"
      },
      "source": [
        "#scaled_sorted[:5].index"
      ],
      "execution_count": null,
      "outputs": [
        {
          "output_type": "error",
          "ename": "NameError",
          "evalue": "ignored",
          "traceback": [
            "\u001b[0;31m---------------------------------------------------------------------------\u001b[0m",
            "\u001b[0;31mNameError\u001b[0m                                 Traceback (most recent call last)",
            "\u001b[0;32m<ipython-input-23-ea2dd79870b9>\u001b[0m in \u001b[0;36m<module>\u001b[0;34m()\u001b[0m\n\u001b[0;32m----> 1\u001b[0;31m \u001b[0mscaled_sorted\u001b[0m\u001b[0;34m[\u001b[0m\u001b[0;34m:\u001b[0m\u001b[0;36m5\u001b[0m\u001b[0;34m]\u001b[0m\u001b[0;34m.\u001b[0m\u001b[0mindex\u001b[0m\u001b[0;34m\u001b[0m\u001b[0;34m\u001b[0m\u001b[0m\n\u001b[0m",
            "\u001b[0;31mNameError\u001b[0m: name 'scaled_sorted' is not defined"
          ]
        }
      ]
    },
    {
      "cell_type": "code",
      "metadata": {
        "id": "SA-R8k6VoAp3",
        "colab": {
          "base_uri": "https://localhost:8080/",
          "height": 119
        },
        "outputId": "52721ab9-62c4-4c42-ccc0-36a0842185b5"
      },
      "source": [
        "data1_x_bin.columns"
      ],
      "execution_count": null,
      "outputs": [
        {
          "output_type": "execute_result",
          "data": {
            "text/plain": [
              "Index(['Pclass_1', 'Pclass_2', 'Pclass_3', 'Sex_0', 'Sex_1', 'Embarked_0',\n",
              "       'Embarked_1', 'Embarked_2', 'Title_1', 'Title_2', 'Title_3', 'Title_4',\n",
              "       'Title_5', 'IsAlone_0', 'IsAlone_1', 'FareBand_0', 'FareBand_1',\n",
              "       'FareBand_2', 'FareBand_3', 'AgeBand_0', 'AgeBand_1', 'AgeBand_2',\n",
              "       'AgeBand_3'],\n",
              "      dtype='object')"
            ]
          },
          "metadata": {
            "tags": []
          },
          "execution_count": 24
        }
      ]
    },
    {
      "cell_type": "code",
      "metadata": {
        "id": "g0MoNqhKrE-l"
      },
      "source": [
        "important_col"
      ],
      "execution_count": null,
      "outputs": []
    },
    {
      "cell_type": "code",
      "metadata": {
        "id": "83gnhFFAaKTA"
      },
      "source": [
        "# Re-Building the model with only top 10 Features \n",
        "\n",
        "scaled_sorted = scaled_fi.sort_values(by = ['Overall'], ascending = False)\n",
        "scaled_sorted[:5].index\n",
        "important_col = list(scaled_sorted[:5].index)\n",
        "Target = ['Survived']\n",
        "# data1_x_bin = pd.get_dummies(df2)\n",
        "data1_x_bin = data1_x_bin[important_col]\n",
        "\n",
        "# X = data1_x_bin\n",
        "# y = Target\n",
        "# from sklearn.model_selection import train_test_split\n",
        "# X_train, X_test, y_train, y_test = train_test_split(X, y, test_size=0.2, random_state=101)\n",
        "\n",
        "MLA = [\n",
        "    #Ensemble Methods\n",
        "    ensemble.AdaBoostClassifier(),\n",
        "    ensemble.BaggingClassifier(),\n",
        "    ensemble.ExtraTreesClassifier(),\n",
        "    ensemble.GradientBoostingClassifier(),\n",
        "    ensemble.RandomForestClassifier(),\n",
        "\n",
        "    #Gaussian Processes\n",
        "    gaussian_process.GaussianProcessClassifier(),\n",
        "    \n",
        "    #GLM\n",
        "    linear_model.LogisticRegressionCV(),\n",
        "    linear_model.PassiveAggressiveClassifier(),\n",
        "    linear_model.RidgeClassifierCV(),\n",
        "    linear_model.SGDClassifier(),\n",
        "    linear_model.Perceptron(),\n",
        "    \n",
        "    #Navies Bayes\n",
        "    naive_bayes.BernoulliNB(),\n",
        "    naive_bayes.GaussianNB(),\n",
        "    \n",
        "    #Nearest Neighbor\n",
        "    neighbors.KNeighborsClassifier(),\n",
        "    \n",
        "    #SVM\n",
        "    svm.SVC(probability=True),\n",
        "    svm.NuSVC(probability=True),\n",
        "    svm.LinearSVC(),\n",
        "    \n",
        "    #Trees    \n",
        "    tree.DecisionTreeClassifier(),\n",
        "    tree.ExtraTreeClassifier(),\n",
        "    \n",
        "    #Discriminant Analysis\n",
        "    discriminant_analysis.LinearDiscriminantAnalysis(),\n",
        "    discriminant_analysis.QuadraticDiscriminantAnalysis(),\n",
        "\n",
        "    \n",
        "    #xgboost: http://xgboost.readthedocs.io/en/latest/model.html\n",
        "    XGBClassifier()    \n",
        "    ]\n",
        "\n",
        "#split dataset in cross-validation with this splitter class: http://scikit-learn.org/stable/modules/generated/sklearn.model_selection.ShuffleSplit.html#sklearn.model_selection.ShuffleSplit\n",
        "#note: this is an alternative to train_test_split\n",
        "cv_split = model_selection.ShuffleSplit(n_splits = 10, test_size = .3, train_size = .7, random_state = 0 ) # run model 10x with 60/30 split intentionally leaving out 10%\n",
        "\n",
        "#create table to compare MLA metrics\n",
        "MLA_columns = ['MLA Name', 'MLA Parameters','MLA Train Accuracy Mean', 'MLA Test Accuracy Mean', 'MLA Test Accuracy 3*STD' ,'MLA Time']\n",
        "MLA_compare = pd.DataFrame(columns = MLA_columns)\n",
        "\n",
        "#create table to compare MLA predictions\n",
        "MLA_predict = data[Target]\n",
        "\n",
        "#index through MLA and save performance to table\n",
        "row_index = 0\n",
        "Feature_Importance = {}\n",
        "\n",
        "for alg in MLA:\n",
        "\n",
        "    #set name and parameters\n",
        "    MLA_name = alg.__class__.__name__\n",
        "    MLA_compare.loc[row_index, 'MLA Name'] = MLA_name\n",
        "    MLA_compare.loc[row_index, 'MLA Parameters'] = str(alg.get_params())\n",
        "    \n",
        "    \n",
        "    #score model with cross validation: http://scikit-learn.org/stable/modules/generated/sklearn.model_selection.cross_validate.html#sklearn.model_selection.cross_validate\n",
        "    cv_results = model_selection.cross_validate(alg, data1_x_bin, data[Target], cv  = cv_split,return_train_score=True,scoring='f1')\n",
        "\n",
        "    MLA_compare.loc[row_index, 'MLA Time'] = cv_results['fit_time'].mean()\n",
        "    MLA_compare.loc[row_index, 'MLA Train Accuracy Mean'] = cv_results['train_score'].mean()\n",
        "    MLA_compare.loc[row_index, 'MLA Test Accuracy Mean'] = cv_results['test_score'].mean()   \n",
        "    #if this is a non-bias random sample, then +/-3 standard deviations (std) from the mean, should statistically capture 99.7% of the subsets\n",
        "    MLA_compare.loc[row_index, 'MLA Test Accuracy 3*STD'] = cv_results['test_score'].std()*3   #let's know the worst that can happen!\n",
        "    \n",
        "\n",
        "    #save MLA predictions - see section 6 for usage\n",
        "    alg.fit(data1_x_bin, data[Target])\n",
        "\n",
        "    try:\n",
        "      Feature_Importance[MLA_name] = alg.feature_importances_\n",
        "    except AttributeError:\n",
        "      pass\n",
        "      \n",
        "    MLA_predict[MLA_name] = alg.predict(data1_x_bin)\n",
        "    \n",
        "    row_index+=1\n",
        "\n",
        "    \n",
        "#print and sort table: https://pandas.pydata.org/pandas-docs/stable/generated/pandas.DataFrame.sort_values.html\n",
        "MLA_compare.sort_values(by = ['MLA Test Accuracy Mean'], ascending = False, inplace = True)\n",
        "MLA_compare\n",
        "MLA_compare['Difference'] = (MLA_compare['MLA Test Accuracy Mean']-MLA_compare['MLA Train Accuracy Mean'])*100\n",
        "MLA_compare"
      ],
      "execution_count": null,
      "outputs": []
    },
    {
      "cell_type": "markdown",
      "metadata": {
        "id": "mGulW8pUb_mu"
      },
      "source": [
        "## Running the Model through Grid Search "
      ]
    },
    {
      "cell_type": "code",
      "metadata": {
        "id": "H1YNIpGLXzQP"
      },
      "source": [
        "# Helper Class for Initilizing GridSearch\n",
        "\n",
        "import pandas as pd\n",
        "import numpy as np\n",
        "\n",
        "from sklearn.model_selection import GridSearchCV\n",
        "\n",
        "class EstimatorSelectionHelper:\n",
        "\n",
        "    def __init__(self, models, params):\n",
        "        if not set(models.keys()).issubset(set(params.keys())):\n",
        "            missing_params = list(set(models.keys()) - set(params.keys()))\n",
        "            raise ValueError(\"Some estimators are missing parameters: %s\" % missing_params)\n",
        "        self.models = models\n",
        "        self.params = params\n",
        "        self.keys = models.keys()\n",
        "        self.grid_searches = {}\n",
        "        self.best_params = {}\n",
        "        self.feature_importance = {}\n",
        "        self.FeatureImportanceAlgo = ['DecisionTreeClassifier','RandomForestClassifier','ExtraTreesClassifier','GradientBoostingClassifier']\n",
        "\n",
        "    def fit(self, X, y, cv=3, n_jobs=-1, verbose=1, scoring='f1', refit=True):\n",
        "        for key in self.keys:\n",
        "            print(\"Running GridSearchCV for %s.\" % key)\n",
        "            model = self.models[key]\n",
        "            params = self.params[key]\n",
        "            gs = GridSearchCV(model, params, cv=cv, n_jobs=n_jobs,\n",
        "                              verbose=verbose, scoring=scoring, refit=refit,\n",
        "                              return_train_score=True)\n",
        "            gs.fit(X,y)\n",
        "            self.grid_searches[key] = gs  \n",
        "            self.best_params[key]  = str(gs.best_params_)\n",
        "            if key in self.FeatureImportanceAlgo:\n",
        "              self.feature_importance[key]= gs.best_estimator_ .feature_importances_\n",
        "\n",
        "            # print (gs.best_params_.feature_importances_ )\n",
        "            # try:\n",
        "            #   print(gs.best_params_.feature_importances_ )\n",
        "            #   self.feature_importance[key]= gs.best_params_.feature_importances_ \n",
        "            # except AttributeError:\n",
        "            #   pass\n",
        "\n",
        "    def returnBestParamDF(self):\n",
        "      d = self.best_params\n",
        "      BestParamDF = pd.DataFrame.from_dict([d.keys(), d.values()]).T\n",
        "      return BestParamDF\n",
        "\n",
        "    # def Feature_Importance(self):\n",
        "    #   for each\n",
        "\n",
        "    # def returnFeatureImportance(self):\n",
        "\n",
        "\n",
        "    def score_summary(self, sort_by='mean_score'):\n",
        "        def row(key, scores, params):\n",
        "            d = {\n",
        "                 'estimator': key,\n",
        "                 'min_score': min(scores),\n",
        "                 'max_score': max(scores),\n",
        "                 'mean_score': np.mean(scores),\n",
        "                 'std_score': np.std(scores),\n",
        "            }\n",
        "            return pd.Series({**params,**d})\n",
        "\n",
        "        rows = []\n",
        "        for k in self.grid_searches:\n",
        "            print(k)\n",
        "            params = self.grid_searches[k].cv_results_['params']\n",
        "            scores = []\n",
        "            for i in range(self.grid_searches[k].cv):\n",
        "                key = \"split{}_test_score\".format(i)\n",
        "                r = self.grid_searches[k].cv_results_[key]        \n",
        "                scores.append(r.reshape(len(params),1))\n",
        "\n",
        "            all_scores = np.hstack(scores)\n",
        "            for p, s in zip(params,all_scores):\n",
        "                rows.append((row(k, s, p)))\n",
        "\n",
        "        df = pd.concat(rows, axis=1).T.sort_values([sort_by], ascending=False)\n",
        "\n",
        "        columns = ['estimator', 'min_score', 'mean_score', 'max_score', 'std_score']\n",
        "        columns = columns + [c for c in df.columns if c not in columns]\n",
        "\n",
        "        return df[columns]"
      ],
      "execution_count": null,
      "outputs": []
    },
    {
      "cell_type": "code",
      "metadata": {
        "id": "dWQ2iv9qavLT"
      },
      "source": [
        "from sklearn.ensemble import RandomForestClassifier\n",
        "from sklearn.ensemble import AdaBoostClassifier\n",
        "from sklearn.ensemble import GradientBoostingClassifier\n",
        "from sklearn.ensemble import ExtraTreesClassifier\n",
        "from sklearn.svm import SVC\n",
        "\n",
        "models1 = {\n",
        "    \n",
        "    # the way to choose these models - can be selected from your previous baseline method;\n",
        "    # another way could be that - you choose the models; \n",
        "    \n",
        "    'LogisticRegression':LogisticRegression(),\n",
        "    'DecisionTreeClassifier': DecisionTreeClassifier(),\n",
        "    'RandomForestClassifier': RandomForestClassifier(),\n",
        "    'KNNClassifier': KNeighborsClassifier(),\n",
        "    'SVC': SVC(),\n",
        "    'ExtraTreesClassifier': ExtraTreesClassifier(),\n",
        "    'AdaBoostClassifier': AdaBoostClassifier(),\n",
        "    'GradientBoostingClassifier': GradientBoostingClassifier(),\n",
        "    # 'AdaBoostClassfier':AdaBoostClassifier()\n",
        "    \n",
        "}\n",
        "\n",
        "params1 = {\n",
        "    'LogisticRegression': { \"C\":np.logspace(-3,3,7), \"penalty\":[\"l1\",\"l2\"] },  # l1 lasso l2 ridge\n",
        "    'DecisionTreeClassifier': {'criterion' : ['gini', 'entropy'], 'splitter' : ['random', 'best'], 'max_depth':[2,5,10], 'min_samples_leaf':[2,5,10]},\n",
        "    'RandomForestClassifier': { 'n_estimators': [16, 32] },\n",
        "    'ExtraTreesClassifier': { 'n_estimators': [16, 32] },\n",
        "    'KNNClassifier':{ 'n_neighbors': [5,10,15,20], 'algorithm' : ['auto', 'ball_tree', 'kd_tree', 'brute']},\n",
        "    'AdaBoostClassifier':  { 'n_estimators': [16, 32] },\n",
        "    'GradientBoostingClassifier': { 'n_estimators': [16, 32], 'learning_rate': [0.8, 1.0] },\n",
        "    'SVC': [\n",
        "        {'kernel': ['linear'], 'C': [1, 10]},\n",
        "        {'kernel': ['rbf'], 'C': [1, 10], 'gamma': [0.001, 0.0001]},\n",
        "    ]\n",
        "}"
      ],
      "execution_count": null,
      "outputs": []
    },
    {
      "cell_type": "code",
      "metadata": {
        "id": "Al-bZJgewARX"
      },
      "source": [
        "models1['DecisionTreeClassifier']"
      ],
      "execution_count": null,
      "outputs": []
    },
    {
      "cell_type": "code",
      "metadata": {
        "id": "BlS20pJpK5-h"
      },
      "source": [
        "from sklearn import svm, datasets\n",
        "from sklearn.model_selection import GridSearchCV\n",
        "iris = datasets.load_iris()\n",
        "parameters = {\n",
        "    'kernel':('linear', 'rbf'), \n",
        "    'C':[1, 10]\n",
        "    \n",
        "    }\n",
        "svc = svm.SVC()\n",
        "\n",
        "# svc.fit(X,y)\n",
        "clf = GridSearchCV(svc, parameters, cv=5)\n",
        "clf.fit(iris.data, iris.target)"
      ],
      "execution_count": null,
      "outputs": []
    },
    {
      "cell_type": "code",
      "metadata": {
        "id": "7MIoxXXnazCn"
      },
      "source": [
        "helper1 = EstimatorSelectionHelper(models1, params1)\n",
        "helper1.fit(data1_x_bin, data[Target], scoring='f1', n_jobs=-1)\n",
        "\n",
        "# To run with important column\n",
        "# ImpCol = ['','']\n",
        "# helper1.fit(data1_x_bin[ImpCol], data[Target], scoring='f1', n_jobs=-1)"
      ],
      "execution_count": null,
      "outputs": []
    },
    {
      "cell_type": "code",
      "metadata": {
        "id": "_lPwwSIkyZ8V"
      },
      "source": [
        "helper1.score_summary(sort_by='mean_score')"
      ],
      "execution_count": null,
      "outputs": []
    },
    {
      "cell_type": "code",
      "metadata": {
        "id": "xvBST5ttvQoG"
      },
      "source": [
        "helper1.grid_searches['DecisionTreeClassifier']"
      ],
      "execution_count": null,
      "outputs": []
    },
    {
      "cell_type": "code",
      "metadata": {
        "id": "9L16bnymbmXP"
      },
      "source": [
        "feature_names = data1_x_bin.columns\n",
        "feat_imp_df = pd.DataFrame.from_dict(helper1.feature_importance)\n",
        "feat_imp_df.index = feature_names\n",
        "feat_imp_df"
      ],
      "execution_count": null,
      "outputs": []
    },
    {
      "cell_type": "code",
      "metadata": {
        "id": "5C1MxvrDbxGM"
      },
      "source": [
        "from sklearn.preprocessing import MinMaxScaler\n",
        "mms = MinMaxScaler()\n",
        "\n",
        "scaled_fi = pd.DataFrame(data=mms.fit_transform(feat_imp_df),\n",
        "                         columns=feat_imp_df.columns,\n",
        "                         index=feat_imp_df.index)\n",
        "\n",
        "scaled_fi['Overall'] = scaled_fi.sum(axis=1)\n",
        "print(scaled_fi.head())\n",
        "ordered_ranking = scaled_fi.sort_values('Overall', ascending=False)\n",
        "fig, ax = plt.subplots(figsize=(10,7), dpi=80)\n",
        "sns.barplot(data=ordered_ranking, y=ordered_ranking.index, x='Overall', palette='magma')\n",
        "ax.spines['right'].set_visible(False)\n",
        "ax.spines['top'].set_visible(False)\n",
        "ax.spines['bottom'].set_visible(False)\n",
        "ax.xaxis.set_visible(False)\n",
        "ax.grid(False)\n",
        "ax.set_title('Feature Importances for all Models');"
      ],
      "execution_count": null,
      "outputs": []
    },
    {
      "cell_type": "code",
      "metadata": {
        "id": "uc8BpWUJbLxe"
      },
      "source": [
        "helper1.score_summary(sort_by='max_score')"
      ],
      "execution_count": null,
      "outputs": []
    },
    {
      "cell_type": "code",
      "metadata": {
        "id": "oG-Unb8bk7_c"
      },
      "source": [
        "helper1.returnBestParamDF()"
      ],
      "execution_count": null,
      "outputs": []
    },
    {
      "cell_type": "code",
      "metadata": {
        "id": "uiaCxE48EHF9"
      },
      "source": [
        "# Get best "
      ],
      "execution_count": null,
      "outputs": []
    },
    {
      "cell_type": "markdown",
      "metadata": {
        "id": "EZz9QSo8dSJ0"
      },
      "source": [
        "#Stacking"
      ]
    },
    {
      "cell_type": "markdown",
      "metadata": {
        "id": "JnUqvhB_dfmV"
      },
      "source": [
        "## Voting Classifier  - Soft & Hard Voting"
      ]
    },
    {
      "cell_type": "code",
      "metadata": {
        "id": "MS6UZaVyeEzz"
      },
      "source": [
        "vote_est = [\n",
        "    #Ensemble Methods: http://scikit-learn.org/stable/modules/ensemble.html\n",
        "    \n",
        "    ('rfc', ensemble.RandomForestClassifier()),\n",
        "    \n",
        "    #Nearest Neighbor: http://scikit-learn.org/stable/modules/neighbors.html\n",
        "    ('knn', neighbors.KNeighborsClassifier()),\n",
        "    \n",
        "    #xgboost: http://xgboost.readthedocs.io/en/latest/model.html\n",
        "   ('xgb', XGBClassifier()),\n",
        "   ('lgbm',LGBMClassifier())\n",
        "\n",
        "]\n",
        "\n",
        "seed = 123\n",
        "skf = model_selection.ShuffleSplit(n_splits = 10, test_size = .3, train_size = .6, random_state = seed )\n",
        "#Hard Vote or majority rules\n",
        "vote_hard = ensemble.VotingClassifier(estimators = vote_est , voting = 'hard')\n",
        "vote_hard_cv = model_selection.cross_validate(vote_hard, data1_x_bin, data[Target], cv  = skf,scoring='f1')\n",
        "vote_hard.fit(data1_x_bin, data[Target])\n",
        "#print(\"Hard Voting Training w/bin score mean: {:.2f}\". format(vote_hard_cv['train_score'].mean()*100)) \n",
        "print(\"Hard Voting Test w/bin score mean: {:.2f}\". format(vote_hard_cv['test_score'].mean()*100))\n",
        "print(\"Hard Voting Test w/bin score 3*std: +/- {:.2f}\". format(vote_hard_cv['test_score'].std()*100*3))\n",
        "print('-'*10)\n",
        "\n",
        "\n",
        "#Soft Vote or weighted probabilities\n",
        "vote_soft = ensemble.VotingClassifier(estimators = vote_est , voting = 'soft')\n",
        "vote_soft_cv = model_selection.cross_validate(vote_soft, data1_x_bin, data[Target], cv  = skf,scoring='f1')\n",
        "vote_soft.fit(data1_x_bin, data[Target])\n",
        "\n",
        "#print(\"Soft Voting Training w/bin score mean: {:.2f}\". format(vote_soft_cv['train_score'].mean()*100)) \n",
        "print(\"Soft Voting Test w/bin score mean: {:.2f}\". format(vote_soft_cv['test_score'].mean()*100))\n",
        "print(\"Soft Voting Test w/bin score 3*std: +/- {:.2f}\". format(vote_soft_cv['test_score'].std()*100*3))\n",
        "print('-'*10)"
      ],
      "execution_count": null,
      "outputs": []
    },
    {
      "cell_type": "markdown",
      "metadata": {
        "id": "rYa-cVonf0Ea"
      },
      "source": [
        "## MLExtend "
      ]
    },
    {
      "cell_type": "markdown",
      "metadata": {
        "id": "6mIkaslje6pI"
      },
      "source": [
        "If ‘hard’, uses predicted class labels for majority rule voting. Else if ‘soft’, predicts the class label based on the argmax of the sums of the predicted probabilities, which is recommended for an ensemble of well-calibrated classifiers."
      ]
    },
    {
      "cell_type": "code",
      "metadata": {
        "id": "0SMB-X0pf3ea"
      },
      "source": [
        "from mlxtend.classifier import StackingClassifier\n",
        "lgbm_cl = LGBMClassifier(random_state=seed)\n",
        "rf_cl = RandomForestClassifier(10, random_state=seed)\n",
        "gdb_cl = GradientBoostingClassifier(random_state=seed)\n",
        "logreg = LogisticRegression()\n",
        "sclf = StackingClassifier(classifiers=[lgbm_cl, rf_cl,gdb_cl],\n",
        "                          meta_classifier=logreg)\n",
        "\n",
        "\n",
        "scores = model_selection.cross_val_score(sclf, data1_x_bin, data[Target], \n",
        "                                              cv=3, scoring='f1')\n",
        "print(\"Accuracy: %0.2f (+/- %0.2f)\" \n",
        "      % (scores.mean(), scores.std()))\n",
        "    \n",
        "\n",
        "# label = ['LGBM', 'Random Forest','GDB' 'Stacking Classifier']\n",
        "# clf_list = [lgbm_cl, rf_cl,gdb_cl, logreg]\n",
        "\n",
        "# for clf, label in zip([lgbm_cl, rf_cl,gdb_cl,sclf], \n",
        "#                       ['LGBM', \n",
        "#                        'Random Forest', \n",
        "#                        'GDB',\n",
        "#                        'StackingClassifier']):\n",
        "\n",
        "#     scores = model_selection.cross_val_score(clf, data1_x_bin, data[Target], \n",
        "#                                               cv=3, scoring='f1')\n",
        "#     print(\"Accuracy: %0.2f (+/- %0.2f) [%s]\" \n",
        "#           % (scores.mean(), scores.std(), label))"
      ],
      "execution_count": null,
      "outputs": []
    },
    {
      "cell_type": "markdown",
      "metadata": {
        "id": "6PW2G0lxhPYq"
      },
      "source": [
        "## VecStack "
      ]
    },
    {
      "cell_type": "code",
      "metadata": {
        "id": "9Heu8w_ShRaO"
      },
      "source": [
        "from vecstack import stacking\n",
        "from sklearn.model_selection import train_test_split\n",
        "from sklearn import metrics\n",
        "\n",
        "#1st level model\n",
        "X_train, X_test, y_train, y_test = train_test_split(data1_x_bin, data[Target], test_size=0.2)\n",
        "\n",
        "models = [lgbm_cl,rf_cl,gdb_cl]\n",
        "S_train, S_test = stacking(models, X_train, y_train, X_test, \n",
        "    regression = False, metric = metrics.f1_score, n_folds = 4 , \n",
        "    shuffle = True, random_state = 0, verbose = 2)\n",
        "\n"
      ],
      "execution_count": null,
      "outputs": []
    },
    {
      "cell_type": "code",
      "metadata": {
        "id": "g6Hfc3YzhaQB"
      },
      "source": [
        "#2nd level model\n",
        "# Initialize 2nd level model\n",
        "model = XGBClassifier(random_state=0, n_jobs=-1, learning_rate=0.1, \n",
        "                      n_estimators=100, max_depth=3)\n",
        "    \n",
        "# Fit 2nd level model\n",
        "model = model.fit(S_train, y_train)\n",
        "\n",
        "# Predict\n",
        "y_pred = model.predict(S_test)\n",
        "\n",
        "# Final prediction score\n",
        "print('Final prediction score: [%.8f]' % metrics.f1_score(y_test, y_pred))"
      ],
      "execution_count": null,
      "outputs": []
    },
    {
      "cell_type": "code",
      "metadata": {
        "id": "RW8Y2YB-iLzZ"
      },
      "source": [
        "#New Experiment \n",
        "\n",
        "#Level 1\n",
        "X_train, X_test, y_train, y_test = train_test_split(data1_x_bin, data[Target], test_size=0.2)\n",
        "\n",
        "models = [\n",
        "    ExtraTreesClassifier(random_state=0, n_jobs=-1, \n",
        "                         n_estimators=100, max_depth=3),\n",
        "        \n",
        "    RandomForestClassifier(random_state=0, n_jobs=-1, \n",
        "                           n_estimators=100, max_depth=3),\n",
        "        \n",
        "    XGBClassifier(random_state=0, n_jobs=-1, learning_rate=0.1, \n",
        "                  n_estimators=100, max_depth=3)\n",
        "]\n",
        "\n",
        "S_train, S_test = stacking(models,                     # list of models\n",
        "                           X_train, y_train, X_test,   # data\n",
        "                           regression=False,           # classification task (if you need \n",
        "                                                       #     regression - set to True)\n",
        "                           mode='oof_pred_bag',        # mode: oof for train set, predict test \n",
        "                                                       #     set in each fold and vote\n",
        "                           needs_proba=False,          # predict class labels (if you need \n",
        "                                                       #     probabilities - set to True) \n",
        "                           save_dir=None,              # do not save result and log (to save \n",
        "                                                       #     in current dir - set to '.')\n",
        "                           metric=metrics.f1_score,      # metric: callable\n",
        "                           n_folds=4,                  # number of folds\n",
        "                           stratified=True,            # stratified split for folds\n",
        "                           shuffle=True,               # shuffle the data\n",
        "                           random_state=0,             # ensure reproducibility\n",
        "                           verbose=2)      "
      ],
      "execution_count": null,
      "outputs": []
    },
    {
      "cell_type": "code",
      "metadata": {
        "id": "d0Sc8qNnjf7d"
      },
      "source": [
        "#2nd level model\n",
        "# Initialize 2nd level model\n",
        "# model = XGBClassifier(random_state=0, n_jobs=-1, learning_rate=0.1, \n",
        "#                       n_estimators=100, max_depth=3)\n",
        "    \n",
        "model = LogisticRegression()\n",
        "# model = KNeighborsClassifier(n_neighbors=5)\n",
        "# Fit 2nd level model\n",
        "model = model.fit(S_train, y_train)\n",
        "\n",
        "# Predict\n",
        "y_pred = model.predict(S_test)\n",
        "\n",
        "# Final prediction score\n",
        "print('Final prediction score: [%.8f]' % metrics.f1_score(y_test, y_pred))"
      ],
      "execution_count": null,
      "outputs": []
    },
    {
      "cell_type": "markdown",
      "metadata": {
        "id": "paVMdoyGkcoD"
      },
      "source": [
        "# Creating API of Model "
      ]
    },
    {
      "cell_type": "code",
      "metadata": {
        "id": "m5FnvjulkfZI",
        "colab": {
          "base_uri": "https://localhost:8080/",
          "height": 35
        },
        "outputId": "ec1e980d-1be8-4de8-d608-c940f8f9ddd9"
      },
      "source": [
        "from sklearn.model_selection import train_test_split\n",
        "X_train, X_test, y_train, y_test = train_test_split(data1_x_bin, data[Target], test_size=0.2)\n",
        "\n",
        "lr = LogisticRegression()\n",
        "lr.fit(X_train, y_train)\n",
        "\n",
        "from sklearn.externals import joblib\n",
        "joblib.dump(lr, 'model.pkl')"
      ],
      "execution_count": null,
      "outputs": [
        {
          "output_type": "execute_result",
          "data": {
            "text/plain": [
              "['model.pkl']"
            ]
          },
          "metadata": {
            "tags": []
          },
          "execution_count": 15
        }
      ]
    },
    {
      "cell_type": "code",
      "metadata": {
        "id": "U-d7agzak0EA",
        "colab": {
          "base_uri": "https://localhost:8080/",
          "height": 35
        },
        "outputId": "8004be1b-3f79-4ca5-fac1-aa29cdf6f2ba"
      },
      "source": [
        "# Loading Model \n",
        "\n",
        "lr = joblib.load('model.pkl')\n",
        "print('Final prediction score: [%.8f]' % metrics.f1_score(y_test, lr.predict(X_test)))"
      ],
      "execution_count": null,
      "outputs": [
        {
          "output_type": "stream",
          "text": [
            "Final prediction score: [0.75187970]\n"
          ],
          "name": "stdout"
        }
      ]
    },
    {
      "cell_type": "code",
      "metadata": {
        "id": "0SL5HnpvlKq4"
      },
      "source": [
        "data1_x_bin[:10].to_csv(\"testing_data.csv\")"
      ],
      "execution_count": null,
      "outputs": []
    },
    {
      "cell_type": "code",
      "metadata": {
        "id": "rrCdWMXq3YBg",
        "colab": {
          "base_uri": "https://localhost:8080/",
          "height": 439
        },
        "outputId": "28e199c0-8269-4417-88cc-a73280808632"
      },
      "source": [
        "list(data1_x_bin[:10].columns)"
      ],
      "execution_count": null,
      "outputs": [
        {
          "output_type": "execute_result",
          "data": {
            "text/plain": [
              "['Pclass_1',\n",
              " 'Pclass_2',\n",
              " 'Pclass_3',\n",
              " 'Sex_0',\n",
              " 'Sex_1',\n",
              " 'Embarked_0',\n",
              " 'Embarked_1',\n",
              " 'Embarked_2',\n",
              " 'Title_1',\n",
              " 'Title_2',\n",
              " 'Title_3',\n",
              " 'Title_4',\n",
              " 'Title_5',\n",
              " 'IsAlone_0',\n",
              " 'IsAlone_1',\n",
              " 'FareBand_0',\n",
              " 'FareBand_1',\n",
              " 'FareBand_2',\n",
              " 'FareBand_3',\n",
              " 'AgeBand_0',\n",
              " 'AgeBand_1',\n",
              " 'AgeBand_2',\n",
              " 'AgeBand_3']"
            ]
          },
          "metadata": {
            "tags": []
          },
          "execution_count": 20
        }
      ]
    },
    {
      "cell_type": "code",
      "metadata": {
        "id": "SBzBvZHFnVOZ",
        "colab": {
          "base_uri": "https://localhost:8080/",
          "height": 35
        },
        "outputId": "f54b2838-b950-404c-a45b-c124028f1f60"
      },
      "source": [
        "str(lr.predict(data1_x_bin[:10]))"
      ],
      "execution_count": null,
      "outputs": [
        {
          "output_type": "execute_result",
          "data": {
            "text/plain": [
              "'[0 1 1 1 0 0 0 0 1 1]'"
            ]
          },
          "metadata": {
            "tags": []
          },
          "execution_count": 21
        }
      ]
    },
    {
      "cell_type": "code",
      "metadata": {
        "id": "S7f50lhmlcFT",
        "colab": {
          "base_uri": "https://localhost:8080/",
          "height": 35
        },
        "outputId": "0c3307ba-a664-4483-8c41-621503a96901"
      },
      "source": [
        "%%writefile server.py\n",
        "\n",
        "#!/usr/bin/env python\n",
        "# -*- coding: utf-8 -*-\n",
        "from __future__ import unicode_literals\n",
        "from flask import Flask, request, jsonify\n",
        "from sklearn.externals import joblib\n",
        "import traceback\n",
        "import pandas as pd\n",
        "import numpy as np\n",
        "import socket\n",
        "print(socket.gethostbyname(socket.getfqdn(socket.gethostname())))\n",
        "\n",
        "\n",
        "from flask import Flask, jsonify\n",
        "app = Flask(__name__)\n",
        "@app.route('/predict', methods=['POST'])\n",
        "def predict():\n",
        "     json_ = request.get_json()\n",
        "     lr = joblib.load(\"model.pkl\")\n",
        "     Columns = ['Pclass_1',\n",
        " 'Pclass_2',\n",
        " 'Pclass_3',\n",
        " 'Sex_0',\n",
        " 'Sex_1',\n",
        " 'Embarked_0',\n",
        " 'Embarked_1',\n",
        " 'Embarked_2',\n",
        " 'Title_1',\n",
        " 'Title_2',\n",
        " 'Title_3',\n",
        " 'Title_4',\n",
        " 'Title_5',\n",
        " 'IsAlone_0',\n",
        " 'IsAlone_1',\n",
        " 'FareBand_0',\n",
        " 'FareBand_1',\n",
        " 'FareBand_2',\n",
        " 'FareBand_3',\n",
        " 'AgeBand_0',\n",
        " 'AgeBand_1',\n",
        " 'AgeBand_2',\n",
        " 'AgeBand_3']\n",
        "\n",
        "    #  query_df = pd.DataFrame(json_)\n",
        "     query_df = pd.read_csv(\"testing_data.csv\",index_col=None)\n",
        "     query_df = query_df[Columns]\n",
        "    #  query = pd.get_dummies(query_df)\n",
        "     print (query_df)\n",
        "     prediction = lr.predict(query_df)\n",
        "     return str(prediction)\n",
        "\n",
        "if __name__ == '__main__':\n",
        "    try:\n",
        "        port = int(sys.argv[1]) # This is for a command-line input\n",
        "    except:\n",
        "        port = 12345 # If you don't provide any port the port will be set to 12345\n",
        "    global lr\n",
        "    lr = joblib.load(\"model.pkl\") # Load \"model.pkl\"\n",
        "    print ('Model loaded')\n",
        "    # test_data = pd.read_csv(\"testing_data.csv\")\n",
        "    # return lr.predict(test_data)\n",
        "    app.run(threaded=True,debug=True,port=8888)"
      ],
      "execution_count": null,
      "outputs": [
        {
          "output_type": "stream",
          "text": [
            "Writing server.py\n"
          ],
          "name": "stdout"
        }
      ]
    },
    {
      "cell_type": "code",
      "metadata": {
        "id": "3tdJPTfEmfwd",
        "colab": {
          "base_uri": "https://localhost:8080/",
          "height": 202
        },
        "outputId": "cc61a9d0-7949-4365-da3d-71a597591573"
      },
      "source": [
        "import os\n",
        "import subprocess\n",
        "import sys\n",
        "import time\n",
        "import socket\n",
        "# Start a subprocess that runs the Flask server\n",
        "p = subprocess.Popen([sys.executable, \"-m\", \"flask\", \"run\"], env=dict(**os.environ, FLASK_APP=\"server.py\"), stdout=subprocess.PIPE, stderr=subprocess.PIPE)\n",
        "\n",
        "# Start two subthreads that forward the output from the Flask server to the output of the Jupyter notebook\n",
        "def forward(i, o):\n",
        "    while p.poll() is None:\n",
        "        l = i.readline().decode('utf-8')\n",
        "        if l:\n",
        "            o.write(\"[SERVER] \" + l)\n",
        "\n",
        "import threading\n",
        "threading.Thread(target=forward, args=(p.stdout, sys.stdout)).start()\n",
        "threading.Thread(target=forward, args=(p.stderr, sys.stderr)).start()\n",
        "import socket\n",
        "print(socket.gethostbyname(socket.getfqdn(socket.gethostname())))\n",
        "# sock.setsockopt(socket.SOL_SOCKET, socket.SO_REUSEADDR, 1)\n",
        "# Let's give the server a bit of time to make sure it has started\n",
        "time.sleep(2)"
      ],
      "execution_count": null,
      "outputs": [
        {
          "output_type": "stream",
          "text": [
            "172.28.0.2\n",
            "[SERVER]  * Serving Flask app \"server.py\"\n",
            "[SERVER]  * Environment: production\n",
            "[SERVER]    WARNING: This is a development server. Do not use it in a production deployment.\n",
            "[SERVER]    Use a production WSGI server instead.\n",
            "[SERVER]  * Debug mode: off\n"
          ],
          "name": "stdout"
        },
        {
          "output_type": "stream",
          "text": [
            "[SERVER] /usr/local/lib/python3.6/dist-packages/sklearn/externals/joblib/__init__.py:15: DeprecationWarning: sklearn.externals.joblib is deprecated in 0.21 and will be removed in 0.23. Please import this functionality directly from joblib, which can be installed with: pip install joblib. If this warning is raised when loading pickled models, you may need to re-serialize those models with scikit-learn 0.21+.\n",
            "[SERVER]   warnings.warn(msg, category=DeprecationWarning)\n",
            "[SERVER]  * Running on http://127.0.0.1:5000/ (Press CTRL+C to quit)\n"
          ],
          "name": "stderr"
        }
      ]
    },
    {
      "cell_type": "code",
      "metadata": {
        "id": "282FUzqNmzJ-",
        "colab": {
          "base_uri": "https://localhost:8080/",
          "height": 129
        },
        "outputId": "6afaf59f-4c6e-4d3b-ed89-8e8007cdd35a"
      },
      "source": [
        "import requests\n",
        "# r = requests.get(\"http://172.28.0.2/\")\n",
        "r = requests.post(\" http://127.0.0.1:5000/predict\",data=data1_x_bin[:1].to_json())\n",
        "print(r.status_code)\n",
        "print(r.encoding)\n",
        "print(r.apparent_encoding)\n",
        "print(r.text)"
      ],
      "execution_count": null,
      "outputs": [
        {
          "output_type": "stream",
          "text": [
            "200\n",
            "utf-8\n",
            "ascii\n",
            "[0 1 1 1 0 0 0 0 1 1]\n"
          ],
          "name": "stdout"
        },
        {
          "output_type": "stream",
          "text": [
            "[SERVER] 127.0.0.1 - - [22/Sep/2019 07:25:04] \"\u001b[37mPOST /predict HTTP/1.1\u001b[0m\" 200 -\n"
          ],
          "name": "stderr"
        }
      ]
    },
    {
      "cell_type": "code",
      "metadata": {
        "id": "BDG4QS7cveUD",
        "colab": {
          "base_uri": "https://localhost:8080/",
          "height": 147
        },
        "outputId": "007512e4-ebd3-4355-df70-3e4fe9cba865"
      },
      "source": [
        "!ps -fA | grep python"
      ],
      "execution_count": null,
      "outputs": [
        {
          "output_type": "stream",
          "text": [
            "root          16       6  0 05:34 ?        00:00:05 /usr/bin/python2 /usr/local/bin/jupyter-notebook --ip=\"172.28.0.2\" --port=9000 --FileContentsManager.root_dir=\"/\" --MappingKernelManager.root_dir=\"/content\"\n",
            "root         118      16  0 05:54 ?        00:00:26 /usr/bin/python3 -m ipykernel_launcher -f /root/.local/share/jupyter/runtime/kernel-18f2d4ab-23c1-4be0-94bc-dc3af021c9f2.json\n",
            "root         274     118  0 05:55 ?        00:00:00 /usr/bin/python3 -Wignore:::pip._internal.cli.base_command -c from multiprocessing.semaphore_tracker import main;main(58)\n",
            "root         724     118  0 07:24 ?        00:00:01 /usr/bin/python3 -m flask run\n",
            "root         729     724  0 07:24 ?        00:00:00 /usr/bin/python3 -Wignore:::pip._internal.cli.base_command -c from multiprocessing.semaphore_tracker import main;main(3)\n",
            "root         767     118  0 07:26 ?        00:00:00 /bin/bash -c ps -fA | grep python\n"
          ],
          "name": "stdout"
        }
      ]
    },
    {
      "cell_type": "code",
      "metadata": {
        "id": "HMuLu6Oc3sU_"
      },
      "source": [
        "!sudo kill 2230"
      ],
      "execution_count": null,
      "outputs": []
    },
    {
      "cell_type": "markdown",
      "metadata": {
        "id": "tUSNnwXDv6XK"
      },
      "source": [
        "# Model Interpretation"
      ]
    },
    {
      "cell_type": "code",
      "metadata": {
        "id": "rS4bEo6mv9-_"
      },
      "source": [
        "dtree = DecisionTreeClassifier()\n",
        "dtree.fit(X_train, y_train)\n",
        "dtree.predict(X_test)"
      ],
      "execution_count": null,
      "outputs": []
    },
    {
      "cell_type": "markdown",
      "metadata": {
        "id": "xFufHdtgwPfl"
      },
      "source": [
        "## Eli5"
      ]
    },
    {
      "cell_type": "code",
      "metadata": {
        "id": "oaShF3QgwPKL"
      },
      "source": [
        "import eli5\n",
        "\n",
        "from eli5.sklearn import PermutationImportance\n",
        "\n",
        "perm = PermutationImportance(dtree , random_state=101).fit(X_test, y_test)      # Evaluate the permutation importance \n",
        "eli5.show_weights(perm, feature_names = X_test.columns.values)    "
      ],
      "execution_count": null,
      "outputs": []
    },
    {
      "cell_type": "markdown",
      "metadata": {
        "id": "EEnczMsowWZo"
      },
      "source": [
        "## SHAP "
      ]
    },
    {
      "cell_type": "code",
      "metadata": {
        "id": "WqzyiZlcwXfV"
      },
      "source": [
        "row_to_show = 7                                                                # The row for which we want to check the SHAP explanations\n",
        "data_to_predict = X_test.iloc[row_to_show]\n",
        "\n",
        "data_to_preddict_array = data_to_predict.values.reshape(1,-1)\n",
        "\n",
        "dtree_pred = dtree.predict_proba(data_to_preddict_array)  \n",
        "\n",
        "dtree.predict(data_to_preddict_array)  "
      ],
      "execution_count": null,
      "outputs": []
    },
    {
      "cell_type": "code",
      "metadata": {
        "id": "a9YgGrB8whP_"
      },
      "source": [
        "import shap\n",
        "# Object that can calculate Shap values\n",
        "explainer = shap.TreeExplainer(dtree)                                       # SHAP Tree Explainer\n",
        "\n",
        "# Calculate the shap values\n",
        "shap_values = explainer.shap_values(data_to_predict) \n",
        "shap.initjs()\n",
        "shap.force_plot(explainer.expected_value[1], shap_values[1], data_to_predict)"
      ],
      "execution_count": null,
      "outputs": []
    },
    {
      "cell_type": "markdown",
      "metadata": {
        "id": "hBdbDg7Ww1Vw"
      },
      "source": [
        "# AutoML -- TPOT "
      ]
    },
    {
      "cell_type": "code",
      "metadata": {
        "id": "T-ZxsS6cw5tX"
      },
      "source": [
        "# Import the tpot regressor\n",
        "from tpot import TPOTClassifier\n",
        "\n",
        "#100 pipelines\n",
        "#5 generations\n",
        "# Create a tpot object with a few parameters\n",
        "tpot = TPOTClassifier(generations=50,scoring ='f1', \n",
        "                    max_time_mins = 120, \n",
        "                    n_jobs = -1,\n",
        "                    verbosity = 2,\n",
        "                    cv = 3)\n",
        "\n",
        "# Convert to numpy arrays\n",
        "training_features = np.array(X_train)\n",
        "\n",
        "\n",
        "# Sklearn wants the labels as one-dimensional vectors\n",
        "training_targets = np.array(y_train).reshape((-1,))\n",
        "\n",
        "# Fit the tpot model on the training data\n",
        "tpot.fit(training_features, training_targets)"
      ],
      "execution_count": null,
      "outputs": []
    },
    {
      "cell_type": "code",
      "metadata": {
        "id": "K1qHZ576xFSw"
      },
      "source": [
        "# Show the final model\n",
        "print(tpot.fitted_pipeline_)"
      ],
      "execution_count": null,
      "outputs": []
    },
    {
      "cell_type": "code",
      "metadata": {
        "id": "jgnzR1kOxGMY"
      },
      "source": [
        "# Evaluate the final model\n",
        "print(tpot.score(X_test, y_test))"
      ],
      "execution_count": null,
      "outputs": []
    },
    {
      "cell_type": "code",
      "metadata": {
        "id": "loimsHC6lIjY"
      },
      "source": [
        "len(data1_x_bin.columns)"
      ],
      "execution_count": null,
      "outputs": []
    },
    {
      "cell_type": "code",
      "metadata": {
        "id": "v91N1fQKkGJi"
      },
      "source": [
        "from sklearn.model_selection import train_test_split\n",
        "\n",
        "from hyperopt import fmin, tpe, hp, STATUS_OK, Trials\n",
        "\n",
        "\n",
        "X_train, X_test, y_train, y_test = train_test_split(data1_x_bin, data[Target], test_size=0.2)\n",
        "\n",
        "\n",
        "from sklearn.model_selection import cross_val_score\n",
        "def acc_model(params):\n",
        "    clf = RandomForestClassifier(**params)\n",
        "    return cross_val_score(clf, X_train, y_train, scoring='f1').mean()\n",
        "\n",
        "param_space = {\n",
        "    'max_depth': hp.choice('max_depth', range(1,30)),\n",
        "    'max_features': hp.choice('max_features', range(1,18)),\n",
        "    'n_estimators': hp.choice('n_estimators', range(100,500)),\n",
        "    'criterion': hp.choice('criterion', [\"gini\", \"entropy\"])}\n",
        "\n",
        "best = 0\n",
        "def f(params):\n",
        "    global best\n",
        "    acc = acc_model(params)\n",
        "    if acc > best:\n",
        "        best = acc\n",
        "    print ('new best:', best, params)\n",
        "    return {'loss': -acc, 'status': STATUS_OK}\n",
        "\n",
        "trials = Trials()\n",
        "best = fmin(f, param_space, algo=tpe.suggest, max_evals=100, trials=trials)\n",
        "print ('best:')\n",
        "print (best)"
      ],
      "execution_count": null,
      "outputs": []
    },
    {
      "cell_type": "code",
      "metadata": {
        "id": "CJIW4oxUoi9o"
      },
      "source": [
        "X_train, X_test, y_train, y_test = train_test_split(data1_x_bin, data[Target], test_size=0.2)\n",
        "\n",
        "\n",
        "def hyperopt_train_test(params):\n",
        "    # X_ = X_train[:]\n",
        "    # if 'normalize' in params:\n",
        "    #     if params['normalize'] == 1:\n",
        "    #         X_ = normalize(X_)\n",
        "    #         del params['normalize']\n",
        "    # if 'scale' in params:\n",
        "    #     if params['scale'] == 1:\n",
        "    #         X_ = scale(X_)\n",
        "    #         del params['scale']\n",
        "    clf = SVC(**params)\n",
        "    return cross_val_score(clf,X_train, y_train, scoring='f1').mean()\n",
        "\n",
        "space4svm = {\n",
        "    'C': hp.uniform('C', 0, 20),\n",
        "    'kernel': hp.choice('kernel', ['linear', 'sigmoid', 'poly', 'rbf']),\n",
        "    'gamma': hp.uniform('gamma', 0, 20)\n",
        "    # 'scale': hp.choice('scale', [0, 1]),\n",
        "    # 'normalize': hp.choice('normalize', [0, 1])\n",
        "}\n",
        "\n",
        "def f(params):\n",
        "    acc = hyperopt_train_test(params)\n",
        "    return {'loss': -acc, 'status': STATUS_OK}\n",
        "\n",
        "trials = Trials()\n",
        "best = fmin(f, space4svm, algo=tpe.suggest, max_evals=100, trials=trials)\n",
        "print ('best:')\n",
        "print (best)\n"
      ],
      "execution_count": null,
      "outputs": []
    },
    {
      "cell_type": "code",
      "metadata": {
        "id": "6sXHwOgDqW2C"
      },
      "source": [
        "from sklearn.naive_bayes import BernoulliNB\n",
        "BNB = BernoulliNB()\n",
        "\n",
        "def hyperopt_train_test(params):\n",
        "    t = params['type']\n",
        "    del params['type']\n",
        "    if t == 'naive_bayes':\n",
        "        clf = BernoulliNB(**params)\n",
        "    elif t == 'svm':\n",
        "        clf = SVC(**params)\n",
        "    elif t == 'dtree':\n",
        "        clf = DecisionTreeClassifier(**params)\n",
        "    elif t == 'knn':\n",
        "        clf = KNeighborsClassifier(**params)\n",
        "    else:\n",
        "        return 0\n",
        "    return cross_val_score(clf, data1_x_bin, data[Target], scoring = 'f1').mean()\n",
        "\n",
        "space = hp.choice('classifier_type', [\n",
        "    {\n",
        "        'type': 'naive_bayes',\n",
        "        'alpha': hp.uniform('alpha', 0.0, 2.0)\n",
        "    },\n",
        "    {\n",
        "        'type': 'svm',\n",
        "        'C': hp.uniform('C', 0, 10.0),\n",
        "        'kernel': hp.choice('kernel', ['linear', 'rbf']),\n",
        "        'gamma': hp.uniform('gamma', 0, 20.0)\n",
        "    },\n",
        "    {\n",
        "        'type': 'randomforest',\n",
        "        'max_depth': hp.choice('max_depth', range(1,20)),\n",
        "        'max_features': hp.choice('max_features', range(1,5)),\n",
        "        'n_estimators': hp.choice('n_estimators', range(1,20)),\n",
        "        'criterion': hp.choice('criterion', [\"gini\", \"entropy\"]),\n",
        "        'scale': hp.choice('scale', [0, 1]),\n",
        "        'normalize': hp.choice('normalize', [0, 1])\n",
        "    },\n",
        "    {\n",
        "        'type': 'knn',\n",
        "        'n_neighbors': hp.choice('knn_n_neighbors', range(1,50))\n",
        "    }\n",
        "])\n",
        "count = 0\n",
        "best = 0\n",
        "def f(params):\n",
        "    global best, count\n",
        "    count += 1\n",
        "    acc = hyperopt_train_test(params.copy())\n",
        "    if acc > best:\n",
        "        print ('new best:', acc, 'using', params['type'])\n",
        "        best = acc\n",
        "    if count % 50 == 0:\n",
        "        print ('iters:', count, ', acc:', acc, 'using', params)\n",
        "    return {'loss': -acc, 'status': STATUS_OK}\n",
        "\n",
        "trials = Trials()\n",
        "best = fmin(f, space, algo=tpe.suggest, max_evals=1500, trials=trials)\n",
        "print ('best:')\n",
        "print (best)"
      ],
      "execution_count": null,
      "outputs": []
    },
    {
      "cell_type": "code",
      "metadata": {
        "id": "rZb-XEmHnziU"
      },
      "source": [
        "!pip install hpsklearn"
      ],
      "execution_count": null,
      "outputs": []
    },
    {
      "cell_type": "code",
      "metadata": {
        "id": "qRfTzuoioHqs"
      },
      "source": [
        "#@title Install the facets_overview pip package.\n",
        "!pip install facets-overview"
      ],
      "execution_count": null,
      "outputs": []
    },
    {
      "cell_type": "code",
      "metadata": {
        "id": "KvQ6dtWc9E3P"
      },
      "source": [
        "import pandas as pd\n",
        "features = [\"Age\", \"Workclass\", \"fnlwgt\", \"Education\", \"Education-Num\", \"Marital Status\",\n",
        "            \"Occupation\", \"Relationship\", \"Race\", \"Sex\", \"Capital Gain\", \"Capital Loss\",\n",
        "            \"Hours per week\", \"Country\", \"Target\"]\n",
        "train_data = X_train\n",
        "test_data = X_test"
      ],
      "execution_count": null,
      "outputs": []
    },
    {
      "cell_type": "code",
      "metadata": {
        "id": "wQyJP6it9Se7"
      },
      "source": [
        "# Display the Dive visualization for the training data.\n",
        "from IPython.core.display import display, HTML\n",
        "\n",
        "jsonstr = train_data.to_json(orient='records')\n",
        "HTML_TEMPLATE = \"\"\"\n",
        "        <script src=\"https://cdnjs.cloudflare.com/ajax/libs/webcomponentsjs/1.3.3/webcomponents-lite.js\"></script>\n",
        "        <link rel=\"import\" href=\"https://raw.githubusercontent.com/PAIR-code/facets/1.0.0/facets-dist/facets-jupyter.html\">\n",
        "        <facets-dive id=\"elem\" height=\"600\"></facets-dive>\n",
        "        <script>\n",
        "          var data = {jsonstr};\n",
        "          document.querySelector(\"#elem\").data = data;\n",
        "        </script>\"\"\"\n",
        "html = HTML_TEMPLATE.format(jsonstr=jsonstr)\n",
        "display(HTML(html))"
      ],
      "execution_count": null,
      "outputs": []
    }
  ]
}